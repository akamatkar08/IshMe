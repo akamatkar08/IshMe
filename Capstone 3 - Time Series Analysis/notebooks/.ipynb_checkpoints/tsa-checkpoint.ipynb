{
 "cells": [
  {
   "cell_type": "markdown",
   "id": "1e9b0e79",
   "metadata": {},
   "source": [
    "# Importing Packages and Data"
   ]
  },
  {
   "cell_type": "code",
   "execution_count": 711,
   "id": "c7fbbca6",
   "metadata": {},
   "outputs": [],
   "source": [
    "import pandas as pd\n",
    "\n",
    "global_temp = pd.read_csv(r\"C:\\Users\\akama\\OneDrive\\Desktop\\Data Science Bootcamp\\IshMe\\Capstone 3 - Time Series Analysis\\raw_data\\TemperatureChange.csv\", skiprows=1)\n",
    "CO_emissions = pd.read_excel(r\"C:\\Users\\akama\\OneDrive\\Desktop\\Data Science Bootcamp\\IshMe\\Capstone 3 - Time Series Analysis\\raw_data\\CO2Data_Emissions.xlsx\")"
   ]
  },
  {
   "cell_type": "markdown",
   "id": "e1cacd29",
   "metadata": {},
   "source": [
    "## First Dataset<a id='First Dataset'></a>"
   ]
  },
  {
   "cell_type": "code",
   "execution_count": 712,
   "id": "477675c8",
   "metadata": {},
   "outputs": [
    {
     "data": {
      "text/html": [
       "<div>\n",
       "<style scoped>\n",
       "    .dataframe tbody tr th:only-of-type {\n",
       "        vertical-align: middle;\n",
       "    }\n",
       "\n",
       "    .dataframe tbody tr th {\n",
       "        vertical-align: top;\n",
       "    }\n",
       "\n",
       "    .dataframe thead th {\n",
       "        text-align: right;\n",
       "    }\n",
       "</style>\n",
       "<table border=\"1\" class=\"dataframe\">\n",
       "  <thead>\n",
       "    <tr style=\"text-align: right;\">\n",
       "      <th></th>\n",
       "      <th>Year</th>\n",
       "      <th>Jan</th>\n",
       "      <th>Feb</th>\n",
       "      <th>Mar</th>\n",
       "      <th>Apr</th>\n",
       "      <th>May</th>\n",
       "      <th>Jun</th>\n",
       "      <th>Jul</th>\n",
       "      <th>Aug</th>\n",
       "      <th>Sep</th>\n",
       "      <th>Oct</th>\n",
       "      <th>Nov</th>\n",
       "      <th>Dec</th>\n",
       "      <th>J-D</th>\n",
       "      <th>D-N</th>\n",
       "      <th>DJF</th>\n",
       "      <th>MAM</th>\n",
       "      <th>JJA</th>\n",
       "      <th>SON</th>\n",
       "    </tr>\n",
       "  </thead>\n",
       "  <tbody>\n",
       "    <tr>\n",
       "      <th>0</th>\n",
       "      <td>1880</td>\n",
       "      <td>-0.29</td>\n",
       "      <td>-0.18</td>\n",
       "      <td>-0.11</td>\n",
       "      <td>-0.20</td>\n",
       "      <td>-0.12</td>\n",
       "      <td>-0.23</td>\n",
       "      <td>-0.21</td>\n",
       "      <td>-.09</td>\n",
       "      <td>-.16</td>\n",
       "      <td>-.23</td>\n",
       "      <td>-.20</td>\n",
       "      <td>-.23</td>\n",
       "      <td>-.19</td>\n",
       "      <td>***</td>\n",
       "      <td>***</td>\n",
       "      <td>-0.14</td>\n",
       "      <td>-.18</td>\n",
       "      <td>-.20</td>\n",
       "    </tr>\n",
       "    <tr>\n",
       "      <th>1</th>\n",
       "      <td>1881</td>\n",
       "      <td>-0.16</td>\n",
       "      <td>-0.17</td>\n",
       "      <td>0.04</td>\n",
       "      <td>0.04</td>\n",
       "      <td>0.02</td>\n",
       "      <td>-0.20</td>\n",
       "      <td>-0.07</td>\n",
       "      <td>-.03</td>\n",
       "      <td>-.14</td>\n",
       "      <td>-.21</td>\n",
       "      <td>-.22</td>\n",
       "      <td>-.11</td>\n",
       "      <td>-.10</td>\n",
       "      <td>-.11</td>\n",
       "      <td>-.18</td>\n",
       "      <td>0.03</td>\n",
       "      <td>-.10</td>\n",
       "      <td>-.19</td>\n",
       "    </tr>\n",
       "    <tr>\n",
       "      <th>2</th>\n",
       "      <td>1882</td>\n",
       "      <td>0.14</td>\n",
       "      <td>0.15</td>\n",
       "      <td>0.03</td>\n",
       "      <td>-0.19</td>\n",
       "      <td>-0.16</td>\n",
       "      <td>-0.26</td>\n",
       "      <td>-0.21</td>\n",
       "      <td>-.06</td>\n",
       "      <td>-.10</td>\n",
       "      <td>-.25</td>\n",
       "      <td>-.16</td>\n",
       "      <td>-.25</td>\n",
       "      <td>-.11</td>\n",
       "      <td>-.10</td>\n",
       "      <td>.06</td>\n",
       "      <td>-0.10</td>\n",
       "      <td>-.17</td>\n",
       "      <td>-.17</td>\n",
       "    </tr>\n",
       "    <tr>\n",
       "      <th>3</th>\n",
       "      <td>1883</td>\n",
       "      <td>-0.32</td>\n",
       "      <td>-0.39</td>\n",
       "      <td>-0.13</td>\n",
       "      <td>-0.17</td>\n",
       "      <td>-0.20</td>\n",
       "      <td>-0.13</td>\n",
       "      <td>-0.08</td>\n",
       "      <td>-.15</td>\n",
       "      <td>-.21</td>\n",
       "      <td>-.14</td>\n",
       "      <td>-.22</td>\n",
       "      <td>-.16</td>\n",
       "      <td>-.19</td>\n",
       "      <td>-.20</td>\n",
       "      <td>-.32</td>\n",
       "      <td>-0.17</td>\n",
       "      <td>-.12</td>\n",
       "      <td>-.19</td>\n",
       "    </tr>\n",
       "    <tr>\n",
       "      <th>4</th>\n",
       "      <td>1884</td>\n",
       "      <td>-0.16</td>\n",
       "      <td>-0.08</td>\n",
       "      <td>-0.37</td>\n",
       "      <td>-0.43</td>\n",
       "      <td>-0.37</td>\n",
       "      <td>-0.41</td>\n",
       "      <td>-0.35</td>\n",
       "      <td>-.26</td>\n",
       "      <td>-.27</td>\n",
       "      <td>-.24</td>\n",
       "      <td>-.30</td>\n",
       "      <td>-.29</td>\n",
       "      <td>-.29</td>\n",
       "      <td>-.28</td>\n",
       "      <td>-.13</td>\n",
       "      <td>-0.39</td>\n",
       "      <td>-.34</td>\n",
       "      <td>-.27</td>\n",
       "    </tr>\n",
       "  </tbody>\n",
       "</table>\n",
       "</div>"
      ],
      "text/plain": [
       "   Year   Jan   Feb   Mar   Apr   May   Jun   Jul   Aug   Sep   Oct   Nov  \\\n",
       "0  1880 -0.29 -0.18 -0.11 -0.20 -0.12 -0.23 -0.21  -.09  -.16  -.23  -.20   \n",
       "1  1881 -0.16 -0.17  0.04  0.04  0.02 -0.20 -0.07  -.03  -.14  -.21  -.22   \n",
       "2  1882  0.14  0.15  0.03 -0.19 -0.16 -0.26 -0.21  -.06  -.10  -.25  -.16   \n",
       "3  1883 -0.32 -0.39 -0.13 -0.17 -0.20 -0.13 -0.08  -.15  -.21  -.14  -.22   \n",
       "4  1884 -0.16 -0.08 -0.37 -0.43 -0.37 -0.41 -0.35  -.26  -.27  -.24  -.30   \n",
       "\n",
       "    Dec   J-D   D-N   DJF   MAM   JJA   SON  \n",
       "0  -.23  -.19   ***   *** -0.14  -.18  -.20  \n",
       "1  -.11  -.10  -.11  -.18  0.03  -.10  -.19  \n",
       "2  -.25  -.11  -.10   .06 -0.10  -.17  -.17  \n",
       "3  -.16  -.19  -.20  -.32 -0.17  -.12  -.19  \n",
       "4  -.29  -.29  -.28  -.13 -0.39  -.34  -.27  "
      ]
     },
     "execution_count": 712,
     "metadata": {},
     "output_type": "execute_result"
    }
   ],
   "source": [
    "global_temp.head()"
   ]
  },
  {
   "cell_type": "code",
   "execution_count": 713,
   "id": "2ba665b7",
   "metadata": {},
   "outputs": [
    {
     "data": {
      "text/html": [
       "<div>\n",
       "<style scoped>\n",
       "    .dataframe tbody tr th:only-of-type {\n",
       "        vertical-align: middle;\n",
       "    }\n",
       "\n",
       "    .dataframe tbody tr th {\n",
       "        vertical-align: top;\n",
       "    }\n",
       "\n",
       "    .dataframe thead th {\n",
       "        text-align: right;\n",
       "    }\n",
       "</style>\n",
       "<table border=\"1\" class=\"dataframe\">\n",
       "  <thead>\n",
       "    <tr style=\"text-align: right;\">\n",
       "      <th></th>\n",
       "      <th>Avg Anomaly (Celsius)</th>\n",
       "    </tr>\n",
       "    <tr>\n",
       "      <th>date</th>\n",
       "      <th></th>\n",
       "    </tr>\n",
       "  </thead>\n",
       "  <tbody>\n",
       "    <tr>\n",
       "      <th>1880-01-31</th>\n",
       "      <td>None</td>\n",
       "    </tr>\n",
       "    <tr>\n",
       "      <th>1880-02-29</th>\n",
       "      <td>None</td>\n",
       "    </tr>\n",
       "    <tr>\n",
       "      <th>1880-03-31</th>\n",
       "      <td>None</td>\n",
       "    </tr>\n",
       "    <tr>\n",
       "      <th>1880-04-30</th>\n",
       "      <td>None</td>\n",
       "    </tr>\n",
       "    <tr>\n",
       "      <th>1880-05-31</th>\n",
       "      <td>None</td>\n",
       "    </tr>\n",
       "  </tbody>\n",
       "</table>\n",
       "</div>"
      ],
      "text/plain": [
       "           Avg Anomaly (Celsius)\n",
       "date                            \n",
       "1880-01-31                  None\n",
       "1880-02-29                  None\n",
       "1880-03-31                  None\n",
       "1880-04-30                  None\n",
       "1880-05-31                  None"
      ]
     },
     "execution_count": 713,
     "metadata": {},
     "output_type": "execute_result"
    }
   ],
   "source": [
    "date_rng = pd.date_range(start='1/1/1880', end='1/03/2019', freq='M')\n",
    "\n",
    "type(date_rng[0])\n",
    "\n",
    "df_temp = pd.DataFrame(date_rng, columns=['date'])\n",
    "\n",
    "df_temp[\"Avg Anomaly (Celsius)\"] = None\n",
    "\n",
    "df_temp.set_index(\"date\", inplace=True)\n",
    "\n",
    "df_temp.head()"
   ]
  },
  {
   "cell_type": "code",
   "execution_count": 714,
   "id": "986d9fb5",
   "metadata": {
    "scrolled": true
   },
   "outputs": [
    {
     "data": {
      "text/html": [
       "<div>\n",
       "<style scoped>\n",
       "    .dataframe tbody tr th:only-of-type {\n",
       "        vertical-align: middle;\n",
       "    }\n",
       "\n",
       "    .dataframe tbody tr th {\n",
       "        vertical-align: top;\n",
       "    }\n",
       "\n",
       "    .dataframe thead th {\n",
       "        text-align: right;\n",
       "    }\n",
       "</style>\n",
       "<table border=\"1\" class=\"dataframe\">\n",
       "  <thead>\n",
       "    <tr style=\"text-align: right;\">\n",
       "      <th></th>\n",
       "      <th>Year</th>\n",
       "      <th>Jan</th>\n",
       "      <th>Feb</th>\n",
       "      <th>Mar</th>\n",
       "      <th>Apr</th>\n",
       "      <th>May</th>\n",
       "      <th>Jun</th>\n",
       "      <th>Jul</th>\n",
       "      <th>Aug</th>\n",
       "      <th>Sep</th>\n",
       "      <th>Oct</th>\n",
       "      <th>Nov</th>\n",
       "      <th>Dec</th>\n",
       "    </tr>\n",
       "  </thead>\n",
       "  <tbody>\n",
       "    <tr>\n",
       "      <th>0</th>\n",
       "      <td>1880</td>\n",
       "      <td>-0.29</td>\n",
       "      <td>-0.18</td>\n",
       "      <td>-0.11</td>\n",
       "      <td>-0.20</td>\n",
       "      <td>-0.12</td>\n",
       "      <td>-0.23</td>\n",
       "      <td>-0.21</td>\n",
       "      <td>-.09</td>\n",
       "      <td>-.16</td>\n",
       "      <td>-.23</td>\n",
       "      <td>-.20</td>\n",
       "      <td>-.23</td>\n",
       "    </tr>\n",
       "    <tr>\n",
       "      <th>1</th>\n",
       "      <td>1881</td>\n",
       "      <td>-0.16</td>\n",
       "      <td>-0.17</td>\n",
       "      <td>0.04</td>\n",
       "      <td>0.04</td>\n",
       "      <td>0.02</td>\n",
       "      <td>-0.20</td>\n",
       "      <td>-0.07</td>\n",
       "      <td>-.03</td>\n",
       "      <td>-.14</td>\n",
       "      <td>-.21</td>\n",
       "      <td>-.22</td>\n",
       "      <td>-.11</td>\n",
       "    </tr>\n",
       "    <tr>\n",
       "      <th>2</th>\n",
       "      <td>1882</td>\n",
       "      <td>0.14</td>\n",
       "      <td>0.15</td>\n",
       "      <td>0.03</td>\n",
       "      <td>-0.19</td>\n",
       "      <td>-0.16</td>\n",
       "      <td>-0.26</td>\n",
       "      <td>-0.21</td>\n",
       "      <td>-.06</td>\n",
       "      <td>-.10</td>\n",
       "      <td>-.25</td>\n",
       "      <td>-.16</td>\n",
       "      <td>-.25</td>\n",
       "    </tr>\n",
       "    <tr>\n",
       "      <th>3</th>\n",
       "      <td>1883</td>\n",
       "      <td>-0.32</td>\n",
       "      <td>-0.39</td>\n",
       "      <td>-0.13</td>\n",
       "      <td>-0.17</td>\n",
       "      <td>-0.20</td>\n",
       "      <td>-0.13</td>\n",
       "      <td>-0.08</td>\n",
       "      <td>-.15</td>\n",
       "      <td>-.21</td>\n",
       "      <td>-.14</td>\n",
       "      <td>-.22</td>\n",
       "      <td>-.16</td>\n",
       "    </tr>\n",
       "    <tr>\n",
       "      <th>4</th>\n",
       "      <td>1884</td>\n",
       "      <td>-0.16</td>\n",
       "      <td>-0.08</td>\n",
       "      <td>-0.37</td>\n",
       "      <td>-0.43</td>\n",
       "      <td>-0.37</td>\n",
       "      <td>-0.41</td>\n",
       "      <td>-0.35</td>\n",
       "      <td>-.26</td>\n",
       "      <td>-.27</td>\n",
       "      <td>-.24</td>\n",
       "      <td>-.30</td>\n",
       "      <td>-.29</td>\n",
       "    </tr>\n",
       "  </tbody>\n",
       "</table>\n",
       "</div>"
      ],
      "text/plain": [
       "   Year   Jan   Feb   Mar   Apr   May   Jun   Jul   Aug   Sep   Oct   Nov  \\\n",
       "0  1880 -0.29 -0.18 -0.11 -0.20 -0.12 -0.23 -0.21  -.09  -.16  -.23  -.20   \n",
       "1  1881 -0.16 -0.17  0.04  0.04  0.02 -0.20 -0.07  -.03  -.14  -.21  -.22   \n",
       "2  1882  0.14  0.15  0.03 -0.19 -0.16 -0.26 -0.21  -.06  -.10  -.25  -.16   \n",
       "3  1883 -0.32 -0.39 -0.13 -0.17 -0.20 -0.13 -0.08  -.15  -.21  -.14  -.22   \n",
       "4  1884 -0.16 -0.08 -0.37 -0.43 -0.37 -0.41 -0.35  -.26  -.27  -.24  -.30   \n",
       "\n",
       "    Dec  \n",
       "0  -.23  \n",
       "1  -.11  \n",
       "2  -.25  \n",
       "3  -.16  \n",
       "4  -.29  "
      ]
     },
     "execution_count": 714,
     "metadata": {},
     "output_type": "execute_result"
    }
   ],
   "source": [
    "global_temp = global_temp.iloc[:, :13]\n",
    "global_temp.head()"
   ]
  },
  {
   "cell_type": "code",
   "execution_count": 715,
   "id": "35b8ffbf",
   "metadata": {},
   "outputs": [
    {
     "data": {
      "text/html": [
       "<div>\n",
       "<style scoped>\n",
       "    .dataframe tbody tr th:only-of-type {\n",
       "        vertical-align: middle;\n",
       "    }\n",
       "\n",
       "    .dataframe tbody tr th {\n",
       "        vertical-align: top;\n",
       "    }\n",
       "\n",
       "    .dataframe thead th {\n",
       "        text-align: right;\n",
       "    }\n",
       "</style>\n",
       "<table border=\"1\" class=\"dataframe\">\n",
       "  <thead>\n",
       "    <tr style=\"text-align: right;\">\n",
       "      <th></th>\n",
       "      <th>Avg Anomaly (Celsius)</th>\n",
       "    </tr>\n",
       "    <tr>\n",
       "      <th>date</th>\n",
       "      <th></th>\n",
       "    </tr>\n",
       "  </thead>\n",
       "  <tbody>\n",
       "    <tr>\n",
       "      <th>1880-01-31</th>\n",
       "      <td>-0.29</td>\n",
       "    </tr>\n",
       "    <tr>\n",
       "      <th>1880-02-29</th>\n",
       "      <td>-0.18</td>\n",
       "    </tr>\n",
       "    <tr>\n",
       "      <th>1880-03-31</th>\n",
       "      <td>-0.11</td>\n",
       "    </tr>\n",
       "    <tr>\n",
       "      <th>1880-04-30</th>\n",
       "      <td>-0.2</td>\n",
       "    </tr>\n",
       "    <tr>\n",
       "      <th>1880-05-31</th>\n",
       "      <td>-0.12</td>\n",
       "    </tr>\n",
       "  </tbody>\n",
       "</table>\n",
       "</div>"
      ],
      "text/plain": [
       "           Avg Anomaly (Celsius)\n",
       "date                            \n",
       "1880-01-31                 -0.29\n",
       "1880-02-29                 -0.18\n",
       "1880-03-31                 -0.11\n",
       "1880-04-30                  -0.2\n",
       "1880-05-31                 -0.12"
      ]
     },
     "execution_count": 715,
     "metadata": {},
     "output_type": "execute_result"
    }
   ],
   "source": [
    "import calendar\n",
    "from datetime import datetime\n",
    "\n",
    "def populate_df_with_anomolies_from_row(row):\n",
    "    year = row['Year']\n",
    "    monthly_anomolies = row.iloc[1:]\n",
    "    months = monthly_anomolies.index\n",
    "    \n",
    "    for month in monthly_anomolies.index:\n",
    "        last_day = calendar.monthrange(year, datetime.strptime(month, \"%b\").month)[1]\n",
    "        date_index = datetime.strptime(f'{year} {month} {last_day}', '%Y %b %d')\n",
    "        df_temp.loc[date_index] = monthly_anomolies[month]\n",
    "        \n",
    "_ = global_temp.apply(lambda row: populate_df_with_anomolies_from_row(row), axis=1)\n",
    "df_temp.head()"
   ]
  },
  {
   "cell_type": "code",
   "execution_count": 716,
   "id": "8a832b47",
   "metadata": {},
   "outputs": [
    {
     "data": {
      "text/html": [
       "<div>\n",
       "<style scoped>\n",
       "    .dataframe tbody tr th:only-of-type {\n",
       "        vertical-align: middle;\n",
       "    }\n",
       "\n",
       "    .dataframe tbody tr th {\n",
       "        vertical-align: top;\n",
       "    }\n",
       "\n",
       "    .dataframe thead th {\n",
       "        text-align: right;\n",
       "    }\n",
       "</style>\n",
       "<table border=\"1\" class=\"dataframe\">\n",
       "  <thead>\n",
       "    <tr style=\"text-align: right;\">\n",
       "      <th></th>\n",
       "      <th>Avg Anomaly (Celsius)</th>\n",
       "    </tr>\n",
       "    <tr>\n",
       "      <th>date</th>\n",
       "      <th></th>\n",
       "    </tr>\n",
       "  </thead>\n",
       "  <tbody>\n",
       "    <tr>\n",
       "      <th>1880-01-31</th>\n",
       "      <td>-0.29</td>\n",
       "    </tr>\n",
       "    <tr>\n",
       "      <th>1880-02-29</th>\n",
       "      <td>-0.18</td>\n",
       "    </tr>\n",
       "    <tr>\n",
       "      <th>1880-03-31</th>\n",
       "      <td>-0.11</td>\n",
       "    </tr>\n",
       "    <tr>\n",
       "      <th>1880-04-30</th>\n",
       "      <td>-0.20</td>\n",
       "    </tr>\n",
       "    <tr>\n",
       "      <th>1880-05-31</th>\n",
       "      <td>-0.12</td>\n",
       "    </tr>\n",
       "  </tbody>\n",
       "</table>\n",
       "</div>"
      ],
      "text/plain": [
       "            Avg Anomaly (Celsius)\n",
       "date                             \n",
       "1880-01-31                  -0.29\n",
       "1880-02-29                  -0.18\n",
       "1880-03-31                  -0.11\n",
       "1880-04-30                  -0.20\n",
       "1880-05-31                  -0.12"
      ]
     },
     "execution_count": 716,
     "metadata": {},
     "output_type": "execute_result"
    }
   ],
   "source": [
    "import numpy as np\n",
    "\n",
    "def clean_anomaly_value(raw_value):\n",
    "    try:\n",
    "        return float(raw_value)\n",
    "    except:\n",
    "        return np.NaN\n",
    "    \n",
    "df_temp[\"Avg Anomaly (Celsius)\"] = df_temp[\"Avg Anomaly (Celsius)\"].apply(lambda raw_value: clean_anomaly_value(raw_value))\n",
    "\n",
    "df_temp.fillna(method=\"ffill\", inplace=True)\n",
    "\n",
    "df_temp.head()"
   ]
  },
  {
   "cell_type": "code",
   "execution_count": 717,
   "id": "fb872679",
   "metadata": {},
   "outputs": [
    {
     "data": {
      "text/plain": [
       "[<matplotlib.lines.Line2D at 0x1f2fd215040>]"
      ]
     },
     "execution_count": 717,
     "metadata": {},
     "output_type": "execute_result"
    },
    {
     "data": {
      "image/png": "[encoded data removed]",
      "text/plain": [
       "<Figure size 720x576 with 1 Axes>"
      ]
     },
     "metadata": {
      "needs_background": "light"
     },
     "output_type": "display_data"
    }
   ],
   "source": [
    "import matplotlib.pyplot as plt\n",
    "\n",
    "%matplotlib inline\n",
    "\n",
    "plt.figure(figsize=(10, 8))\n",
    "plt.xlabel(\"Time\")\n",
    "plt.ylabel(\"Temperature Anomaly (°Celsius)\")\n",
    "plt.plot(df_temp, color='#1C7C54', linewidth=1.0)"
   ]
  },
  {
   "cell_type": "code",
   "execution_count": 718,
   "id": "7789663d",
   "metadata": {},
   "outputs": [
    {
     "data": {
      "text/html": [
       "<div>\n",
       "<style scoped>\n",
       "    .dataframe tbody tr th:only-of-type {\n",
       "        vertical-align: middle;\n",
       "    }\n",
       "\n",
       "    .dataframe tbody tr th {\n",
       "        vertical-align: top;\n",
       "    }\n",
       "\n",
       "    .dataframe thead th {\n",
       "        text-align: right;\n",
       "    }\n",
       "</style>\n",
       "<table border=\"1\" class=\"dataframe\">\n",
       "  <thead>\n",
       "    <tr style=\"text-align: right;\">\n",
       "      <th></th>\n",
       "      <th>Avg Anomaly (Celsius)</th>\n",
       "    </tr>\n",
       "    <tr>\n",
       "      <th>date</th>\n",
       "      <th></th>\n",
       "    </tr>\n",
       "  </thead>\n",
       "  <tbody>\n",
       "    <tr>\n",
       "      <th>1880-12-31</th>\n",
       "      <td>-0.187500</td>\n",
       "    </tr>\n",
       "    <tr>\n",
       "      <th>1881-12-31</th>\n",
       "      <td>-0.100833</td>\n",
       "    </tr>\n",
       "    <tr>\n",
       "      <th>1882-12-31</th>\n",
       "      <td>-0.110000</td>\n",
       "    </tr>\n",
       "    <tr>\n",
       "      <th>1883-12-31</th>\n",
       "      <td>-0.191667</td>\n",
       "    </tr>\n",
       "    <tr>\n",
       "      <th>1884-12-31</th>\n",
       "      <td>-0.294167</td>\n",
       "    </tr>\n",
       "  </tbody>\n",
       "</table>\n",
       "</div>"
      ],
      "text/plain": [
       "            Avg Anomaly (Celsius)\n",
       "date                             \n",
       "1880-12-31              -0.187500\n",
       "1881-12-31              -0.100833\n",
       "1882-12-31              -0.110000\n",
       "1883-12-31              -0.191667\n",
       "1884-12-31              -0.294167"
      ]
     },
     "execution_count": 718,
     "metadata": {},
     "output_type": "execute_result"
    }
   ],
   "source": [
    "df_temp.resample(\"A\").mean().head()"
   ]
  },
  {
   "cell_type": "code",
   "execution_count": 719,
   "id": "612d38d8",
   "metadata": {},
   "outputs": [
    {
     "data": {
      "image/png": "[encoded data removed]",
      "text/plain": [
       "<Figure size 720x576 with 1 Axes>"
      ]
     },
     "metadata": {
      "needs_background": "light"
     },
     "output_type": "display_data"
    }
   ],
   "source": [
    "import matplotlib.pyplot as plt\n",
    "%matplotlib inline\n",
    "\n",
    "df_temp_resampled = df_temp.resample('A').mean()\n",
    "\n",
    "fig, ax = plt.subplots(figsize=(10, 8))\n",
    "\n",
    "ax.plot(df_temp_resampled)\n",
    "ax.set(xlabel=\"Time (years)\", ylabel=\"Temperature Anomaly (°Celsius)\", title=\"Global Temperature Anomalies\")\n",
    "\n",
    "ax.grid()"
   ]
  },
  {
   "cell_type": "code",
   "execution_count": 720,
   "id": "6b9c736d",
   "metadata": {},
   "outputs": [
    {
     "data": {
      "text/html": [
       "        <script type=\"text/javascript\">\n",
       "        window.PlotlyConfig = {MathJaxConfig: 'local'};\n",
       "        if (window.MathJax) {MathJax.Hub.Config({SVG: {font: \"STIX-Web\"}});}\n",
       "        if (typeof require !== 'undefined') {\n",
       "        require.undef(\"plotly\");\n",
       "        requirejs.config({\n",
       "            paths: {\n",
       "                'plotly': ['https://cdn.plot.ly/plotly-2.4.2.min']\n",
       "            }\n",
       "        });\n",
       "        require(['plotly'], function(Plotly) {\n",
       "            window._Plotly = Plotly;\n",
       "        });\n",
       "        }\n",
       "        </script>\n",
       "        "
      ]
     },
     "metadata": {},
     "output_type": "display_data"
    },
    {
     "data": {
      "text/html": [
       "        <script type=\"text/javascript\">\n",
       "        window.PlotlyConfig = {MathJaxConfig: 'local'};\n",
       "        if (window.MathJax) {MathJax.Hub.Config({SVG: {font: \"STIX-Web\"}});}\n",
       "        if (typeof require !== 'undefined') {\n",
       "        require.undef(\"plotly\");\n",
       "        requirejs.config({\n",
       "            paths: {\n",
       "                'plotly': ['https://cdn.plot.ly/plotly-2.4.2.min']\n",
       "            }\n",
       "        });\n",
       "        require(['plotly'], function(Plotly) {\n",
       "            window._Plotly = Plotly;\n",
       "        });\n",
       "        }\n",
       "        </script>\n",
       "        "
      ]
     },
     "metadata": {},
     "output_type": "display_data"
    }
   ],
   "source": [
    "from chart_studio import plotly as py\n",
    "import plotly.graph_objs as go\n",
    "from plotly.offline import iplot, init_notebook_mode\n",
    "\n",
    "import cufflinks\n",
    "cufflinks.go_offline(connected=True)\n",
    "init_notebook_mode(connected=True)"
   ]
  },
  {
   "cell_type": "code",
   "execution_count": 721,
   "id": "5f04bc65",
   "metadata": {},
   "outputs": [
    {
     "data": {
      "application/vnd.plotly.v1+json": {
       "config": {
        "linkText": "Export to plot.ly",
        "plotlyServerURL": "https://plot.ly",
        "showLink": true
       },
       "data": [
        {
         "line": {
          "color": "rgba(255, 153, 51, 1.0)",
          "dash": "solid",
          "shape": "linear",
          "width": 1.3
         },
         "mode": "lines",
         "name": "Avg Anomaly (Celsius)",
         "text": "",
         "type": "scatter",
         "x": [
          "1880-12-31",
          "1881-12-31",
          "1882-12-31",
          "1883-12-31",
          "1884-12-31",
          "1885-12-31",
          "1886-12-31",
          "1887-12-31",
          "1888-12-31",
          "1889-12-31",
          "1890-12-31",
          "1891-12-31",
          "1892-12-31",
          "1893-12-31",
          "1894-12-31",
          "1895-12-31",
          "1896-12-31",
          "1897-12-31",
          "1898-12-31",
          "1899-12-31",
          "1900-12-31",
          "1901-12-31",
          "1902-12-31",
          "1903-12-31",
          "1904-12-31",
          "1905-12-31",
          "1906-12-31",
          "1907-12-31",
          "1908-12-31",
          "1909-12-31",
          "1910-12-31",
          "1911-12-31",
          "1912-12-31",
          "1913-12-31",
          "1914-12-31",
          "1915-12-31",
          "1916-12-31",
          "1917-12-31",
          "1918-12-31",
          "1919-12-31",
          "1920-12-31",
          "1921-12-31",
          "1922-12-31",
          "1923-12-31",
          "1924-12-31",
          "1925-12-31",
          "1926-12-31",
          "1927-12-31",
          "1928-12-31",
          "1929-12-31",
          "1930-12-31",
          "1931-12-31",
          "1932-12-31",
          "1933-12-31",
          "1934-12-31",
          "1935-12-31",
          "1936-12-31",
          "1937-12-31",
          "1938-12-31",
          "1939-12-31",
          "1940-12-31",
          "1941-12-31",
          "1942-12-31",
          "1943-12-31",
          "1944-12-31",
          "1945-12-31",
          "1946-12-31",
          "1947-12-31",
          "1948-12-31",
          "1949-12-31",
          "1950-12-31",
          "1951-12-31",
          "1952-12-31",
          "1953-12-31",
          "1954-12-31",
          "1955-12-31",
          "1956-12-31",
          "1957-12-31",
          "1958-12-31",
          "1959-12-31",
          "1960-12-31",
          "1961-12-31",
          "1962-12-31",
          "1963-12-31",
          "1964-12-31",
          "1965-12-31",
          "1966-12-31",
          "1967-12-31",
          "1968-12-31",
          "1969-12-31",
          "1970-12-31",
          "1971-12-31",
          "1972-12-31",
          "1973-12-31",
          "1974-12-31",
          "1975-12-31",
          "1976-12-31",
          "1977-12-31",
          "1978-12-31",
          "1979-12-31",
          "1980-12-31",
          "1981-12-31",
          "1982-12-31",
          "1983-12-31",
          "1984-12-31",
          "1985-12-31",
          "1986-12-31",
          "1987-12-31",
          "1988-12-31",
          "1989-12-31",
          "1990-12-31",
          "1991-12-31",
          "1992-12-31",
          "1993-12-31",
          "1994-12-31",
          "1995-12-31",
          "1996-12-31",
          "1997-12-31",
          "1998-12-31",
          "1999-12-31",
          "2000-12-31",
          "2001-12-31",
          "2002-12-31",
          "2003-12-31",
          "2004-12-31",
          "2005-12-31",
          "2006-12-31",
          "2007-12-31",
          "2008-12-31",
          "2009-12-31",
          "2010-12-31",
          "2011-12-31",
          "2012-12-31",
          "2013-12-31",
          "2014-12-31",
          "2015-12-31",
          "2016-12-31",
          "2017-12-31",
          "2018-12-31",
          "2019-12-31"
         ],
         "y": [
          -0.1875,
          -0.10083333333333334,
          -0.10999999999999999,
          -0.19166666666666668,
          -0.29416666666666663,
          -0.315,
          -0.3233333333333333,
          -0.3516666666666666,
          -0.1791666666666667,
          -0.10833333333333334,
          -0.37083333333333335,
          -0.23666666666666666,
          -0.26833333333333337,
          -0.32,
          -0.31500000000000006,
          -0.2275,
          -0.11750000000000001,
          -0.11916666666666664,
          -0.2816666666666667,
          -0.18250000000000002,
          -0.09166666666666667,
          -0.15666666666666668,
          -0.29750000000000004,
          -0.38916666666666666,
          -0.4941666666666667,
          -0.2891666666666667,
          -0.22500000000000006,
          -0.39666666666666667,
          -0.43583333333333335,
          -0.4749999999999999,
          -0.43249999999999994,
          -0.43333333333333335,
          -0.3575,
          -0.35666666666666674,
          -0.15666666666666668,
          -0.12666666666666668,
          -0.3333333333333333,
          -0.44083333333333335,
          -0.2883333333333333,
          -0.2741666666666667,
          -0.265,
          -0.18333333333333332,
          -0.2775,
          -0.2508333333333333,
          -0.2591666666666667,
          -0.20833333333333337,
          -0.09583333333333334,
          -0.20833333333333334,
          -0.19666666666666666,
          -0.3508333333333334,
          -0.1491666666666667,
          -0.10083333333333334,
          -0.165,
          -0.295,
          -0.13583333333333333,
          -0.2041666666666667,
          -0.1575,
          -0.035833333333333335,
          -0.030833333333333334,
          -0.02666666666666667,
          0.1175,
          0.18333333333333335,
          0.05499999999999999,
          0.07083333333333335,
          0.20833333333333334,
          0.08750000000000001,
          -0.06999999999999999,
          -0.03833333333333333,
          -0.1025,
          -0.10666666666666667,
          -0.18166666666666667,
          -0.06666666666666667,
          0.007499999999999999,
          0.06833333333333334,
          -0.1475,
          -0.14333333333333334,
          -0.205,
          0.0425,
          0.06916666666666667,
          0.02833333333333334,
          -0.02166666666666667,
          0.05583333333333334,
          0.03833333333333334,
          0.06916666666666667,
          -0.1975,
          -0.10583333333333335,
          -0.04916666666666667,
          -0.023333333333333334,
          -0.07666666666666667,
          0.0675,
          0.03166666666666666,
          -0.09083333333333334,
          0.013333333333333336,
          0.16166666666666665,
          -0.07916666666666668,
          -0.013333333333333334,
          -0.1075,
          0.1708333333333333,
          0.06416666666666668,
          0.15833333333333333,
          0.27083333333333337,
          0.33083333333333326,
          0.13249999999999998,
          0.315,
          0.1608333333333333,
          0.11833333333333335,
          0.18000000000000002,
          0.3325000000000001,
          0.4075,
          0.2891666666666666,
          0.44083333333333335,
          0.41416666666666657,
          0.2233333333333333,
          0.2383333333333334,
          0.30750000000000005,
          0.445,
          0.335,
          0.4683333333333333,
          0.6225,
          0.3966666666666667,
          0.39916666666666667,
          0.5291666666666667,
          0.6208333333333333,
          0.6050000000000001,
          0.5316666666666666,
          0.6666666666666666,
          0.6166666666666667,
          0.6375000000000001,
          0.5158333333333333,
          0.6316666666666667,
          0.6966666666666667,
          0.5824999999999999,
          0.6175,
          0.6466666666666668,
          0.7316666666666666,
          0.8658333333333332,
          0.9916666666666668,
          0.9025000000000002,
          0.8233333333333334,
          0.9150000000000001
         ]
        }
       ],
       "layout": {
        "legend": {
         "bgcolor": "#F5F6F9",
         "font": {
          "color": "#4D5663"
         }
        },
        "paper_bgcolor": "#F5F6F9",
        "plot_bgcolor": "#F5F6F9",
        "template": {
         "data": {
          "bar": [
           {
            "error_x": {
             "color": "#2a3f5f"
            },
            "error_y": {
             "color": "#2a3f5f"
            },
            "marker": {
             "line": {
              "color": "#E5ECF6",
              "width": 0.5
             },
             "pattern": {
              "fillmode": "overlay",
              "size": 10,
              "solidity": 0.2
             }
            },
            "type": "bar"
           }
          ],
          "barpolar": [
           {
            "marker": {
             "line": {
              "color": "#E5ECF6",
              "width": 0.5
             },
             "pattern": {
              "fillmode": "overlay",
              "size": 10,
              "solidity": 0.2
             }
            },
            "type": "barpolar"
           }
          ],
          "carpet": [
           {
            "aaxis": {
             "endlinecolor": "#2a3f5f",
             "gridcolor": "white",
             "linecolor": "white",
             "minorgridcolor": "white",
             "startlinecolor": "#2a3f5f"
            },
            "baxis": {
             "endlinecolor": "#2a3f5f",
             "gridcolor": "white",
             "linecolor": "white",
             "minorgridcolor": "white",
             "startlinecolor": "#2a3f5f"
            },
            "type": "carpet"
           }
          ],
          "choropleth": [
           {
            "colorbar": {
             "outlinewidth": 0,
             "ticks": ""
            },
            "type": "choropleth"
           }
          ],
          "contour": [
           {
            "colorbar": {
             "outlinewidth": 0,
             "ticks": ""
            },
            "colorscale": [
             [
              0,
              "#0d0887"
             ],
             [
              0.1111111111111111,
              "#46039f"
             ],
             [
              0.2222222222222222,
              "#7201a8"
             ],
             [
              0.3333333333333333,
              "#9c179e"
             ],
             [
              0.4444444444444444,
              "#bd3786"
             ],
             [
              0.5555555555555556,
              "#d8576b"
             ],
             [
              0.6666666666666666,
              "#ed7953"
             ],
             [
              0.7777777777777778,
              "#fb9f3a"
             ],
             [
              0.8888888888888888,
              "#fdca26"
             ],
             [
              1,
              "#f0f921"
             ]
            ],
            "type": "contour"
           }
          ],
          "contourcarpet": [
           {
            "colorbar": {
             "outlinewidth": 0,
             "ticks": ""
            },
            "type": "contourcarpet"
           }
          ],
          "heatmap": [
           {
            "colorbar": {
             "outlinewidth": 0,
             "ticks": ""
            },
            "colorscale": [
             [
              0,
              "#0d0887"
             ],
             [
              0.1111111111111111,
              "#46039f"
             ],
             [
              0.2222222222222222,
              "#7201a8"
             ],
             [
              0.3333333333333333,
              "#9c179e"
             ],
             [
              0.4444444444444444,
              "#bd3786"
             ],
             [
              0.5555555555555556,
              "#d8576b"
             ],
             [
              0.6666666666666666,
              "#ed7953"
             ],
             [
              0.7777777777777778,
              "#fb9f3a"
             ],
             [
              0.8888888888888888,
              "#fdca26"
             ],
             [
              1,
              "#f0f921"
             ]
            ],
            "type": "heatmap"
           }
          ],
          "heatmapgl": [
           {
            "colorbar": {
             "outlinewidth": 0,
             "ticks": ""
            },
            "colorscale": [
             [
              0,
              "#0d0887"
             ],
             [
              0.1111111111111111,
              "#46039f"
             ],
             [
              0.2222222222222222,
              "#7201a8"
             ],
             [
              0.3333333333333333,
              "#9c179e"
             ],
             [
              0.4444444444444444,
              "#bd3786"
             ],
             [
              0.5555555555555556,
              "#d8576b"
             ],
             [
              0.6666666666666666,
              "#ed7953"
             ],
             [
              0.7777777777777778,
              "#fb9f3a"
             ],
             [
              0.8888888888888888,
              "#fdca26"
             ],
             [
              1,
              "#f0f921"
             ]
            ],
            "type": "heatmapgl"
           }
          ],
          "histogram": [
           {
            "marker": {
             "pattern": {
              "fillmode": "overlay",
              "size": 10,
              "solidity": 0.2
             }
            },
            "type": "histogram"
           }
          ],
          "histogram2d": [
           {
            "colorbar": {
             "outlinewidth": 0,
             "ticks": ""
            },
            "colorscale": [
             [
              0,
              "#0d0887"
             ],
             [
              0.1111111111111111,
              "#46039f"
             ],
             [
              0.2222222222222222,
              "#7201a8"
             ],
             [
              0.3333333333333333,
              "#9c179e"
             ],
             [
              0.4444444444444444,
              "#bd3786"
             ],
             [
              0.5555555555555556,
              "#d8576b"
             ],
             [
              0.6666666666666666,
              "#ed7953"
             ],
             [
              0.7777777777777778,
              "#fb9f3a"
             ],
             [
              0.8888888888888888,
              "#fdca26"
             ],
             [
              1,
              "#f0f921"
             ]
            ],
            "type": "histogram2d"
           }
          ],
          "histogram2dcontour": [
           {
            "colorbar": {
             "outlinewidth": 0,
             "ticks": ""
            },
            "colorscale": [
             [
              0,
              "#0d0887"
             ],
             [
              0.1111111111111111,
              "#46039f"
             ],
             [
              0.2222222222222222,
              "#7201a8"
             ],
             [
              0.3333333333333333,
              "#9c179e"
             ],
             [
              0.4444444444444444,
              "#bd3786"
             ],
             [
              0.5555555555555556,
              "#d8576b"
             ],
             [
              0.6666666666666666,
              "#ed7953"
             ],
             [
              0.7777777777777778,
              "#fb9f3a"
             ],
             [
              0.8888888888888888,
              "#fdca26"
             ],
             [
              1,
              "#f0f921"
             ]
            ],
            "type": "histogram2dcontour"
           }
          ],
          "mesh3d": [
           {
            "colorbar": {
             "outlinewidth": 0,
             "ticks": ""
            },
            "type": "mesh3d"
           }
          ],
          "parcoords": [
           {
            "line": {
             "colorbar": {
              "outlinewidth": 0,
              "ticks": ""
             }
            },
            "type": "parcoords"
           }
          ],
          "pie": [
           {
            "automargin": true,
            "type": "pie"
           }
          ],
          "scatter": [
           {
            "marker": {
             "colorbar": {
              "outlinewidth": 0,
              "ticks": ""
             }
            },
            "type": "scatter"
           }
          ],
          "scatter3d": [
           {
            "line": {
             "colorbar": {
              "outlinewidth": 0,
              "ticks": ""
             }
            },
            "marker": {
             "colorbar": {
              "outlinewidth": 0,
              "ticks": ""
             }
            },
            "type": "scatter3d"
           }
          ],
          "scattercarpet": [
           {
            "marker": {
             "colorbar": {
              "outlinewidth": 0,
              "ticks": ""
             }
            },
            "type": "scattercarpet"
           }
          ],
          "scattergeo": [
           {
            "marker": {
             "colorbar": {
              "outlinewidth": 0,
              "ticks": ""
             }
            },
            "type": "scattergeo"
           }
          ],
          "scattergl": [
           {
            "marker": {
             "colorbar": {
              "outlinewidth": 0,
              "ticks": ""
             }
            },
            "type": "scattergl"
           }
          ],
          "scattermapbox": [
           {
            "marker": {
             "colorbar": {
              "outlinewidth": 0,
              "ticks": ""
             }
            },
            "type": "scattermapbox"
           }
          ],
          "scatterpolar": [
           {
            "marker": {
             "colorbar": {
              "outlinewidth": 0,
              "ticks": ""
             }
            },
            "type": "scatterpolar"
           }
          ],
          "scatterpolargl": [
           {
            "marker": {
             "colorbar": {
              "outlinewidth": 0,
              "ticks": ""
             }
            },
            "type": "scatterpolargl"
           }
          ],
          "scatterternary": [
           {
            "marker": {
             "colorbar": {
              "outlinewidth": 0,
              "ticks": ""
             }
            },
            "type": "scatterternary"
           }
          ],
          "surface": [
           {
            "colorbar": {
             "outlinewidth": 0,
             "ticks": ""
            },
            "colorscale": [
             [
              0,
              "#0d0887"
             ],
             [
              0.1111111111111111,
              "#46039f"
             ],
             [
              0.2222222222222222,
              "#7201a8"
             ],
             [
              0.3333333333333333,
              "#9c179e"
             ],
             [
              0.4444444444444444,
              "#bd3786"
             ],
             [
              0.5555555555555556,
              "#d8576b"
             ],
             [
              0.6666666666666666,
              "#ed7953"
             ],
             [
              0.7777777777777778,
              "#fb9f3a"
             ],
             [
              0.8888888888888888,
              "#fdca26"
             ],
             [
              1,
              "#f0f921"
             ]
            ],
            "type": "surface"
           }
          ],
          "table": [
           {
            "cells": {
             "fill": {
              "color": "#EBF0F8"
             },
             "line": {
              "color": "white"
             }
            },
            "header": {
             "fill": {
              "color": "#C8D4E3"
             },
             "line": {
              "color": "white"
             }
            },
            "type": "table"
           }
          ]
         },
         "layout": {
          "annotationdefaults": {
           "arrowcolor": "#2a3f5f",
           "arrowhead": 0,
           "arrowwidth": 1
          },
          "autotypenumbers": "strict",
          "coloraxis": {
           "colorbar": {
            "outlinewidth": 0,
            "ticks": ""
           }
          },
          "colorscale": {
           "diverging": [
            [
             0,
             "#8e0152"
            ],
            [
             0.1,
             "#c51b7d"
            ],
            [
             0.2,
             "#de77ae"
            ],
            [
             0.3,
             "#f1b6da"
            ],
            [
             0.4,
             "#fde0ef"
            ],
            [
             0.5,
             "#f7f7f7"
            ],
            [
             0.6,
             "#e6f5d0"
            ],
            [
             0.7,
             "#b8e186"
            ],
            [
             0.8,
             "#7fbc41"
            ],
            [
             0.9,
             "#4d9221"
            ],
            [
             1,
             "#276419"
            ]
           ],
           "sequential": [
            [
             0,
             "#0d0887"
            ],
            [
             0.1111111111111111,
             "#46039f"
            ],
            [
             0.2222222222222222,
             "#7201a8"
            ],
            [
             0.3333333333333333,
             "#9c179e"
            ],
            [
             0.4444444444444444,
             "#bd3786"
            ],
            [
             0.5555555555555556,
             "#d8576b"
            ],
            [
             0.6666666666666666,
             "#ed7953"
            ],
            [
             0.7777777777777778,
             "#fb9f3a"
            ],
            [
             0.8888888888888888,
             "#fdca26"
            ],
            [
             1,
             "#f0f921"
            ]
           ],
           "sequentialminus": [
            [
             0,
             "#0d0887"
            ],
            [
             0.1111111111111111,
             "#46039f"
            ],
            [
             0.2222222222222222,
             "#7201a8"
            ],
            [
             0.3333333333333333,
             "#9c179e"
            ],
            [
             0.4444444444444444,
             "#bd3786"
            ],
            [
             0.5555555555555556,
             "#d8576b"
            ],
            [
             0.6666666666666666,
             "#ed7953"
            ],
            [
             0.7777777777777778,
             "#fb9f3a"
            ],
            [
             0.8888888888888888,
             "#fdca26"
            ],
            [
             1,
             "#f0f921"
            ]
           ]
          },
          "colorway": [
           "#636efa",
           "#EF553B",
           "#00cc96",
           "#ab63fa",
           "#FFA15A",
           "#19d3f3",
           "#FF6692",
           "#B6E880",
           "#FF97FF",
           "#FECB52"
          ],
          "font": {
           "color": "#2a3f5f"
          },
          "geo": {
           "bgcolor": "white",
           "lakecolor": "white",
           "landcolor": "#E5ECF6",
           "showlakes": true,
           "showland": true,
           "subunitcolor": "white"
          },
          "hoverlabel": {
           "align": "left"
          },
          "hovermode": "closest",
          "mapbox": {
           "style": "light"
          },
          "paper_bgcolor": "white",
          "plot_bgcolor": "#E5ECF6",
          "polar": {
           "angularaxis": {
            "gridcolor": "white",
            "linecolor": "white",
            "ticks": ""
           },
           "bgcolor": "#E5ECF6",
           "radialaxis": {
            "gridcolor": "white",
            "linecolor": "white",
            "ticks": ""
           }
          },
          "scene": {
           "xaxis": {
            "backgroundcolor": "#E5ECF6",
            "gridcolor": "white",
            "gridwidth": 2,
            "linecolor": "white",
            "showbackground": true,
            "ticks": "",
            "zerolinecolor": "white"
           },
           "yaxis": {
            "backgroundcolor": "#E5ECF6",
            "gridcolor": "white",
            "gridwidth": 2,
            "linecolor": "white",
            "showbackground": true,
            "ticks": "",
            "zerolinecolor": "white"
           },
           "zaxis": {
            "backgroundcolor": "#E5ECF6",
            "gridcolor": "white",
            "gridwidth": 2,
            "linecolor": "white",
            "showbackground": true,
            "ticks": "",
            "zerolinecolor": "white"
           }
          },
          "shapedefaults": {
           "line": {
            "color": "#2a3f5f"
           }
          },
          "ternary": {
           "aaxis": {
            "gridcolor": "white",
            "linecolor": "white",
            "ticks": ""
           },
           "baxis": {
            "gridcolor": "white",
            "linecolor": "white",
            "ticks": ""
           },
           "bgcolor": "#E5ECF6",
           "caxis": {
            "gridcolor": "white",
            "linecolor": "white",
            "ticks": ""
           }
          },
          "title": {
           "x": 0.05
          },
          "xaxis": {
           "automargin": true,
           "gridcolor": "white",
           "linecolor": "white",
           "ticks": "",
           "title": {
            "standoff": 15
           },
           "zerolinecolor": "white",
           "zerolinewidth": 2
          },
          "yaxis": {
           "automargin": true,
           "gridcolor": "white",
           "linecolor": "white",
           "ticks": "",
           "title": {
            "standoff": 15
           },
           "zerolinecolor": "white",
           "zerolinewidth": 2
          }
         }
        },
        "title": {
         "font": {
          "color": "#4D5663"
         },
         "text": "Global Temperature Anomalies"
        },
        "xaxis": {
         "gridcolor": "#E1E5ED",
         "showgrid": true,
         "tickfont": {
          "color": "#4D5663"
         },
         "title": {
          "font": {
           "color": "#4D5663"
          },
          "text": "Time (years)"
         },
         "zerolinecolor": "#E1E5ED"
        },
        "yaxis": {
         "gridcolor": "#E1E5ED",
         "showgrid": true,
         "tickfont": {
          "color": "#4D5663"
         },
         "title": {
          "font": {
           "color": "#4D5663"
          },
          "text": "Temperature Anomaly (°Celsius)"
         },
         "zerolinecolor": "#E1E5ED"
        }
       }
      },
      "text/html": [
       "<div>                            <div id=\"97f56d24-fd6d-4810-a336-0a56293abbf1\" class=\"plotly-graph-div\" style=\"height:525px; width:100%;\"></div>            <script type=\"text/javascript\">                require([\"plotly\"], function(Plotly) {                    window.PLOTLYENV=window.PLOTLYENV || {};\n",
       "                    window.PLOTLYENV.BASE_URL='https://plot.ly';                                    if (document.getElementById(\"97f56d24-fd6d-4810-a336-0a56293abbf1\")) {                    Plotly.newPlot(                        \"97f56d24-fd6d-4810-a336-0a56293abbf1\",                        [{\"line\":{\"color\":\"rgba(255, 153, 51, 1.0)\",\"dash\":\"solid\",\"shape\":\"linear\",\"width\":1.3},\"mode\":\"lines\",\"name\":\"Avg Anomaly (Celsius)\",\"text\":\"\",\"type\":\"scatter\",\"x\":[\"1880-12-31\",\"1881-12-31\",\"1882-12-31\",\"1883-12-31\",\"1884-12-31\",\"1885-12-31\",\"1886-12-31\",\"1887-12-31\",\"1888-12-31\",\"1889-12-31\",\"1890-12-31\",\"1891-12-31\",\"1892-12-31\",\"1893-12-31\",\"1894-12-31\",\"1895-12-31\",\"1896-12-31\",\"1897-12-31\",\"1898-12-31\",\"1899-12-31\",\"1900-12-31\",\"1901-12-31\",\"1902-12-31\",\"1903-12-31\",\"1904-12-31\",\"1905-12-31\",\"1906-12-31\",\"1907-12-31\",\"1908-12-31\",\"1909-12-31\",\"1910-12-31\",\"1911-12-31\",\"1912-12-31\",\"1913-12-31\",\"1914-12-31\",\"1915-12-31\",\"1916-12-31\",\"1917-12-31\",\"1918-12-31\",\"1919-12-31\",\"1920-12-31\",\"1921-12-31\",\"1922-12-31\",\"1923-12-31\",\"1924-12-31\",\"1925-12-31\",\"1926-12-31\",\"1927-12-31\",\"1928-12-31\",\"1929-12-31\",\"1930-12-31\",\"1931-12-31\",\"1932-12-31\",\"1933-12-31\",\"1934-12-31\",\"1935-12-31\",\"1936-12-31\",\"1937-12-31\",\"1938-12-31\",\"1939-12-31\",\"1940-12-31\",\"1941-12-31\",\"1942-12-31\",\"1943-12-31\",\"1944-12-31\",\"1945-12-31\",\"1946-12-31\",\"1947-12-31\",\"1948-12-31\",\"1949-12-31\",\"1950-12-31\",\"1951-12-31\",\"1952-12-31\",\"1953-12-31\",\"1954-12-31\",\"1955-12-31\",\"1956-12-31\",\"1957-12-31\",\"1958-12-31\",\"1959-12-31\",\"1960-12-31\",\"1961-12-31\",\"1962-12-31\",\"1963-12-31\",\"1964-12-31\",\"1965-12-31\",\"1966-12-31\",\"1967-12-31\",\"1968-12-31\",\"1969-12-31\",\"1970-12-31\",\"1971-12-31\",\"1972-12-31\",\"1973-12-31\",\"1974-12-31\",\"1975-12-31\",\"1976-12-31\",\"1977-12-31\",\"1978-12-31\",\"1979-12-31\",\"1980-12-31\",\"1981-12-31\",\"1982-12-31\",\"1983-12-31\",\"1984-12-31\",\"1985-12-31\",\"1986-12-31\",\"1987-12-31\",\"1988-12-31\",\"1989-12-31\",\"1990-12-31\",\"1991-12-31\",\"1992-12-31\",\"1993-12-31\",\"1994-12-31\",\"1995-12-31\",\"1996-12-31\",\"1997-12-31\",\"1998-12-31\",\"1999-12-31\",\"2000-12-31\",\"2001-12-31\",\"2002-12-31\",\"2003-12-31\",\"2004-12-31\",\"2005-12-31\",\"2006-12-31\",\"2007-12-31\",\"2008-12-31\",\"2009-12-31\",\"2010-12-31\",\"2011-12-31\",\"2012-12-31\",\"2013-12-31\",\"2014-12-31\",\"2015-12-31\",\"2016-12-31\",\"2017-12-31\",\"2018-12-31\",\"2019-12-31\"],\"y\":[-0.1875,-0.10083333333333334,-0.10999999999999999,-0.19166666666666668,-0.29416666666666663,-0.315,-0.3233333333333333,-0.3516666666666666,-0.1791666666666667,-0.10833333333333334,-0.37083333333333335,-0.23666666666666666,-0.26833333333333337,-0.32,-0.31500000000000006,-0.2275,-0.11750000000000001,-0.11916666666666664,-0.2816666666666667,-0.18250000000000002,-0.09166666666666667,-0.15666666666666668,-0.29750000000000004,-0.38916666666666666,-0.4941666666666667,-0.2891666666666667,-0.22500000000000006,-0.39666666666666667,-0.43583333333333335,-0.4749999999999999,-0.43249999999999994,-0.43333333333333335,-0.3575,-0.35666666666666674,-0.15666666666666668,-0.12666666666666668,-0.3333333333333333,-0.44083333333333335,-0.2883333333333333,-0.2741666666666667,-0.265,-0.18333333333333332,-0.2775,-0.2508333333333333,-0.2591666666666667,-0.20833333333333337,-0.09583333333333334,-0.20833333333333334,-0.19666666666666666,-0.3508333333333334,-0.1491666666666667,-0.10083333333333334,-0.165,-0.295,-0.13583333333333333,-0.2041666666666667,-0.1575,-0.035833333333333335,-0.030833333333333334,-0.02666666666666667,0.1175,0.18333333333333335,0.05499999999999999,0.07083333333333335,0.20833333333333334,0.08750000000000001,-0.06999999999999999,-0.03833333333333333,-0.1025,-0.10666666666666667,-0.18166666666666667,-0.06666666666666667,0.007499999999999999,0.06833333333333334,-0.1475,-0.14333333333333334,-0.205,0.0425,0.06916666666666667,0.02833333333333334,-0.02166666666666667,0.05583333333333334,0.03833333333333334,0.06916666666666667,-0.1975,-0.10583333333333335,-0.04916666666666667,-0.023333333333333334,-0.07666666666666667,0.0675,0.03166666666666666,-0.09083333333333334,0.013333333333333336,0.16166666666666665,-0.07916666666666668,-0.013333333333333334,-0.1075,0.1708333333333333,0.06416666666666668,0.15833333333333333,0.27083333333333337,0.33083333333333326,0.13249999999999998,0.315,0.1608333333333333,0.11833333333333335,0.18000000000000002,0.3325000000000001,0.4075,0.2891666666666666,0.44083333333333335,0.41416666666666657,0.2233333333333333,0.2383333333333334,0.30750000000000005,0.445,0.335,0.4683333333333333,0.6225,0.3966666666666667,0.39916666666666667,0.5291666666666667,0.6208333333333333,0.6050000000000001,0.5316666666666666,0.6666666666666666,0.6166666666666667,0.6375000000000001,0.5158333333333333,0.6316666666666667,0.6966666666666667,0.5824999999999999,0.6175,0.6466666666666668,0.7316666666666666,0.8658333333333332,0.9916666666666668,0.9025000000000002,0.8233333333333334,0.9150000000000001]}],                        {\"legend\":{\"bgcolor\":\"#F5F6F9\",\"font\":{\"color\":\"#4D5663\"}},\"paper_bgcolor\":\"#F5F6F9\",\"plot_bgcolor\":\"#F5F6F9\",\"template\":{\"data\":{\"bar\":[{\"error_x\":{\"color\":\"#2a3f5f\"},\"error_y\":{\"color\":\"#2a3f5f\"},\"marker\":{\"line\":{\"color\":\"#E5ECF6\",\"width\":0.5},\"pattern\":{\"fillmode\":\"overlay\",\"size\":10,\"solidity\":0.2}},\"type\":\"bar\"}],\"barpolar\":[{\"marker\":{\"line\":{\"color\":\"#E5ECF6\",\"width\":0.5},\"pattern\":{\"fillmode\":\"overlay\",\"size\":10,\"solidity\":0.2}},\"type\":\"barpolar\"}],\"carpet\":[{\"aaxis\":{\"endlinecolor\":\"#2a3f5f\",\"gridcolor\":\"white\",\"linecolor\":\"white\",\"minorgridcolor\":\"white\",\"startlinecolor\":\"#2a3f5f\"},\"baxis\":{\"endlinecolor\":\"#2a3f5f\",\"gridcolor\":\"white\",\"linecolor\":\"white\",\"minorgridcolor\":\"white\",\"startlinecolor\":\"#2a3f5f\"},\"type\":\"carpet\"}],\"choropleth\":[{\"colorbar\":{\"outlinewidth\":0,\"ticks\":\"\"},\"type\":\"choropleth\"}],\"contour\":[{\"colorbar\":{\"outlinewidth\":0,\"ticks\":\"\"},\"colorscale\":[[0.0,\"#0d0887\"],[0.1111111111111111,\"#46039f\"],[0.2222222222222222,\"#7201a8\"],[0.3333333333333333,\"#9c179e\"],[0.4444444444444444,\"#bd3786\"],[0.5555555555555556,\"#d8576b\"],[0.6666666666666666,\"#ed7953\"],[0.7777777777777778,\"#fb9f3a\"],[0.8888888888888888,\"#fdca26\"],[1.0,\"#f0f921\"]],\"type\":\"contour\"}],\"contourcarpet\":[{\"colorbar\":{\"outlinewidth\":0,\"ticks\":\"\"},\"type\":\"contourcarpet\"}],\"heatmap\":[{\"colorbar\":{\"outlinewidth\":0,\"ticks\":\"\"},\"colorscale\":[[0.0,\"#0d0887\"],[0.1111111111111111,\"#46039f\"],[0.2222222222222222,\"#7201a8\"],[0.3333333333333333,\"#9c179e\"],[0.4444444444444444,\"#bd3786\"],[0.5555555555555556,\"#d8576b\"],[0.6666666666666666,\"#ed7953\"],[0.7777777777777778,\"#fb9f3a\"],[0.8888888888888888,\"#fdca26\"],[1.0,\"#f0f921\"]],\"type\":\"heatmap\"}],\"heatmapgl\":[{\"colorbar\":{\"outlinewidth\":0,\"ticks\":\"\"},\"colorscale\":[[0.0,\"#0d0887\"],[0.1111111111111111,\"#46039f\"],[0.2222222222222222,\"#7201a8\"],[0.3333333333333333,\"#9c179e\"],[0.4444444444444444,\"#bd3786\"],[0.5555555555555556,\"#d8576b\"],[0.6666666666666666,\"#ed7953\"],[0.7777777777777778,\"#fb9f3a\"],[0.8888888888888888,\"#fdca26\"],[1.0,\"#f0f921\"]],\"type\":\"heatmapgl\"}],\"histogram\":[{\"marker\":{\"pattern\":{\"fillmode\":\"overlay\",\"size\":10,\"solidity\":0.2}},\"type\":\"histogram\"}],\"histogram2d\":[{\"colorbar\":{\"outlinewidth\":0,\"ticks\":\"\"},\"colorscale\":[[0.0,\"#0d0887\"],[0.1111111111111111,\"#46039f\"],[0.2222222222222222,\"#7201a8\"],[0.3333333333333333,\"#9c179e\"],[0.4444444444444444,\"#bd3786\"],[0.5555555555555556,\"#d8576b\"],[0.6666666666666666,\"#ed7953\"],[0.7777777777777778,\"#fb9f3a\"],[0.8888888888888888,\"#fdca26\"],[1.0,\"#f0f921\"]],\"type\":\"histogram2d\"}],\"histogram2dcontour\":[{\"colorbar\":{\"outlinewidth\":0,\"ticks\":\"\"},\"colorscale\":[[0.0,\"#0d0887\"],[0.1111111111111111,\"#46039f\"],[0.2222222222222222,\"#7201a8\"],[0.3333333333333333,\"#9c179e\"],[0.4444444444444444,\"#bd3786\"],[0.5555555555555556,\"#d8576b\"],[0.6666666666666666,\"#ed7953\"],[0.7777777777777778,\"#fb9f3a\"],[0.8888888888888888,\"#fdca26\"],[1.0,\"#f0f921\"]],\"type\":\"histogram2dcontour\"}],\"mesh3d\":[{\"colorbar\":{\"outlinewidth\":0,\"ticks\":\"\"},\"type\":\"mesh3d\"}],\"parcoords\":[{\"line\":{\"colorbar\":{\"outlinewidth\":0,\"ticks\":\"\"}},\"type\":\"parcoords\"}],\"pie\":[{\"automargin\":true,\"type\":\"pie\"}],\"scatter\":[{\"marker\":{\"colorbar\":{\"outlinewidth\":0,\"ticks\":\"\"}},\"type\":\"scatter\"}],\"scatter3d\":[{\"line\":{\"colorbar\":{\"outlinewidth\":0,\"ticks\":\"\"}},\"marker\":{\"colorbar\":{\"outlinewidth\":0,\"ticks\":\"\"}},\"type\":\"scatter3d\"}],\"scattercarpet\":[{\"marker\":{\"colorbar\":{\"outlinewidth\":0,\"ticks\":\"\"}},\"type\":\"scattercarpet\"}],\"scattergeo\":[{\"marker\":{\"colorbar\":{\"outlinewidth\":0,\"ticks\":\"\"}},\"type\":\"scattergeo\"}],\"scattergl\":[{\"marker\":{\"colorbar\":{\"outlinewidth\":0,\"ticks\":\"\"}},\"type\":\"scattergl\"}],\"scattermapbox\":[{\"marker\":{\"colorbar\":{\"outlinewidth\":0,\"ticks\":\"\"}},\"type\":\"scattermapbox\"}],\"scatterpolar\":[{\"marker\":{\"colorbar\":{\"outlinewidth\":0,\"ticks\":\"\"}},\"type\":\"scatterpolar\"}],\"scatterpolargl\":[{\"marker\":{\"colorbar\":{\"outlinewidth\":0,\"ticks\":\"\"}},\"type\":\"scatterpolargl\"}],\"scatterternary\":[{\"marker\":{\"colorbar\":{\"outlinewidth\":0,\"ticks\":\"\"}},\"type\":\"scatterternary\"}],\"surface\":[{\"colorbar\":{\"outlinewidth\":0,\"ticks\":\"\"},\"colorscale\":[[0.0,\"#0d0887\"],[0.1111111111111111,\"#46039f\"],[0.2222222222222222,\"#7201a8\"],[0.3333333333333333,\"#9c179e\"],[0.4444444444444444,\"#bd3786\"],[0.5555555555555556,\"#d8576b\"],[0.6666666666666666,\"#ed7953\"],[0.7777777777777778,\"#fb9f3a\"],[0.8888888888888888,\"#fdca26\"],[1.0,\"#f0f921\"]],\"type\":\"surface\"}],\"table\":[{\"cells\":{\"fill\":{\"color\":\"#EBF0F8\"},\"line\":{\"color\":\"white\"}},\"header\":{\"fill\":{\"color\":\"#C8D4E3\"},\"line\":{\"color\":\"white\"}},\"type\":\"table\"}]},\"layout\":{\"annotationdefaults\":{\"arrowcolor\":\"#2a3f5f\",\"arrowhead\":0,\"arrowwidth\":1},\"autotypenumbers\":\"strict\",\"coloraxis\":{\"colorbar\":{\"outlinewidth\":0,\"ticks\":\"\"}},\"colorscale\":{\"diverging\":[[0,\"#8e0152\"],[0.1,\"#c51b7d\"],[0.2,\"#de77ae\"],[0.3,\"#f1b6da\"],[0.4,\"#fde0ef\"],[0.5,\"#f7f7f7\"],[0.6,\"#e6f5d0\"],[0.7,\"#b8e186\"],[0.8,\"#7fbc41\"],[0.9,\"#4d9221\"],[1,\"#276419\"]],\"sequential\":[[0.0,\"#0d0887\"],[0.1111111111111111,\"#46039f\"],[0.2222222222222222,\"#7201a8\"],[0.3333333333333333,\"#9c179e\"],[0.4444444444444444,\"#bd3786\"],[0.5555555555555556,\"#d8576b\"],[0.6666666666666666,\"#ed7953\"],[0.7777777777777778,\"#fb9f3a\"],[0.8888888888888888,\"#fdca26\"],[1.0,\"#f0f921\"]],\"sequentialminus\":[[0.0,\"#0d0887\"],[0.1111111111111111,\"#46039f\"],[0.2222222222222222,\"#7201a8\"],[0.3333333333333333,\"#9c179e\"],[0.4444444444444444,\"#bd3786\"],[0.5555555555555556,\"#d8576b\"],[0.6666666666666666,\"#ed7953\"],[0.7777777777777778,\"#fb9f3a\"],[0.8888888888888888,\"#fdca26\"],[1.0,\"#f0f921\"]]},\"colorway\":[\"#636efa\",\"#EF553B\",\"#00cc96\",\"#ab63fa\",\"#FFA15A\",\"#19d3f3\",\"#FF6692\",\"#B6E880\",\"#FF97FF\",\"#FECB52\"],\"font\":{\"color\":\"#2a3f5f\"},\"geo\":{\"bgcolor\":\"white\",\"lakecolor\":\"white\",\"landcolor\":\"#E5ECF6\",\"showlakes\":true,\"showland\":true,\"subunitcolor\":\"white\"},\"hoverlabel\":{\"align\":\"left\"},\"hovermode\":\"closest\",\"mapbox\":{\"style\":\"light\"},\"paper_bgcolor\":\"white\",\"plot_bgcolor\":\"#E5ECF6\",\"polar\":{\"angularaxis\":{\"gridcolor\":\"white\",\"linecolor\":\"white\",\"ticks\":\"\"},\"bgcolor\":\"#E5ECF6\",\"radialaxis\":{\"gridcolor\":\"white\",\"linecolor\":\"white\",\"ticks\":\"\"}},\"scene\":{\"xaxis\":{\"backgroundcolor\":\"#E5ECF6\",\"gridcolor\":\"white\",\"gridwidth\":2,\"linecolor\":\"white\",\"showbackground\":true,\"ticks\":\"\",\"zerolinecolor\":\"white\"},\"yaxis\":{\"backgroundcolor\":\"#E5ECF6\",\"gridcolor\":\"white\",\"gridwidth\":2,\"linecolor\":\"white\",\"showbackground\":true,\"ticks\":\"\",\"zerolinecolor\":\"white\"},\"zaxis\":{\"backgroundcolor\":\"#E5ECF6\",\"gridcolor\":\"white\",\"gridwidth\":2,\"linecolor\":\"white\",\"showbackground\":true,\"ticks\":\"\",\"zerolinecolor\":\"white\"}},\"shapedefaults\":{\"line\":{\"color\":\"#2a3f5f\"}},\"ternary\":{\"aaxis\":{\"gridcolor\":\"white\",\"linecolor\":\"white\",\"ticks\":\"\"},\"baxis\":{\"gridcolor\":\"white\",\"linecolor\":\"white\",\"ticks\":\"\"},\"bgcolor\":\"#E5ECF6\",\"caxis\":{\"gridcolor\":\"white\",\"linecolor\":\"white\",\"ticks\":\"\"}},\"title\":{\"x\":0.05},\"xaxis\":{\"automargin\":true,\"gridcolor\":\"white\",\"linecolor\":\"white\",\"ticks\":\"\",\"title\":{\"standoff\":15},\"zerolinecolor\":\"white\",\"zerolinewidth\":2},\"yaxis\":{\"automargin\":true,\"gridcolor\":\"white\",\"linecolor\":\"white\",\"ticks\":\"\",\"title\":{\"standoff\":15},\"zerolinecolor\":\"white\",\"zerolinewidth\":2}}},\"title\":{\"font\":{\"color\":\"#4D5663\"},\"text\":\"Global Temperature Anomalies\"},\"xaxis\":{\"gridcolor\":\"#E1E5ED\",\"showgrid\":true,\"tickfont\":{\"color\":\"#4D5663\"},\"title\":{\"font\":{\"color\":\"#4D5663\"},\"text\":\"Time (years)\"},\"zerolinecolor\":\"#E1E5ED\"},\"yaxis\":{\"gridcolor\":\"#E1E5ED\",\"showgrid\":true,\"tickfont\":{\"color\":\"#4D5663\"},\"title\":{\"font\":{\"color\":\"#4D5663\"},\"text\":\"Temperature Anomaly (\\u00b0Celsius)\"},\"zerolinecolor\":\"#E1E5ED\"}},                        {\"showLink\": true, \"linkText\": \"Export to plot.ly\", \"plotlyServerURL\": \"https://plot.ly\", \"responsive\": true}                    ).then(function(){\n",
       "                            \n",
       "var gd = document.getElementById('97f56d24-fd6d-4810-a336-0a56293abbf1');\n",
       "var x = new MutationObserver(function (mutations, observer) {{\n",
       "        var display = window.getComputedStyle(gd).display;\n",
       "        if (!display || display === 'none') {{\n",
       "            console.log([gd, 'removed!']);\n",
       "            Plotly.purge(gd);\n",
       "            observer.disconnect();\n",
       "        }}\n",
       "}});\n",
       "\n",
       "// Listen for the removal of the full notebook cells\n",
       "var notebookContainer = gd.closest('#notebook-container');\n",
       "if (notebookContainer) {{\n",
       "    x.observe(notebookContainer, {childList: true});\n",
       "}}\n",
       "\n",
       "// Listen for the clearing of the current output cell\n",
       "var outputEl = gd.closest('.output');\n",
       "if (outputEl) {{\n",
       "    x.observe(outputEl, {childList: true});\n",
       "}}\n",
       "\n",
       "                        })                };                });            </script>        </div>"
      ]
     },
     "metadata": {},
     "output_type": "display_data"
    }
   ],
   "source": [
    "df_temp_resampled.iplot(kind=\"line\", xTitle=\"Time (years)\", yTitle=\"Temperature Anomaly (°Celsius)\", title=\"Global Temperature Anomalies\")"
   ]
  },
  {
   "cell_type": "markdown",
   "id": "986b9f2b",
   "metadata": {},
   "source": [
    "## Second Dataset<a id='Second Dataset'></a>"
   ]
  },
  {
   "cell_type": "code",
   "execution_count": 722,
   "id": "629eabf8",
   "metadata": {},
   "outputs": [],
   "source": [
    "# Filtering for \n",
    "CO_emissions = CO_emissions[(CO_emissions[\"country\"] == \"United States\") & ((CO_emissions[\"year\"] > 1957) & (CO_emissions[\"year\"] < 2014))]\n",
    "CO_emissions = CO_emissions.reset_index()\n",
    "CO_emissions.drop(columns=\"index\", inplace=True)"
   ]
  },
  {
   "cell_type": "code",
   "execution_count": 723,
   "id": "4399e330",
   "metadata": {},
   "outputs": [
    {
     "data": {
      "text/html": [
       "<div>\n",
       "<style scoped>\n",
       "    .dataframe tbody tr th:only-of-type {\n",
       "        vertical-align: middle;\n",
       "    }\n",
       "\n",
       "    .dataframe tbody tr th {\n",
       "        vertical-align: top;\n",
       "    }\n",
       "\n",
       "    .dataframe thead th {\n",
       "        text-align: right;\n",
       "    }\n",
       "</style>\n",
       "<table border=\"1\" class=\"dataframe\">\n",
       "  <thead>\n",
       "    <tr style=\"text-align: right;\">\n",
       "      <th></th>\n",
       "      <th>iso_code</th>\n",
       "      <th>country</th>\n",
       "      <th>year</th>\n",
       "      <th>co2</th>\n",
       "      <th>consumption_co2</th>\n",
       "      <th>co2_growth_prct</th>\n",
       "      <th>co2_growth_abs</th>\n",
       "      <th>trade_co2</th>\n",
       "      <th>co2_per_capita</th>\n",
       "      <th>consumption_co2_per_capita</th>\n",
       "      <th>...</th>\n",
       "      <th>ghg_per_capita</th>\n",
       "      <th>methane</th>\n",
       "      <th>methane_per_capita</th>\n",
       "      <th>nitrous_oxide</th>\n",
       "      <th>nitrous_oxide_per_capita</th>\n",
       "      <th>population</th>\n",
       "      <th>gdp</th>\n",
       "      <th>primary_energy_consumption</th>\n",
       "      <th>energy_per_capita</th>\n",
       "      <th>energy_per_gdp</th>\n",
       "    </tr>\n",
       "  </thead>\n",
       "  <tbody>\n",
       "    <tr>\n",
       "      <th>0</th>\n",
       "      <td>USA</td>\n",
       "      <td>United States</td>\n",
       "      <td>1958</td>\n",
       "      <td>2740.357</td>\n",
       "      <td>NaN</td>\n",
       "      <td>-3.11</td>\n",
       "      <td>-87.954</td>\n",
       "      <td>NaN</td>\n",
       "      <td>15.158</td>\n",
       "      <td>NaN</td>\n",
       "      <td>...</td>\n",
       "      <td>NaN</td>\n",
       "      <td>NaN</td>\n",
       "      <td>NaN</td>\n",
       "      <td>NaN</td>\n",
       "      <td>NaN</td>\n",
       "      <td>180788387.0</td>\n",
       "      <td>2.963550e+12</td>\n",
       "      <td>NaN</td>\n",
       "      <td>NaN</td>\n",
       "      <td>NaN</td>\n",
       "    </tr>\n",
       "    <tr>\n",
       "      <th>1</th>\n",
       "      <td>USA</td>\n",
       "      <td>United States</td>\n",
       "      <td>1959</td>\n",
       "      <td>2823.005</td>\n",
       "      <td>NaN</td>\n",
       "      <td>3.02</td>\n",
       "      <td>82.647</td>\n",
       "      <td>NaN</td>\n",
       "      <td>15.360</td>\n",
       "      <td>NaN</td>\n",
       "      <td>...</td>\n",
       "      <td>NaN</td>\n",
       "      <td>NaN</td>\n",
       "      <td>NaN</td>\n",
       "      <td>NaN</td>\n",
       "      <td>NaN</td>\n",
       "      <td>183786249.0</td>\n",
       "      <td>3.183157e+12</td>\n",
       "      <td>NaN</td>\n",
       "      <td>NaN</td>\n",
       "      <td>NaN</td>\n",
       "    </tr>\n",
       "    <tr>\n",
       "      <th>2</th>\n",
       "      <td>USA</td>\n",
       "      <td>United States</td>\n",
       "      <td>1960</td>\n",
       "      <td>2887.820</td>\n",
       "      <td>NaN</td>\n",
       "      <td>2.30</td>\n",
       "      <td>64.816</td>\n",
       "      <td>NaN</td>\n",
       "      <td>15.466</td>\n",
       "      <td>NaN</td>\n",
       "      <td>...</td>\n",
       "      <td>NaN</td>\n",
       "      <td>NaN</td>\n",
       "      <td>NaN</td>\n",
       "      <td>NaN</td>\n",
       "      <td>NaN</td>\n",
       "      <td>186720570.0</td>\n",
       "      <td>3.262376e+12</td>\n",
       "      <td>NaN</td>\n",
       "      <td>NaN</td>\n",
       "      <td>NaN</td>\n",
       "    </tr>\n",
       "    <tr>\n",
       "      <th>3</th>\n",
       "      <td>USA</td>\n",
       "      <td>United States</td>\n",
       "      <td>1961</td>\n",
       "      <td>2877.370</td>\n",
       "      <td>NaN</td>\n",
       "      <td>-0.36</td>\n",
       "      <td>-10.451</td>\n",
       "      <td>NaN</td>\n",
       "      <td>15.178</td>\n",
       "      <td>NaN</td>\n",
       "      <td>...</td>\n",
       "      <td>NaN</td>\n",
       "      <td>NaN</td>\n",
       "      <td>NaN</td>\n",
       "      <td>NaN</td>\n",
       "      <td>NaN</td>\n",
       "      <td>189569850.0</td>\n",
       "      <td>3.338584e+12</td>\n",
       "      <td>NaN</td>\n",
       "      <td>NaN</td>\n",
       "      <td>NaN</td>\n",
       "    </tr>\n",
       "    <tr>\n",
       "      <th>4</th>\n",
       "      <td>USA</td>\n",
       "      <td>United States</td>\n",
       "      <td>1962</td>\n",
       "      <td>2984.002</td>\n",
       "      <td>NaN</td>\n",
       "      <td>3.71</td>\n",
       "      <td>106.632</td>\n",
       "      <td>NaN</td>\n",
       "      <td>15.516</td>\n",
       "      <td>NaN</td>\n",
       "      <td>...</td>\n",
       "      <td>NaN</td>\n",
       "      <td>NaN</td>\n",
       "      <td>NaN</td>\n",
       "      <td>NaN</td>\n",
       "      <td>NaN</td>\n",
       "      <td>192313747.0</td>\n",
       "      <td>3.539745e+12</td>\n",
       "      <td>NaN</td>\n",
       "      <td>NaN</td>\n",
       "      <td>NaN</td>\n",
       "    </tr>\n",
       "  </tbody>\n",
       "</table>\n",
       "<p>5 rows × 58 columns</p>\n",
       "</div>"
      ],
      "text/plain": [
       "  iso_code        country  year       co2  consumption_co2  co2_growth_prct  \\\n",
       "0      USA  United States  1958  2740.357              NaN            -3.11   \n",
       "1      USA  United States  1959  2823.005              NaN             3.02   \n",
       "2      USA  United States  1960  2887.820              NaN             2.30   \n",
       "3      USA  United States  1961  2877.370              NaN            -0.36   \n",
       "4      USA  United States  1962  2984.002              NaN             3.71   \n",
       "\n",
       "   co2_growth_abs  trade_co2  co2_per_capita  consumption_co2_per_capita  ...  \\\n",
       "0         -87.954        NaN          15.158                         NaN  ...   \n",
       "1          82.647        NaN          15.360                         NaN  ...   \n",
       "2          64.816        NaN          15.466                         NaN  ...   \n",
       "3         -10.451        NaN          15.178                         NaN  ...   \n",
       "4         106.632        NaN          15.516                         NaN  ...   \n",
       "\n",
       "   ghg_per_capita  methane  methane_per_capita  nitrous_oxide  \\\n",
       "0             NaN      NaN                 NaN            NaN   \n",
       "1             NaN      NaN                 NaN            NaN   \n",
       "2             NaN      NaN                 NaN            NaN   \n",
       "3             NaN      NaN                 NaN            NaN   \n",
       "4             NaN      NaN                 NaN            NaN   \n",
       "\n",
       "   nitrous_oxide_per_capita   population           gdp  \\\n",
       "0                       NaN  180788387.0  2.963550e+12   \n",
       "1                       NaN  183786249.0  3.183157e+12   \n",
       "2                       NaN  186720570.0  3.262376e+12   \n",
       "3                       NaN  189569850.0  3.338584e+12   \n",
       "4                       NaN  192313747.0  3.539745e+12   \n",
       "\n",
       "   primary_energy_consumption  energy_per_capita  energy_per_gdp  \n",
       "0                         NaN                NaN             NaN  \n",
       "1                         NaN                NaN             NaN  \n",
       "2                         NaN                NaN             NaN  \n",
       "3                         NaN                NaN             NaN  \n",
       "4                         NaN                NaN             NaN  \n",
       "\n",
       "[5 rows x 58 columns]"
      ]
     },
     "execution_count": 723,
     "metadata": {},
     "output_type": "execute_result"
    }
   ],
   "source": [
    "CO_emissions.head()"
   ]
  },
  {
   "cell_type": "code",
   "execution_count": 724,
   "id": "b53b5639",
   "metadata": {},
   "outputs": [],
   "source": [
    "# Checking percentage of NaN values per column\n",
    "CO_emissions.isna().sum() * 100 / len(CO_emissions)\n",
    "\n",
    "# Copying columns with less than 50% NaN values\n",
    "add_columns = CO_emissions[[\"primary_energy_consumption\", \"energy_per_capita\", \"energy_per_gdp\"]]\n",
    "\n",
    "# Dropping and rejoining DFs\n",
    "CO_emissionsDropNA = CO_emissions.dropna(axis=1)\n",
    "CO_emissionsDropNA = CO_emissionsDropNA.join(add_columns)\n",
    "CO_emissions = CO_emissionsDropNA"
   ]
  },
  {
   "cell_type": "code",
   "execution_count": 725,
   "id": "2ab8c507",
   "metadata": {},
   "outputs": [
    {
     "name": "stdout",
     "output_type": "stream",
     "text": [
      "iso_code                               0\n",
      "country                                0\n",
      "year                                   0\n",
      "co2                                    0\n",
      "co2_growth_prct                        0\n",
      "co2_growth_abs                         0\n",
      "co2_per_capita                         0\n",
      "share_global_co2                       0\n",
      "cumulative_co2                         0\n",
      "share_global_cumulative_co2            0\n",
      "co2_per_gdp                            0\n",
      "coal_co2                               0\n",
      "cement_co2                             0\n",
      "flaring_co2                            0\n",
      "gas_co2                                0\n",
      "oil_co2                                0\n",
      "cement_co2_per_capita                  0\n",
      "coal_co2_per_capita                    0\n",
      "flaring_co2_per_capita                 0\n",
      "gas_co2_per_capita                     0\n",
      "oil_co2_per_capita                     0\n",
      "share_global_cement_co2                0\n",
      "share_global_coal_co2                  0\n",
      "share_global_flaring_co2               0\n",
      "share_global_gas_co2                   0\n",
      "share_global_oil_co2                   0\n",
      "cumulative_cement_co2                  0\n",
      "cumulative_coal_co2                    0\n",
      "cumulative_flaring_co2                 0\n",
      "cumulative_gas_co2                     0\n",
      "cumulative_oil_co2                     0\n",
      "share_global_cumulative_cement_co2     0\n",
      "share_global_cumulative_coal_co2       0\n",
      "share_global_cumulative_flaring_co2    0\n",
      "share_global_cumulative_gas_co2        0\n",
      "share_global_cumulative_oil_co2        0\n",
      "population                             0\n",
      "gdp                                    0\n",
      "primary_energy_consumption             7\n",
      "energy_per_capita                      7\n",
      "energy_per_gdp                         7\n",
      "dtype: int64\n"
     ]
    }
   ],
   "source": [
    "print(CO_emissions.isna().sum())"
   ]
  },
  {
   "cell_type": "code",
   "execution_count": 726,
   "id": "8745e6db",
   "metadata": {},
   "outputs": [],
   "source": [
    "columns=['iso_code', 'co2_growth_prct', 'co2_growth_abs', 'cumulative_co2', 'cumulative_cement_co2', 'cumulative_coal_co2', \n",
    "         'cumulative_flaring_co2', 'cumulative_gas_co2', 'cumulative_oil_co2', 'share_global_cumulative_co2', \n",
    "         'share_global_cumulative_cement_co2', 'share_global_cumulative_coal_co2', 'share_global_cumulative_flaring_co2', \n",
    "         'share_global_cumulative_gas_co2', 'share_global_cumulative_oil_co2', 'primary_energy_consumption', 'energy_per_capita', \n",
    "         'energy_per_gdp']"
   ]
  },
  {
   "cell_type": "code",
   "execution_count": 727,
   "id": "61c1e01c",
   "metadata": {},
   "outputs": [],
   "source": [
    "CO_emissions.drop(columns=columns, inplace=True)"
   ]
  },
  {
   "cell_type": "code",
   "execution_count": 728,
   "id": "5478920d",
   "metadata": {},
   "outputs": [
    {
     "name": "stdout",
     "output_type": "stream",
     "text": [
      "country                     0\n",
      "year                        0\n",
      "co2                         0\n",
      "co2_per_capita              0\n",
      "share_global_co2            0\n",
      "co2_per_gdp                 0\n",
      "coal_co2                    0\n",
      "cement_co2                  0\n",
      "flaring_co2                 0\n",
      "gas_co2                     0\n",
      "oil_co2                     0\n",
      "cement_co2_per_capita       0\n",
      "coal_co2_per_capita         0\n",
      "flaring_co2_per_capita      0\n",
      "gas_co2_per_capita          0\n",
      "oil_co2_per_capita          0\n",
      "share_global_cement_co2     0\n",
      "share_global_coal_co2       0\n",
      "share_global_flaring_co2    0\n",
      "share_global_gas_co2        0\n",
      "share_global_oil_co2        0\n",
      "population                  0\n",
      "gdp                         0\n",
      "dtype: int64\n"
     ]
    }
   ],
   "source": [
    "print(CO_emissions.isna().sum())"
   ]
  },
  {
   "cell_type": "code",
   "execution_count": 729,
   "id": "9853d3fe",
   "metadata": {},
   "outputs": [],
   "source": [
    "CO_emissions.fillna(method=\"bfill\", inplace=True)"
   ]
  },
  {
   "cell_type": "code",
   "execution_count": 730,
   "id": "80f1a4d1",
   "metadata": {},
   "outputs": [],
   "source": [
    "CO_emissions['year'] = pd.to_datetime(CO_emissions.year, format='%Y')\n",
    "CO_emissions.drop(columns='country', inplace=True)\n",
    "CO_emissions.set_index('year', inplace=True)"
   ]
  },
  {
   "cell_type": "code",
   "execution_count": 731,
   "id": "53cb7eca",
   "metadata": {},
   "outputs": [
    {
     "data": {
      "text/html": [
       "<div>\n",
       "<style scoped>\n",
       "    .dataframe tbody tr th:only-of-type {\n",
       "        vertical-align: middle;\n",
       "    }\n",
       "\n",
       "    .dataframe tbody tr th {\n",
       "        vertical-align: top;\n",
       "    }\n",
       "\n",
       "    .dataframe thead th {\n",
       "        text-align: right;\n",
       "    }\n",
       "</style>\n",
       "<table border=\"1\" class=\"dataframe\">\n",
       "  <thead>\n",
       "    <tr style=\"text-align: right;\">\n",
       "      <th></th>\n",
       "      <th>co2</th>\n",
       "      <th>co2_per_capita</th>\n",
       "      <th>share_global_co2</th>\n",
       "      <th>co2_per_gdp</th>\n",
       "      <th>coal_co2</th>\n",
       "      <th>cement_co2</th>\n",
       "      <th>flaring_co2</th>\n",
       "      <th>gas_co2</th>\n",
       "      <th>oil_co2</th>\n",
       "      <th>cement_co2_per_capita</th>\n",
       "      <th>...</th>\n",
       "      <th>flaring_co2_per_capita</th>\n",
       "      <th>gas_co2_per_capita</th>\n",
       "      <th>oil_co2_per_capita</th>\n",
       "      <th>share_global_cement_co2</th>\n",
       "      <th>share_global_coal_co2</th>\n",
       "      <th>share_global_flaring_co2</th>\n",
       "      <th>share_global_gas_co2</th>\n",
       "      <th>share_global_oil_co2</th>\n",
       "      <th>population</th>\n",
       "      <th>gdp</th>\n",
       "    </tr>\n",
       "    <tr>\n",
       "      <th>year</th>\n",
       "      <th></th>\n",
       "      <th></th>\n",
       "      <th></th>\n",
       "      <th></th>\n",
       "      <th></th>\n",
       "      <th></th>\n",
       "      <th></th>\n",
       "      <th></th>\n",
       "      <th></th>\n",
       "      <th></th>\n",
       "      <th></th>\n",
       "      <th></th>\n",
       "      <th></th>\n",
       "      <th></th>\n",
       "      <th></th>\n",
       "      <th></th>\n",
       "      <th></th>\n",
       "      <th></th>\n",
       "      <th></th>\n",
       "      <th></th>\n",
       "      <th></th>\n",
       "    </tr>\n",
       "  </thead>\n",
       "  <tbody>\n",
       "    <tr>\n",
       "      <th>1958-01-01</th>\n",
       "      <td>2740.357</td>\n",
       "      <td>15.158</td>\n",
       "      <td>32.58</td>\n",
       "      <td>0.925</td>\n",
       "      <td>888.344</td>\n",
       "      <td>27.169</td>\n",
       "      <td>34.097</td>\n",
       "      <td>570.701</td>\n",
       "      <td>1220.046</td>\n",
       "      <td>0.150</td>\n",
       "      <td>...</td>\n",
       "      <td>0.189</td>\n",
       "      <td>3.157</td>\n",
       "      <td>6.748</td>\n",
       "      <td>20.84</td>\n",
       "      <td>18.70</td>\n",
       "      <td>35.85</td>\n",
       "      <td>80.76</td>\n",
       "      <td>44.70</td>\n",
       "      <td>180788387.0</td>\n",
       "      <td>2.963550e+12</td>\n",
       "    </tr>\n",
       "    <tr>\n",
       "      <th>1959-01-01</th>\n",
       "      <td>2823.005</td>\n",
       "      <td>15.360</td>\n",
       "      <td>31.90</td>\n",
       "      <td>0.887</td>\n",
       "      <td>910.978</td>\n",
       "      <td>29.604</td>\n",
       "      <td>30.756</td>\n",
       "      <td>593.210</td>\n",
       "      <td>1258.457</td>\n",
       "      <td>0.161</td>\n",
       "      <td>...</td>\n",
       "      <td>0.167</td>\n",
       "      <td>3.228</td>\n",
       "      <td>6.847</td>\n",
       "      <td>20.28</td>\n",
       "      <td>18.43</td>\n",
       "      <td>33.54</td>\n",
       "      <td>78.13</td>\n",
       "      <td>43.28</td>\n",
       "      <td>183786249.0</td>\n",
       "      <td>3.183157e+12</td>\n",
       "    </tr>\n",
       "    <tr>\n",
       "      <th>1960-01-01</th>\n",
       "      <td>2887.820</td>\n",
       "      <td>15.466</td>\n",
       "      <td>30.94</td>\n",
       "      <td>0.885</td>\n",
       "      <td>917.964</td>\n",
       "      <td>27.885</td>\n",
       "      <td>30.316</td>\n",
       "      <td>630.025</td>\n",
       "      <td>1281.631</td>\n",
       "      <td>0.149</td>\n",
       "      <td>...</td>\n",
       "      <td>0.162</td>\n",
       "      <td>3.374</td>\n",
       "      <td>6.864</td>\n",
       "      <td>17.77</td>\n",
       "      <td>17.89</td>\n",
       "      <td>34.01</td>\n",
       "      <td>75.42</td>\n",
       "      <td>41.04</td>\n",
       "      <td>186720570.0</td>\n",
       "      <td>3.262376e+12</td>\n",
       "    </tr>\n",
       "    <tr>\n",
       "      <th>1961-01-01</th>\n",
       "      <td>2877.370</td>\n",
       "      <td>15.178</td>\n",
       "      <td>30.75</td>\n",
       "      <td>0.862</td>\n",
       "      <td>887.443</td>\n",
       "      <td>27.998</td>\n",
       "      <td>28.198</td>\n",
       "      <td>636.415</td>\n",
       "      <td>1297.316</td>\n",
       "      <td>0.148</td>\n",
       "      <td>...</td>\n",
       "      <td>0.149</td>\n",
       "      <td>3.357</td>\n",
       "      <td>6.844</td>\n",
       "      <td>16.92</td>\n",
       "      <td>18.05</td>\n",
       "      <td>32.71</td>\n",
       "      <td>72.09</td>\n",
       "      <td>39.24</td>\n",
       "      <td>189569850.0</td>\n",
       "      <td>3.338584e+12</td>\n",
       "    </tr>\n",
       "    <tr>\n",
       "      <th>1962-01-01</th>\n",
       "      <td>2984.002</td>\n",
       "      <td>15.516</td>\n",
       "      <td>30.80</td>\n",
       "      <td>0.843</td>\n",
       "      <td>920.818</td>\n",
       "      <td>29.147</td>\n",
       "      <td>22.922</td>\n",
       "      <td>676.367</td>\n",
       "      <td>1334.748</td>\n",
       "      <td>0.152</td>\n",
       "      <td>...</td>\n",
       "      <td>0.119</td>\n",
       "      <td>3.517</td>\n",
       "      <td>6.940</td>\n",
       "      <td>16.40</td>\n",
       "      <td>18.79</td>\n",
       "      <td>26.67</td>\n",
       "      <td>69.82</td>\n",
       "      <td>37.56</td>\n",
       "      <td>192313747.0</td>\n",
       "      <td>3.539745e+12</td>\n",
       "    </tr>\n",
       "  </tbody>\n",
       "</table>\n",
       "<p>5 rows × 21 columns</p>\n",
       "</div>"
      ],
      "text/plain": [
       "                 co2  co2_per_capita  share_global_co2  co2_per_gdp  coal_co2  \\\n",
       "year                                                                            \n",
       "1958-01-01  2740.357          15.158             32.58        0.925   888.344   \n",
       "1959-01-01  2823.005          15.360             31.90        0.887   910.978   \n",
       "1960-01-01  2887.820          15.466             30.94        0.885   917.964   \n",
       "1961-01-01  2877.370          15.178             30.75        0.862   887.443   \n",
       "1962-01-01  2984.002          15.516             30.80        0.843   920.818   \n",
       "\n",
       "            cement_co2  flaring_co2  gas_co2   oil_co2  cement_co2_per_capita  \\\n",
       "year                                                                            \n",
       "1958-01-01      27.169       34.097  570.701  1220.046                  0.150   \n",
       "1959-01-01      29.604       30.756  593.210  1258.457                  0.161   \n",
       "1960-01-01      27.885       30.316  630.025  1281.631                  0.149   \n",
       "1961-01-01      27.998       28.198  636.415  1297.316                  0.148   \n",
       "1962-01-01      29.147       22.922  676.367  1334.748                  0.152   \n",
       "\n",
       "            ...  flaring_co2_per_capita  gas_co2_per_capita  \\\n",
       "year        ...                                               \n",
       "1958-01-01  ...                   0.189               3.157   \n",
       "1959-01-01  ...                   0.167               3.228   \n",
       "1960-01-01  ...                   0.162               3.374   \n",
       "1961-01-01  ...                   0.149               3.357   \n",
       "1962-01-01  ...                   0.119               3.517   \n",
       "\n",
       "            oil_co2_per_capita  share_global_cement_co2  \\\n",
       "year                                                      \n",
       "1958-01-01               6.748                    20.84   \n",
       "1959-01-01               6.847                    20.28   \n",
       "1960-01-01               6.864                    17.77   \n",
       "1961-01-01               6.844                    16.92   \n",
       "1962-01-01               6.940                    16.40   \n",
       "\n",
       "            share_global_coal_co2  share_global_flaring_co2  \\\n",
       "year                                                          \n",
       "1958-01-01                  18.70                     35.85   \n",
       "1959-01-01                  18.43                     33.54   \n",
       "1960-01-01                  17.89                     34.01   \n",
       "1961-01-01                  18.05                     32.71   \n",
       "1962-01-01                  18.79                     26.67   \n",
       "\n",
       "            share_global_gas_co2  share_global_oil_co2   population  \\\n",
       "year                                                                  \n",
       "1958-01-01                 80.76                 44.70  180788387.0   \n",
       "1959-01-01                 78.13                 43.28  183786249.0   \n",
       "1960-01-01                 75.42                 41.04  186720570.0   \n",
       "1961-01-01                 72.09                 39.24  189569850.0   \n",
       "1962-01-01                 69.82                 37.56  192313747.0   \n",
       "\n",
       "                     gdp  \n",
       "year                      \n",
       "1958-01-01  2.963550e+12  \n",
       "1959-01-01  3.183157e+12  \n",
       "1960-01-01  3.262376e+12  \n",
       "1961-01-01  3.338584e+12  \n",
       "1962-01-01  3.539745e+12  \n",
       "\n",
       "[5 rows x 21 columns]"
      ]
     },
     "execution_count": 731,
     "metadata": {},
     "output_type": "execute_result"
    }
   ],
   "source": [
    "CO_emissions.head()"
   ]
  },
  {
   "cell_type": "code",
   "execution_count": 732,
   "id": "f968f070",
   "metadata": {
    "scrolled": false
   },
   "outputs": [
    {
     "data": {
      "text/plain": [
       "Text(0, 0.5, 'Carbon Emissions Per Capita')"
      ]
     },
     "execution_count": 732,
     "metadata": {},
     "output_type": "execute_result"
    },
    {
     "data": {
      "image/png": "[encoded data removed]",
      "text/plain": [
       "<Figure size 1080x720 with 1 Axes>"
      ]
     },
     "metadata": {
      "needs_background": "light"
     },
     "output_type": "display_data"
    }
   ],
   "source": [
    "df_emissions = pd.DataFrame(CO_emissions, columns=[\"coal_co2_per_capita\", \"cement_co2_per_capita\", \n",
    "                                                  \"flaring_co2_per_capita\", \"gas_co2_per_capita\",\n",
    "                                                  \"oil_co2_per_capita\"])\n",
    "df_emissions.plot(figsize=(15, 10))\n",
    "plt.xlabel(\"Time (Yearly)\")\n",
    "plt.ylabel(\"Carbon Emissions Per Capita\")"
   ]
  },
  {
   "cell_type": "code",
   "execution_count": 733,
   "id": "baeebc9b",
   "metadata": {},
   "outputs": [
    {
     "data": {
      "application/vnd.plotly.v1+json": {
       "config": {
        "linkText": "Export to plot.ly",
        "plotlyServerURL": "https://plot.ly",
        "showLink": true
       },
       "data": [
        {
         "line": {
          "color": "rgba(255, 153, 51, 1.0)",
          "dash": "solid",
          "shape": "linear",
          "width": 1.3
         },
         "mode": "lines",
         "name": "coal_co2_per_capita",
         "text": "",
         "type": "scatter",
         "x": [
          "1958-01-01",
          "1959-01-01",
          "1960-01-01",
          "1961-01-01",
          "1962-01-01",
          "1963-01-01",
          "1964-01-01",
          "1965-01-01",
          "1966-01-01",
          "1967-01-01",
          "1968-01-01",
          "1969-01-01",
          "1970-01-01",
          "1971-01-01",
          "1972-01-01",
          "1973-01-01",
          "1974-01-01",
          "1975-01-01",
          "1976-01-01",
          "1977-01-01",
          "1978-01-01",
          "1979-01-01",
          "1980-01-01",
          "1981-01-01",
          "1982-01-01",
          "1983-01-01",
          "1984-01-01",
          "1985-01-01",
          "1986-01-01",
          "1987-01-01",
          "1988-01-01",
          "1989-01-01",
          "1990-01-01",
          "1991-01-01",
          "1992-01-01",
          "1993-01-01",
          "1994-01-01",
          "1995-01-01",
          "1996-01-01",
          "1997-01-01",
          "1998-01-01",
          "1999-01-01",
          "2000-01-01",
          "2001-01-01",
          "2002-01-01",
          "2003-01-01",
          "2004-01-01",
          "2005-01-01",
          "2006-01-01",
          "2007-01-01",
          "2008-01-01",
          "2009-01-01",
          "2010-01-01",
          "2011-01-01",
          "2012-01-01",
          "2013-01-01"
         ],
         "y": [
          4.914,
          4.957,
          4.916,
          4.681,
          4.788,
          5.063,
          5.315,
          5.46,
          5.61,
          5.704,
          5.537,
          5.576,
          5.575,
          5.239,
          5.274,
          5.626,
          5.51,
          5.255,
          5.764,
          5.778,
          6.071,
          6.223,
          6.362,
          6.426,
          6.147,
          6.426,
          6.657,
          6.764,
          6.543,
          6.859,
          7.11,
          7.195,
          7.296,
          7.17,
          7.19,
          7.343,
          7.316,
          7.318,
          7.536,
          7.6,
          7.606,
          7.535,
          7.739,
          7.424,
          7.371,
          7.442,
          7.494,
          7.504,
          7.325,
          7.335,
          7.154,
          6.21,
          6.506,
          6.101,
          5.358,
          5.498
         ]
        },
        {
         "line": {
          "color": "rgba(55, 128, 191, 1.0)",
          "dash": "solid",
          "shape": "linear",
          "width": 1.3
         },
         "mode": "lines",
         "name": "cement_co2_per_capita",
         "text": "",
         "type": "scatter",
         "x": [
          "1958-01-01",
          "1959-01-01",
          "1960-01-01",
          "1961-01-01",
          "1962-01-01",
          "1963-01-01",
          "1964-01-01",
          "1965-01-01",
          "1966-01-01",
          "1967-01-01",
          "1968-01-01",
          "1969-01-01",
          "1970-01-01",
          "1971-01-01",
          "1972-01-01",
          "1973-01-01",
          "1974-01-01",
          "1975-01-01",
          "1976-01-01",
          "1977-01-01",
          "1978-01-01",
          "1979-01-01",
          "1980-01-01",
          "1981-01-01",
          "1982-01-01",
          "1983-01-01",
          "1984-01-01",
          "1985-01-01",
          "1986-01-01",
          "1987-01-01",
          "1988-01-01",
          "1989-01-01",
          "1990-01-01",
          "1991-01-01",
          "1992-01-01",
          "1993-01-01",
          "1994-01-01",
          "1995-01-01",
          "1996-01-01",
          "1997-01-01",
          "1998-01-01",
          "1999-01-01",
          "2000-01-01",
          "2001-01-01",
          "2002-01-01",
          "2003-01-01",
          "2004-01-01",
          "2005-01-01",
          "2006-01-01",
          "2007-01-01",
          "2008-01-01",
          "2009-01-01",
          "2010-01-01",
          "2011-01-01",
          "2012-01-01",
          "2013-01-01"
         ],
         "y": [
          0.15,
          0.161,
          0.149,
          0.148,
          0.152,
          0.157,
          0.163,
          0.166,
          0.17,
          0.164,
          0.171,
          0.171,
          0.162,
          0.163,
          0.166,
          0.166,
          0.164,
          0.135,
          0.143,
          0.148,
          0.154,
          0.154,
          0.14,
          0.135,
          0.119,
          0.126,
          0.136,
          0.129,
          0.133,
          0.132,
          0.131,
          0.13,
          0.133,
          0.129,
          0.128,
          0.134,
          0.138,
          0.14,
          0.139,
          0.142,
          0.143,
          0.144,
          0.147,
          0.146,
          0.15,
          0.15,
          0.157,
          0.157,
          0.157,
          0.151,
          0.136,
          0.097,
          0.102,
          0.103,
          0.112,
          0.115
         ]
        },
        {
         "line": {
          "color": "rgba(50, 171, 96, 1.0)",
          "dash": "solid",
          "shape": "linear",
          "width": 1.3
         },
         "mode": "lines",
         "name": "flaring_co2_per_capita",
         "text": "",
         "type": "scatter",
         "x": [
          "1958-01-01",
          "1959-01-01",
          "1960-01-01",
          "1961-01-01",
          "1962-01-01",
          "1963-01-01",
          "1964-01-01",
          "1965-01-01",
          "1966-01-01",
          "1967-01-01",
          "1968-01-01",
          "1969-01-01",
          "1970-01-01",
          "1971-01-01",
          "1972-01-01",
          "1973-01-01",
          "1974-01-01",
          "1975-01-01",
          "1976-01-01",
          "1977-01-01",
          "1978-01-01",
          "1979-01-01",
          "1980-01-01",
          "1981-01-01",
          "1982-01-01",
          "1983-01-01",
          "1984-01-01",
          "1985-01-01",
          "1986-01-01",
          "1987-01-01",
          "1988-01-01",
          "1989-01-01",
          "1990-01-01",
          "1991-01-01",
          "1992-01-01",
          "1993-01-01",
          "1994-01-01",
          "1995-01-01",
          "1996-01-01",
          "1997-01-01",
          "1998-01-01",
          "1999-01-01",
          "2000-01-01",
          "2001-01-01",
          "2002-01-01",
          "2003-01-01",
          "2004-01-01",
          "2005-01-01",
          "2006-01-01",
          "2007-01-01",
          "2008-01-01",
          "2009-01-01",
          "2010-01-01",
          "2011-01-01",
          "2012-01-01",
          "2013-01-01"
         ],
         "y": [
          0.189,
          0.167,
          0.162,
          0.149,
          0.119,
          0.106,
          0.093,
          0.086,
          0.1,
          0.129,
          0.135,
          0.136,
          0.125,
          0.072,
          0.062,
          0.061,
          0.041,
          0.032,
          0.033,
          0.032,
          0.036,
          0.039,
          0.029,
          0.023,
          0.021,
          0.022,
          0.024,
          0.021,
          0.022,
          0.027,
          0.031,
          0.03,
          0.166,
          0.162,
          0.16,
          0.158,
          0.156,
          0.149,
          0.142,
          0.141,
          0.131,
          0.129,
          0.129,
          0.127,
          0.128,
          0.126,
          0.127,
          0.127,
          0.128,
          0.128,
          0.132,
          0.128,
          0.135,
          0.148,
          0.157,
          0.174
         ]
        },
        {
         "line": {
          "color": "rgba(128, 0, 128, 1.0)",
          "dash": "solid",
          "shape": "linear",
          "width": 1.3
         },
         "mode": "lines",
         "name": "gas_co2_per_capita",
         "text": "",
         "type": "scatter",
         "x": [
          "1958-01-01",
          "1959-01-01",
          "1960-01-01",
          "1961-01-01",
          "1962-01-01",
          "1963-01-01",
          "1964-01-01",
          "1965-01-01",
          "1966-01-01",
          "1967-01-01",
          "1968-01-01",
          "1969-01-01",
          "1970-01-01",
          "1971-01-01",
          "1972-01-01",
          "1973-01-01",
          "1974-01-01",
          "1975-01-01",
          "1976-01-01",
          "1977-01-01",
          "1978-01-01",
          "1979-01-01",
          "1980-01-01",
          "1981-01-01",
          "1982-01-01",
          "1983-01-01",
          "1984-01-01",
          "1985-01-01",
          "1986-01-01",
          "1987-01-01",
          "1988-01-01",
          "1989-01-01",
          "1990-01-01",
          "1991-01-01",
          "1992-01-01",
          "1993-01-01",
          "1994-01-01",
          "1995-01-01",
          "1996-01-01",
          "1997-01-01",
          "1998-01-01",
          "1999-01-01",
          "2000-01-01",
          "2001-01-01",
          "2002-01-01",
          "2003-01-01",
          "2004-01-01",
          "2005-01-01",
          "2006-01-01",
          "2007-01-01",
          "2008-01-01",
          "2009-01-01",
          "2010-01-01",
          "2011-01-01",
          "2012-01-01",
          "2013-01-01"
         ],
         "y": [
          3.157,
          3.228,
          3.374,
          3.357,
          3.517,
          3.686,
          3.845,
          3.918,
          4.172,
          4.322,
          4.55,
          4.903,
          5.056,
          5.189,
          5.231,
          5.128,
          4.846,
          4.465,
          4.498,
          4.315,
          4.352,
          4.465,
          4.363,
          4.187,
          3.861,
          3.633,
          3.72,
          3.576,
          3.364,
          3.53,
          3.665,
          3.758,
          4.096,
          4.149,
          4.243,
          4.308,
          4.366,
          4.502,
          4.525,
          4.499,
          4.362,
          4.321,
          4.463,
          4.231,
          4.331,
          4.177,
          4.163,
          4.064,
          3.971,
          4.184,
          4.177,
          4.073,
          4.235,
          4.26,
          4.42,
          4.512
         ]
        },
        {
         "line": {
          "color": "rgba(219, 64, 82, 1.0)",
          "dash": "solid",
          "shape": "linear",
          "width": 1.3
         },
         "mode": "lines",
         "name": "oil_co2_per_capita",
         "text": "",
         "type": "scatter",
         "x": [
          "1958-01-01",
          "1959-01-01",
          "1960-01-01",
          "1961-01-01",
          "1962-01-01",
          "1963-01-01",
          "1964-01-01",
          "1965-01-01",
          "1966-01-01",
          "1967-01-01",
          "1968-01-01",
          "1969-01-01",
          "1970-01-01",
          "1971-01-01",
          "1972-01-01",
          "1973-01-01",
          "1974-01-01",
          "1975-01-01",
          "1976-01-01",
          "1977-01-01",
          "1978-01-01",
          "1979-01-01",
          "1980-01-01",
          "1981-01-01",
          "1982-01-01",
          "1983-01-01",
          "1984-01-01",
          "1985-01-01",
          "1986-01-01",
          "1987-01-01",
          "1988-01-01",
          "1989-01-01",
          "1990-01-01",
          "1991-01-01",
          "1992-01-01",
          "1993-01-01",
          "1994-01-01",
          "1995-01-01",
          "1996-01-01",
          "1997-01-01",
          "1998-01-01",
          "1999-01-01",
          "2000-01-01",
          "2001-01-01",
          "2002-01-01",
          "2003-01-01",
          "2004-01-01",
          "2005-01-01",
          "2006-01-01",
          "2007-01-01",
          "2008-01-01",
          "2009-01-01",
          "2010-01-01",
          "2011-01-01",
          "2012-01-01",
          "2013-01-01"
         ],
         "y": [
          6.748,
          6.847,
          6.864,
          6.844,
          6.94,
          6.973,
          7.061,
          7.333,
          7.576,
          7.794,
          8.209,
          8.58,
          9.728,
          9.922,
          10.64,
          11.151,
          10.593,
          10.2,
          10.401,
          10.947,
          11.067,
          10.646,
          9.66,
          8.788,
          8.25,
          8.163,
          8.217,
          8.156,
          8.424,
          8.554,
          8.812,
          8.7,
          8.554,
          8.251,
          8.354,
          8.326,
          8.435,
          8.299,
          8.521,
          8.506,
          8.552,
          8.697,
          8.72,
          8.713,
          8.614,
          8.692,
          8.858,
          8.838,
          8.64,
          8.49,
          7.85,
          7.338,
          7.363,
          7.155,
          6.949,
          7.032
         ]
        }
       ],
       "layout": {
        "legend": {
         "bgcolor": "#F5F6F9",
         "font": {
          "color": "#4D5663"
         }
        },
        "paper_bgcolor": "#F5F6F9",
        "plot_bgcolor": "#F5F6F9",
        "template": {
         "data": {
          "bar": [
           {
            "error_x": {
             "color": "#2a3f5f"
            },
            "error_y": {
             "color": "#2a3f5f"
            },
            "marker": {
             "line": {
              "color": "#E5ECF6",
              "width": 0.5
             },
             "pattern": {
              "fillmode": "overlay",
              "size": 10,
              "solidity": 0.2
             }
            },
            "type": "bar"
           }
          ],
          "barpolar": [
           {
            "marker": {
             "line": {
              "color": "#E5ECF6",
              "width": 0.5
             },
             "pattern": {
              "fillmode": "overlay",
              "size": 10,
              "solidity": 0.2
             }
            },
            "type": "barpolar"
           }
          ],
          "carpet": [
           {
            "aaxis": {
             "endlinecolor": "#2a3f5f",
             "gridcolor": "white",
             "linecolor": "white",
             "minorgridcolor": "white",
             "startlinecolor": "#2a3f5f"
            },
            "baxis": {
             "endlinecolor": "#2a3f5f",
             "gridcolor": "white",
             "linecolor": "white",
             "minorgridcolor": "white",
             "startlinecolor": "#2a3f5f"
            },
            "type": "carpet"
           }
          ],
          "choropleth": [
           {
            "colorbar": {
             "outlinewidth": 0,
             "ticks": ""
            },
            "type": "choropleth"
           }
          ],
          "contour": [
           {
            "colorbar": {
             "outlinewidth": 0,
             "ticks": ""
            },
            "colorscale": [
             [
              0,
              "#0d0887"
             ],
             [
              0.1111111111111111,
              "#46039f"
             ],
             [
              0.2222222222222222,
              "#7201a8"
             ],
             [
              0.3333333333333333,
              "#9c179e"
             ],
             [
              0.4444444444444444,
              "#bd3786"
             ],
             [
              0.5555555555555556,
              "#d8576b"
             ],
             [
              0.6666666666666666,
              "#ed7953"
             ],
             [
              0.7777777777777778,
              "#fb9f3a"
             ],
             [
              0.8888888888888888,
              "#fdca26"
             ],
             [
              1,
              "#f0f921"
             ]
            ],
            "type": "contour"
           }
          ],
          "contourcarpet": [
           {
            "colorbar": {
             "outlinewidth": 0,
             "ticks": ""
            },
            "type": "contourcarpet"
           }
          ],
          "heatmap": [
           {
            "colorbar": {
             "outlinewidth": 0,
             "ticks": ""
            },
            "colorscale": [
             [
              0,
              "#0d0887"
             ],
             [
              0.1111111111111111,
              "#46039f"
             ],
             [
              0.2222222222222222,
              "#7201a8"
             ],
             [
              0.3333333333333333,
              "#9c179e"
             ],
             [
              0.4444444444444444,
              "#bd3786"
             ],
             [
              0.5555555555555556,
              "#d8576b"
             ],
             [
              0.6666666666666666,
              "#ed7953"
             ],
             [
              0.7777777777777778,
              "#fb9f3a"
             ],
             [
              0.8888888888888888,
              "#fdca26"
             ],
             [
              1,
              "#f0f921"
             ]
            ],
            "type": "heatmap"
           }
          ],
          "heatmapgl": [
           {
            "colorbar": {
             "outlinewidth": 0,
             "ticks": ""
            },
            "colorscale": [
             [
              0,
              "#0d0887"
             ],
             [
              0.1111111111111111,
              "#46039f"
             ],
             [
              0.2222222222222222,
              "#7201a8"
             ],
             [
              0.3333333333333333,
              "#9c179e"
             ],
             [
              0.4444444444444444,
              "#bd3786"
             ],
             [
              0.5555555555555556,
              "#d8576b"
             ],
             [
              0.6666666666666666,
              "#ed7953"
             ],
             [
              0.7777777777777778,
              "#fb9f3a"
             ],
             [
              0.8888888888888888,
              "#fdca26"
             ],
             [
              1,
              "#f0f921"
             ]
            ],
            "type": "heatmapgl"
           }
          ],
          "histogram": [
           {
            "marker": {
             "pattern": {
              "fillmode": "overlay",
              "size": 10,
              "solidity": 0.2
             }
            },
            "type": "histogram"
           }
          ],
          "histogram2d": [
           {
            "colorbar": {
             "outlinewidth": 0,
             "ticks": ""
            },
            "colorscale": [
             [
              0,
              "#0d0887"
             ],
             [
              0.1111111111111111,
              "#46039f"
             ],
             [
              0.2222222222222222,
              "#7201a8"
             ],
             [
              0.3333333333333333,
              "#9c179e"
             ],
             [
              0.4444444444444444,
              "#bd3786"
             ],
             [
              0.5555555555555556,
              "#d8576b"
             ],
             [
              0.6666666666666666,
              "#ed7953"
             ],
             [
              0.7777777777777778,
              "#fb9f3a"
             ],
             [
              0.8888888888888888,
              "#fdca26"
             ],
             [
              1,
              "#f0f921"
             ]
            ],
            "type": "histogram2d"
           }
          ],
          "histogram2dcontour": [
           {
            "colorbar": {
             "outlinewidth": 0,
             "ticks": ""
            },
            "colorscale": [
             [
              0,
              "#0d0887"
             ],
             [
              0.1111111111111111,
              "#46039f"
             ],
             [
              0.2222222222222222,
              "#7201a8"
             ],
             [
              0.3333333333333333,
              "#9c179e"
             ],
             [
              0.4444444444444444,
              "#bd3786"
             ],
             [
              0.5555555555555556,
              "#d8576b"
             ],
             [
              0.6666666666666666,
              "#ed7953"
             ],
             [
              0.7777777777777778,
              "#fb9f3a"
             ],
             [
              0.8888888888888888,
              "#fdca26"
             ],
             [
              1,
              "#f0f921"
             ]
            ],
            "type": "histogram2dcontour"
           }
          ],
          "mesh3d": [
           {
            "colorbar": {
             "outlinewidth": 0,
             "ticks": ""
            },
            "type": "mesh3d"
           }
          ],
          "parcoords": [
           {
            "line": {
             "colorbar": {
              "outlinewidth": 0,
              "ticks": ""
             }
            },
            "type": "parcoords"
           }
          ],
          "pie": [
           {
            "automargin": true,
            "type": "pie"
           }
          ],
          "scatter": [
           {
            "marker": {
             "colorbar": {
              "outlinewidth": 0,
              "ticks": ""
             }
            },
            "type": "scatter"
           }
          ],
          "scatter3d": [
           {
            "line": {
             "colorbar": {
              "outlinewidth": 0,
              "ticks": ""
             }
            },
            "marker": {
             "colorbar": {
              "outlinewidth": 0,
              "ticks": ""
             }
            },
            "type": "scatter3d"
           }
          ],
          "scattercarpet": [
           {
            "marker": {
             "colorbar": {
              "outlinewidth": 0,
              "ticks": ""
             }
            },
            "type": "scattercarpet"
           }
          ],
          "scattergeo": [
           {
            "marker": {
             "colorbar": {
              "outlinewidth": 0,
              "ticks": ""
             }
            },
            "type": "scattergeo"
           }
          ],
          "scattergl": [
           {
            "marker": {
             "colorbar": {
              "outlinewidth": 0,
              "ticks": ""
             }
            },
            "type": "scattergl"
           }
          ],
          "scattermapbox": [
           {
            "marker": {
             "colorbar": {
              "outlinewidth": 0,
              "ticks": ""
             }
            },
            "type": "scattermapbox"
           }
          ],
          "scatterpolar": [
           {
            "marker": {
             "colorbar": {
              "outlinewidth": 0,
              "ticks": ""
             }
            },
            "type": "scatterpolar"
           }
          ],
          "scatterpolargl": [
           {
            "marker": {
             "colorbar": {
              "outlinewidth": 0,
              "ticks": ""
             }
            },
            "type": "scatterpolargl"
           }
          ],
          "scatterternary": [
           {
            "marker": {
             "colorbar": {
              "outlinewidth": 0,
              "ticks": ""
             }
            },
            "type": "scatterternary"
           }
          ],
          "surface": [
           {
            "colorbar": {
             "outlinewidth": 0,
             "ticks": ""
            },
            "colorscale": [
             [
              0,
              "#0d0887"
             ],
             [
              0.1111111111111111,
              "#46039f"
             ],
             [
              0.2222222222222222,
              "#7201a8"
             ],
             [
              0.3333333333333333,
              "#9c179e"
             ],
             [
              0.4444444444444444,
              "#bd3786"
             ],
             [
              0.5555555555555556,
              "#d8576b"
             ],
             [
              0.6666666666666666,
              "#ed7953"
             ],
             [
              0.7777777777777778,
              "#fb9f3a"
             ],
             [
              0.8888888888888888,
              "#fdca26"
             ],
             [
              1,
              "#f0f921"
             ]
            ],
            "type": "surface"
           }
          ],
          "table": [
           {
            "cells": {
             "fill": {
              "color": "#EBF0F8"
             },
             "line": {
              "color": "white"
             }
            },
            "header": {
             "fill": {
              "color": "#C8D4E3"
             },
             "line": {
              "color": "white"
             }
            },
            "type": "table"
           }
          ]
         },
         "layout": {
          "annotationdefaults": {
           "arrowcolor": "#2a3f5f",
           "arrowhead": 0,
           "arrowwidth": 1
          },
          "autotypenumbers": "strict",
          "coloraxis": {
           "colorbar": {
            "outlinewidth": 0,
            "ticks": ""
           }
          },
          "colorscale": {
           "diverging": [
            [
             0,
             "#8e0152"
            ],
            [
             0.1,
             "#c51b7d"
            ],
            [
             0.2,
             "#de77ae"
            ],
            [
             0.3,
             "#f1b6da"
            ],
            [
             0.4,
             "#fde0ef"
            ],
            [
             0.5,
             "#f7f7f7"
            ],
            [
             0.6,
             "#e6f5d0"
            ],
            [
             0.7,
             "#b8e186"
            ],
            [
             0.8,
             "#7fbc41"
            ],
            [
             0.9,
             "#4d9221"
            ],
            [
             1,
             "#276419"
            ]
           ],
           "sequential": [
            [
             0,
             "#0d0887"
            ],
            [
             0.1111111111111111,
             "#46039f"
            ],
            [
             0.2222222222222222,
             "#7201a8"
            ],
            [
             0.3333333333333333,
             "#9c179e"
            ],
            [
             0.4444444444444444,
             "#bd3786"
            ],
            [
             0.5555555555555556,
             "#d8576b"
            ],
            [
             0.6666666666666666,
             "#ed7953"
            ],
            [
             0.7777777777777778,
             "#fb9f3a"
            ],
            [
             0.8888888888888888,
             "#fdca26"
            ],
            [
             1,
             "#f0f921"
            ]
           ],
           "sequentialminus": [
            [
             0,
             "#0d0887"
            ],
            [
             0.1111111111111111,
             "#46039f"
            ],
            [
             0.2222222222222222,
             "#7201a8"
            ],
            [
             0.3333333333333333,
             "#9c179e"
            ],
            [
             0.4444444444444444,
             "#bd3786"
            ],
            [
             0.5555555555555556,
             "#d8576b"
            ],
            [
             0.6666666666666666,
             "#ed7953"
            ],
            [
             0.7777777777777778,
             "#fb9f3a"
            ],
            [
             0.8888888888888888,
             "#fdca26"
            ],
            [
             1,
             "#f0f921"
            ]
           ]
          },
          "colorway": [
           "#636efa",
           "#EF553B",
           "#00cc96",
           "#ab63fa",
           "#FFA15A",
           "#19d3f3",
           "#FF6692",
           "#B6E880",
           "#FF97FF",
           "#FECB52"
          ],
          "font": {
           "color": "#2a3f5f"
          },
          "geo": {
           "bgcolor": "white",
           "lakecolor": "white",
           "landcolor": "#E5ECF6",
           "showlakes": true,
           "showland": true,
           "subunitcolor": "white"
          },
          "hoverlabel": {
           "align": "left"
          },
          "hovermode": "closest",
          "mapbox": {
           "style": "light"
          },
          "paper_bgcolor": "white",
          "plot_bgcolor": "#E5ECF6",
          "polar": {
           "angularaxis": {
            "gridcolor": "white",
            "linecolor": "white",
            "ticks": ""
           },
           "bgcolor": "#E5ECF6",
           "radialaxis": {
            "gridcolor": "white",
            "linecolor": "white",
            "ticks": ""
           }
          },
          "scene": {
           "xaxis": {
            "backgroundcolor": "#E5ECF6",
            "gridcolor": "white",
            "gridwidth": 2,
            "linecolor": "white",
            "showbackground": true,
            "ticks": "",
            "zerolinecolor": "white"
           },
           "yaxis": {
            "backgroundcolor": "#E5ECF6",
            "gridcolor": "white",
            "gridwidth": 2,
            "linecolor": "white",
            "showbackground": true,
            "ticks": "",
            "zerolinecolor": "white"
           },
           "zaxis": {
            "backgroundcolor": "#E5ECF6",
            "gridcolor": "white",
            "gridwidth": 2,
            "linecolor": "white",
            "showbackground": true,
            "ticks": "",
            "zerolinecolor": "white"
           }
          },
          "shapedefaults": {
           "line": {
            "color": "#2a3f5f"
           }
          },
          "ternary": {
           "aaxis": {
            "gridcolor": "white",
            "linecolor": "white",
            "ticks": ""
           },
           "baxis": {
            "gridcolor": "white",
            "linecolor": "white",
            "ticks": ""
           },
           "bgcolor": "#E5ECF6",
           "caxis": {
            "gridcolor": "white",
            "linecolor": "white",
            "ticks": ""
           }
          },
          "title": {
           "x": 0.05
          },
          "xaxis": {
           "automargin": true,
           "gridcolor": "white",
           "linecolor": "white",
           "ticks": "",
           "title": {
            "standoff": 15
           },
           "zerolinecolor": "white",
           "zerolinewidth": 2
          },
          "yaxis": {
           "automargin": true,
           "gridcolor": "white",
           "linecolor": "white",
           "ticks": "",
           "title": {
            "standoff": 15
           },
           "zerolinecolor": "white",
           "zerolinewidth": 2
          }
         }
        },
        "title": {
         "font": {
          "color": "#4D5663"
         },
         "text": "Global CO2 Emissions over Time"
        },
        "xaxis": {
         "gridcolor": "#E1E5ED",
         "showgrid": true,
         "tickfont": {
          "color": "#4D5663"
         },
         "title": {
          "font": {
           "color": "#4D5663"
          },
          "text": "Time (years)"
         },
         "zerolinecolor": "#E1E5ED"
        },
        "yaxis": {
         "gridcolor": "#E1E5ED",
         "showgrid": true,
         "tickfont": {
          "color": "#4D5663"
         },
         "title": {
          "font": {
           "color": "#4D5663"
          },
          "text": "Emissions (Metric Tons per Capita)"
         },
         "zerolinecolor": "#E1E5ED"
        }
       }
      },
      "text/html": [
       "<div>                            <div id=\"29a44d12-070d-4cd9-8bca-46fa5692aeb6\" class=\"plotly-graph-div\" style=\"height:525px; width:100%;\"></div>            <script type=\"text/javascript\">                require([\"plotly\"], function(Plotly) {                    window.PLOTLYENV=window.PLOTLYENV || {};\n",
       "                    window.PLOTLYENV.BASE_URL='https://plot.ly';                                    if (document.getElementById(\"29a44d12-070d-4cd9-8bca-46fa5692aeb6\")) {                    Plotly.newPlot(                        \"29a44d12-070d-4cd9-8bca-46fa5692aeb6\",                        [{\"line\":{\"color\":\"rgba(255, 153, 51, 1.0)\",\"dash\":\"solid\",\"shape\":\"linear\",\"width\":1.3},\"mode\":\"lines\",\"name\":\"coal_co2_per_capita\",\"text\":\"\",\"type\":\"scatter\",\"x\":[\"1958-01-01\",\"1959-01-01\",\"1960-01-01\",\"1961-01-01\",\"1962-01-01\",\"1963-01-01\",\"1964-01-01\",\"1965-01-01\",\"1966-01-01\",\"1967-01-01\",\"1968-01-01\",\"1969-01-01\",\"1970-01-01\",\"1971-01-01\",\"1972-01-01\",\"1973-01-01\",\"1974-01-01\",\"1975-01-01\",\"1976-01-01\",\"1977-01-01\",\"1978-01-01\",\"1979-01-01\",\"1980-01-01\",\"1981-01-01\",\"1982-01-01\",\"1983-01-01\",\"1984-01-01\",\"1985-01-01\",\"1986-01-01\",\"1987-01-01\",\"1988-01-01\",\"1989-01-01\",\"1990-01-01\",\"1991-01-01\",\"1992-01-01\",\"1993-01-01\",\"1994-01-01\",\"1995-01-01\",\"1996-01-01\",\"1997-01-01\",\"1998-01-01\",\"1999-01-01\",\"2000-01-01\",\"2001-01-01\",\"2002-01-01\",\"2003-01-01\",\"2004-01-01\",\"2005-01-01\",\"2006-01-01\",\"2007-01-01\",\"2008-01-01\",\"2009-01-01\",\"2010-01-01\",\"2011-01-01\",\"2012-01-01\",\"2013-01-01\"],\"y\":[4.914,4.957,4.916,4.681,4.788,5.063,5.315,5.46,5.61,5.704,5.537,5.576,5.575,5.239,5.274,5.626,5.51,5.255,5.764,5.778,6.071,6.223,6.362,6.426,6.147,6.426,6.657,6.764,6.543,6.859,7.11,7.195,7.296,7.17,7.19,7.343,7.316,7.318,7.536,7.6,7.606,7.535,7.739,7.424,7.371,7.442,7.494,7.504,7.325,7.335,7.154,6.21,6.506,6.101,5.358,5.498]},{\"line\":{\"color\":\"rgba(55, 128, 191, 1.0)\",\"dash\":\"solid\",\"shape\":\"linear\",\"width\":1.3},\"mode\":\"lines\",\"name\":\"cement_co2_per_capita\",\"text\":\"\",\"type\":\"scatter\",\"x\":[\"1958-01-01\",\"1959-01-01\",\"1960-01-01\",\"1961-01-01\",\"1962-01-01\",\"1963-01-01\",\"1964-01-01\",\"1965-01-01\",\"1966-01-01\",\"1967-01-01\",\"1968-01-01\",\"1969-01-01\",\"1970-01-01\",\"1971-01-01\",\"1972-01-01\",\"1973-01-01\",\"1974-01-01\",\"1975-01-01\",\"1976-01-01\",\"1977-01-01\",\"1978-01-01\",\"1979-01-01\",\"1980-01-01\",\"1981-01-01\",\"1982-01-01\",\"1983-01-01\",\"1984-01-01\",\"1985-01-01\",\"1986-01-01\",\"1987-01-01\",\"1988-01-01\",\"1989-01-01\",\"1990-01-01\",\"1991-01-01\",\"1992-01-01\",\"1993-01-01\",\"1994-01-01\",\"1995-01-01\",\"1996-01-01\",\"1997-01-01\",\"1998-01-01\",\"1999-01-01\",\"2000-01-01\",\"2001-01-01\",\"2002-01-01\",\"2003-01-01\",\"2004-01-01\",\"2005-01-01\",\"2006-01-01\",\"2007-01-01\",\"2008-01-01\",\"2009-01-01\",\"2010-01-01\",\"2011-01-01\",\"2012-01-01\",\"2013-01-01\"],\"y\":[0.15,0.161,0.149,0.148,0.152,0.157,0.163,0.166,0.17,0.164,0.171,0.171,0.162,0.163,0.166,0.166,0.164,0.135,0.143,0.148,0.154,0.154,0.14,0.135,0.119,0.126,0.136,0.129,0.133,0.132,0.131,0.13,0.133,0.129,0.128,0.134,0.138,0.14,0.139,0.142,0.143,0.144,0.147,0.146,0.15,0.15,0.157,0.157,0.157,0.151,0.136,0.097,0.102,0.103,0.112,0.115]},{\"line\":{\"color\":\"rgba(50, 171, 96, 1.0)\",\"dash\":\"solid\",\"shape\":\"linear\",\"width\":1.3},\"mode\":\"lines\",\"name\":\"flaring_co2_per_capita\",\"text\":\"\",\"type\":\"scatter\",\"x\":[\"1958-01-01\",\"1959-01-01\",\"1960-01-01\",\"1961-01-01\",\"1962-01-01\",\"1963-01-01\",\"1964-01-01\",\"1965-01-01\",\"1966-01-01\",\"1967-01-01\",\"1968-01-01\",\"1969-01-01\",\"1970-01-01\",\"1971-01-01\",\"1972-01-01\",\"1973-01-01\",\"1974-01-01\",\"1975-01-01\",\"1976-01-01\",\"1977-01-01\",\"1978-01-01\",\"1979-01-01\",\"1980-01-01\",\"1981-01-01\",\"1982-01-01\",\"1983-01-01\",\"1984-01-01\",\"1985-01-01\",\"1986-01-01\",\"1987-01-01\",\"1988-01-01\",\"1989-01-01\",\"1990-01-01\",\"1991-01-01\",\"1992-01-01\",\"1993-01-01\",\"1994-01-01\",\"1995-01-01\",\"1996-01-01\",\"1997-01-01\",\"1998-01-01\",\"1999-01-01\",\"2000-01-01\",\"2001-01-01\",\"2002-01-01\",\"2003-01-01\",\"2004-01-01\",\"2005-01-01\",\"2006-01-01\",\"2007-01-01\",\"2008-01-01\",\"2009-01-01\",\"2010-01-01\",\"2011-01-01\",\"2012-01-01\",\"2013-01-01\"],\"y\":[0.189,0.167,0.162,0.149,0.119,0.106,0.093,0.086,0.1,0.129,0.135,0.136,0.125,0.072,0.062,0.061,0.041,0.032,0.033,0.032,0.036,0.039,0.029,0.023,0.021,0.022,0.024,0.021,0.022,0.027,0.031,0.03,0.166,0.162,0.16,0.158,0.156,0.149,0.142,0.141,0.131,0.129,0.129,0.127,0.128,0.126,0.127,0.127,0.128,0.128,0.132,0.128,0.135,0.148,0.157,0.174]},{\"line\":{\"color\":\"rgba(128, 0, 128, 1.0)\",\"dash\":\"solid\",\"shape\":\"linear\",\"width\":1.3},\"mode\":\"lines\",\"name\":\"gas_co2_per_capita\",\"text\":\"\",\"type\":\"scatter\",\"x\":[\"1958-01-01\",\"1959-01-01\",\"1960-01-01\",\"1961-01-01\",\"1962-01-01\",\"1963-01-01\",\"1964-01-01\",\"1965-01-01\",\"1966-01-01\",\"1967-01-01\",\"1968-01-01\",\"1969-01-01\",\"1970-01-01\",\"1971-01-01\",\"1972-01-01\",\"1973-01-01\",\"1974-01-01\",\"1975-01-01\",\"1976-01-01\",\"1977-01-01\",\"1978-01-01\",\"1979-01-01\",\"1980-01-01\",\"1981-01-01\",\"1982-01-01\",\"1983-01-01\",\"1984-01-01\",\"1985-01-01\",\"1986-01-01\",\"1987-01-01\",\"1988-01-01\",\"1989-01-01\",\"1990-01-01\",\"1991-01-01\",\"1992-01-01\",\"1993-01-01\",\"1994-01-01\",\"1995-01-01\",\"1996-01-01\",\"1997-01-01\",\"1998-01-01\",\"1999-01-01\",\"2000-01-01\",\"2001-01-01\",\"2002-01-01\",\"2003-01-01\",\"2004-01-01\",\"2005-01-01\",\"2006-01-01\",\"2007-01-01\",\"2008-01-01\",\"2009-01-01\",\"2010-01-01\",\"2011-01-01\",\"2012-01-01\",\"2013-01-01\"],\"y\":[3.157,3.228,3.374,3.357,3.517,3.686,3.845,3.918,4.172,4.322,4.55,4.903,5.056,5.189,5.231,5.128,4.846,4.465,4.498,4.315,4.352,4.465,4.363,4.187,3.861,3.633,3.72,3.576,3.364,3.53,3.665,3.758,4.096,4.149,4.243,4.308,4.366,4.502,4.525,4.499,4.362,4.321,4.463,4.231,4.331,4.177,4.163,4.064,3.971,4.184,4.177,4.073,4.235,4.26,4.42,4.512]},{\"line\":{\"color\":\"rgba(219, 64, 82, 1.0)\",\"dash\":\"solid\",\"shape\":\"linear\",\"width\":1.3},\"mode\":\"lines\",\"name\":\"oil_co2_per_capita\",\"text\":\"\",\"type\":\"scatter\",\"x\":[\"1958-01-01\",\"1959-01-01\",\"1960-01-01\",\"1961-01-01\",\"1962-01-01\",\"1963-01-01\",\"1964-01-01\",\"1965-01-01\",\"1966-01-01\",\"1967-01-01\",\"1968-01-01\",\"1969-01-01\",\"1970-01-01\",\"1971-01-01\",\"1972-01-01\",\"1973-01-01\",\"1974-01-01\",\"1975-01-01\",\"1976-01-01\",\"1977-01-01\",\"1978-01-01\",\"1979-01-01\",\"1980-01-01\",\"1981-01-01\",\"1982-01-01\",\"1983-01-01\",\"1984-01-01\",\"1985-01-01\",\"1986-01-01\",\"1987-01-01\",\"1988-01-01\",\"1989-01-01\",\"1990-01-01\",\"1991-01-01\",\"1992-01-01\",\"1993-01-01\",\"1994-01-01\",\"1995-01-01\",\"1996-01-01\",\"1997-01-01\",\"1998-01-01\",\"1999-01-01\",\"2000-01-01\",\"2001-01-01\",\"2002-01-01\",\"2003-01-01\",\"2004-01-01\",\"2005-01-01\",\"2006-01-01\",\"2007-01-01\",\"2008-01-01\",\"2009-01-01\",\"2010-01-01\",\"2011-01-01\",\"2012-01-01\",\"2013-01-01\"],\"y\":[6.748,6.847,6.864,6.844,6.94,6.973,7.061,7.333,7.576,7.794,8.209,8.58,9.728,9.922,10.64,11.151,10.593,10.2,10.401,10.947,11.067,10.646,9.66,8.788,8.25,8.163,8.217,8.156,8.424,8.554,8.812,8.7,8.554,8.251,8.354,8.326,8.435,8.299,8.521,8.506,8.552,8.697,8.72,8.713,8.614,8.692,8.858,8.838,8.64,8.49,7.85,7.338,7.363,7.155,6.949,7.032]}],                        {\"legend\":{\"bgcolor\":\"#F5F6F9\",\"font\":{\"color\":\"#4D5663\"}},\"paper_bgcolor\":\"#F5F6F9\",\"plot_bgcolor\":\"#F5F6F9\",\"template\":{\"data\":{\"bar\":[{\"error_x\":{\"color\":\"#2a3f5f\"},\"error_y\":{\"color\":\"#2a3f5f\"},\"marker\":{\"line\":{\"color\":\"#E5ECF6\",\"width\":0.5},\"pattern\":{\"fillmode\":\"overlay\",\"size\":10,\"solidity\":0.2}},\"type\":\"bar\"}],\"barpolar\":[{\"marker\":{\"line\":{\"color\":\"#E5ECF6\",\"width\":0.5},\"pattern\":{\"fillmode\":\"overlay\",\"size\":10,\"solidity\":0.2}},\"type\":\"barpolar\"}],\"carpet\":[{\"aaxis\":{\"endlinecolor\":\"#2a3f5f\",\"gridcolor\":\"white\",\"linecolor\":\"white\",\"minorgridcolor\":\"white\",\"startlinecolor\":\"#2a3f5f\"},\"baxis\":{\"endlinecolor\":\"#2a3f5f\",\"gridcolor\":\"white\",\"linecolor\":\"white\",\"minorgridcolor\":\"white\",\"startlinecolor\":\"#2a3f5f\"},\"type\":\"carpet\"}],\"choropleth\":[{\"colorbar\":{\"outlinewidth\":0,\"ticks\":\"\"},\"type\":\"choropleth\"}],\"contour\":[{\"colorbar\":{\"outlinewidth\":0,\"ticks\":\"\"},\"colorscale\":[[0.0,\"#0d0887\"],[0.1111111111111111,\"#46039f\"],[0.2222222222222222,\"#7201a8\"],[0.3333333333333333,\"#9c179e\"],[0.4444444444444444,\"#bd3786\"],[0.5555555555555556,\"#d8576b\"],[0.6666666666666666,\"#ed7953\"],[0.7777777777777778,\"#fb9f3a\"],[0.8888888888888888,\"#fdca26\"],[1.0,\"#f0f921\"]],\"type\":\"contour\"}],\"contourcarpet\":[{\"colorbar\":{\"outlinewidth\":0,\"ticks\":\"\"},\"type\":\"contourcarpet\"}],\"heatmap\":[{\"colorbar\":{\"outlinewidth\":0,\"ticks\":\"\"},\"colorscale\":[[0.0,\"#0d0887\"],[0.1111111111111111,\"#46039f\"],[0.2222222222222222,\"#7201a8\"],[0.3333333333333333,\"#9c179e\"],[0.4444444444444444,\"#bd3786\"],[0.5555555555555556,\"#d8576b\"],[0.6666666666666666,\"#ed7953\"],[0.7777777777777778,\"#fb9f3a\"],[0.8888888888888888,\"#fdca26\"],[1.0,\"#f0f921\"]],\"type\":\"heatmap\"}],\"heatmapgl\":[{\"colorbar\":{\"outlinewidth\":0,\"ticks\":\"\"},\"colorscale\":[[0.0,\"#0d0887\"],[0.1111111111111111,\"#46039f\"],[0.2222222222222222,\"#7201a8\"],[0.3333333333333333,\"#9c179e\"],[0.4444444444444444,\"#bd3786\"],[0.5555555555555556,\"#d8576b\"],[0.6666666666666666,\"#ed7953\"],[0.7777777777777778,\"#fb9f3a\"],[0.8888888888888888,\"#fdca26\"],[1.0,\"#f0f921\"]],\"type\":\"heatmapgl\"}],\"histogram\":[{\"marker\":{\"pattern\":{\"fillmode\":\"overlay\",\"size\":10,\"solidity\":0.2}},\"type\":\"histogram\"}],\"histogram2d\":[{\"colorbar\":{\"outlinewidth\":0,\"ticks\":\"\"},\"colorscale\":[[0.0,\"#0d0887\"],[0.1111111111111111,\"#46039f\"],[0.2222222222222222,\"#7201a8\"],[0.3333333333333333,\"#9c179e\"],[0.4444444444444444,\"#bd3786\"],[0.5555555555555556,\"#d8576b\"],[0.6666666666666666,\"#ed7953\"],[0.7777777777777778,\"#fb9f3a\"],[0.8888888888888888,\"#fdca26\"],[1.0,\"#f0f921\"]],\"type\":\"histogram2d\"}],\"histogram2dcontour\":[{\"colorbar\":{\"outlinewidth\":0,\"ticks\":\"\"},\"colorscale\":[[0.0,\"#0d0887\"],[0.1111111111111111,\"#46039f\"],[0.2222222222222222,\"#7201a8\"],[0.3333333333333333,\"#9c179e\"],[0.4444444444444444,\"#bd3786\"],[0.5555555555555556,\"#d8576b\"],[0.6666666666666666,\"#ed7953\"],[0.7777777777777778,\"#fb9f3a\"],[0.8888888888888888,\"#fdca26\"],[1.0,\"#f0f921\"]],\"type\":\"histogram2dcontour\"}],\"mesh3d\":[{\"colorbar\":{\"outlinewidth\":0,\"ticks\":\"\"},\"type\":\"mesh3d\"}],\"parcoords\":[{\"line\":{\"colorbar\":{\"outlinewidth\":0,\"ticks\":\"\"}},\"type\":\"parcoords\"}],\"pie\":[{\"automargin\":true,\"type\":\"pie\"}],\"scatter\":[{\"marker\":{\"colorbar\":{\"outlinewidth\":0,\"ticks\":\"\"}},\"type\":\"scatter\"}],\"scatter3d\":[{\"line\":{\"colorbar\":{\"outlinewidth\":0,\"ticks\":\"\"}},\"marker\":{\"colorbar\":{\"outlinewidth\":0,\"ticks\":\"\"}},\"type\":\"scatter3d\"}],\"scattercarpet\":[{\"marker\":{\"colorbar\":{\"outlinewidth\":0,\"ticks\":\"\"}},\"type\":\"scattercarpet\"}],\"scattergeo\":[{\"marker\":{\"colorbar\":{\"outlinewidth\":0,\"ticks\":\"\"}},\"type\":\"scattergeo\"}],\"scattergl\":[{\"marker\":{\"colorbar\":{\"outlinewidth\":0,\"ticks\":\"\"}},\"type\":\"scattergl\"}],\"scattermapbox\":[{\"marker\":{\"colorbar\":{\"outlinewidth\":0,\"ticks\":\"\"}},\"type\":\"scattermapbox\"}],\"scatterpolar\":[{\"marker\":{\"colorbar\":{\"outlinewidth\":0,\"ticks\":\"\"}},\"type\":\"scatterpolar\"}],\"scatterpolargl\":[{\"marker\":{\"colorbar\":{\"outlinewidth\":0,\"ticks\":\"\"}},\"type\":\"scatterpolargl\"}],\"scatterternary\":[{\"marker\":{\"colorbar\":{\"outlinewidth\":0,\"ticks\":\"\"}},\"type\":\"scatterternary\"}],\"surface\":[{\"colorbar\":{\"outlinewidth\":0,\"ticks\":\"\"},\"colorscale\":[[0.0,\"#0d0887\"],[0.1111111111111111,\"#46039f\"],[0.2222222222222222,\"#7201a8\"],[0.3333333333333333,\"#9c179e\"],[0.4444444444444444,\"#bd3786\"],[0.5555555555555556,\"#d8576b\"],[0.6666666666666666,\"#ed7953\"],[0.7777777777777778,\"#fb9f3a\"],[0.8888888888888888,\"#fdca26\"],[1.0,\"#f0f921\"]],\"type\":\"surface\"}],\"table\":[{\"cells\":{\"fill\":{\"color\":\"#EBF0F8\"},\"line\":{\"color\":\"white\"}},\"header\":{\"fill\":{\"color\":\"#C8D4E3\"},\"line\":{\"color\":\"white\"}},\"type\":\"table\"}]},\"layout\":{\"annotationdefaults\":{\"arrowcolor\":\"#2a3f5f\",\"arrowhead\":0,\"arrowwidth\":1},\"autotypenumbers\":\"strict\",\"coloraxis\":{\"colorbar\":{\"outlinewidth\":0,\"ticks\":\"\"}},\"colorscale\":{\"diverging\":[[0,\"#8e0152\"],[0.1,\"#c51b7d\"],[0.2,\"#de77ae\"],[0.3,\"#f1b6da\"],[0.4,\"#fde0ef\"],[0.5,\"#f7f7f7\"],[0.6,\"#e6f5d0\"],[0.7,\"#b8e186\"],[0.8,\"#7fbc41\"],[0.9,\"#4d9221\"],[1,\"#276419\"]],\"sequential\":[[0.0,\"#0d0887\"],[0.1111111111111111,\"#46039f\"],[0.2222222222222222,\"#7201a8\"],[0.3333333333333333,\"#9c179e\"],[0.4444444444444444,\"#bd3786\"],[0.5555555555555556,\"#d8576b\"],[0.6666666666666666,\"#ed7953\"],[0.7777777777777778,\"#fb9f3a\"],[0.8888888888888888,\"#fdca26\"],[1.0,\"#f0f921\"]],\"sequentialminus\":[[0.0,\"#0d0887\"],[0.1111111111111111,\"#46039f\"],[0.2222222222222222,\"#7201a8\"],[0.3333333333333333,\"#9c179e\"],[0.4444444444444444,\"#bd3786\"],[0.5555555555555556,\"#d8576b\"],[0.6666666666666666,\"#ed7953\"],[0.7777777777777778,\"#fb9f3a\"],[0.8888888888888888,\"#fdca26\"],[1.0,\"#f0f921\"]]},\"colorway\":[\"#636efa\",\"#EF553B\",\"#00cc96\",\"#ab63fa\",\"#FFA15A\",\"#19d3f3\",\"#FF6692\",\"#B6E880\",\"#FF97FF\",\"#FECB52\"],\"font\":{\"color\":\"#2a3f5f\"},\"geo\":{\"bgcolor\":\"white\",\"lakecolor\":\"white\",\"landcolor\":\"#E5ECF6\",\"showlakes\":true,\"showland\":true,\"subunitcolor\":\"white\"},\"hoverlabel\":{\"align\":\"left\"},\"hovermode\":\"closest\",\"mapbox\":{\"style\":\"light\"},\"paper_bgcolor\":\"white\",\"plot_bgcolor\":\"#E5ECF6\",\"polar\":{\"angularaxis\":{\"gridcolor\":\"white\",\"linecolor\":\"white\",\"ticks\":\"\"},\"bgcolor\":\"#E5ECF6\",\"radialaxis\":{\"gridcolor\":\"white\",\"linecolor\":\"white\",\"ticks\":\"\"}},\"scene\":{\"xaxis\":{\"backgroundcolor\":\"#E5ECF6\",\"gridcolor\":\"white\",\"gridwidth\":2,\"linecolor\":\"white\",\"showbackground\":true,\"ticks\":\"\",\"zerolinecolor\":\"white\"},\"yaxis\":{\"backgroundcolor\":\"#E5ECF6\",\"gridcolor\":\"white\",\"gridwidth\":2,\"linecolor\":\"white\",\"showbackground\":true,\"ticks\":\"\",\"zerolinecolor\":\"white\"},\"zaxis\":{\"backgroundcolor\":\"#E5ECF6\",\"gridcolor\":\"white\",\"gridwidth\":2,\"linecolor\":\"white\",\"showbackground\":true,\"ticks\":\"\",\"zerolinecolor\":\"white\"}},\"shapedefaults\":{\"line\":{\"color\":\"#2a3f5f\"}},\"ternary\":{\"aaxis\":{\"gridcolor\":\"white\",\"linecolor\":\"white\",\"ticks\":\"\"},\"baxis\":{\"gridcolor\":\"white\",\"linecolor\":\"white\",\"ticks\":\"\"},\"bgcolor\":\"#E5ECF6\",\"caxis\":{\"gridcolor\":\"white\",\"linecolor\":\"white\",\"ticks\":\"\"}},\"title\":{\"x\":0.05},\"xaxis\":{\"automargin\":true,\"gridcolor\":\"white\",\"linecolor\":\"white\",\"ticks\":\"\",\"title\":{\"standoff\":15},\"zerolinecolor\":\"white\",\"zerolinewidth\":2},\"yaxis\":{\"automargin\":true,\"gridcolor\":\"white\",\"linecolor\":\"white\",\"ticks\":\"\",\"title\":{\"standoff\":15},\"zerolinecolor\":\"white\",\"zerolinewidth\":2}}},\"title\":{\"font\":{\"color\":\"#4D5663\"},\"text\":\"Global CO2 Emissions over Time\"},\"xaxis\":{\"gridcolor\":\"#E1E5ED\",\"showgrid\":true,\"tickfont\":{\"color\":\"#4D5663\"},\"title\":{\"font\":{\"color\":\"#4D5663\"},\"text\":\"Time (years)\"},\"zerolinecolor\":\"#E1E5ED\"},\"yaxis\":{\"gridcolor\":\"#E1E5ED\",\"showgrid\":true,\"tickfont\":{\"color\":\"#4D5663\"},\"title\":{\"font\":{\"color\":\"#4D5663\"},\"text\":\"Emissions (Metric Tons per Capita)\"},\"zerolinecolor\":\"#E1E5ED\"}},                        {\"showLink\": true, \"linkText\": \"Export to plot.ly\", \"plotlyServerURL\": \"https://plot.ly\", \"responsive\": true}                    ).then(function(){\n",
       "                            \n",
       "var gd = document.getElementById('29a44d12-070d-4cd9-8bca-46fa5692aeb6');\n",
       "var x = new MutationObserver(function (mutations, observer) {{\n",
       "        var display = window.getComputedStyle(gd).display;\n",
       "        if (!display || display === 'none') {{\n",
       "            console.log([gd, 'removed!']);\n",
       "            Plotly.purge(gd);\n",
       "            observer.disconnect();\n",
       "        }}\n",
       "}});\n",
       "\n",
       "// Listen for the removal of the full notebook cells\n",
       "var notebookContainer = gd.closest('#notebook-container');\n",
       "if (notebookContainer) {{\n",
       "    x.observe(notebookContainer, {childList: true});\n",
       "}}\n",
       "\n",
       "// Listen for the clearing of the current output cell\n",
       "var outputEl = gd.closest('.output');\n",
       "if (outputEl) {{\n",
       "    x.observe(outputEl, {childList: true});\n",
       "}}\n",
       "\n",
       "                        })                };                });            </script>        </div>"
      ]
     },
     "metadata": {},
     "output_type": "display_data"
    }
   ],
   "source": [
    "df_emissions.iplot(kind='line', xTitle='Time (years)', yTitle='Emissions (Metric Tons per Capita)', \n",
    "                  title='Global CO2 Emissions over Time')"
   ]
  },
  {
   "cell_type": "code",
   "execution_count": 734,
   "id": "f2753ef6",
   "metadata": {
    "scrolled": false
   },
   "outputs": [
    {
     "name": "stderr",
     "output_type": "stream",
     "text": [
      "<ipython-input-734-41208d35858f>:5: RuntimeWarning:\n",
      "\n",
      "More than 20 figures have been opened. Figures created through the pyplot interface (`matplotlib.pyplot.figure`) are retained until explicitly closed and may consume too much memory. (To control this warning, see the rcParam `figure.max_open_warning`).\n",
      "\n"
     ]
    },
    {
     "data": {
      "image/png": "[encoded data removed]",
      "text/plain": [
       "<Figure size 432x288 with 1 Axes>"
      ]
     },
     "metadata": {
      "needs_background": "light"
     },
     "output_type": "display_data"
    },
    {
     "data": {
      "image/png": "[encoded data removed]",
      "text/plain": [
       "<Figure size 432x288 with 1 Axes>"
      ]
     },
     "metadata": {
      "needs_background": "light"
     },
     "output_type": "display_data"
    },
    {
     "data": {
      "image/png": "[encoded data removed]",
      "text/plain": [
       "<Figure size 432x288 with 1 Axes>"
      ]
     },
     "metadata": {
      "needs_background": "light"
     },
     "output_type": "display_data"
    },
    {
     "data": {
      "image/png": "[encoded data removed]",
      "text/plain": [
       "<Figure size 432x288 with 1 Axes>"
      ]
     },
     "metadata": {
      "needs_background": "light"
     },
     "output_type": "display_data"
    },
    {
     "data": {
      "image/png": "[encoded data removed]",
      "text/plain": [
       "<Figure size 432x288 with 1 Axes>"
      ]
     },
     "metadata": {
      "needs_background": "light"
     },
     "output_type": "display_data"
    },
    {
     "data": {
      "image/png": "[encoded data removed]",
      "text/plain": [
       "<Figure size 432x288 with 1 Axes>"
      ]
     },
     "metadata": {
      "needs_background": "light"
     },
     "output_type": "display_data"
    },
    {
     "data": {
      "image/png": "[encoded data removed]",
      "text/plain": [
       "<Figure size 432x288 with 1 Axes>"
      ]
     },
     "metadata": {
      "needs_background": "light"
     },
     "output_type": "display_data"
    },
    {
     "data": {
      "image/png": "[encoded data removed]",
      "text/plain": [
       "<Figure size 432x288 with 1 Axes>"
      ]
     },
     "metadata": {
      "needs_background": "light"
     },
     "output_type": "display_data"
    },
    {
     "data": {
      "image/png": "[encoded data removed]",
      "text/plain": [
       "<Figure size 432x288 with 1 Axes>"
      ]
     },
     "metadata": {
      "needs_background": "light"
     },
     "output_type": "display_data"
    },
    {
     "data": {
      "image/png": "[encoded data removed]",
      "text/plain": [
       "<Figure size 432x288 with 1 Axes>"
      ]
     },
     "metadata": {
      "needs_background": "light"
     },
     "output_type": "display_data"
    },
    {
     "data": {
      "image/png": "[encoded data removed]",
      "text/plain": [
       "<Figure size 432x288 with 1 Axes>"
      ]
     },
     "metadata": {
      "needs_background": "light"
     },
     "output_type": "display_data"
    },
    {
     "data": {
      "image/png": "[encoded data removed]",
      "text/plain": [
       "<Figure size 432x288 with 1 Axes>"
      ]
     },
     "metadata": {
      "needs_background": "light"
     },
     "output_type": "display_data"
    },
    {
     "data": {
      "image/png": "[encoded data removed]",
      "text/plain": [
       "<Figure size 432x288 with 1 Axes>"
      ]
     },
     "metadata": {
      "needs_background": "light"
     },
     "output_type": "display_data"
    },
    {
     "data": {
      "image/png": "[encoded data removed]",
      "text/plain": [
       "<Figure size 432x288 with 1 Axes>"
      ]
     },
     "metadata": {
      "needs_background": "light"
     },
     "output_type": "display_data"
    },
    {
     "data": {
      "image/png": "[encoded data removed]",
      "text/plain": [
       "<Figure size 432x288 with 1 Axes>"
      ]
     },
     "metadata": {
      "needs_background": "light"
     },
     "output_type": "display_data"
    },
    {
     "data": {
      "image/png": "[encoded data removed]",
      "text/plain": [
       "<Figure size 432x288 with 1 Axes>"
      ]
     },
     "metadata": {
      "needs_background": "light"
     },
     "output_type": "display_data"
    },
    {
     "data": {
      "image/png": "[encoded data removed]",
      "text/plain": [
       "<Figure size 432x288 with 1 Axes>"
      ]
     },
     "metadata": {
      "needs_background": "light"
     },
     "output_type": "display_data"
    },
    {
     "data": {
      "image/png": "[encoded data removed]",
      "text/plain": [
       "<Figure size 432x288 with 1 Axes>"
      ]
     },
     "metadata": {
      "needs_background": "light"
     },
     "output_type": "display_data"
    },
    {
     "data": {
      "image/png": "[encoded data removed]",
      "text/plain": [
       "<Figure size 432x288 with 1 Axes>"
      ]
     },
     "metadata": {
      "needs_background": "light"
     },
     "output_type": "display_data"
    },
    {
     "data": {
      "image/png": "[encoded data removed]",
      "text/plain": [
       "<Figure size 432x288 with 1 Axes>"
      ]
     },
     "metadata": {
      "needs_background": "light"
     },
     "output_type": "display_data"
    },
    {
     "data": {
      "image/png": "[encoded data removed]",
      "text/plain": [
       "<Figure size 432x288 with 1 Axes>"
      ]
     },
     "metadata": {
      "needs_background": "light"
     },
     "output_type": "display_data"
    }
   ],
   "source": [
    "df_plot = CO_emissions\n",
    "df_plot\n",
    "\n",
    "for i, col in enumerate(df_plot.columns):\n",
    "    df_plot[col].plot(fig=plt.figure(i))\n",
    "    plt.title(col)\n",
    "    \n",
    "plt.show()"
   ]
  },
  {
   "cell_type": "code",
   "execution_count": 735,
   "id": "5f415f3e",
   "metadata": {},
   "outputs": [
    {
     "data": {
      "text/plain": [
       "<AxesSubplot:>"
      ]
     },
     "execution_count": 735,
     "metadata": {},
     "output_type": "execute_result"
    },
    {
     "data": {
      "image/png": "[encoded data removed]",
      "text/plain": [
       "<Figure size 432x288 with 1 Axes>"
      ]
     },
     "metadata": {
      "needs_background": "light"
     },
     "output_type": "display_data"
    }
   ],
   "source": [
    "cols = [\"coal_co2_per_capita\", \"cement_co2_per_capita\", \"flaring_co2_per_capita\", \"gas_co2_per_capita\", \"oil_co2_per_capita\"]\n",
    "\n",
    "CO2_per_source = df_emissions.sum().sort_values()\n",
    "fig = plt.figure()\n",
    "x_label = cols\n",
    "x_tick = np.arange(len(cols))\n",
    "CO2_per_source.plot(kind=\"bar\")"
   ]
  },
  {
   "cell_type": "code",
   "execution_count": 736,
   "id": "5bc8f05a",
   "metadata": {},
   "outputs": [
    {
     "data": {
      "text/html": [
       "<div>\n",
       "<style scoped>\n",
       "    .dataframe tbody tr th:only-of-type {\n",
       "        vertical-align: middle;\n",
       "    }\n",
       "\n",
       "    .dataframe tbody tr th {\n",
       "        vertical-align: top;\n",
       "    }\n",
       "\n",
       "    .dataframe thead th {\n",
       "        text-align: right;\n",
       "    }\n",
       "</style>\n",
       "<table border=\"1\" class=\"dataframe\">\n",
       "  <thead>\n",
       "    <tr style=\"text-align: right;\">\n",
       "      <th></th>\n",
       "      <th>co2</th>\n",
       "      <th>co2_per_capita</th>\n",
       "      <th>share_global_co2</th>\n",
       "      <th>co2_per_gdp</th>\n",
       "      <th>coal_co2</th>\n",
       "      <th>cement_co2</th>\n",
       "      <th>flaring_co2</th>\n",
       "      <th>gas_co2</th>\n",
       "      <th>oil_co2</th>\n",
       "      <th>cement_co2_per_capita</th>\n",
       "      <th>...</th>\n",
       "      <th>flaring_co2_per_capita</th>\n",
       "      <th>gas_co2_per_capita</th>\n",
       "      <th>oil_co2_per_capita</th>\n",
       "      <th>share_global_cement_co2</th>\n",
       "      <th>share_global_coal_co2</th>\n",
       "      <th>share_global_flaring_co2</th>\n",
       "      <th>share_global_gas_co2</th>\n",
       "      <th>share_global_oil_co2</th>\n",
       "      <th>population</th>\n",
       "      <th>gdp</th>\n",
       "    </tr>\n",
       "    <tr>\n",
       "      <th>year</th>\n",
       "      <th></th>\n",
       "      <th></th>\n",
       "      <th></th>\n",
       "      <th></th>\n",
       "      <th></th>\n",
       "      <th></th>\n",
       "      <th></th>\n",
       "      <th></th>\n",
       "      <th></th>\n",
       "      <th></th>\n",
       "      <th></th>\n",
       "      <th></th>\n",
       "      <th></th>\n",
       "      <th></th>\n",
       "      <th></th>\n",
       "      <th></th>\n",
       "      <th></th>\n",
       "      <th></th>\n",
       "      <th></th>\n",
       "      <th></th>\n",
       "      <th></th>\n",
       "    </tr>\n",
       "  </thead>\n",
       "  <tbody>\n",
       "    <tr>\n",
       "      <th>1958-01-01</th>\n",
       "      <td>2740.357</td>\n",
       "      <td>15.158</td>\n",
       "      <td>32.58</td>\n",
       "      <td>0.925</td>\n",
       "      <td>888.344</td>\n",
       "      <td>27.169</td>\n",
       "      <td>34.097</td>\n",
       "      <td>570.701</td>\n",
       "      <td>1220.046</td>\n",
       "      <td>0.150</td>\n",
       "      <td>...</td>\n",
       "      <td>0.189</td>\n",
       "      <td>3.157</td>\n",
       "      <td>6.748</td>\n",
       "      <td>20.84</td>\n",
       "      <td>18.70</td>\n",
       "      <td>35.85</td>\n",
       "      <td>80.76</td>\n",
       "      <td>44.70</td>\n",
       "      <td>180788387.0</td>\n",
       "      <td>2.963550e+12</td>\n",
       "    </tr>\n",
       "    <tr>\n",
       "      <th>1959-01-01</th>\n",
       "      <td>2823.005</td>\n",
       "      <td>15.360</td>\n",
       "      <td>31.90</td>\n",
       "      <td>0.887</td>\n",
       "      <td>910.978</td>\n",
       "      <td>29.604</td>\n",
       "      <td>30.756</td>\n",
       "      <td>593.210</td>\n",
       "      <td>1258.457</td>\n",
       "      <td>0.161</td>\n",
       "      <td>...</td>\n",
       "      <td>0.167</td>\n",
       "      <td>3.228</td>\n",
       "      <td>6.847</td>\n",
       "      <td>20.28</td>\n",
       "      <td>18.43</td>\n",
       "      <td>33.54</td>\n",
       "      <td>78.13</td>\n",
       "      <td>43.28</td>\n",
       "      <td>183786249.0</td>\n",
       "      <td>3.183157e+12</td>\n",
       "    </tr>\n",
       "    <tr>\n",
       "      <th>1960-01-01</th>\n",
       "      <td>2887.820</td>\n",
       "      <td>15.466</td>\n",
       "      <td>30.94</td>\n",
       "      <td>0.885</td>\n",
       "      <td>917.964</td>\n",
       "      <td>27.885</td>\n",
       "      <td>30.316</td>\n",
       "      <td>630.025</td>\n",
       "      <td>1281.631</td>\n",
       "      <td>0.149</td>\n",
       "      <td>...</td>\n",
       "      <td>0.162</td>\n",
       "      <td>3.374</td>\n",
       "      <td>6.864</td>\n",
       "      <td>17.77</td>\n",
       "      <td>17.89</td>\n",
       "      <td>34.01</td>\n",
       "      <td>75.42</td>\n",
       "      <td>41.04</td>\n",
       "      <td>186720570.0</td>\n",
       "      <td>3.262376e+12</td>\n",
       "    </tr>\n",
       "    <tr>\n",
       "      <th>1961-01-01</th>\n",
       "      <td>2877.370</td>\n",
       "      <td>15.178</td>\n",
       "      <td>30.75</td>\n",
       "      <td>0.862</td>\n",
       "      <td>887.443</td>\n",
       "      <td>27.998</td>\n",
       "      <td>28.198</td>\n",
       "      <td>636.415</td>\n",
       "      <td>1297.316</td>\n",
       "      <td>0.148</td>\n",
       "      <td>...</td>\n",
       "      <td>0.149</td>\n",
       "      <td>3.357</td>\n",
       "      <td>6.844</td>\n",
       "      <td>16.92</td>\n",
       "      <td>18.05</td>\n",
       "      <td>32.71</td>\n",
       "      <td>72.09</td>\n",
       "      <td>39.24</td>\n",
       "      <td>189569850.0</td>\n",
       "      <td>3.338584e+12</td>\n",
       "    </tr>\n",
       "    <tr>\n",
       "      <th>1962-01-01</th>\n",
       "      <td>2984.002</td>\n",
       "      <td>15.516</td>\n",
       "      <td>30.80</td>\n",
       "      <td>0.843</td>\n",
       "      <td>920.818</td>\n",
       "      <td>29.147</td>\n",
       "      <td>22.922</td>\n",
       "      <td>676.367</td>\n",
       "      <td>1334.748</td>\n",
       "      <td>0.152</td>\n",
       "      <td>...</td>\n",
       "      <td>0.119</td>\n",
       "      <td>3.517</td>\n",
       "      <td>6.940</td>\n",
       "      <td>16.40</td>\n",
       "      <td>18.79</td>\n",
       "      <td>26.67</td>\n",
       "      <td>69.82</td>\n",
       "      <td>37.56</td>\n",
       "      <td>192313747.0</td>\n",
       "      <td>3.539745e+12</td>\n",
       "    </tr>\n",
       "  </tbody>\n",
       "</table>\n",
       "<p>5 rows × 21 columns</p>\n",
       "</div>"
      ],
      "text/plain": [
       "                 co2  co2_per_capita  share_global_co2  co2_per_gdp  coal_co2  \\\n",
       "year                                                                            \n",
       "1958-01-01  2740.357          15.158             32.58        0.925   888.344   \n",
       "1959-01-01  2823.005          15.360             31.90        0.887   910.978   \n",
       "1960-01-01  2887.820          15.466             30.94        0.885   917.964   \n",
       "1961-01-01  2877.370          15.178             30.75        0.862   887.443   \n",
       "1962-01-01  2984.002          15.516             30.80        0.843   920.818   \n",
       "\n",
       "            cement_co2  flaring_co2  gas_co2   oil_co2  cement_co2_per_capita  \\\n",
       "year                                                                            \n",
       "1958-01-01      27.169       34.097  570.701  1220.046                  0.150   \n",
       "1959-01-01      29.604       30.756  593.210  1258.457                  0.161   \n",
       "1960-01-01      27.885       30.316  630.025  1281.631                  0.149   \n",
       "1961-01-01      27.998       28.198  636.415  1297.316                  0.148   \n",
       "1962-01-01      29.147       22.922  676.367  1334.748                  0.152   \n",
       "\n",
       "            ...  flaring_co2_per_capita  gas_co2_per_capita  \\\n",
       "year        ...                                               \n",
       "1958-01-01  ...                   0.189               3.157   \n",
       "1959-01-01  ...                   0.167               3.228   \n",
       "1960-01-01  ...                   0.162               3.374   \n",
       "1961-01-01  ...                   0.149               3.357   \n",
       "1962-01-01  ...                   0.119               3.517   \n",
       "\n",
       "            oil_co2_per_capita  share_global_cement_co2  \\\n",
       "year                                                      \n",
       "1958-01-01               6.748                    20.84   \n",
       "1959-01-01               6.847                    20.28   \n",
       "1960-01-01               6.864                    17.77   \n",
       "1961-01-01               6.844                    16.92   \n",
       "1962-01-01               6.940                    16.40   \n",
       "\n",
       "            share_global_coal_co2  share_global_flaring_co2  \\\n",
       "year                                                          \n",
       "1958-01-01                  18.70                     35.85   \n",
       "1959-01-01                  18.43                     33.54   \n",
       "1960-01-01                  17.89                     34.01   \n",
       "1961-01-01                  18.05                     32.71   \n",
       "1962-01-01                  18.79                     26.67   \n",
       "\n",
       "            share_global_gas_co2  share_global_oil_co2   population  \\\n",
       "year                                                                  \n",
       "1958-01-01                 80.76                 44.70  180788387.0   \n",
       "1959-01-01                 78.13                 43.28  183786249.0   \n",
       "1960-01-01                 75.42                 41.04  186720570.0   \n",
       "1961-01-01                 72.09                 39.24  189569850.0   \n",
       "1962-01-01                 69.82                 37.56  192313747.0   \n",
       "\n",
       "                     gdp  \n",
       "year                      \n",
       "1958-01-01  2.963550e+12  \n",
       "1959-01-01  3.183157e+12  \n",
       "1960-01-01  3.262376e+12  \n",
       "1961-01-01  3.338584e+12  \n",
       "1962-01-01  3.539745e+12  \n",
       "\n",
       "[5 rows x 21 columns]"
      ]
     },
     "execution_count": 736,
     "metadata": {},
     "output_type": "execute_result"
    }
   ],
   "source": [
    "CO_emissions.head()"
   ]
  },
  {
   "cell_type": "code",
   "execution_count": 737,
   "id": "43c70230",
   "metadata": {},
   "outputs": [],
   "source": [
    "mte = CO_emissions[\"oil_co2_per_capita\"]"
   ]
  },
  {
   "cell_type": "code",
   "execution_count": 738,
   "id": "371593a2",
   "metadata": {},
   "outputs": [
    {
     "data": {
      "text/plain": [
       "[<matplotlib.lines.Line2D at 0x1f2819e1eb0>]"
      ]
     },
     "execution_count": 738,
     "metadata": {},
     "output_type": "execute_result"
    },
    {
     "data": {
      "image/png": "[encoded data removed]",
      "text/plain": [
       "<Figure size 432x288 with 1 Axes>"
      ]
     },
     "metadata": {
      "needs_background": "light"
     },
     "output_type": "display_data"
    }
   ],
   "source": [
    "plt.plot(mte)"
   ]
  },
  {
   "cell_type": "code",
   "execution_count": 739,
   "id": "58187c31",
   "metadata": {},
   "outputs": [
    {
     "name": "stdout",
     "output_type": "stream",
     "text": [
      "KPSS Statistic: 0.12242485736115508\n",
      "p-value: 0.1\n",
      "num lags: 11\n",
      "Critial Values:\n",
      "   10% : 0.347\n",
      "   5% : 0.463\n",
      "   2.5% : 0.574\n",
      "   1% : 0.739\n",
      "Result: The series is stationary\n"
     ]
    },
    {
     "name": "stderr",
     "output_type": "stream",
     "text": [
      "C:\\ProgramData\\Anaconda3\\lib\\site-packages\\statsmodels\\tsa\\stattools.py:1875: FutureWarning:\n",
      "\n",
      "The behavior of using nlags=None will change in release 0.13.Currently nlags=None is the same as nlags=\"legacy\", and so a sample-size lag length is used. After the next release, the default will change to be the same as nlags=\"auto\" which uses an automatic lag length selection method. To silence this warning, either use \"auto\" or \"legacy\"\n",
      "\n",
      "C:\\ProgramData\\Anaconda3\\lib\\site-packages\\statsmodels\\tsa\\stattools.py:1910: InterpolationWarning:\n",
      "\n",
      "The test statistic is outside of the range of p-values available in the\n",
      "look-up table. The actual p-value is greater than the p-value returned.\n",
      "\n",
      "\n"
     ]
    }
   ],
   "source": [
    "from statsmodels.tsa.stattools import kpss\n",
    "def kpss_test(series, **kw):    \n",
    "    statistic, p_value, n_lags, critical_values = kpss(series, **kw)\n",
    "    # Format Output\n",
    "    print(f'KPSS Statistic: {statistic}')\n",
    "    print(f'p-value: {p_value}')\n",
    "    print(f'num lags: {n_lags}')\n",
    "    print('Critial Values:')\n",
    "    for key, value in critical_values.items():\n",
    "        print(f'   {key} : {value}')\n",
    "    print(f'Result: The series is {\"not \" if p_value < 0.05 else \"\"}stationary')\n",
    "\n",
    "kpss_test(mte)"
   ]
  },
  {
   "cell_type": "code",
   "execution_count": 740,
   "id": "f86edc4d",
   "metadata": {},
   "outputs": [],
   "source": [
    "CO_emissions.to_csv(r\"C:\\Users\\akama\\OneDrive\\Desktop\\Data Science Bootcamp\\IshMe\\Capstone 3 - Time Series Analysis\\raw_data\\CO_emissions.csv\", index= False)"
   ]
  }
 ],
 "metadata": {
  "kernelspec": {
   "display_name": "Python 3",
   "language": "python",
   "name": "python3"
  },
  "language_info": {
   "codemirror_mode": {
    "name": "ipython",
    "version": 3
   },
   "file_extension": ".py",
   "mimetype": "text/x-python",
   "name": "python",
   "nbconvert_exporter": "python",
   "pygments_lexer": "ipython3",
   "version": "3.8.8"
  }
 },
 "nbformat": 4,
 "nbformat_minor": 5
}
