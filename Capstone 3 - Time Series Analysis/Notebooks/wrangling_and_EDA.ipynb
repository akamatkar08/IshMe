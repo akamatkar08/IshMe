{
 "cells": [
  {
   "cell_type": "markdown",
   "id": "c2183b2e",
   "metadata": {},
   "source": [
    "# Capstone 3 - Time Series Analysis"
   ]
  },
  {
   "cell_type": "markdown",
   "id": "52713096",
   "metadata": {},
   "source": [
    "**asda** Lorem ipsum dolor sit amet, consectetur adipiscing elit, sed do eiusmod tempor incididunt ut labore et dolore magna aliqua. Ut enim ad minim veniam, quis nostrud exercitation ullamco laboris nisi ut aliquip ex ea commodo consequat. Duis aute irure dolor in reprehenderit in voluptate velit esse cillum dolore eu fugiat nulla pariatur. Excepteur sint occaecat cupidatat non proident, sunt in culpa qui officia deserunt mollit anim id est laborum."
   ]
  },
  {
   "cell_type": "markdown",
   "id": "7400d557",
   "metadata": {},
   "source": [
    "## Importing Packages"
   ]
  },
  {
   "cell_type": "code",
   "execution_count": 1960,
   "id": "bd5804a5",
   "metadata": {},
   "outputs": [
    {
     "data": {
      "text/html": [
       "        <script type=\"text/javascript\">\n",
       "        window.PlotlyConfig = {MathJaxConfig: 'local'};\n",
       "        if (window.MathJax) {MathJax.Hub.Config({SVG: {font: \"STIX-Web\"}});}\n",
       "        if (typeof require !== 'undefined') {\n",
       "        require.undef(\"plotly\");\n",
       "        requirejs.config({\n",
       "            paths: {\n",
       "                'plotly': ['https://cdn.plot.ly/plotly-2.4.2.min']\n",
       "            }\n",
       "        });\n",
       "        require(['plotly'], function(Plotly) {\n",
       "            window._Plotly = Plotly;\n",
       "        });\n",
       "        }\n",
       "        </script>\n",
       "        "
      ]
     },
     "metadata": {},
     "output_type": "display_data"
    },
    {
     "data": {
      "text/html": [
       "        <script type=\"text/javascript\">\n",
       "        window.PlotlyConfig = {MathJaxConfig: 'local'};\n",
       "        if (window.MathJax) {MathJax.Hub.Config({SVG: {font: \"STIX-Web\"}});}\n",
       "        if (typeof require !== 'undefined') {\n",
       "        require.undef(\"plotly\");\n",
       "        requirejs.config({\n",
       "            paths: {\n",
       "                'plotly': ['https://cdn.plot.ly/plotly-2.4.2.min']\n",
       "            }\n",
       "        });\n",
       "        require(['plotly'], function(Plotly) {\n",
       "            window._Plotly = Plotly;\n",
       "        });\n",
       "        }\n",
       "        </script>\n",
       "        "
      ]
     },
     "metadata": {},
     "output_type": "display_data"
    }
   ],
   "source": [
    "# Standard packages\n",
    "import pandas as pd\n",
    "import numpy as np\n",
    "import calendar\n",
    "from datetime import datetime\n",
    "import matplotlib.pyplot as plt\n",
    "%matplotlib inline\n",
    "\n",
    "# Facebook's Prophet forecasting library\n",
    "from fbprophet import Prophet\n",
    "\n",
    "# Standard plotly imports\n",
    "from chart_studio import plotly as py\n",
    "import plotly.graph_objs as go\n",
    "from plotly.offline import iplot, init_notebook_mode\n",
    "\n",
    "# Using plotly + cufflinks in offline mode\n",
    "import cufflinks\n",
    "cufflinks.go_offline(connected=True)\n",
    "init_notebook_mode(connected=True)\n",
    "\n",
    "# Statsmodels to test stationarity\n",
    "import statsmodels\n",
    "import statsmodels.api as sm\n",
    "from statsmodels.tsa.stattools import coint, adfuller"
   ]
  },
  {
   "cell_type": "markdown",
   "id": "07fabe7b",
   "metadata": {},
   "source": [
    "## Dataset 1 - Wrangling and Cleaning"
   ]
  },
  {
   "cell_type": "code",
   "execution_count": 1961,
   "id": "95bf4750",
   "metadata": {},
   "outputs": [],
   "source": [
    "# Reading CSV data from COLevelsByAtmosphere, GloballandTemperaturesByCountry\n",
    "country_data = pd.read_csv(r\"C:\\Users\\akama\\OneDrive\\Desktop\\Data Science Bootcamp\\IshMe\\Capstone 3 - Time Series Analysis\\raw_data\\GlobalLandTemperaturesByCountry.csv\")\n",
    "CO_emissions = pd.read_excel(r\"C:\\Users\\akama\\OneDrive\\Desktop\\Data Science Bootcamp\\IshMe\\Capstone 3 - Time Series Analysis\\raw_data\\CO2Data_Emissions.xlsx\")"
   ]
  },
  {
   "cell_type": "code",
   "execution_count": 1962,
   "id": "7eb75f3a",
   "metadata": {},
   "outputs": [
    {
     "data": {
      "text/html": [
       "<div>\n",
       "<style scoped>\n",
       "    .dataframe tbody tr th:only-of-type {\n",
       "        vertical-align: middle;\n",
       "    }\n",
       "\n",
       "    .dataframe tbody tr th {\n",
       "        vertical-align: top;\n",
       "    }\n",
       "\n",
       "    .dataframe thead th {\n",
       "        text-align: right;\n",
       "    }\n",
       "</style>\n",
       "<table border=\"1\" class=\"dataframe\">\n",
       "  <thead>\n",
       "    <tr style=\"text-align: right;\">\n",
       "      <th></th>\n",
       "      <th>Date</th>\n",
       "      <th>AverageTemperature</th>\n",
       "      <th>AverageTemperatureUncertainty</th>\n",
       "    </tr>\n",
       "  </thead>\n",
       "  <tbody>\n",
       "    <tr>\n",
       "      <th>0</th>\n",
       "      <td>1821-01-01</td>\n",
       "      <td>-4.464</td>\n",
       "      <td>3.658</td>\n",
       "    </tr>\n",
       "    <tr>\n",
       "      <th>1</th>\n",
       "      <td>1821-02-01</td>\n",
       "      <td>-1.684</td>\n",
       "      <td>3.891</td>\n",
       "    </tr>\n",
       "    <tr>\n",
       "      <th>2</th>\n",
       "      <td>1821-03-01</td>\n",
       "      <td>1.953</td>\n",
       "      <td>2.700</td>\n",
       "    </tr>\n",
       "    <tr>\n",
       "      <th>3</th>\n",
       "      <td>1821-04-01</td>\n",
       "      <td>6.281</td>\n",
       "      <td>1.991</td>\n",
       "    </tr>\n",
       "    <tr>\n",
       "      <th>4</th>\n",
       "      <td>1821-05-01</td>\n",
       "      <td>13.429</td>\n",
       "      <td>2.212</td>\n",
       "    </tr>\n",
       "    <tr>\n",
       "      <th>...</th>\n",
       "      <td>...</td>\n",
       "      <td>...</td>\n",
       "      <td>...</td>\n",
       "    </tr>\n",
       "    <tr>\n",
       "      <th>2308</th>\n",
       "      <td>2013-05-01</td>\n",
       "      <td>14.073</td>\n",
       "      <td>0.178</td>\n",
       "    </tr>\n",
       "    <tr>\n",
       "      <th>2309</th>\n",
       "      <td>2013-06-01</td>\n",
       "      <td>20.198</td>\n",
       "      <td>0.236</td>\n",
       "    </tr>\n",
       "    <tr>\n",
       "      <th>2310</th>\n",
       "      <td>2013-07-01</td>\n",
       "      <td>22.074</td>\n",
       "      <td>0.152</td>\n",
       "    </tr>\n",
       "    <tr>\n",
       "      <th>2311</th>\n",
       "      <td>2013-08-01</td>\n",
       "      <td>21.168</td>\n",
       "      <td>0.249</td>\n",
       "    </tr>\n",
       "    <tr>\n",
       "      <th>2312</th>\n",
       "      <td>2013-09-01</td>\n",
       "      <td>18.273</td>\n",
       "      <td>1.210</td>\n",
       "    </tr>\n",
       "  </tbody>\n",
       "</table>\n",
       "<p>2313 rows × 3 columns</p>\n",
       "</div>"
      ],
      "text/plain": [
       "           Date  AverageTemperature  AverageTemperatureUncertainty\n",
       "0    1821-01-01              -4.464                          3.658\n",
       "1    1821-02-01              -1.684                          3.891\n",
       "2    1821-03-01               1.953                          2.700\n",
       "3    1821-04-01               6.281                          1.991\n",
       "4    1821-05-01              13.429                          2.212\n",
       "...         ...                 ...                            ...\n",
       "2308 2013-05-01              14.073                          0.178\n",
       "2309 2013-06-01              20.198                          0.236\n",
       "2310 2013-07-01              22.074                          0.152\n",
       "2311 2013-08-01              21.168                          0.249\n",
       "2312 2013-09-01              18.273                          1.210\n",
       "\n",
       "[2313 rows x 3 columns]"
      ]
     },
     "execution_count": 1962,
     "metadata": {},
     "output_type": "execute_result"
    }
   ],
   "source": [
    "# Deriving data only pertaining to the US\n",
    "US_data = country_data[country_data[\"Country\"] == \"United States\"].copy()\n",
    "\n",
    "# Convering \"dt\" column to datetime object\n",
    "US_data[\"dt\"] = pd.to_datetime(US_data[\"dt\"])\n",
    "US_data[\"Date\"] = pd.to_datetime(US_data.dt, format=\"%Y\")\n",
    "\n",
    "# Subsetting to years without NaN values\n",
    "US_data = US_data[(US_data[\"Date\"].dt.year > 1820) & (US_data[\"Date\"].dt.year < 2014)]\n",
    "US_data = US_data.reset_index(drop=True)\n",
    "US_data = US_data[[\"Date\", \"AverageTemperature\", \"AverageTemperatureUncertainty\"]]\n",
    "\n",
    "US_data"
   ]
  },
  {
   "cell_type": "markdown",
   "id": "0c147b74",
   "metadata": {},
   "source": [
    "## Dataset 1 - EDA"
   ]
  },
  {
   "cell_type": "code",
   "execution_count": 1963,
   "id": "3a4c7d65",
   "metadata": {},
   "outputs": [],
   "source": [
    "# New DF subsetted from 1920 to 1951\n",
    "df_anomaly = US_data[(US_data[\"Date\"].dt.year > 1920) & (US_data[\"Date\"].dt.year < 1951)]\n",
    "\n",
    "# Subsetting for each month\n",
    "jan = df_anomaly[df_anomaly[\"Date\"].dt.month == 1]\n",
    "feb = df_anomaly[df_anomaly[\"Date\"].dt.month == 2]\n",
    "mar = df_anomaly[df_anomaly[\"Date\"].dt.month == 3]\n",
    "apr = df_anomaly[df_anomaly[\"Date\"].dt.month == 4]\n",
    "may = df_anomaly[df_anomaly[\"Date\"].dt.month == 5]\n",
    "june  = df_anomaly[df_anomaly[\"Date\"].dt.month == 6]\n",
    "july = df_anomaly[df_anomaly[\"Date\"].dt.month == 7]\n",
    "aug = df_anomaly[df_anomaly[\"Date\"].dt.month == 8]\n",
    "sept = df_anomaly[df_anomaly[\"Date\"].dt.month == 9]\n",
    "october = df_anomaly[df_anomaly[\"Date\"].dt.month == 10]\n",
    "nov = df_anomaly[df_anomaly[\"Date\"].dt.month == 11]\n",
    "dec = df_anomaly[df_anomaly[\"Date\"].dt.month == 12]"
   ]
  },
  {
   "cell_type": "code",
   "execution_count": 1964,
   "id": "26e503b5",
   "metadata": {},
   "outputs": [
    {
     "data": {
      "text/html": [
       "<div>\n",
       "<style scoped>\n",
       "    .dataframe tbody tr th:only-of-type {\n",
       "        vertical-align: middle;\n",
       "    }\n",
       "\n",
       "    .dataframe tbody tr th {\n",
       "        vertical-align: top;\n",
       "    }\n",
       "\n",
       "    .dataframe thead th {\n",
       "        text-align: right;\n",
       "    }\n",
       "</style>\n",
       "<table border=\"1\" class=\"dataframe\">\n",
       "  <thead>\n",
       "    <tr style=\"text-align: right;\">\n",
       "      <th></th>\n",
       "      <th>Date</th>\n",
       "      <th>AverageTemperature</th>\n",
       "      <th>AverageTemperatureUncertainty</th>\n",
       "      <th>AverageAnomaly</th>\n",
       "    </tr>\n",
       "  </thead>\n",
       "  <tbody>\n",
       "    <tr>\n",
       "      <th>0</th>\n",
       "      <td>1821-01-01</td>\n",
       "      <td>-4.464</td>\n",
       "      <td>3.658</td>\n",
       "      <td>None</td>\n",
       "    </tr>\n",
       "    <tr>\n",
       "      <th>1</th>\n",
       "      <td>1821-02-01</td>\n",
       "      <td>-1.684</td>\n",
       "      <td>3.891</td>\n",
       "      <td>None</td>\n",
       "    </tr>\n",
       "    <tr>\n",
       "      <th>2</th>\n",
       "      <td>1821-03-01</td>\n",
       "      <td>1.953</td>\n",
       "      <td>2.700</td>\n",
       "      <td>None</td>\n",
       "    </tr>\n",
       "    <tr>\n",
       "      <th>3</th>\n",
       "      <td>1821-04-01</td>\n",
       "      <td>6.281</td>\n",
       "      <td>1.991</td>\n",
       "      <td>None</td>\n",
       "    </tr>\n",
       "    <tr>\n",
       "      <th>4</th>\n",
       "      <td>1821-05-01</td>\n",
       "      <td>13.429</td>\n",
       "      <td>2.212</td>\n",
       "      <td>None</td>\n",
       "    </tr>\n",
       "  </tbody>\n",
       "</table>\n",
       "</div>"
      ],
      "text/plain": [
       "        Date  AverageTemperature  AverageTemperatureUncertainty AverageAnomaly\n",
       "0 1821-01-01              -4.464                          3.658           None\n",
       "1 1821-02-01              -1.684                          3.891           None\n",
       "2 1821-03-01               1.953                          2.700           None\n",
       "3 1821-04-01               6.281                          1.991           None\n",
       "4 1821-05-01              13.429                          2.212           None"
      ]
     },
     "execution_count": 1964,
     "metadata": {},
     "output_type": "execute_result"
    }
   ],
   "source": [
    "# Empty column for average anomalies\n",
    "US_data[\"AverageAnomaly\"] = None\n",
    "US_data.head()"
   ]
  },
  {
   "cell_type": "code",
   "execution_count": 1965,
   "id": "d5c0f3e7",
   "metadata": {},
   "outputs": [],
   "source": [
    "# List with each subsetted DF\n",
    "months = [jan, feb, mar, apr, may, june, july, aug, sept, october, nov, dec]\n",
    "monthly_means = []\n",
    "\n",
    "# Calculate mean of each month and append to empty list\n",
    "for month in months:\n",
    "    avg_temp = month[\"AverageTemperature\"].mean()\n",
    "    monthly_means.append(avg_temp)\n",
    "\n",
    "# print(monthly_means)"
   ]
  },
  {
   "cell_type": "code",
   "execution_count": 1966,
   "id": "e5f88e3b",
   "metadata": {},
   "outputs": [],
   "source": [
    "# Subsetting full dataset for each month\n",
    "jan = US_data[US_data[\"Date\"].dt.month == 1]\n",
    "feb = US_data[US_data[\"Date\"].dt.month == 2]\n",
    "mar = US_data[US_data[\"Date\"].dt.month == 3]\n",
    "apr = US_data[US_data[\"Date\"].dt.month == 4]\n",
    "may = US_data[US_data[\"Date\"].dt.month == 5]\n",
    "june  = US_data[US_data[\"Date\"].dt.month == 6]\n",
    "july = US_data[US_data[\"Date\"].dt.month == 7]\n",
    "aug = US_data[US_data[\"Date\"].dt.month == 8]\n",
    "sept = US_data[US_data[\"Date\"].dt.month == 9]\n",
    "october = US_data[US_data[\"Date\"].dt.month == 10]\n",
    "nov = US_data[US_data[\"Date\"].dt.month == 11]\n",
    "dec = US_data[US_data[\"Date\"].dt.month == 12]"
   ]
  },
  {
   "cell_type": "code",
   "execution_count": 1967,
   "id": "d1a9c1e9",
   "metadata": {},
   "outputs": [],
   "source": [
    "# Creating series by calculating anomalies for each month \n",
    "s1 = (jan[\"AverageTemperature\"]) - (monthly_means[0])\n",
    "s2 = (feb[\"AverageTemperature\"]) - (monthly_means[1])\n",
    "s3 = (mar[\"AverageTemperature\"]) - (monthly_means[2])\n",
    "s4 = (apr[\"AverageTemperature\"]) - (monthly_means[3])\n",
    "s5 = (may[\"AverageTemperature\"]) - (monthly_means[4])\n",
    "s6 = (june[\"AverageTemperature\"]) - (monthly_means[5])\n",
    "s7 = (july[\"AverageTemperature\"]) - (monthly_means[6])\n",
    "s8 = (aug[\"AverageTemperature\"]) - (monthly_means[7])\n",
    "s9 = (sept[\"AverageTemperature\"]) - (monthly_means[8])\n",
    "s10 = (october[\"AverageTemperature\"]) - (monthly_means[9])\n",
    "s11 = (nov[\"AverageTemperature\"]) - (monthly_means[10])\n",
    "s12 = (dec[\"AverageTemperature\"]) - (monthly_means[11])"
   ]
  },
  {
   "cell_type": "code",
   "execution_count": 1968,
   "id": "a19f6b51",
   "metadata": {},
   "outputs": [],
   "source": [
    "# Creating a DF from all series\n",
    "df_temp = pd.concat([s1, s2, s3, s4, s5, s6, s7, s8, s9, s10, s11, s12], axis=1)"
   ]
  },
  {
   "cell_type": "code",
   "execution_count": 1969,
   "id": "a0c10e4d",
   "metadata": {},
   "outputs": [
    {
     "data": {
      "text/plain": [
       "0      -0.937333\n",
       "1      -0.122133\n",
       "2      -0.579467\n",
       "3      -1.922933\n",
       "4      -0.382433\n",
       "          ...   \n",
       "2308    0.261567\n",
       "2309    1.451767\n",
       "2310    0.596800\n",
       "2311    0.664567\n",
       "2312    1.917433\n",
       "Name: AverageTemperature, Length: 2313, dtype: float64"
      ]
     },
     "execution_count": 1969,
     "metadata": {},
     "output_type": "execute_result"
    }
   ],
   "source": [
    "# Combining columns for each month into one\n",
    "df_temp.bfill(axis=1).iloc[:, 0]"
   ]
  },
  {
   "cell_type": "code",
   "execution_count": 1970,
   "id": "93ba4788",
   "metadata": {},
   "outputs": [],
   "source": [
    "# Setting AverageAnomaly column to previous DF\n",
    "US_data[\"AverageAnomaly\"] = df_temp.bfill(axis=1).iloc[:, 0]"
   ]
  },
  {
   "cell_type": "code",
   "execution_count": 1971,
   "id": "25292d25",
   "metadata": {},
   "outputs": [],
   "source": [
    "df1 = US_data.copy()"
   ]
  },
  {
   "cell_type": "code",
   "execution_count": 1972,
   "id": "a4071eb6",
   "metadata": {},
   "outputs": [],
   "source": [
    "# Setting Date column as index\n",
    "df1.set_index(\"Date\", inplace=True)"
   ]
  },
  {
   "cell_type": "code",
   "execution_count": 1973,
   "id": "da682144",
   "metadata": {},
   "outputs": [
    {
     "data": {
      "text/html": [
       "<div>\n",
       "<style scoped>\n",
       "    .dataframe tbody tr th:only-of-type {\n",
       "        vertical-align: middle;\n",
       "    }\n",
       "\n",
       "    .dataframe tbody tr th {\n",
       "        vertical-align: top;\n",
       "    }\n",
       "\n",
       "    .dataframe thead th {\n",
       "        text-align: right;\n",
       "    }\n",
       "</style>\n",
       "<table border=\"1\" class=\"dataframe\">\n",
       "  <thead>\n",
       "    <tr style=\"text-align: right;\">\n",
       "      <th></th>\n",
       "      <th>AverageTemperature</th>\n",
       "      <th>AverageTemperatureUncertainty</th>\n",
       "      <th>AverageAnomaly</th>\n",
       "    </tr>\n",
       "    <tr>\n",
       "      <th>Date</th>\n",
       "      <th></th>\n",
       "      <th></th>\n",
       "      <th></th>\n",
       "    </tr>\n",
       "  </thead>\n",
       "  <tbody>\n",
       "    <tr>\n",
       "      <th>1821-01-01</th>\n",
       "      <td>-4.464</td>\n",
       "      <td>3.658</td>\n",
       "      <td>-0.937333</td>\n",
       "    </tr>\n",
       "    <tr>\n",
       "      <th>1821-02-01</th>\n",
       "      <td>-1.684</td>\n",
       "      <td>3.891</td>\n",
       "      <td>-0.122133</td>\n",
       "    </tr>\n",
       "    <tr>\n",
       "      <th>1821-03-01</th>\n",
       "      <td>1.953</td>\n",
       "      <td>2.700</td>\n",
       "      <td>-0.579467</td>\n",
       "    </tr>\n",
       "    <tr>\n",
       "      <th>1821-04-01</th>\n",
       "      <td>6.281</td>\n",
       "      <td>1.991</td>\n",
       "      <td>-1.922933</td>\n",
       "    </tr>\n",
       "    <tr>\n",
       "      <th>1821-05-01</th>\n",
       "      <td>13.429</td>\n",
       "      <td>2.212</td>\n",
       "      <td>-0.382433</td>\n",
       "    </tr>\n",
       "    <tr>\n",
       "      <th>...</th>\n",
       "      <td>...</td>\n",
       "      <td>...</td>\n",
       "      <td>...</td>\n",
       "    </tr>\n",
       "    <tr>\n",
       "      <th>2013-05-01</th>\n",
       "      <td>14.073</td>\n",
       "      <td>0.178</td>\n",
       "      <td>0.261567</td>\n",
       "    </tr>\n",
       "    <tr>\n",
       "      <th>2013-06-01</th>\n",
       "      <td>20.198</td>\n",
       "      <td>0.236</td>\n",
       "      <td>1.451767</td>\n",
       "    </tr>\n",
       "    <tr>\n",
       "      <th>2013-07-01</th>\n",
       "      <td>22.074</td>\n",
       "      <td>0.152</td>\n",
       "      <td>0.596800</td>\n",
       "    </tr>\n",
       "    <tr>\n",
       "      <th>2013-08-01</th>\n",
       "      <td>21.168</td>\n",
       "      <td>0.249</td>\n",
       "      <td>0.664567</td>\n",
       "    </tr>\n",
       "    <tr>\n",
       "      <th>2013-09-01</th>\n",
       "      <td>18.273</td>\n",
       "      <td>1.210</td>\n",
       "      <td>1.917433</td>\n",
       "    </tr>\n",
       "  </tbody>\n",
       "</table>\n",
       "<p>2313 rows × 3 columns</p>\n",
       "</div>"
      ],
      "text/plain": [
       "            AverageTemperature  AverageTemperatureUncertainty  AverageAnomaly\n",
       "Date                                                                         \n",
       "1821-01-01              -4.464                          3.658       -0.937333\n",
       "1821-02-01              -1.684                          3.891       -0.122133\n",
       "1821-03-01               1.953                          2.700       -0.579467\n",
       "1821-04-01               6.281                          1.991       -1.922933\n",
       "1821-05-01              13.429                          2.212       -0.382433\n",
       "...                        ...                            ...             ...\n",
       "2013-05-01              14.073                          0.178        0.261567\n",
       "2013-06-01              20.198                          0.236        1.451767\n",
       "2013-07-01              22.074                          0.152        0.596800\n",
       "2013-08-01              21.168                          0.249        0.664567\n",
       "2013-09-01              18.273                          1.210        1.917433\n",
       "\n",
       "[2313 rows x 3 columns]"
      ]
     },
     "execution_count": 1973,
     "metadata": {},
     "output_type": "execute_result"
    }
   ],
   "source": [
    "df1"
   ]
  },
  {
   "cell_type": "code",
   "execution_count": 1974,
   "id": "bf800db4",
   "metadata": {},
   "outputs": [],
   "source": [
    "# Creating DF from subsetted copy of full dataset\n",
    "df_temp = df1.copy()\n",
    "df_temp.drop(columns=[\"AverageTemperature\", \"AverageTemperatureUncertainty\"], inplace=True)"
   ]
  },
  {
   "cell_type": "code",
   "execution_count": 1975,
   "id": "05522f13",
   "metadata": {},
   "outputs": [
    {
     "data": {
      "text/html": [
       "<div>\n",
       "<style scoped>\n",
       "    .dataframe tbody tr th:only-of-type {\n",
       "        vertical-align: middle;\n",
       "    }\n",
       "\n",
       "    .dataframe tbody tr th {\n",
       "        vertical-align: top;\n",
       "    }\n",
       "\n",
       "    .dataframe thead th {\n",
       "        text-align: right;\n",
       "    }\n",
       "</style>\n",
       "<table border=\"1\" class=\"dataframe\">\n",
       "  <thead>\n",
       "    <tr style=\"text-align: right;\">\n",
       "      <th></th>\n",
       "      <th>AverageAnomaly</th>\n",
       "    </tr>\n",
       "    <tr>\n",
       "      <th>Date</th>\n",
       "      <th></th>\n",
       "    </tr>\n",
       "  </thead>\n",
       "  <tbody>\n",
       "    <tr>\n",
       "      <th>1821-01-01</th>\n",
       "      <td>-0.937333</td>\n",
       "    </tr>\n",
       "    <tr>\n",
       "      <th>1821-02-01</th>\n",
       "      <td>-0.122133</td>\n",
       "    </tr>\n",
       "    <tr>\n",
       "      <th>1821-03-01</th>\n",
       "      <td>-0.579467</td>\n",
       "    </tr>\n",
       "    <tr>\n",
       "      <th>1821-04-01</th>\n",
       "      <td>-1.922933</td>\n",
       "    </tr>\n",
       "    <tr>\n",
       "      <th>1821-05-01</th>\n",
       "      <td>-0.382433</td>\n",
       "    </tr>\n",
       "    <tr>\n",
       "      <th>...</th>\n",
       "      <td>...</td>\n",
       "    </tr>\n",
       "    <tr>\n",
       "      <th>2013-05-01</th>\n",
       "      <td>0.261567</td>\n",
       "    </tr>\n",
       "    <tr>\n",
       "      <th>2013-06-01</th>\n",
       "      <td>1.451767</td>\n",
       "    </tr>\n",
       "    <tr>\n",
       "      <th>2013-07-01</th>\n",
       "      <td>0.596800</td>\n",
       "    </tr>\n",
       "    <tr>\n",
       "      <th>2013-08-01</th>\n",
       "      <td>0.664567</td>\n",
       "    </tr>\n",
       "    <tr>\n",
       "      <th>2013-09-01</th>\n",
       "      <td>1.917433</td>\n",
       "    </tr>\n",
       "  </tbody>\n",
       "</table>\n",
       "<p>2313 rows × 1 columns</p>\n",
       "</div>"
      ],
      "text/plain": [
       "            AverageAnomaly\n",
       "Date                      \n",
       "1821-01-01       -0.937333\n",
       "1821-02-01       -0.122133\n",
       "1821-03-01       -0.579467\n",
       "1821-04-01       -1.922933\n",
       "1821-05-01       -0.382433\n",
       "...                    ...\n",
       "2013-05-01        0.261567\n",
       "2013-06-01        1.451767\n",
       "2013-07-01        0.596800\n",
       "2013-08-01        0.664567\n",
       "2013-09-01        1.917433\n",
       "\n",
       "[2313 rows x 1 columns]"
      ]
     },
     "execution_count": 1975,
     "metadata": {},
     "output_type": "execute_result"
    }
   ],
   "source": [
    "df_temp"
   ]
  },
  {
   "cell_type": "code",
   "execution_count": 1976,
   "id": "841a9b78",
   "metadata": {},
   "outputs": [
    {
     "data": {
      "text/plain": [
       "[<matplotlib.lines.Line2D at 0x1181e912130>]"
      ]
     },
     "execution_count": 1976,
     "metadata": {},
     "output_type": "execute_result"
    },
    {
     "data": {
      "image/png": "[encoded data removed]",
      "text/plain": [
       "<Figure size 720x576 with 1 Axes>"
      ]
     },
     "metadata": {
      "needs_background": "light"
     },
     "output_type": "display_data"
    }
   ],
   "source": [
    "# Plotting average temperature anomalies\n",
    "plt.figure(figsize=(10, 8))\n",
    "plt.xlabel(\"Time\")\n",
    "plt.ylabel(\"Temperature Anomaly (°Celsius)\")\n",
    "plt.title(\"United States Temperature Anomaly From Monthly Average\")\n",
    "plt.plot(df_temp, linewidth=1.0)"
   ]
  },
  {
   "cell_type": "code",
   "execution_count": 1977,
   "id": "e104fe12",
   "metadata": {},
   "outputs": [
    {
     "data": {
      "text/html": [
       "<div>\n",
       "<style scoped>\n",
       "    .dataframe tbody tr th:only-of-type {\n",
       "        vertical-align: middle;\n",
       "    }\n",
       "\n",
       "    .dataframe tbody tr th {\n",
       "        vertical-align: top;\n",
       "    }\n",
       "\n",
       "    .dataframe thead th {\n",
       "        text-align: right;\n",
       "    }\n",
       "</style>\n",
       "<table border=\"1\" class=\"dataframe\">\n",
       "  <thead>\n",
       "    <tr style=\"text-align: right;\">\n",
       "      <th></th>\n",
       "      <th>AverageAnomaly</th>\n",
       "    </tr>\n",
       "    <tr>\n",
       "      <th>Date</th>\n",
       "      <th></th>\n",
       "    </tr>\n",
       "  </thead>\n",
       "  <tbody>\n",
       "    <tr>\n",
       "      <th>1821-12-31</th>\n",
       "      <td>-0.933758</td>\n",
       "    </tr>\n",
       "    <tr>\n",
       "      <th>1822-12-31</th>\n",
       "      <td>-0.551008</td>\n",
       "    </tr>\n",
       "    <tr>\n",
       "      <th>1823-12-31</th>\n",
       "      <td>-1.026842</td>\n",
       "    </tr>\n",
       "    <tr>\n",
       "      <th>1824-12-31</th>\n",
       "      <td>-0.435592</td>\n",
       "    </tr>\n",
       "    <tr>\n",
       "      <th>1825-12-31</th>\n",
       "      <td>0.028658</td>\n",
       "    </tr>\n",
       "  </tbody>\n",
       "</table>\n",
       "</div>"
      ],
      "text/plain": [
       "            AverageAnomaly\n",
       "Date                      \n",
       "1821-12-31       -0.933758\n",
       "1822-12-31       -0.551008\n",
       "1823-12-31       -1.026842\n",
       "1824-12-31       -0.435592\n",
       "1825-12-31        0.028658"
      ]
     },
     "execution_count": 1977,
     "metadata": {},
     "output_type": "execute_result"
    }
   ],
   "source": [
    "# Resample dataset from yearly means\n",
    "df_temp.resample(\"A\").mean().head()"
   ]
  },
  {
   "cell_type": "code",
   "execution_count": 1978,
   "id": "14ec7af5",
   "metadata": {},
   "outputs": [
    {
     "data": {
      "image/png": "[encoded data removed]",
      "text/plain": [
       "<Figure size 720x576 with 1 Axes>"
      ]
     },
     "metadata": {
      "needs_background": "light"
     },
     "output_type": "display_data"
    }
   ],
   "source": [
    "# Create new DF from resampled dataset\n",
    "df_temp_resampled = df_temp.resample('A').mean()\n",
    "\n",
    "# Plot temperature anomalies from resampled dataset\n",
    "fig, ax = plt.subplots(figsize=(10, 8))\n",
    "\n",
    "ax.plot(df_temp_resampled, linewidth=2.5)\n",
    "ax.set(xlabel=\"Time (years)\", ylabel=\"Temperature Anomaly (°Celsius)\", title=\"United States Temperature Anomalies\")\n",
    "\n",
    "ax.grid()"
   ]
  },
  {
   "cell_type": "code",
   "execution_count": 1979,
   "id": "b09f6957",
   "metadata": {},
   "outputs": [
    {
     "data": {
      "application/vnd.plotly.v1+json": {
       "config": {
        "linkText": "Export to plot.ly",
        "plotlyServerURL": "https://plot.ly",
        "showLink": true
       },
       "data": [
        {
         "line": {
          "color": "rgba(255, 153, 51, 1.0)",
          "dash": "solid",
          "shape": "linear",
          "width": 1.3
         },
         "mode": "lines",
         "name": "AverageAnomaly",
         "text": "",
         "type": "scatter",
         "x": [
          "1821-12-31",
          "1822-12-31",
          "1823-12-31",
          "1824-12-31",
          "1825-12-31",
          "1826-12-31",
          "1827-12-31",
          "1828-12-31",
          "1829-12-31",
          "1830-12-31",
          "1831-12-31",
          "1832-12-31",
          "1833-12-31",
          "1834-12-31",
          "1835-12-31",
          "1836-12-31",
          "1837-12-31",
          "1838-12-31",
          "1839-12-31",
          "1840-12-31",
          "1841-12-31",
          "1842-12-31",
          "1843-12-31",
          "1844-12-31",
          "1845-12-31",
          "1846-12-31",
          "1847-12-31",
          "1848-12-31",
          "1849-12-31",
          "1850-12-31",
          "1851-12-31",
          "1852-12-31",
          "1853-12-31",
          "1854-12-31",
          "1855-12-31",
          "1856-12-31",
          "1857-12-31",
          "1858-12-31",
          "1859-12-31",
          "1860-12-31",
          "1861-12-31",
          "1862-12-31",
          "1863-12-31",
          "1864-12-31",
          "1865-12-31",
          "1866-12-31",
          "1867-12-31",
          "1868-12-31",
          "1869-12-31",
          "1870-12-31",
          "1871-12-31",
          "1872-12-31",
          "1873-12-31",
          "1874-12-31",
          "1875-12-31",
          "1876-12-31",
          "1877-12-31",
          "1878-12-31",
          "1879-12-31",
          "1880-12-31",
          "1881-12-31",
          "1882-12-31",
          "1883-12-31",
          "1884-12-31",
          "1885-12-31",
          "1886-12-31",
          "1887-12-31",
          "1888-12-31",
          "1889-12-31",
          "1890-12-31",
          "1891-12-31",
          "1892-12-31",
          "1893-12-31",
          "1894-12-31",
          "1895-12-31",
          "1896-12-31",
          "1897-12-31",
          "1898-12-31",
          "1899-12-31",
          "1900-12-31",
          "1901-12-31",
          "1902-12-31",
          "1903-12-31",
          "1904-12-31",
          "1905-12-31",
          "1906-12-31",
          "1907-12-31",
          "1908-12-31",
          "1909-12-31",
          "1910-12-31",
          "1911-12-31",
          "1912-12-31",
          "1913-12-31",
          "1914-12-31",
          "1915-12-31",
          "1916-12-31",
          "1917-12-31",
          "1918-12-31",
          "1919-12-31",
          "1920-12-31",
          "1921-12-31",
          "1922-12-31",
          "1923-12-31",
          "1924-12-31",
          "1925-12-31",
          "1926-12-31",
          "1927-12-31",
          "1928-12-31",
          "1929-12-31",
          "1930-12-31",
          "1931-12-31",
          "1932-12-31",
          "1933-12-31",
          "1934-12-31",
          "1935-12-31",
          "1936-12-31",
          "1937-12-31",
          "1938-12-31",
          "1939-12-31",
          "1940-12-31",
          "1941-12-31",
          "1942-12-31",
          "1943-12-31",
          "1944-12-31",
          "1945-12-31",
          "1946-12-31",
          "1947-12-31",
          "1948-12-31",
          "1949-12-31",
          "1950-12-31",
          "1951-12-31",
          "1952-12-31",
          "1953-12-31",
          "1954-12-31",
          "1955-12-31",
          "1956-12-31",
          "1957-12-31",
          "1958-12-31",
          "1959-12-31",
          "1960-12-31",
          "1961-12-31",
          "1962-12-31",
          "1963-12-31",
          "1964-12-31",
          "1965-12-31",
          "1966-12-31",
          "1967-12-31",
          "1968-12-31",
          "1969-12-31",
          "1970-12-31",
          "1971-12-31",
          "1972-12-31",
          "1973-12-31",
          "1974-12-31",
          "1975-12-31",
          "1976-12-31",
          "1977-12-31",
          "1978-12-31",
          "1979-12-31",
          "1980-12-31",
          "1981-12-31",
          "1982-12-31",
          "1983-12-31",
          "1984-12-31",
          "1985-12-31",
          "1986-12-31",
          "1987-12-31",
          "1988-12-31",
          "1989-12-31",
          "1990-12-31",
          "1991-12-31",
          "1992-12-31",
          "1993-12-31",
          "1994-12-31",
          "1995-12-31",
          "1996-12-31",
          "1997-12-31",
          "1998-12-31",
          "1999-12-31",
          "2000-12-31",
          "2001-12-31",
          "2002-12-31",
          "2003-12-31",
          "2004-12-31",
          "2005-12-31",
          "2006-12-31",
          "2007-12-31",
          "2008-12-31",
          "2009-12-31",
          "2010-12-31",
          "2011-12-31",
          "2012-12-31",
          "2013-12-31"
         ],
         "y": [
          -0.9337583333333322,
          -0.5510083333333323,
          -1.0268416666666658,
          -0.43559166666666577,
          0.02865833333333412,
          -0.35884166666666584,
          0.1641583333333343,
          -0.0893416666666657,
          -0.5485916666666656,
          0.27724166666666794,
          -1.2170916666666656,
          -0.6904249999999986,
          -0.12592499999999904,
          -0.10825833333333235,
          -1.3985916666666658,
          -1.373924999999999,
          -0.9534249999999993,
          -1.3891749999999996,
          -0.4156749999999993,
          -0.6863416666666655,
          -0.7885916666666657,
          -0.5795083333333318,
          -1.1541749999999984,
          -0.8550083333333328,
          -0.5289249999999992,
          0.19849166666666776,
          -1.0307583333333328,
          -0.9210083333333324,
          -0.8086749999999995,
          -0.6895083333333321,
          -0.2803416666666656,
          -0.7547583333333322,
          -0.4779249999999993,
          -0.11659166666666576,
          -0.47842499999999905,
          -0.994591666666666,
          -0.7975083333333323,
          -0.5250083333333325,
          -0.9210083333333324,
          -0.35692499999999905,
          -0.2873416666666659,
          -0.7238416666666659,
          -0.49159166666666576,
          -0.5567583333333322,
          -0.44217499999999893,
          -0.6035083333333325,
          -0.4288416666666657,
          -0.7304249999999985,
          -0.6265916666666659,
          -0.10834166666666578,
          -0.23109166666666558,
          -0.9370916666666654,
          -0.8747583333333327,
          -0.16984166666666575,
          -1.088174999999999,
          -0.8388416666666655,
          -0.24125833333333213,
          0.07932500000000076,
          -0.2545916666666655,
          -0.8275083333333324,
          -0.29434166666666567,
          -0.5679249999999993,
          -0.9955916666666657,
          -0.9798416666666658,
          -0.7794249999999989,
          -0.7560083333333324,
          -0.7942583333333325,
          -0.7650083333333321,
          -0.13975833333333257,
          -0.378674999999999,
          -0.6210916666666659,
          -0.7598416666666656,
          -0.7668416666666661,
          -0.47109166666666624,
          -1.0905083333333323,
          -0.4542583333333325,
          -0.4646749999999991,
          -0.509924999999999,
          -0.7710083333333323,
          0.08374166666666795,
          -0.44292499999999907,
          -0.48384166666666567,
          -0.9605916666666658,
          -0.7371749999999996,
          -0.5355083333333327,
          -0.3777583333333319,
          -0.5438416666666658,
          -0.18225833333333186,
          -0.7160083333333321,
          -0.17992499999999925,
          -0.19992499999999905,
          -0.7969249999999989,
          -0.38567499999999894,
          -0.06134166666666613,
          -0.28959166666666625,
          -0.7577583333333323,
          -1.268341666666666,
          -0.43659166666666577,
          -0.399841666666666,
          -0.7533416666666657,
          0.657825000000001,
          -0.169674999999999,
          -0.1775083333333319,
          -0.8855083333333327,
          0.07857500000000073,
          0.20240833333333455,
          -0.2185083333333323,
          -0.06184166666666572,
          -0.49834166666666563,
          -0.2001749999999989,
          0.6229083333333346,
          -0.39834166666666565,
          0.09274166666666805,
          0.8887416666666677,
          -0.19534166666666594,
          -0.015591666666665763,
          -0.207091666666666,
          0.5339916666666678,
          0.36965833333333437,
          0.15932500000000127,
          0.32824166666666743,
          -0.018508333333332367,
          0.06565833333333382,
          -0.03967499999999927,
          -0.26659166666666567,
          0.24174166666666785,
          -0.10175833333333197,
          -0.45617499999999894,
          -0.04975833333333209,
          -0.28142499999999887,
          -0.5212583333333322,
          0.04157500000000075,
          0.5925750000000009,
          0.4727416666666679,
          -0.4206749999999991,
          -0.23792499999999875,
          0.1884916666666675,
          0.03232500000000151,
          -0.11250833333333245,
          -0.2455916666666658,
          -0.2958416666666656,
          0.01865833333333446,
          0.14215833333333436,
          -0.4461749999999991,
          -0.29017499999999896,
          -0.45484166666666564,
          -0.03584166666666581,
          -0.38459166666666555,
          -0.16700833333333276,
          -0.2648416666666657,
          -0.49534166666666596,
          -0.5097583333333322,
          -0.0031749999999988545,
          -0.12192499999999896,
          -0.5068416666666656,
          -0.28659166666666575,
          0.33199166666666713,
          -0.18642499999999915,
          -0.36625833333333285,
          0.1976583333333344,
          0.7836583333333342,
          -0.3983416666666655,
          -0.025508333333332578,
          -0.12667499999999907,
          -0.35084166666666544,
          0.6216583333333343,
          0.6903250000000005,
          0.33749166666666747,
          -0.06475833333333224,
          0.5837416666666678,
          0.5558250000000009,
          0.11849166666666777,
          -0.0705916666666655,
          0.3324916666666676,
          0.39315833333333433,
          -0.18350833333333225,
          0.23507500000000112,
          1.203325000000001,
          0.6291583333333344,
          0.7119083333333345,
          0.8477416666666676,
          0.878325000000001,
          0.8172416666666669,
          0.7296583333333344,
          0.9548250000000013,
          1.0366583333333346,
          0.8996583333333339,
          0.0135750000000013,
          0.19924166666666746,
          0.5677416666666684,
          0.6120750000000009,
          1.3232416666666678,
          0.5702518518518538
         ]
        }
       ],
       "layout": {
        "legend": {
         "bgcolor": "#F5F6F9",
         "font": {
          "color": "#4D5663"
         }
        },
        "paper_bgcolor": "#F5F6F9",
        "plot_bgcolor": "#F5F6F9",
        "template": {
         "data": {
          "bar": [
           {
            "error_x": {
             "color": "#2a3f5f"
            },
            "error_y": {
             "color": "#2a3f5f"
            },
            "marker": {
             "line": {
              "color": "#E5ECF6",
              "width": 0.5
             },
             "pattern": {
              "fillmode": "overlay",
              "size": 10,
              "solidity": 0.2
             }
            },
            "type": "bar"
           }
          ],
          "barpolar": [
           {
            "marker": {
             "line": {
              "color": "#E5ECF6",
              "width": 0.5
             },
             "pattern": {
              "fillmode": "overlay",
              "size": 10,
              "solidity": 0.2
             }
            },
            "type": "barpolar"
           }
          ],
          "carpet": [
           {
            "aaxis": {
             "endlinecolor": "#2a3f5f",
             "gridcolor": "white",
             "linecolor": "white",
             "minorgridcolor": "white",
             "startlinecolor": "#2a3f5f"
            },
            "baxis": {
             "endlinecolor": "#2a3f5f",
             "gridcolor": "white",
             "linecolor": "white",
             "minorgridcolor": "white",
             "startlinecolor": "#2a3f5f"
            },
            "type": "carpet"
           }
          ],
          "choropleth": [
           {
            "colorbar": {
             "outlinewidth": 0,
             "ticks": ""
            },
            "type": "choropleth"
           }
          ],
          "contour": [
           {
            "colorbar": {
             "outlinewidth": 0,
             "ticks": ""
            },
            "colorscale": [
             [
              0,
              "#0d0887"
             ],
             [
              0.1111111111111111,
              "#46039f"
             ],
             [
              0.2222222222222222,
              "#7201a8"
             ],
             [
              0.3333333333333333,
              "#9c179e"
             ],
             [
              0.4444444444444444,
              "#bd3786"
             ],
             [
              0.5555555555555556,
              "#d8576b"
             ],
             [
              0.6666666666666666,
              "#ed7953"
             ],
             [
              0.7777777777777778,
              "#fb9f3a"
             ],
             [
              0.8888888888888888,
              "#fdca26"
             ],
             [
              1,
              "#f0f921"
             ]
            ],
            "type": "contour"
           }
          ],
          "contourcarpet": [
           {
            "colorbar": {
             "outlinewidth": 0,
             "ticks": ""
            },
            "type": "contourcarpet"
           }
          ],
          "heatmap": [
           {
            "colorbar": {
             "outlinewidth": 0,
             "ticks": ""
            },
            "colorscale": [
             [
              0,
              "#0d0887"
             ],
             [
              0.1111111111111111,
              "#46039f"
             ],
             [
              0.2222222222222222,
              "#7201a8"
             ],
             [
              0.3333333333333333,
              "#9c179e"
             ],
             [
              0.4444444444444444,
              "#bd3786"
             ],
             [
              0.5555555555555556,
              "#d8576b"
             ],
             [
              0.6666666666666666,
              "#ed7953"
             ],
             [
              0.7777777777777778,
              "#fb9f3a"
             ],
             [
              0.8888888888888888,
              "#fdca26"
             ],
             [
              1,
              "#f0f921"
             ]
            ],
            "type": "heatmap"
           }
          ],
          "heatmapgl": [
           {
            "colorbar": {
             "outlinewidth": 0,
             "ticks": ""
            },
            "colorscale": [
             [
              0,
              "#0d0887"
             ],
             [
              0.1111111111111111,
              "#46039f"
             ],
             [
              0.2222222222222222,
              "#7201a8"
             ],
             [
              0.3333333333333333,
              "#9c179e"
             ],
             [
              0.4444444444444444,
              "#bd3786"
             ],
             [
              0.5555555555555556,
              "#d8576b"
             ],
             [
              0.6666666666666666,
              "#ed7953"
             ],
             [
              0.7777777777777778,
              "#fb9f3a"
             ],
             [
              0.8888888888888888,
              "#fdca26"
             ],
             [
              1,
              "#f0f921"
             ]
            ],
            "type": "heatmapgl"
           }
          ],
          "histogram": [
           {
            "marker": {
             "pattern": {
              "fillmode": "overlay",
              "size": 10,
              "solidity": 0.2
             }
            },
            "type": "histogram"
           }
          ],
          "histogram2d": [
           {
            "colorbar": {
             "outlinewidth": 0,
             "ticks": ""
            },
            "colorscale": [
             [
              0,
              "#0d0887"
             ],
             [
              0.1111111111111111,
              "#46039f"
             ],
             [
              0.2222222222222222,
              "#7201a8"
             ],
             [
              0.3333333333333333,
              "#9c179e"
             ],
             [
              0.4444444444444444,
              "#bd3786"
             ],
             [
              0.5555555555555556,
              "#d8576b"
             ],
             [
              0.6666666666666666,
              "#ed7953"
             ],
             [
              0.7777777777777778,
              "#fb9f3a"
             ],
             [
              0.8888888888888888,
              "#fdca26"
             ],
             [
              1,
              "#f0f921"
             ]
            ],
            "type": "histogram2d"
           }
          ],
          "histogram2dcontour": [
           {
            "colorbar": {
             "outlinewidth": 0,
             "ticks": ""
            },
            "colorscale": [
             [
              0,
              "#0d0887"
             ],
             [
              0.1111111111111111,
              "#46039f"
             ],
             [
              0.2222222222222222,
              "#7201a8"
             ],
             [
              0.3333333333333333,
              "#9c179e"
             ],
             [
              0.4444444444444444,
              "#bd3786"
             ],
             [
              0.5555555555555556,
              "#d8576b"
             ],
             [
              0.6666666666666666,
              "#ed7953"
             ],
             [
              0.7777777777777778,
              "#fb9f3a"
             ],
             [
              0.8888888888888888,
              "#fdca26"
             ],
             [
              1,
              "#f0f921"
             ]
            ],
            "type": "histogram2dcontour"
           }
          ],
          "mesh3d": [
           {
            "colorbar": {
             "outlinewidth": 0,
             "ticks": ""
            },
            "type": "mesh3d"
           }
          ],
          "parcoords": [
           {
            "line": {
             "colorbar": {
              "outlinewidth": 0,
              "ticks": ""
             }
            },
            "type": "parcoords"
           }
          ],
          "pie": [
           {
            "automargin": true,
            "type": "pie"
           }
          ],
          "scatter": [
           {
            "marker": {
             "colorbar": {
              "outlinewidth": 0,
              "ticks": ""
             }
            },
            "type": "scatter"
           }
          ],
          "scatter3d": [
           {
            "line": {
             "colorbar": {
              "outlinewidth": 0,
              "ticks": ""
             }
            },
            "marker": {
             "colorbar": {
              "outlinewidth": 0,
              "ticks": ""
             }
            },
            "type": "scatter3d"
           }
          ],
          "scattercarpet": [
           {
            "marker": {
             "colorbar": {
              "outlinewidth": 0,
              "ticks": ""
             }
            },
            "type": "scattercarpet"
           }
          ],
          "scattergeo": [
           {
            "marker": {
             "colorbar": {
              "outlinewidth": 0,
              "ticks": ""
             }
            },
            "type": "scattergeo"
           }
          ],
          "scattergl": [
           {
            "marker": {
             "colorbar": {
              "outlinewidth": 0,
              "ticks": ""
             }
            },
            "type": "scattergl"
           }
          ],
          "scattermapbox": [
           {
            "marker": {
             "colorbar": {
              "outlinewidth": 0,
              "ticks": ""
             }
            },
            "type": "scattermapbox"
           }
          ],
          "scatterpolar": [
           {
            "marker": {
             "colorbar": {
              "outlinewidth": 0,
              "ticks": ""
             }
            },
            "type": "scatterpolar"
           }
          ],
          "scatterpolargl": [
           {
            "marker": {
             "colorbar": {
              "outlinewidth": 0,
              "ticks": ""
             }
            },
            "type": "scatterpolargl"
           }
          ],
          "scatterternary": [
           {
            "marker": {
             "colorbar": {
              "outlinewidth": 0,
              "ticks": ""
             }
            },
            "type": "scatterternary"
           }
          ],
          "surface": [
           {
            "colorbar": {
             "outlinewidth": 0,
             "ticks": ""
            },
            "colorscale": [
             [
              0,
              "#0d0887"
             ],
             [
              0.1111111111111111,
              "#46039f"
             ],
             [
              0.2222222222222222,
              "#7201a8"
             ],
             [
              0.3333333333333333,
              "#9c179e"
             ],
             [
              0.4444444444444444,
              "#bd3786"
             ],
             [
              0.5555555555555556,
              "#d8576b"
             ],
             [
              0.6666666666666666,
              "#ed7953"
             ],
             [
              0.7777777777777778,
              "#fb9f3a"
             ],
             [
              0.8888888888888888,
              "#fdca26"
             ],
             [
              1,
              "#f0f921"
             ]
            ],
            "type": "surface"
           }
          ],
          "table": [
           {
            "cells": {
             "fill": {
              "color": "#EBF0F8"
             },
             "line": {
              "color": "white"
             }
            },
            "header": {
             "fill": {
              "color": "#C8D4E3"
             },
             "line": {
              "color": "white"
             }
            },
            "type": "table"
           }
          ]
         },
         "layout": {
          "annotationdefaults": {
           "arrowcolor": "#2a3f5f",
           "arrowhead": 0,
           "arrowwidth": 1
          },
          "autotypenumbers": "strict",
          "coloraxis": {
           "colorbar": {
            "outlinewidth": 0,
            "ticks": ""
           }
          },
          "colorscale": {
           "diverging": [
            [
             0,
             "#8e0152"
            ],
            [
             0.1,
             "#c51b7d"
            ],
            [
             0.2,
             "#de77ae"
            ],
            [
             0.3,
             "#f1b6da"
            ],
            [
             0.4,
             "#fde0ef"
            ],
            [
             0.5,
             "#f7f7f7"
            ],
            [
             0.6,
             "#e6f5d0"
            ],
            [
             0.7,
             "#b8e186"
            ],
            [
             0.8,
             "#7fbc41"
            ],
            [
             0.9,
             "#4d9221"
            ],
            [
             1,
             "#276419"
            ]
           ],
           "sequential": [
            [
             0,
             "#0d0887"
            ],
            [
             0.1111111111111111,
             "#46039f"
            ],
            [
             0.2222222222222222,
             "#7201a8"
            ],
            [
             0.3333333333333333,
             "#9c179e"
            ],
            [
             0.4444444444444444,
             "#bd3786"
            ],
            [
             0.5555555555555556,
             "#d8576b"
            ],
            [
             0.6666666666666666,
             "#ed7953"
            ],
            [
             0.7777777777777778,
             "#fb9f3a"
            ],
            [
             0.8888888888888888,
             "#fdca26"
            ],
            [
             1,
             "#f0f921"
            ]
           ],
           "sequentialminus": [
            [
             0,
             "#0d0887"
            ],
            [
             0.1111111111111111,
             "#46039f"
            ],
            [
             0.2222222222222222,
             "#7201a8"
            ],
            [
             0.3333333333333333,
             "#9c179e"
            ],
            [
             0.4444444444444444,
             "#bd3786"
            ],
            [
             0.5555555555555556,
             "#d8576b"
            ],
            [
             0.6666666666666666,
             "#ed7953"
            ],
            [
             0.7777777777777778,
             "#fb9f3a"
            ],
            [
             0.8888888888888888,
             "#fdca26"
            ],
            [
             1,
             "#f0f921"
            ]
           ]
          },
          "colorway": [
           "#636efa",
           "#EF553B",
           "#00cc96",
           "#ab63fa",
           "#FFA15A",
           "#19d3f3",
           "#FF6692",
           "#B6E880",
           "#FF97FF",
           "#FECB52"
          ],
          "font": {
           "color": "#2a3f5f"
          },
          "geo": {
           "bgcolor": "white",
           "lakecolor": "white",
           "landcolor": "#E5ECF6",
           "showlakes": true,
           "showland": true,
           "subunitcolor": "white"
          },
          "hoverlabel": {
           "align": "left"
          },
          "hovermode": "closest",
          "mapbox": {
           "style": "light"
          },
          "paper_bgcolor": "white",
          "plot_bgcolor": "#E5ECF6",
          "polar": {
           "angularaxis": {
            "gridcolor": "white",
            "linecolor": "white",
            "ticks": ""
           },
           "bgcolor": "#E5ECF6",
           "radialaxis": {
            "gridcolor": "white",
            "linecolor": "white",
            "ticks": ""
           }
          },
          "scene": {
           "xaxis": {
            "backgroundcolor": "#E5ECF6",
            "gridcolor": "white",
            "gridwidth": 2,
            "linecolor": "white",
            "showbackground": true,
            "ticks": "",
            "zerolinecolor": "white"
           },
           "yaxis": {
            "backgroundcolor": "#E5ECF6",
            "gridcolor": "white",
            "gridwidth": 2,
            "linecolor": "white",
            "showbackground": true,
            "ticks": "",
            "zerolinecolor": "white"
           },
           "zaxis": {
            "backgroundcolor": "#E5ECF6",
            "gridcolor": "white",
            "gridwidth": 2,
            "linecolor": "white",
            "showbackground": true,
            "ticks": "",
            "zerolinecolor": "white"
           }
          },
          "shapedefaults": {
           "line": {
            "color": "#2a3f5f"
           }
          },
          "ternary": {
           "aaxis": {
            "gridcolor": "white",
            "linecolor": "white",
            "ticks": ""
           },
           "baxis": {
            "gridcolor": "white",
            "linecolor": "white",
            "ticks": ""
           },
           "bgcolor": "#E5ECF6",
           "caxis": {
            "gridcolor": "white",
            "linecolor": "white",
            "ticks": ""
           }
          },
          "title": {
           "x": 0.05
          },
          "xaxis": {
           "automargin": true,
           "gridcolor": "white",
           "linecolor": "white",
           "ticks": "",
           "title": {
            "standoff": 15
           },
           "zerolinecolor": "white",
           "zerolinewidth": 2
          },
          "yaxis": {
           "automargin": true,
           "gridcolor": "white",
           "linecolor": "white",
           "ticks": "",
           "title": {
            "standoff": 15
           },
           "zerolinecolor": "white",
           "zerolinewidth": 2
          }
         }
        },
        "title": {
         "font": {
          "color": "#4D5663"
         },
         "text": "United States Temperature Anomalies"
        },
        "xaxis": {
         "gridcolor": "#E1E5ED",
         "showgrid": true,
         "tickfont": {
          "color": "#4D5663"
         },
         "title": {
          "font": {
           "color": "#4D5663"
          },
          "text": "Time (years)"
         },
         "zerolinecolor": "#E1E5ED"
        },
        "yaxis": {
         "gridcolor": "#E1E5ED",
         "showgrid": true,
         "tickfont": {
          "color": "#4D5663"
         },
         "title": {
          "font": {
           "color": "#4D5663"
          },
          "text": "Temperature Anomaly (°Celsius)"
         },
         "zerolinecolor": "#E1E5ED"
        }
       }
      },
      "text/html": [
       "<div>                            <div id=\"0df2e47b-0894-4950-b2a8-a173dcfb3103\" class=\"plotly-graph-div\" style=\"height:525px; width:100%;\"></div>            <script type=\"text/javascript\">                require([\"plotly\"], function(Plotly) {                    window.PLOTLYENV=window.PLOTLYENV || {};\n",
       "                    window.PLOTLYENV.BASE_URL='https://plot.ly';                                    if (document.getElementById(\"0df2e47b-0894-4950-b2a8-a173dcfb3103\")) {                    Plotly.newPlot(                        \"0df2e47b-0894-4950-b2a8-a173dcfb3103\",                        [{\"line\":{\"color\":\"rgba(255, 153, 51, 1.0)\",\"dash\":\"solid\",\"shape\":\"linear\",\"width\":1.3},\"mode\":\"lines\",\"name\":\"AverageAnomaly\",\"text\":\"\",\"type\":\"scatter\",\"x\":[\"1821-12-31\",\"1822-12-31\",\"1823-12-31\",\"1824-12-31\",\"1825-12-31\",\"1826-12-31\",\"1827-12-31\",\"1828-12-31\",\"1829-12-31\",\"1830-12-31\",\"1831-12-31\",\"1832-12-31\",\"1833-12-31\",\"1834-12-31\",\"1835-12-31\",\"1836-12-31\",\"1837-12-31\",\"1838-12-31\",\"1839-12-31\",\"1840-12-31\",\"1841-12-31\",\"1842-12-31\",\"1843-12-31\",\"1844-12-31\",\"1845-12-31\",\"1846-12-31\",\"1847-12-31\",\"1848-12-31\",\"1849-12-31\",\"1850-12-31\",\"1851-12-31\",\"1852-12-31\",\"1853-12-31\",\"1854-12-31\",\"1855-12-31\",\"1856-12-31\",\"1857-12-31\",\"1858-12-31\",\"1859-12-31\",\"1860-12-31\",\"1861-12-31\",\"1862-12-31\",\"1863-12-31\",\"1864-12-31\",\"1865-12-31\",\"1866-12-31\",\"1867-12-31\",\"1868-12-31\",\"1869-12-31\",\"1870-12-31\",\"1871-12-31\",\"1872-12-31\",\"1873-12-31\",\"1874-12-31\",\"1875-12-31\",\"1876-12-31\",\"1877-12-31\",\"1878-12-31\",\"1879-12-31\",\"1880-12-31\",\"1881-12-31\",\"1882-12-31\",\"1883-12-31\",\"1884-12-31\",\"1885-12-31\",\"1886-12-31\",\"1887-12-31\",\"1888-12-31\",\"1889-12-31\",\"1890-12-31\",\"1891-12-31\",\"1892-12-31\",\"1893-12-31\",\"1894-12-31\",\"1895-12-31\",\"1896-12-31\",\"1897-12-31\",\"1898-12-31\",\"1899-12-31\",\"1900-12-31\",\"1901-12-31\",\"1902-12-31\",\"1903-12-31\",\"1904-12-31\",\"1905-12-31\",\"1906-12-31\",\"1907-12-31\",\"1908-12-31\",\"1909-12-31\",\"1910-12-31\",\"1911-12-31\",\"1912-12-31\",\"1913-12-31\",\"1914-12-31\",\"1915-12-31\",\"1916-12-31\",\"1917-12-31\",\"1918-12-31\",\"1919-12-31\",\"1920-12-31\",\"1921-12-31\",\"1922-12-31\",\"1923-12-31\",\"1924-12-31\",\"1925-12-31\",\"1926-12-31\",\"1927-12-31\",\"1928-12-31\",\"1929-12-31\",\"1930-12-31\",\"1931-12-31\",\"1932-12-31\",\"1933-12-31\",\"1934-12-31\",\"1935-12-31\",\"1936-12-31\",\"1937-12-31\",\"1938-12-31\",\"1939-12-31\",\"1940-12-31\",\"1941-12-31\",\"1942-12-31\",\"1943-12-31\",\"1944-12-31\",\"1945-12-31\",\"1946-12-31\",\"1947-12-31\",\"1948-12-31\",\"1949-12-31\",\"1950-12-31\",\"1951-12-31\",\"1952-12-31\",\"1953-12-31\",\"1954-12-31\",\"1955-12-31\",\"1956-12-31\",\"1957-12-31\",\"1958-12-31\",\"1959-12-31\",\"1960-12-31\",\"1961-12-31\",\"1962-12-31\",\"1963-12-31\",\"1964-12-31\",\"1965-12-31\",\"1966-12-31\",\"1967-12-31\",\"1968-12-31\",\"1969-12-31\",\"1970-12-31\",\"1971-12-31\",\"1972-12-31\",\"1973-12-31\",\"1974-12-31\",\"1975-12-31\",\"1976-12-31\",\"1977-12-31\",\"1978-12-31\",\"1979-12-31\",\"1980-12-31\",\"1981-12-31\",\"1982-12-31\",\"1983-12-31\",\"1984-12-31\",\"1985-12-31\",\"1986-12-31\",\"1987-12-31\",\"1988-12-31\",\"1989-12-31\",\"1990-12-31\",\"1991-12-31\",\"1992-12-31\",\"1993-12-31\",\"1994-12-31\",\"1995-12-31\",\"1996-12-31\",\"1997-12-31\",\"1998-12-31\",\"1999-12-31\",\"2000-12-31\",\"2001-12-31\",\"2002-12-31\",\"2003-12-31\",\"2004-12-31\",\"2005-12-31\",\"2006-12-31\",\"2007-12-31\",\"2008-12-31\",\"2009-12-31\",\"2010-12-31\",\"2011-12-31\",\"2012-12-31\",\"2013-12-31\"],\"y\":[-0.9337583333333322,-0.5510083333333323,-1.0268416666666658,-0.43559166666666577,0.02865833333333412,-0.35884166666666584,0.1641583333333343,-0.0893416666666657,-0.5485916666666656,0.27724166666666794,-1.2170916666666656,-0.6904249999999986,-0.12592499999999904,-0.10825833333333235,-1.3985916666666658,-1.373924999999999,-0.9534249999999993,-1.3891749999999996,-0.4156749999999993,-0.6863416666666655,-0.7885916666666657,-0.5795083333333318,-1.1541749999999984,-0.8550083333333328,-0.5289249999999992,0.19849166666666776,-1.0307583333333328,-0.9210083333333324,-0.8086749999999995,-0.6895083333333321,-0.2803416666666656,-0.7547583333333322,-0.4779249999999993,-0.11659166666666576,-0.47842499999999905,-0.994591666666666,-0.7975083333333323,-0.5250083333333325,-0.9210083333333324,-0.35692499999999905,-0.2873416666666659,-0.7238416666666659,-0.49159166666666576,-0.5567583333333322,-0.44217499999999893,-0.6035083333333325,-0.4288416666666657,-0.7304249999999985,-0.6265916666666659,-0.10834166666666578,-0.23109166666666558,-0.9370916666666654,-0.8747583333333327,-0.16984166666666575,-1.088174999999999,-0.8388416666666655,-0.24125833333333213,0.07932500000000076,-0.2545916666666655,-0.8275083333333324,-0.29434166666666567,-0.5679249999999993,-0.9955916666666657,-0.9798416666666658,-0.7794249999999989,-0.7560083333333324,-0.7942583333333325,-0.7650083333333321,-0.13975833333333257,-0.378674999999999,-0.6210916666666659,-0.7598416666666656,-0.7668416666666661,-0.47109166666666624,-1.0905083333333323,-0.4542583333333325,-0.4646749999999991,-0.509924999999999,-0.7710083333333323,0.08374166666666795,-0.44292499999999907,-0.48384166666666567,-0.9605916666666658,-0.7371749999999996,-0.5355083333333327,-0.3777583333333319,-0.5438416666666658,-0.18225833333333186,-0.7160083333333321,-0.17992499999999925,-0.19992499999999905,-0.7969249999999989,-0.38567499999999894,-0.06134166666666613,-0.28959166666666625,-0.7577583333333323,-1.268341666666666,-0.43659166666666577,-0.399841666666666,-0.7533416666666657,0.657825000000001,-0.169674999999999,-0.1775083333333319,-0.8855083333333327,0.07857500000000073,0.20240833333333455,-0.2185083333333323,-0.06184166666666572,-0.49834166666666563,-0.2001749999999989,0.6229083333333346,-0.39834166666666565,0.09274166666666805,0.8887416666666677,-0.19534166666666594,-0.015591666666665763,-0.207091666666666,0.5339916666666678,0.36965833333333437,0.15932500000000127,0.32824166666666743,-0.018508333333332367,0.06565833333333382,-0.03967499999999927,-0.26659166666666567,0.24174166666666785,-0.10175833333333197,-0.45617499999999894,-0.04975833333333209,-0.28142499999999887,-0.5212583333333322,0.04157500000000075,0.5925750000000009,0.4727416666666679,-0.4206749999999991,-0.23792499999999875,0.1884916666666675,0.03232500000000151,-0.11250833333333245,-0.2455916666666658,-0.2958416666666656,0.01865833333333446,0.14215833333333436,-0.4461749999999991,-0.29017499999999896,-0.45484166666666564,-0.03584166666666581,-0.38459166666666555,-0.16700833333333276,-0.2648416666666657,-0.49534166666666596,-0.5097583333333322,-0.0031749999999988545,-0.12192499999999896,-0.5068416666666656,-0.28659166666666575,0.33199166666666713,-0.18642499999999915,-0.36625833333333285,0.1976583333333344,0.7836583333333342,-0.3983416666666655,-0.025508333333332578,-0.12667499999999907,-0.35084166666666544,0.6216583333333343,0.6903250000000005,0.33749166666666747,-0.06475833333333224,0.5837416666666678,0.5558250000000009,0.11849166666666777,-0.0705916666666655,0.3324916666666676,0.39315833333333433,-0.18350833333333225,0.23507500000000112,1.203325000000001,0.6291583333333344,0.7119083333333345,0.8477416666666676,0.878325000000001,0.8172416666666669,0.7296583333333344,0.9548250000000013,1.0366583333333346,0.8996583333333339,0.0135750000000013,0.19924166666666746,0.5677416666666684,0.6120750000000009,1.3232416666666678,0.5702518518518538]}],                        {\"legend\":{\"bgcolor\":\"#F5F6F9\",\"font\":{\"color\":\"#4D5663\"}},\"paper_bgcolor\":\"#F5F6F9\",\"plot_bgcolor\":\"#F5F6F9\",\"template\":{\"data\":{\"bar\":[{\"error_x\":{\"color\":\"#2a3f5f\"},\"error_y\":{\"color\":\"#2a3f5f\"},\"marker\":{\"line\":{\"color\":\"#E5ECF6\",\"width\":0.5},\"pattern\":{\"fillmode\":\"overlay\",\"size\":10,\"solidity\":0.2}},\"type\":\"bar\"}],\"barpolar\":[{\"marker\":{\"line\":{\"color\":\"#E5ECF6\",\"width\":0.5},\"pattern\":{\"fillmode\":\"overlay\",\"size\":10,\"solidity\":0.2}},\"type\":\"barpolar\"}],\"carpet\":[{\"aaxis\":{\"endlinecolor\":\"#2a3f5f\",\"gridcolor\":\"white\",\"linecolor\":\"white\",\"minorgridcolor\":\"white\",\"startlinecolor\":\"#2a3f5f\"},\"baxis\":{\"endlinecolor\":\"#2a3f5f\",\"gridcolor\":\"white\",\"linecolor\":\"white\",\"minorgridcolor\":\"white\",\"startlinecolor\":\"#2a3f5f\"},\"type\":\"carpet\"}],\"choropleth\":[{\"colorbar\":{\"outlinewidth\":0,\"ticks\":\"\"},\"type\":\"choropleth\"}],\"contour\":[{\"colorbar\":{\"outlinewidth\":0,\"ticks\":\"\"},\"colorscale\":[[0.0,\"#0d0887\"],[0.1111111111111111,\"#46039f\"],[0.2222222222222222,\"#7201a8\"],[0.3333333333333333,\"#9c179e\"],[0.4444444444444444,\"#bd3786\"],[0.5555555555555556,\"#d8576b\"],[0.6666666666666666,\"#ed7953\"],[0.7777777777777778,\"#fb9f3a\"],[0.8888888888888888,\"#fdca26\"],[1.0,\"#f0f921\"]],\"type\":\"contour\"}],\"contourcarpet\":[{\"colorbar\":{\"outlinewidth\":0,\"ticks\":\"\"},\"type\":\"contourcarpet\"}],\"heatmap\":[{\"colorbar\":{\"outlinewidth\":0,\"ticks\":\"\"},\"colorscale\":[[0.0,\"#0d0887\"],[0.1111111111111111,\"#46039f\"],[0.2222222222222222,\"#7201a8\"],[0.3333333333333333,\"#9c179e\"],[0.4444444444444444,\"#bd3786\"],[0.5555555555555556,\"#d8576b\"],[0.6666666666666666,\"#ed7953\"],[0.7777777777777778,\"#fb9f3a\"],[0.8888888888888888,\"#fdca26\"],[1.0,\"#f0f921\"]],\"type\":\"heatmap\"}],\"heatmapgl\":[{\"colorbar\":{\"outlinewidth\":0,\"ticks\":\"\"},\"colorscale\":[[0.0,\"#0d0887\"],[0.1111111111111111,\"#46039f\"],[0.2222222222222222,\"#7201a8\"],[0.3333333333333333,\"#9c179e\"],[0.4444444444444444,\"#bd3786\"],[0.5555555555555556,\"#d8576b\"],[0.6666666666666666,\"#ed7953\"],[0.7777777777777778,\"#fb9f3a\"],[0.8888888888888888,\"#fdca26\"],[1.0,\"#f0f921\"]],\"type\":\"heatmapgl\"}],\"histogram\":[{\"marker\":{\"pattern\":{\"fillmode\":\"overlay\",\"size\":10,\"solidity\":0.2}},\"type\":\"histogram\"}],\"histogram2d\":[{\"colorbar\":{\"outlinewidth\":0,\"ticks\":\"\"},\"colorscale\":[[0.0,\"#0d0887\"],[0.1111111111111111,\"#46039f\"],[0.2222222222222222,\"#7201a8\"],[0.3333333333333333,\"#9c179e\"],[0.4444444444444444,\"#bd3786\"],[0.5555555555555556,\"#d8576b\"],[0.6666666666666666,\"#ed7953\"],[0.7777777777777778,\"#fb9f3a\"],[0.8888888888888888,\"#fdca26\"],[1.0,\"#f0f921\"]],\"type\":\"histogram2d\"}],\"histogram2dcontour\":[{\"colorbar\":{\"outlinewidth\":0,\"ticks\":\"\"},\"colorscale\":[[0.0,\"#0d0887\"],[0.1111111111111111,\"#46039f\"],[0.2222222222222222,\"#7201a8\"],[0.3333333333333333,\"#9c179e\"],[0.4444444444444444,\"#bd3786\"],[0.5555555555555556,\"#d8576b\"],[0.6666666666666666,\"#ed7953\"],[0.7777777777777778,\"#fb9f3a\"],[0.8888888888888888,\"#fdca26\"],[1.0,\"#f0f921\"]],\"type\":\"histogram2dcontour\"}],\"mesh3d\":[{\"colorbar\":{\"outlinewidth\":0,\"ticks\":\"\"},\"type\":\"mesh3d\"}],\"parcoords\":[{\"line\":{\"colorbar\":{\"outlinewidth\":0,\"ticks\":\"\"}},\"type\":\"parcoords\"}],\"pie\":[{\"automargin\":true,\"type\":\"pie\"}],\"scatter\":[{\"marker\":{\"colorbar\":{\"outlinewidth\":0,\"ticks\":\"\"}},\"type\":\"scatter\"}],\"scatter3d\":[{\"line\":{\"colorbar\":{\"outlinewidth\":0,\"ticks\":\"\"}},\"marker\":{\"colorbar\":{\"outlinewidth\":0,\"ticks\":\"\"}},\"type\":\"scatter3d\"}],\"scattercarpet\":[{\"marker\":{\"colorbar\":{\"outlinewidth\":0,\"ticks\":\"\"}},\"type\":\"scattercarpet\"}],\"scattergeo\":[{\"marker\":{\"colorbar\":{\"outlinewidth\":0,\"ticks\":\"\"}},\"type\":\"scattergeo\"}],\"scattergl\":[{\"marker\":{\"colorbar\":{\"outlinewidth\":0,\"ticks\":\"\"}},\"type\":\"scattergl\"}],\"scattermapbox\":[{\"marker\":{\"colorbar\":{\"outlinewidth\":0,\"ticks\":\"\"}},\"type\":\"scattermapbox\"}],\"scatterpolar\":[{\"marker\":{\"colorbar\":{\"outlinewidth\":0,\"ticks\":\"\"}},\"type\":\"scatterpolar\"}],\"scatterpolargl\":[{\"marker\":{\"colorbar\":{\"outlinewidth\":0,\"ticks\":\"\"}},\"type\":\"scatterpolargl\"}],\"scatterternary\":[{\"marker\":{\"colorbar\":{\"outlinewidth\":0,\"ticks\":\"\"}},\"type\":\"scatterternary\"}],\"surface\":[{\"colorbar\":{\"outlinewidth\":0,\"ticks\":\"\"},\"colorscale\":[[0.0,\"#0d0887\"],[0.1111111111111111,\"#46039f\"],[0.2222222222222222,\"#7201a8\"],[0.3333333333333333,\"#9c179e\"],[0.4444444444444444,\"#bd3786\"],[0.5555555555555556,\"#d8576b\"],[0.6666666666666666,\"#ed7953\"],[0.7777777777777778,\"#fb9f3a\"],[0.8888888888888888,\"#fdca26\"],[1.0,\"#f0f921\"]],\"type\":\"surface\"}],\"table\":[{\"cells\":{\"fill\":{\"color\":\"#EBF0F8\"},\"line\":{\"color\":\"white\"}},\"header\":{\"fill\":{\"color\":\"#C8D4E3\"},\"line\":{\"color\":\"white\"}},\"type\":\"table\"}]},\"layout\":{\"annotationdefaults\":{\"arrowcolor\":\"#2a3f5f\",\"arrowhead\":0,\"arrowwidth\":1},\"autotypenumbers\":\"strict\",\"coloraxis\":{\"colorbar\":{\"outlinewidth\":0,\"ticks\":\"\"}},\"colorscale\":{\"diverging\":[[0,\"#8e0152\"],[0.1,\"#c51b7d\"],[0.2,\"#de77ae\"],[0.3,\"#f1b6da\"],[0.4,\"#fde0ef\"],[0.5,\"#f7f7f7\"],[0.6,\"#e6f5d0\"],[0.7,\"#b8e186\"],[0.8,\"#7fbc41\"],[0.9,\"#4d9221\"],[1,\"#276419\"]],\"sequential\":[[0.0,\"#0d0887\"],[0.1111111111111111,\"#46039f\"],[0.2222222222222222,\"#7201a8\"],[0.3333333333333333,\"#9c179e\"],[0.4444444444444444,\"#bd3786\"],[0.5555555555555556,\"#d8576b\"],[0.6666666666666666,\"#ed7953\"],[0.7777777777777778,\"#fb9f3a\"],[0.8888888888888888,\"#fdca26\"],[1.0,\"#f0f921\"]],\"sequentialminus\":[[0.0,\"#0d0887\"],[0.1111111111111111,\"#46039f\"],[0.2222222222222222,\"#7201a8\"],[0.3333333333333333,\"#9c179e\"],[0.4444444444444444,\"#bd3786\"],[0.5555555555555556,\"#d8576b\"],[0.6666666666666666,\"#ed7953\"],[0.7777777777777778,\"#fb9f3a\"],[0.8888888888888888,\"#fdca26\"],[1.0,\"#f0f921\"]]},\"colorway\":[\"#636efa\",\"#EF553B\",\"#00cc96\",\"#ab63fa\",\"#FFA15A\",\"#19d3f3\",\"#FF6692\",\"#B6E880\",\"#FF97FF\",\"#FECB52\"],\"font\":{\"color\":\"#2a3f5f\"},\"geo\":{\"bgcolor\":\"white\",\"lakecolor\":\"white\",\"landcolor\":\"#E5ECF6\",\"showlakes\":true,\"showland\":true,\"subunitcolor\":\"white\"},\"hoverlabel\":{\"align\":\"left\"},\"hovermode\":\"closest\",\"mapbox\":{\"style\":\"light\"},\"paper_bgcolor\":\"white\",\"plot_bgcolor\":\"#E5ECF6\",\"polar\":{\"angularaxis\":{\"gridcolor\":\"white\",\"linecolor\":\"white\",\"ticks\":\"\"},\"bgcolor\":\"#E5ECF6\",\"radialaxis\":{\"gridcolor\":\"white\",\"linecolor\":\"white\",\"ticks\":\"\"}},\"scene\":{\"xaxis\":{\"backgroundcolor\":\"#E5ECF6\",\"gridcolor\":\"white\",\"gridwidth\":2,\"linecolor\":\"white\",\"showbackground\":true,\"ticks\":\"\",\"zerolinecolor\":\"white\"},\"yaxis\":{\"backgroundcolor\":\"#E5ECF6\",\"gridcolor\":\"white\",\"gridwidth\":2,\"linecolor\":\"white\",\"showbackground\":true,\"ticks\":\"\",\"zerolinecolor\":\"white\"},\"zaxis\":{\"backgroundcolor\":\"#E5ECF6\",\"gridcolor\":\"white\",\"gridwidth\":2,\"linecolor\":\"white\",\"showbackground\":true,\"ticks\":\"\",\"zerolinecolor\":\"white\"}},\"shapedefaults\":{\"line\":{\"color\":\"#2a3f5f\"}},\"ternary\":{\"aaxis\":{\"gridcolor\":\"white\",\"linecolor\":\"white\",\"ticks\":\"\"},\"baxis\":{\"gridcolor\":\"white\",\"linecolor\":\"white\",\"ticks\":\"\"},\"bgcolor\":\"#E5ECF6\",\"caxis\":{\"gridcolor\":\"white\",\"linecolor\":\"white\",\"ticks\":\"\"}},\"title\":{\"x\":0.05},\"xaxis\":{\"automargin\":true,\"gridcolor\":\"white\",\"linecolor\":\"white\",\"ticks\":\"\",\"title\":{\"standoff\":15},\"zerolinecolor\":\"white\",\"zerolinewidth\":2},\"yaxis\":{\"automargin\":true,\"gridcolor\":\"white\",\"linecolor\":\"white\",\"ticks\":\"\",\"title\":{\"standoff\":15},\"zerolinecolor\":\"white\",\"zerolinewidth\":2}}},\"title\":{\"font\":{\"color\":\"#4D5663\"},\"text\":\"United States Temperature Anomalies\"},\"xaxis\":{\"gridcolor\":\"#E1E5ED\",\"showgrid\":true,\"tickfont\":{\"color\":\"#4D5663\"},\"title\":{\"font\":{\"color\":\"#4D5663\"},\"text\":\"Time (years)\"},\"zerolinecolor\":\"#E1E5ED\"},\"yaxis\":{\"gridcolor\":\"#E1E5ED\",\"showgrid\":true,\"tickfont\":{\"color\":\"#4D5663\"},\"title\":{\"font\":{\"color\":\"#4D5663\"},\"text\":\"Temperature Anomaly (\\u00b0Celsius)\"},\"zerolinecolor\":\"#E1E5ED\"}},                        {\"showLink\": true, \"linkText\": \"Export to plot.ly\", \"plotlyServerURL\": \"https://plot.ly\", \"responsive\": true}                    ).then(function(){\n",
       "                            \n",
       "var gd = document.getElementById('0df2e47b-0894-4950-b2a8-a173dcfb3103');\n",
       "var x = new MutationObserver(function (mutations, observer) {{\n",
       "        var display = window.getComputedStyle(gd).display;\n",
       "        if (!display || display === 'none') {{\n",
       "            console.log([gd, 'removed!']);\n",
       "            Plotly.purge(gd);\n",
       "            observer.disconnect();\n",
       "        }}\n",
       "}});\n",
       "\n",
       "// Listen for the removal of the full notebook cells\n",
       "var notebookContainer = gd.closest('#notebook-container');\n",
       "if (notebookContainer) {{\n",
       "    x.observe(notebookContainer, {childList: true});\n",
       "}}\n",
       "\n",
       "// Listen for the clearing of the current output cell\n",
       "var outputEl = gd.closest('.output');\n",
       "if (outputEl) {{\n",
       "    x.observe(outputEl, {childList: true});\n",
       "}}\n",
       "\n",
       "                        })                };                });            </script>        </div>"
      ]
     },
     "metadata": {},
     "output_type": "display_data"
    }
   ],
   "source": [
    "# Interactive plot using Plotly\n",
    "df_temp_resampled.iplot(kind=\"line\", xTitle=\"Time (years)\", yTitle=\"Temperature Anomaly (°Celsius)\", title=\"United States Temperature Anomalies\")"
   ]
  },
  {
   "cell_type": "code",
   "execution_count": 1981,
   "id": "33e31d70",
   "metadata": {},
   "outputs": [],
   "source": [
    "# Save new dataset as US_data.csv\n",
    "US_data.to_csv(r\"C:\\Users\\akama\\OneDrive\\Desktop\\Data Science Bootcamp\\IshMe\\Capstone 3 - Time Series Analysis\\raw_data\\US_data.csv\", index= False)"
   ]
  },
  {
   "cell_type": "markdown",
   "id": "ed9cd163",
   "metadata": {},
   "source": [
    "## Dataset 2 - Wrangling and Cleaning"
   ]
  },
  {
   "cell_type": "code",
   "execution_count": 1982,
   "id": "2fcef05b",
   "metadata": {},
   "outputs": [],
   "source": [
    "# Filtering dataset for United States only, from 1900 onwards\n",
    "CO_emissions = CO_emissions[(CO_emissions[\"country\"] == \"United States\") & ((CO_emissions[\"year\"] > 1899))]\n",
    "CO_emissions = CO_emissions.reset_index()\n",
    "CO_emissions.drop(columns=\"index\", inplace=True)"
   ]
  },
  {
   "cell_type": "code",
   "execution_count": 1983,
   "id": "ceaff058",
   "metadata": {},
   "outputs": [
    {
     "data": {
      "text/html": [
       "<div>\n",
       "<style scoped>\n",
       "    .dataframe tbody tr th:only-of-type {\n",
       "        vertical-align: middle;\n",
       "    }\n",
       "\n",
       "    .dataframe tbody tr th {\n",
       "        vertical-align: top;\n",
       "    }\n",
       "\n",
       "    .dataframe thead th {\n",
       "        text-align: right;\n",
       "    }\n",
       "</style>\n",
       "<table border=\"1\" class=\"dataframe\">\n",
       "  <thead>\n",
       "    <tr style=\"text-align: right;\">\n",
       "      <th></th>\n",
       "      <th>iso_code</th>\n",
       "      <th>country</th>\n",
       "      <th>year</th>\n",
       "      <th>co2</th>\n",
       "      <th>consumption_co2</th>\n",
       "      <th>co2_growth_prct</th>\n",
       "      <th>co2_growth_abs</th>\n",
       "      <th>trade_co2</th>\n",
       "      <th>co2_per_capita</th>\n",
       "      <th>consumption_co2_per_capita</th>\n",
       "      <th>...</th>\n",
       "      <th>ghg_per_capita</th>\n",
       "      <th>methane</th>\n",
       "      <th>methane_per_capita</th>\n",
       "      <th>nitrous_oxide</th>\n",
       "      <th>nitrous_oxide_per_capita</th>\n",
       "      <th>population</th>\n",
       "      <th>gdp</th>\n",
       "      <th>primary_energy_consumption</th>\n",
       "      <th>energy_per_capita</th>\n",
       "      <th>energy_per_gdp</th>\n",
       "    </tr>\n",
       "  </thead>\n",
       "  <tbody>\n",
       "    <tr>\n",
       "      <th>0</th>\n",
       "      <td>USA</td>\n",
       "      <td>United States</td>\n",
       "      <td>1900</td>\n",
       "      <td>664.123</td>\n",
       "      <td>NaN</td>\n",
       "      <td>6.17</td>\n",
       "      <td>38.590</td>\n",
       "      <td>NaN</td>\n",
       "      <td>8.432</td>\n",
       "      <td>NaN</td>\n",
       "      <td>...</td>\n",
       "      <td>NaN</td>\n",
       "      <td>NaN</td>\n",
       "      <td>NaN</td>\n",
       "      <td>NaN</td>\n",
       "      <td>NaN</td>\n",
       "      <td>78763706.0</td>\n",
       "      <td>6.139981e+11</td>\n",
       "      <td>NaN</td>\n",
       "      <td>NaN</td>\n",
       "      <td>NaN</td>\n",
       "    </tr>\n",
       "    <tr>\n",
       "      <th>1</th>\n",
       "      <td>USA</td>\n",
       "      <td>United States</td>\n",
       "      <td>1901</td>\n",
       "      <td>723.182</td>\n",
       "      <td>NaN</td>\n",
       "      <td>8.89</td>\n",
       "      <td>59.059</td>\n",
       "      <td>NaN</td>\n",
       "      <td>9.002</td>\n",
       "      <td>NaN</td>\n",
       "      <td>...</td>\n",
       "      <td>NaN</td>\n",
       "      <td>NaN</td>\n",
       "      <td>NaN</td>\n",
       "      <td>NaN</td>\n",
       "      <td>NaN</td>\n",
       "      <td>80336086.0</td>\n",
       "      <td>6.831060e+11</td>\n",
       "      <td>NaN</td>\n",
       "      <td>NaN</td>\n",
       "      <td>NaN</td>\n",
       "    </tr>\n",
       "    <tr>\n",
       "      <th>2</th>\n",
       "      <td>USA</td>\n",
       "      <td>United States</td>\n",
       "      <td>1902</td>\n",
       "      <td>766.638</td>\n",
       "      <td>NaN</td>\n",
       "      <td>6.01</td>\n",
       "      <td>43.456</td>\n",
       "      <td>NaN</td>\n",
       "      <td>9.355</td>\n",
       "      <td>NaN</td>\n",
       "      <td>...</td>\n",
       "      <td>NaN</td>\n",
       "      <td>NaN</td>\n",
       "      <td>NaN</td>\n",
       "      <td>NaN</td>\n",
       "      <td>NaN</td>\n",
       "      <td>81949920.0</td>\n",
       "      <td>6.901269e+11</td>\n",
       "      <td>NaN</td>\n",
       "      <td>NaN</td>\n",
       "      <td>NaN</td>\n",
       "    </tr>\n",
       "    <tr>\n",
       "      <th>3</th>\n",
       "      <td>USA</td>\n",
       "      <td>United States</td>\n",
       "      <td>1903</td>\n",
       "      <td>896.937</td>\n",
       "      <td>NaN</td>\n",
       "      <td>17.00</td>\n",
       "      <td>130.299</td>\n",
       "      <td>NaN</td>\n",
       "      <td>10.728</td>\n",
       "      <td>NaN</td>\n",
       "      <td>...</td>\n",
       "      <td>NaN</td>\n",
       "      <td>NaN</td>\n",
       "      <td>NaN</td>\n",
       "      <td>NaN</td>\n",
       "      <td>NaN</td>\n",
       "      <td>83606240.0</td>\n",
       "      <td>7.237664e+11</td>\n",
       "      <td>NaN</td>\n",
       "      <td>NaN</td>\n",
       "      <td>NaN</td>\n",
       "    </tr>\n",
       "    <tr>\n",
       "      <th>4</th>\n",
       "      <td>USA</td>\n",
       "      <td>United States</td>\n",
       "      <td>1904</td>\n",
       "      <td>882.953</td>\n",
       "      <td>NaN</td>\n",
       "      <td>-1.56</td>\n",
       "      <td>-13.984</td>\n",
       "      <td>NaN</td>\n",
       "      <td>10.352</td>\n",
       "      <td>NaN</td>\n",
       "      <td>...</td>\n",
       "      <td>NaN</td>\n",
       "      <td>NaN</td>\n",
       "      <td>NaN</td>\n",
       "      <td>NaN</td>\n",
       "      <td>NaN</td>\n",
       "      <td>85296008.0</td>\n",
       "      <td>7.146219e+11</td>\n",
       "      <td>NaN</td>\n",
       "      <td>NaN</td>\n",
       "      <td>NaN</td>\n",
       "    </tr>\n",
       "  </tbody>\n",
       "</table>\n",
       "<p>5 rows × 58 columns</p>\n",
       "</div>"
      ],
      "text/plain": [
       "  iso_code        country  year      co2  consumption_co2  co2_growth_prct  \\\n",
       "0      USA  United States  1900  664.123              NaN             6.17   \n",
       "1      USA  United States  1901  723.182              NaN             8.89   \n",
       "2      USA  United States  1902  766.638              NaN             6.01   \n",
       "3      USA  United States  1903  896.937              NaN            17.00   \n",
       "4      USA  United States  1904  882.953              NaN            -1.56   \n",
       "\n",
       "   co2_growth_abs  trade_co2  co2_per_capita  consumption_co2_per_capita  ...  \\\n",
       "0          38.590        NaN           8.432                         NaN  ...   \n",
       "1          59.059        NaN           9.002                         NaN  ...   \n",
       "2          43.456        NaN           9.355                         NaN  ...   \n",
       "3         130.299        NaN          10.728                         NaN  ...   \n",
       "4         -13.984        NaN          10.352                         NaN  ...   \n",
       "\n",
       "   ghg_per_capita  methane  methane_per_capita  nitrous_oxide  \\\n",
       "0             NaN      NaN                 NaN            NaN   \n",
       "1             NaN      NaN                 NaN            NaN   \n",
       "2             NaN      NaN                 NaN            NaN   \n",
       "3             NaN      NaN                 NaN            NaN   \n",
       "4             NaN      NaN                 NaN            NaN   \n",
       "\n",
       "   nitrous_oxide_per_capita  population           gdp  \\\n",
       "0                       NaN  78763706.0  6.139981e+11   \n",
       "1                       NaN  80336086.0  6.831060e+11   \n",
       "2                       NaN  81949920.0  6.901269e+11   \n",
       "3                       NaN  83606240.0  7.237664e+11   \n",
       "4                       NaN  85296008.0  7.146219e+11   \n",
       "\n",
       "   primary_energy_consumption  energy_per_capita  energy_per_gdp  \n",
       "0                         NaN                NaN             NaN  \n",
       "1                         NaN                NaN             NaN  \n",
       "2                         NaN                NaN             NaN  \n",
       "3                         NaN                NaN             NaN  \n",
       "4                         NaN                NaN             NaN  \n",
       "\n",
       "[5 rows x 58 columns]"
      ]
     },
     "execution_count": 1983,
     "metadata": {},
     "output_type": "execute_result"
    }
   ],
   "source": [
    "CO_emissions.head()"
   ]
  },
  {
   "cell_type": "code",
   "execution_count": 1984,
   "id": "d72f9ec6",
   "metadata": {},
   "outputs": [
    {
     "data": {
      "text/html": [
       "<div>\n",
       "<style scoped>\n",
       "    .dataframe tbody tr th:only-of-type {\n",
       "        vertical-align: middle;\n",
       "    }\n",
       "\n",
       "    .dataframe tbody tr th {\n",
       "        vertical-align: top;\n",
       "    }\n",
       "\n",
       "    .dataframe thead th {\n",
       "        text-align: right;\n",
       "    }\n",
       "</style>\n",
       "<table border=\"1\" class=\"dataframe\">\n",
       "  <thead>\n",
       "    <tr style=\"text-align: right;\">\n",
       "      <th></th>\n",
       "      <th>percent_missing</th>\n",
       "    </tr>\n",
       "  </thead>\n",
       "  <tbody>\n",
       "    <tr>\n",
       "      <th>consumption_co2</th>\n",
       "      <td>75.833333</td>\n",
       "    </tr>\n",
       "    <tr>\n",
       "      <th>trade_co2</th>\n",
       "      <td>75.833333</td>\n",
       "    </tr>\n",
       "    <tr>\n",
       "      <th>consumption_co2_per_capita</th>\n",
       "      <td>75.833333</td>\n",
       "    </tr>\n",
       "    <tr>\n",
       "      <th>co2_per_gdp</th>\n",
       "      <td>0.833333</td>\n",
       "    </tr>\n",
       "    <tr>\n",
       "      <th>consumption_co2_per_gdp</th>\n",
       "      <td>75.833333</td>\n",
       "    </tr>\n",
       "    <tr>\n",
       "      <th>co2_per_unit_energy</th>\n",
       "      <td>54.166667</td>\n",
       "    </tr>\n",
       "    <tr>\n",
       "      <th>flaring_co2</th>\n",
       "      <td>41.666667</td>\n",
       "    </tr>\n",
       "    <tr>\n",
       "      <th>other_industry_co2</th>\n",
       "      <td>75.000000</td>\n",
       "    </tr>\n",
       "    <tr>\n",
       "      <th>flaring_co2_per_capita</th>\n",
       "      <td>41.666667</td>\n",
       "    </tr>\n",
       "    <tr>\n",
       "      <th>other_co2_per_capita</th>\n",
       "      <td>75.000000</td>\n",
       "    </tr>\n",
       "    <tr>\n",
       "      <th>trade_co2_share</th>\n",
       "      <td>75.833333</td>\n",
       "    </tr>\n",
       "    <tr>\n",
       "      <th>share_global_flaring_co2</th>\n",
       "      <td>41.666667</td>\n",
       "    </tr>\n",
       "    <tr>\n",
       "      <th>share_global_other_co2</th>\n",
       "      <td>75.000000</td>\n",
       "    </tr>\n",
       "    <tr>\n",
       "      <th>cumulative_flaring_co2</th>\n",
       "      <td>41.666667</td>\n",
       "    </tr>\n",
       "    <tr>\n",
       "      <th>cumulative_other_co2</th>\n",
       "      <td>75.000000</td>\n",
       "    </tr>\n",
       "    <tr>\n",
       "      <th>share_global_cumulative_flaring_co2</th>\n",
       "      <td>41.666667</td>\n",
       "    </tr>\n",
       "    <tr>\n",
       "      <th>share_global_cumulative_other_co2</th>\n",
       "      <td>75.000000</td>\n",
       "    </tr>\n",
       "    <tr>\n",
       "      <th>total_ghg</th>\n",
       "      <td>77.500000</td>\n",
       "    </tr>\n",
       "    <tr>\n",
       "      <th>ghg_per_capita</th>\n",
       "      <td>77.500000</td>\n",
       "    </tr>\n",
       "    <tr>\n",
       "      <th>methane</th>\n",
       "      <td>77.500000</td>\n",
       "    </tr>\n",
       "    <tr>\n",
       "      <th>methane_per_capita</th>\n",
       "      <td>77.500000</td>\n",
       "    </tr>\n",
       "    <tr>\n",
       "      <th>nitrous_oxide</th>\n",
       "      <td>77.500000</td>\n",
       "    </tr>\n",
       "    <tr>\n",
       "      <th>nitrous_oxide_per_capita</th>\n",
       "      <td>77.500000</td>\n",
       "    </tr>\n",
       "    <tr>\n",
       "      <th>gdp</th>\n",
       "      <td>0.833333</td>\n",
       "    </tr>\n",
       "    <tr>\n",
       "      <th>primary_energy_consumption</th>\n",
       "      <td>54.166667</td>\n",
       "    </tr>\n",
       "    <tr>\n",
       "      <th>energy_per_capita</th>\n",
       "      <td>54.166667</td>\n",
       "    </tr>\n",
       "    <tr>\n",
       "      <th>energy_per_gdp</th>\n",
       "      <td>56.666667</td>\n",
       "    </tr>\n",
       "  </tbody>\n",
       "</table>\n",
       "</div>"
      ],
      "text/plain": [
       "                                     percent_missing\n",
       "consumption_co2                            75.833333\n",
       "trade_co2                                  75.833333\n",
       "consumption_co2_per_capita                 75.833333\n",
       "co2_per_gdp                                 0.833333\n",
       "consumption_co2_per_gdp                    75.833333\n",
       "co2_per_unit_energy                        54.166667\n",
       "flaring_co2                                41.666667\n",
       "other_industry_co2                         75.000000\n",
       "flaring_co2_per_capita                     41.666667\n",
       "other_co2_per_capita                       75.000000\n",
       "trade_co2_share                            75.833333\n",
       "share_global_flaring_co2                   41.666667\n",
       "share_global_other_co2                     75.000000\n",
       "cumulative_flaring_co2                     41.666667\n",
       "cumulative_other_co2                       75.000000\n",
       "share_global_cumulative_flaring_co2        41.666667\n",
       "share_global_cumulative_other_co2          75.000000\n",
       "total_ghg                                  77.500000\n",
       "ghg_per_capita                             77.500000\n",
       "methane                                    77.500000\n",
       "methane_per_capita                         77.500000\n",
       "nitrous_oxide                              77.500000\n",
       "nitrous_oxide_per_capita                   77.500000\n",
       "gdp                                         0.833333\n",
       "primary_energy_consumption                 54.166667\n",
       "energy_per_capita                          54.166667\n",
       "energy_per_gdp                             56.666667"
      ]
     },
     "execution_count": 1984,
     "metadata": {},
     "output_type": "execute_result"
    }
   ],
   "source": [
    "# Checking percent of missing values per column and creating DF\n",
    "percent_missing = CO_emissions.isna().sum() * 100 / len(CO_emissions)\n",
    "missing_df = pd.DataFrame({\"percent_missing\": percent_missing})\n",
    "\n",
    "# Showing columns with missing values only\n",
    "missing_df[missing_df[\"percent_missing\"] != 0]"
   ]
  },
  {
   "cell_type": "code",
   "execution_count": 1985,
   "id": "c6694ea3",
   "metadata": {},
   "outputs": [],
   "source": [
    "# Copying columns with less than 50% NaN values \n",
    "add_columns = CO_emissions[[\"co2_per_gdp\", \"co2_per_unit_energy\", \"flaring_co2\", \n",
    "                            \"flaring_co2_per_capita\", \"share_global_flaring_co2\", \"gdp\"]]\n",
    "\n",
    "# Dropping and rejoining DFs\n",
    "CO_emissionsDropNA = CO_emissions.dropna(axis=1)\n",
    "CO_emissionsDropNA = CO_emissionsDropNA.join(add_columns)\n",
    "CO_emissions = CO_emissionsDropNA"
   ]
  },
  {
   "cell_type": "code",
   "execution_count": 1986,
   "id": "61618cd9",
   "metadata": {},
   "outputs": [
    {
     "data": {
      "text/html": [
       "<div>\n",
       "<style scoped>\n",
       "    .dataframe tbody tr th:only-of-type {\n",
       "        vertical-align: middle;\n",
       "    }\n",
       "\n",
       "    .dataframe tbody tr th {\n",
       "        vertical-align: top;\n",
       "    }\n",
       "\n",
       "    .dataframe thead th {\n",
       "        text-align: right;\n",
       "    }\n",
       "</style>\n",
       "<table border=\"1\" class=\"dataframe\">\n",
       "  <thead>\n",
       "    <tr style=\"text-align: right;\">\n",
       "      <th></th>\n",
       "      <th>iso_code</th>\n",
       "      <th>country</th>\n",
       "      <th>year</th>\n",
       "      <th>co2</th>\n",
       "      <th>co2_growth_prct</th>\n",
       "      <th>co2_growth_abs</th>\n",
       "      <th>co2_per_capita</th>\n",
       "      <th>share_global_co2</th>\n",
       "      <th>cumulative_co2</th>\n",
       "      <th>share_global_cumulative_co2</th>\n",
       "      <th>...</th>\n",
       "      <th>share_global_cumulative_coal_co2</th>\n",
       "      <th>share_global_cumulative_gas_co2</th>\n",
       "      <th>share_global_cumulative_oil_co2</th>\n",
       "      <th>population</th>\n",
       "      <th>co2_per_gdp</th>\n",
       "      <th>co2_per_unit_energy</th>\n",
       "      <th>flaring_co2</th>\n",
       "      <th>flaring_co2_per_capita</th>\n",
       "      <th>share_global_flaring_co2</th>\n",
       "      <th>gdp</th>\n",
       "    </tr>\n",
       "  </thead>\n",
       "  <tbody>\n",
       "    <tr>\n",
       "      <th>0</th>\n",
       "      <td>USA</td>\n",
       "      <td>United States</td>\n",
       "      <td>1900</td>\n",
       "      <td>664.123</td>\n",
       "      <td>6.17</td>\n",
       "      <td>38.590</td>\n",
       "      <td>8.432</td>\n",
       "      <td>33.99</td>\n",
       "      <td>10665.824</td>\n",
       "      <td>23.80</td>\n",
       "      <td>...</td>\n",
       "      <td>23.10</td>\n",
       "      <td>100.00</td>\n",
       "      <td>47.06</td>\n",
       "      <td>78763706.0</td>\n",
       "      <td>1.082</td>\n",
       "      <td>NaN</td>\n",
       "      <td>NaN</td>\n",
       "      <td>NaN</td>\n",
       "      <td>NaN</td>\n",
       "      <td>6.139981e+11</td>\n",
       "    </tr>\n",
       "    <tr>\n",
       "      <th>1</th>\n",
       "      <td>USA</td>\n",
       "      <td>United States</td>\n",
       "      <td>1901</td>\n",
       "      <td>723.182</td>\n",
       "      <td>8.89</td>\n",
       "      <td>59.059</td>\n",
       "      <td>9.002</td>\n",
       "      <td>35.83</td>\n",
       "      <td>11389.006</td>\n",
       "      <td>24.31</td>\n",
       "      <td>...</td>\n",
       "      <td>23.61</td>\n",
       "      <td>100.00</td>\n",
       "      <td>46.15</td>\n",
       "      <td>80336086.0</td>\n",
       "      <td>1.059</td>\n",
       "      <td>NaN</td>\n",
       "      <td>NaN</td>\n",
       "      <td>NaN</td>\n",
       "      <td>NaN</td>\n",
       "      <td>6.831060e+11</td>\n",
       "    </tr>\n",
       "    <tr>\n",
       "      <th>2</th>\n",
       "      <td>USA</td>\n",
       "      <td>United States</td>\n",
       "      <td>1902</td>\n",
       "      <td>766.638</td>\n",
       "      <td>6.01</td>\n",
       "      <td>43.456</td>\n",
       "      <td>9.355</td>\n",
       "      <td>37.04</td>\n",
       "      <td>12155.645</td>\n",
       "      <td>24.85</td>\n",
       "      <td>...</td>\n",
       "      <td>24.14</td>\n",
       "      <td>100.00</td>\n",
       "      <td>45.90</td>\n",
       "      <td>81949920.0</td>\n",
       "      <td>1.111</td>\n",
       "      <td>NaN</td>\n",
       "      <td>NaN</td>\n",
       "      <td>NaN</td>\n",
       "      <td>NaN</td>\n",
       "      <td>6.901269e+11</td>\n",
       "    </tr>\n",
       "    <tr>\n",
       "      <th>3</th>\n",
       "      <td>USA</td>\n",
       "      <td>United States</td>\n",
       "      <td>1903</td>\n",
       "      <td>896.937</td>\n",
       "      <td>17.00</td>\n",
       "      <td>130.299</td>\n",
       "      <td>10.728</td>\n",
       "      <td>39.71</td>\n",
       "      <td>13052.582</td>\n",
       "      <td>25.51</td>\n",
       "      <td>...</td>\n",
       "      <td>24.78</td>\n",
       "      <td>100.00</td>\n",
       "      <td>45.94</td>\n",
       "      <td>83606240.0</td>\n",
       "      <td>1.239</td>\n",
       "      <td>NaN</td>\n",
       "      <td>NaN</td>\n",
       "      <td>NaN</td>\n",
       "      <td>NaN</td>\n",
       "      <td>7.237664e+11</td>\n",
       "    </tr>\n",
       "    <tr>\n",
       "      <th>4</th>\n",
       "      <td>USA</td>\n",
       "      <td>United States</td>\n",
       "      <td>1904</td>\n",
       "      <td>882.953</td>\n",
       "      <td>-1.56</td>\n",
       "      <td>-13.984</td>\n",
       "      <td>10.352</td>\n",
       "      <td>38.68</td>\n",
       "      <td>13935.534</td>\n",
       "      <td>26.07</td>\n",
       "      <td>...</td>\n",
       "      <td>25.32</td>\n",
       "      <td>99.99</td>\n",
       "      <td>46.16</td>\n",
       "      <td>85296008.0</td>\n",
       "      <td>1.236</td>\n",
       "      <td>NaN</td>\n",
       "      <td>NaN</td>\n",
       "      <td>NaN</td>\n",
       "      <td>NaN</td>\n",
       "      <td>7.146219e+11</td>\n",
       "    </tr>\n",
       "  </tbody>\n",
       "</table>\n",
       "<p>5 rows × 37 columns</p>\n",
       "</div>"
      ],
      "text/plain": [
       "  iso_code        country  year      co2  co2_growth_prct  co2_growth_abs  \\\n",
       "0      USA  United States  1900  664.123             6.17          38.590   \n",
       "1      USA  United States  1901  723.182             8.89          59.059   \n",
       "2      USA  United States  1902  766.638             6.01          43.456   \n",
       "3      USA  United States  1903  896.937            17.00         130.299   \n",
       "4      USA  United States  1904  882.953            -1.56         -13.984   \n",
       "\n",
       "   co2_per_capita  share_global_co2  cumulative_co2  \\\n",
       "0           8.432             33.99       10665.824   \n",
       "1           9.002             35.83       11389.006   \n",
       "2           9.355             37.04       12155.645   \n",
       "3          10.728             39.71       13052.582   \n",
       "4          10.352             38.68       13935.534   \n",
       "\n",
       "   share_global_cumulative_co2  ...  share_global_cumulative_coal_co2  \\\n",
       "0                        23.80  ...                             23.10   \n",
       "1                        24.31  ...                             23.61   \n",
       "2                        24.85  ...                             24.14   \n",
       "3                        25.51  ...                             24.78   \n",
       "4                        26.07  ...                             25.32   \n",
       "\n",
       "   share_global_cumulative_gas_co2  share_global_cumulative_oil_co2  \\\n",
       "0                           100.00                            47.06   \n",
       "1                           100.00                            46.15   \n",
       "2                           100.00                            45.90   \n",
       "3                           100.00                            45.94   \n",
       "4                            99.99                            46.16   \n",
       "\n",
       "   population  co2_per_gdp  co2_per_unit_energy  flaring_co2  \\\n",
       "0  78763706.0        1.082                  NaN          NaN   \n",
       "1  80336086.0        1.059                  NaN          NaN   \n",
       "2  81949920.0        1.111                  NaN          NaN   \n",
       "3  83606240.0        1.239                  NaN          NaN   \n",
       "4  85296008.0        1.236                  NaN          NaN   \n",
       "\n",
       "   flaring_co2_per_capita  share_global_flaring_co2           gdp  \n",
       "0                     NaN                       NaN  6.139981e+11  \n",
       "1                     NaN                       NaN  6.831060e+11  \n",
       "2                     NaN                       NaN  6.901269e+11  \n",
       "3                     NaN                       NaN  7.237664e+11  \n",
       "4                     NaN                       NaN  7.146219e+11  \n",
       "\n",
       "[5 rows x 37 columns]"
      ]
     },
     "execution_count": 1986,
     "metadata": {},
     "output_type": "execute_result"
    }
   ],
   "source": [
    "CO_emissions.head()"
   ]
  },
  {
   "cell_type": "code",
   "execution_count": 1987,
   "id": "72ac7099",
   "metadata": {},
   "outputs": [
    {
     "data": {
      "text/html": [
       "<div>\n",
       "<style scoped>\n",
       "    .dataframe tbody tr th:only-of-type {\n",
       "        vertical-align: middle;\n",
       "    }\n",
       "\n",
       "    .dataframe tbody tr th {\n",
       "        vertical-align: top;\n",
       "    }\n",
       "\n",
       "    .dataframe thead th {\n",
       "        text-align: right;\n",
       "    }\n",
       "</style>\n",
       "<table border=\"1\" class=\"dataframe\">\n",
       "  <thead>\n",
       "    <tr style=\"text-align: right;\">\n",
       "      <th></th>\n",
       "      <th>percent_missing</th>\n",
       "    </tr>\n",
       "  </thead>\n",
       "  <tbody>\n",
       "    <tr>\n",
       "      <th>co2_per_gdp</th>\n",
       "      <td>0.833333</td>\n",
       "    </tr>\n",
       "    <tr>\n",
       "      <th>co2_per_unit_energy</th>\n",
       "      <td>54.166667</td>\n",
       "    </tr>\n",
       "    <tr>\n",
       "      <th>flaring_co2</th>\n",
       "      <td>41.666667</td>\n",
       "    </tr>\n",
       "    <tr>\n",
       "      <th>flaring_co2_per_capita</th>\n",
       "      <td>41.666667</td>\n",
       "    </tr>\n",
       "    <tr>\n",
       "      <th>share_global_flaring_co2</th>\n",
       "      <td>41.666667</td>\n",
       "    </tr>\n",
       "    <tr>\n",
       "      <th>gdp</th>\n",
       "      <td>0.833333</td>\n",
       "    </tr>\n",
       "  </tbody>\n",
       "</table>\n",
       "</div>"
      ],
      "text/plain": [
       "                          percent_missing\n",
       "co2_per_gdp                      0.833333\n",
       "co2_per_unit_energy             54.166667\n",
       "flaring_co2                     41.666667\n",
       "flaring_co2_per_capita          41.666667\n",
       "share_global_flaring_co2        41.666667\n",
       "gdp                              0.833333"
      ]
     },
     "execution_count": 1987,
     "metadata": {},
     "output_type": "execute_result"
    }
   ],
   "source": [
    "# Checking percent of missing values per column and creating DF\n",
    "percent_missing = CO_emissions.isna().sum() * 100 / len(CO_emissions)\n",
    "missing_df = pd.DataFrame({\"percent_missing\": percent_missing})\n",
    "\n",
    "# Showing columns with missing values only\n",
    "missing_df[missing_df[\"percent_missing\"] != 0]"
   ]
  },
  {
   "cell_type": "code",
   "execution_count": 1988,
   "id": "6dfaf4df",
   "metadata": {},
   "outputs": [
    {
     "data": {
      "text/plain": [
       "Index(['iso_code', 'country', 'year', 'co2', 'co2_growth_prct',\n",
       "       'co2_growth_abs', 'co2_per_capita', 'share_global_co2',\n",
       "       'cumulative_co2', 'share_global_cumulative_co2', 'coal_co2',\n",
       "       'cement_co2', 'gas_co2', 'oil_co2', 'cement_co2_per_capita',\n",
       "       'coal_co2_per_capita', 'gas_co2_per_capita', 'oil_co2_per_capita',\n",
       "       'share_global_cement_co2', 'share_global_coal_co2',\n",
       "       'share_global_gas_co2', 'share_global_oil_co2', 'cumulative_cement_co2',\n",
       "       'cumulative_coal_co2', 'cumulative_gas_co2', 'cumulative_oil_co2',\n",
       "       'share_global_cumulative_cement_co2',\n",
       "       'share_global_cumulative_coal_co2', 'share_global_cumulative_gas_co2',\n",
       "       'share_global_cumulative_oil_co2', 'population', 'co2_per_gdp',\n",
       "       'co2_per_unit_energy', 'flaring_co2', 'flaring_co2_per_capita',\n",
       "       'share_global_flaring_co2', 'gdp'],\n",
       "      dtype='object')"
      ]
     },
     "execution_count": 1988,
     "metadata": {},
     "output_type": "execute_result"
    }
   ],
   "source": [
    "CO_emissions.columns"
   ]
  },
  {
   "cell_type": "code",
   "execution_count": 1989,
   "id": "d067f57d",
   "metadata": {},
   "outputs": [],
   "source": [
    "# Dropping unnecessary columns\n",
    "columns = [\"iso_code\", \"cumulative_co2\", \"cumulative_cement_co2\", \"cumulative_coal_co2\", \"cumulative_gas_co2\", \n",
    "           \"cumulative_oil_co2\", \"share_global_cumulative_co2\", \"share_global_cumulative_cement_co2\", \n",
    "           \"share_global_cumulative_coal_co2\", \"share_global_cumulative_gas_co2\", \"share_global_cumulative_oil_co2\"]"
   ]
  },
  {
   "cell_type": "code",
   "execution_count": 1990,
   "id": "d3d6001e",
   "metadata": {},
   "outputs": [],
   "source": [
    "CO_emissions.drop(columns=columns, inplace=True)"
   ]
  },
  {
   "cell_type": "code",
   "execution_count": 1991,
   "id": "88605704",
   "metadata": {},
   "outputs": [
    {
     "name": "stdout",
     "output_type": "stream",
     "text": [
      "(120, 26)\n"
     ]
    }
   ],
   "source": [
    "print(CO_emissions.shape)"
   ]
  },
  {
   "cell_type": "code",
   "execution_count": 1992,
   "id": "fd71f8ca",
   "metadata": {},
   "outputs": [
    {
     "data": {
      "text/html": [
       "<div>\n",
       "<style scoped>\n",
       "    .dataframe tbody tr th:only-of-type {\n",
       "        vertical-align: middle;\n",
       "    }\n",
       "\n",
       "    .dataframe tbody tr th {\n",
       "        vertical-align: top;\n",
       "    }\n",
       "\n",
       "    .dataframe thead th {\n",
       "        text-align: right;\n",
       "    }\n",
       "</style>\n",
       "<table border=\"1\" class=\"dataframe\">\n",
       "  <thead>\n",
       "    <tr style=\"text-align: right;\">\n",
       "      <th></th>\n",
       "      <th>year</th>\n",
       "      <th>co2_per_unit_energy</th>\n",
       "      <th>flaring_co2</th>\n",
       "      <th>flaring_co2_per_capita</th>\n",
       "      <th>share_global_flaring_co2</th>\n",
       "    </tr>\n",
       "  </thead>\n",
       "  <tbody>\n",
       "    <tr>\n",
       "      <th>0</th>\n",
       "      <td>1900</td>\n",
       "      <td>NaN</td>\n",
       "      <td>NaN</td>\n",
       "      <td>NaN</td>\n",
       "      <td>NaN</td>\n",
       "    </tr>\n",
       "    <tr>\n",
       "      <th>1</th>\n",
       "      <td>1901</td>\n",
       "      <td>NaN</td>\n",
       "      <td>NaN</td>\n",
       "      <td>NaN</td>\n",
       "      <td>NaN</td>\n",
       "    </tr>\n",
       "    <tr>\n",
       "      <th>2</th>\n",
       "      <td>1902</td>\n",
       "      <td>NaN</td>\n",
       "      <td>NaN</td>\n",
       "      <td>NaN</td>\n",
       "      <td>NaN</td>\n",
       "    </tr>\n",
       "    <tr>\n",
       "      <th>3</th>\n",
       "      <td>1903</td>\n",
       "      <td>NaN</td>\n",
       "      <td>NaN</td>\n",
       "      <td>NaN</td>\n",
       "      <td>NaN</td>\n",
       "    </tr>\n",
       "    <tr>\n",
       "      <th>4</th>\n",
       "      <td>1904</td>\n",
       "      <td>NaN</td>\n",
       "      <td>NaN</td>\n",
       "      <td>NaN</td>\n",
       "      <td>NaN</td>\n",
       "    </tr>\n",
       "    <tr>\n",
       "      <th>...</th>\n",
       "      <td>...</td>\n",
       "      <td>...</td>\n",
       "      <td>...</td>\n",
       "      <td>...</td>\n",
       "      <td>...</td>\n",
       "    </tr>\n",
       "    <tr>\n",
       "      <th>60</th>\n",
       "      <td>1960</td>\n",
       "      <td>NaN</td>\n",
       "      <td>30.316</td>\n",
       "      <td>0.162</td>\n",
       "      <td>34.01</td>\n",
       "    </tr>\n",
       "    <tr>\n",
       "      <th>61</th>\n",
       "      <td>1961</td>\n",
       "      <td>NaN</td>\n",
       "      <td>28.198</td>\n",
       "      <td>0.149</td>\n",
       "      <td>32.71</td>\n",
       "    </tr>\n",
       "    <tr>\n",
       "      <th>62</th>\n",
       "      <td>1962</td>\n",
       "      <td>NaN</td>\n",
       "      <td>22.922</td>\n",
       "      <td>0.119</td>\n",
       "      <td>26.67</td>\n",
       "    </tr>\n",
       "    <tr>\n",
       "      <th>63</th>\n",
       "      <td>1963</td>\n",
       "      <td>NaN</td>\n",
       "      <td>20.650</td>\n",
       "      <td>0.106</td>\n",
       "      <td>22.82</td>\n",
       "    </tr>\n",
       "    <tr>\n",
       "      <th>64</th>\n",
       "      <td>1964</td>\n",
       "      <td>NaN</td>\n",
       "      <td>18.412</td>\n",
       "      <td>0.093</td>\n",
       "      <td>16.32</td>\n",
       "    </tr>\n",
       "  </tbody>\n",
       "</table>\n",
       "<p>65 rows × 5 columns</p>\n",
       "</div>"
      ],
      "text/plain": [
       "    year  co2_per_unit_energy  flaring_co2  flaring_co2_per_capita  \\\n",
       "0   1900                  NaN          NaN                     NaN   \n",
       "1   1901                  NaN          NaN                     NaN   \n",
       "2   1902                  NaN          NaN                     NaN   \n",
       "3   1903                  NaN          NaN                     NaN   \n",
       "4   1904                  NaN          NaN                     NaN   \n",
       "..   ...                  ...          ...                     ...   \n",
       "60  1960                  NaN       30.316                   0.162   \n",
       "61  1961                  NaN       28.198                   0.149   \n",
       "62  1962                  NaN       22.922                   0.119   \n",
       "63  1963                  NaN       20.650                   0.106   \n",
       "64  1964                  NaN       18.412                   0.093   \n",
       "\n",
       "    share_global_flaring_co2  \n",
       "0                        NaN  \n",
       "1                        NaN  \n",
       "2                        NaN  \n",
       "3                        NaN  \n",
       "4                        NaN  \n",
       "..                       ...  \n",
       "60                     34.01  \n",
       "61                     32.71  \n",
       "62                     26.67  \n",
       "63                     22.82  \n",
       "64                     16.32  \n",
       "\n",
       "[65 rows x 5 columns]"
      ]
     },
     "execution_count": 1992,
     "metadata": {},
     "output_type": "execute_result"
    }
   ],
   "source": [
    "# Subsetting for columns with most missing values\n",
    "NaN_values_DF = CO_emissions[[\"year\", \"co2_per_unit_energy\", \"flaring_co2\", \"flaring_co2_per_capita\", \"share_global_flaring_co2\"]]\n",
    "\n",
    "# Checking DF for rows with NaN values\n",
    "NaN_values_DF[NaN_values_DF.isna().any(axis=1)]"
   ]
  },
  {
   "cell_type": "code",
   "execution_count": 1993,
   "id": "0a7b5413",
   "metadata": {},
   "outputs": [],
   "source": [
    "# Dropping co2_per_unit_energy and share_global_flaring_co2\n",
    "NaN_values_DF.drop(columns=[\"co2_per_unit_energy\", \"share_global_flaring_co2\"], inplace=True)"
   ]
  },
  {
   "cell_type": "code",
   "execution_count": 1994,
   "id": "16f5a96d",
   "metadata": {},
   "outputs": [
    {
     "data": {
      "text/html": [
       "<div>\n",
       "<style scoped>\n",
       "    .dataframe tbody tr th:only-of-type {\n",
       "        vertical-align: middle;\n",
       "    }\n",
       "\n",
       "    .dataframe tbody tr th {\n",
       "        vertical-align: top;\n",
       "    }\n",
       "\n",
       "    .dataframe thead th {\n",
       "        text-align: right;\n",
       "    }\n",
       "</style>\n",
       "<table border=\"1\" class=\"dataframe\">\n",
       "  <thead>\n",
       "    <tr style=\"text-align: right;\">\n",
       "      <th></th>\n",
       "      <th>year</th>\n",
       "      <th>flaring_co2</th>\n",
       "      <th>flaring_co2_per_capita</th>\n",
       "    </tr>\n",
       "  </thead>\n",
       "  <tbody>\n",
       "    <tr>\n",
       "      <th>50</th>\n",
       "      <td>1950</td>\n",
       "      <td>43.122</td>\n",
       "      <td>0.272</td>\n",
       "    </tr>\n",
       "    <tr>\n",
       "      <th>51</th>\n",
       "      <td>1951</td>\n",
       "      <td>42.700</td>\n",
       "      <td>0.265</td>\n",
       "    </tr>\n",
       "    <tr>\n",
       "      <th>52</th>\n",
       "      <td>1952</td>\n",
       "      <td>45.683</td>\n",
       "      <td>0.280</td>\n",
       "    </tr>\n",
       "    <tr>\n",
       "      <th>53</th>\n",
       "      <td>1953</td>\n",
       "      <td>43.620</td>\n",
       "      <td>0.263</td>\n",
       "    </tr>\n",
       "    <tr>\n",
       "      <th>54</th>\n",
       "      <td>1954</td>\n",
       "      <td>38.952</td>\n",
       "      <td>0.231</td>\n",
       "    </tr>\n",
       "    <tr>\n",
       "      <th>...</th>\n",
       "      <td>...</td>\n",
       "      <td>...</td>\n",
       "      <td>...</td>\n",
       "    </tr>\n",
       "    <tr>\n",
       "      <th>115</th>\n",
       "      <td>2015</td>\n",
       "      <td>61.985</td>\n",
       "      <td>0.193</td>\n",
       "    </tr>\n",
       "    <tr>\n",
       "      <th>116</th>\n",
       "      <td>2016</td>\n",
       "      <td>52.850</td>\n",
       "      <td>0.164</td>\n",
       "    </tr>\n",
       "    <tr>\n",
       "      <th>117</th>\n",
       "      <td>2017</td>\n",
       "      <td>54.844</td>\n",
       "      <td>0.169</td>\n",
       "    </tr>\n",
       "    <tr>\n",
       "      <th>118</th>\n",
       "      <td>2018</td>\n",
       "      <td>71.793</td>\n",
       "      <td>0.220</td>\n",
       "    </tr>\n",
       "    <tr>\n",
       "      <th>119</th>\n",
       "      <td>2019</td>\n",
       "      <td>71.793</td>\n",
       "      <td>0.218</td>\n",
       "    </tr>\n",
       "  </tbody>\n",
       "</table>\n",
       "<p>70 rows × 3 columns</p>\n",
       "</div>"
      ],
      "text/plain": [
       "     year  flaring_co2  flaring_co2_per_capita\n",
       "50   1950       43.122                   0.272\n",
       "51   1951       42.700                   0.265\n",
       "52   1952       45.683                   0.280\n",
       "53   1953       43.620                   0.263\n",
       "54   1954       38.952                   0.231\n",
       "..    ...          ...                     ...\n",
       "115  2015       61.985                   0.193\n",
       "116  2016       52.850                   0.164\n",
       "117  2017       54.844                   0.169\n",
       "118  2018       71.793                   0.220\n",
       "119  2019       71.793                   0.218\n",
       "\n",
       "[70 rows x 3 columns]"
      ]
     },
     "execution_count": 1994,
     "metadata": {},
     "output_type": "execute_result"
    }
   ],
   "source": [
    "# Filtering for rows where entries are not null\n",
    "NaN_values_DF[~NaN_values_DF.isna().any(axis=1)]"
   ]
  },
  {
   "cell_type": "code",
   "execution_count": 1995,
   "id": "92872c1a",
   "metadata": {},
   "outputs": [
    {
     "data": {
      "text/plain": [
       "0    0.129\n",
       "1    0.129\n",
       "2    0.131\n",
       "3    0.141\n",
       "4    0.142\n",
       "dtype: float64"
      ]
     },
     "execution_count": 1995,
     "metadata": {},
     "output_type": "execute_result"
    }
   ],
   "source": [
    "# Create series from flaring_co2_per_capita values for 50 years\n",
    "ts = pd.Series(NaN_values_DF[\"flaring_co2_per_capita\"].iloc[50:101].values)\n",
    "\n",
    "# Reverse the values of column, keeping index the same\n",
    "ts = pd.Series(ts.values[::-1], ts.index)\n",
    "ts.head()"
   ]
  },
  {
   "cell_type": "code",
   "execution_count": 1996,
   "id": "e0f147fa",
   "metadata": {},
   "outputs": [],
   "source": [
    "# Setting the first 50 rows of DF to above series\n",
    "CO_emissions[\"flaring_co2_per_capita\"].iloc[:51] = ts"
   ]
  },
  {
   "cell_type": "code",
   "execution_count": 1997,
   "id": "7425f5d3",
   "metadata": {},
   "outputs": [],
   "source": [
    "# Dropping columns deemed unnecessary from full dataset\n",
    "CO_emissions.drop(columns=[\"co2_per_unit_energy\", \"flaring_co2\", \"share_global_flaring_co2\"], inplace=True)"
   ]
  },
  {
   "cell_type": "code",
   "execution_count": 1998,
   "id": "22d5dad3",
   "metadata": {},
   "outputs": [
    {
     "data": {
      "text/html": [
       "<div>\n",
       "<style scoped>\n",
       "    .dataframe tbody tr th:only-of-type {\n",
       "        vertical-align: middle;\n",
       "    }\n",
       "\n",
       "    .dataframe tbody tr th {\n",
       "        vertical-align: top;\n",
       "    }\n",
       "\n",
       "    .dataframe thead th {\n",
       "        text-align: right;\n",
       "    }\n",
       "</style>\n",
       "<table border=\"1\" class=\"dataframe\">\n",
       "  <thead>\n",
       "    <tr style=\"text-align: right;\">\n",
       "      <th></th>\n",
       "      <th>country</th>\n",
       "      <th>year</th>\n",
       "      <th>co2</th>\n",
       "      <th>co2_growth_prct</th>\n",
       "      <th>co2_growth_abs</th>\n",
       "      <th>co2_per_capita</th>\n",
       "      <th>share_global_co2</th>\n",
       "      <th>coal_co2</th>\n",
       "      <th>cement_co2</th>\n",
       "      <th>gas_co2</th>\n",
       "      <th>...</th>\n",
       "      <th>gas_co2_per_capita</th>\n",
       "      <th>oil_co2_per_capita</th>\n",
       "      <th>share_global_cement_co2</th>\n",
       "      <th>share_global_coal_co2</th>\n",
       "      <th>share_global_gas_co2</th>\n",
       "      <th>share_global_oil_co2</th>\n",
       "      <th>population</th>\n",
       "      <th>co2_per_gdp</th>\n",
       "      <th>flaring_co2_per_capita</th>\n",
       "      <th>gdp</th>\n",
       "    </tr>\n",
       "  </thead>\n",
       "  <tbody>\n",
       "    <tr>\n",
       "      <th>119</th>\n",
       "      <td>United States</td>\n",
       "      <td>2019</td>\n",
       "      <td>5284.697</td>\n",
       "      <td>-2.58</td>\n",
       "      <td>-140.185</td>\n",
       "      <td>16.06</td>\n",
       "      <td>14.5</td>\n",
       "      <td>1094.657</td>\n",
       "      <td>41.251</td>\n",
       "      <td>1706.873</td>\n",
       "      <td>...</td>\n",
       "      <td>5.187</td>\n",
       "      <td>7.119</td>\n",
       "      <td>2.64</td>\n",
       "      <td>7.62</td>\n",
       "      <td>22.41</td>\n",
       "      <td>18.96</td>\n",
       "      <td>329064917.0</td>\n",
       "      <td>NaN</td>\n",
       "      <td>0.218</td>\n",
       "      <td>NaN</td>\n",
       "    </tr>\n",
       "  </tbody>\n",
       "</table>\n",
       "<p>1 rows × 23 columns</p>\n",
       "</div>"
      ],
      "text/plain": [
       "           country  year       co2  co2_growth_prct  co2_growth_abs  \\\n",
       "119  United States  2019  5284.697            -2.58        -140.185   \n",
       "\n",
       "     co2_per_capita  share_global_co2  coal_co2  cement_co2   gas_co2  ...  \\\n",
       "119           16.06              14.5  1094.657      41.251  1706.873  ...   \n",
       "\n",
       "     gas_co2_per_capita  oil_co2_per_capita  share_global_cement_co2  \\\n",
       "119               5.187               7.119                     2.64   \n",
       "\n",
       "     share_global_coal_co2  share_global_gas_co2  share_global_oil_co2  \\\n",
       "119                   7.62                 22.41                 18.96   \n",
       "\n",
       "      population  co2_per_gdp  flaring_co2_per_capita  gdp  \n",
       "119  329064917.0          NaN                   0.218  NaN  \n",
       "\n",
       "[1 rows x 23 columns]"
      ]
     },
     "execution_count": 1998,
     "metadata": {},
     "output_type": "execute_result"
    }
   ],
   "source": [
    "# Checking if last 2 columns still have null values\n",
    "CO_emissions[CO_emissions[\"co2_per_gdp\"].isna()]"
   ]
  },
  {
   "cell_type": "code",
   "execution_count": 1999,
   "id": "02999b22",
   "metadata": {},
   "outputs": [],
   "source": [
    "# Forward filling last missing value\n",
    "CO_emissions.fillna(method=\"ffill\", inplace=True)"
   ]
  },
  {
   "cell_type": "code",
   "execution_count": 2000,
   "id": "b13cf571",
   "metadata": {},
   "outputs": [],
   "source": [
    "# Dropping country name column\n",
    "CO_emissions.drop(columns='country', inplace=True)"
   ]
  },
  {
   "cell_type": "code",
   "execution_count": 2001,
   "id": "3d495cc1",
   "metadata": {},
   "outputs": [
    {
     "data": {
      "text/plain": [
       "Index(['year', 'co2', 'co2_growth_prct', 'co2_growth_abs', 'co2_per_capita',\n",
       "       'share_global_co2', 'coal_co2', 'cement_co2', 'gas_co2', 'oil_co2',\n",
       "       'cement_co2_per_capita', 'coal_co2_per_capita', 'gas_co2_per_capita',\n",
       "       'oil_co2_per_capita', 'share_global_cement_co2',\n",
       "       'share_global_coal_co2', 'share_global_gas_co2', 'share_global_oil_co2',\n",
       "       'population', 'co2_per_gdp', 'flaring_co2_per_capita', 'gdp'],\n",
       "      dtype='object')"
      ]
     },
     "execution_count": 2001,
     "metadata": {},
     "output_type": "execute_result"
    }
   ],
   "source": [
    "CO_emissions.columns"
   ]
  },
  {
   "cell_type": "code",
   "execution_count": 2002,
   "id": "0cb3648c",
   "metadata": {},
   "outputs": [],
   "source": [
    "# Reordering columns of DF\n",
    "column_order = [\"year\", \"co2\", \"co2_growth_abs\", \"share_global_co2\", \n",
    "                \"coal_co2\", \"cement_co2\", \"gas_co2\", \"oil_co2\", \n",
    "                \"co2_per_capita\", \"coal_co2_per_capita\", \"cement_co2_per_capita\", \n",
    "                \"gas_co2_per_capita\", \"oil_co2_per_capita\", \"flaring_co2_per_capita\", \n",
    "                \"share_global_coal_co2\", \"share_global_cement_co2\", \"share_global_gas_co2\",\n",
    "                \"share_global_oil_co2\", \"population\", \"gdp\"]\n",
    "\n",
    "CO_emissions = CO_emissions[column_order]\n",
    "\n",
    "# Setting year column to datetime value and as index\n",
    "CO_emissions['year'] = pd.to_datetime(CO_emissions.year, format='%Y')\n",
    "df2 = CO_emissions.copy()\n",
    "df2.set_index('year', inplace=True)"
   ]
  },
  {
   "cell_type": "code",
   "execution_count": 2003,
   "id": "a19b4035",
   "metadata": {},
   "outputs": [
    {
     "name": "stdout",
     "output_type": "stream",
     "text": [
      "Index(['year', 'co2', 'co2_growth_abs', 'share_global_co2', 'coal_co2',\n",
      "       'cement_co2', 'gas_co2', 'oil_co2', 'co2_per_capita',\n",
      "       'coal_co2_per_capita', 'cement_co2_per_capita', 'gas_co2_per_capita',\n",
      "       'oil_co2_per_capita', 'flaring_co2_per_capita', 'share_global_coal_co2',\n",
      "       'share_global_cement_co2', 'share_global_gas_co2',\n",
      "       'share_global_oil_co2', 'population', 'gdp'],\n",
      "      dtype='object')\n"
     ]
    },
    {
     "data": {
      "text/html": [
       "<div>\n",
       "<style scoped>\n",
       "    .dataframe tbody tr th:only-of-type {\n",
       "        vertical-align: middle;\n",
       "    }\n",
       "\n",
       "    .dataframe tbody tr th {\n",
       "        vertical-align: top;\n",
       "    }\n",
       "\n",
       "    .dataframe thead th {\n",
       "        text-align: right;\n",
       "    }\n",
       "</style>\n",
       "<table border=\"1\" class=\"dataframe\">\n",
       "  <thead>\n",
       "    <tr style=\"text-align: right;\">\n",
       "      <th></th>\n",
       "      <th>year</th>\n",
       "      <th>co2</th>\n",
       "      <th>co2_growth_abs</th>\n",
       "      <th>share_global_co2</th>\n",
       "      <th>coal_co2</th>\n",
       "      <th>cement_co2</th>\n",
       "      <th>gas_co2</th>\n",
       "      <th>oil_co2</th>\n",
       "      <th>co2_per_capita</th>\n",
       "      <th>coal_co2_per_capita</th>\n",
       "      <th>cement_co2_per_capita</th>\n",
       "      <th>gas_co2_per_capita</th>\n",
       "      <th>oil_co2_per_capita</th>\n",
       "      <th>flaring_co2_per_capita</th>\n",
       "      <th>share_global_coal_co2</th>\n",
       "      <th>share_global_cement_co2</th>\n",
       "      <th>share_global_gas_co2</th>\n",
       "      <th>share_global_oil_co2</th>\n",
       "      <th>population</th>\n",
       "      <th>gdp</th>\n",
       "    </tr>\n",
       "  </thead>\n",
       "  <tbody>\n",
       "    <tr>\n",
       "      <th>0</th>\n",
       "      <td>1900-01-01</td>\n",
       "      <td>664.123</td>\n",
       "      <td>38.590</td>\n",
       "      <td>33.99</td>\n",
       "      <td>626.544</td>\n",
       "      <td>1.386</td>\n",
       "      <td>11.542</td>\n",
       "      <td>24.651</td>\n",
       "      <td>8.432</td>\n",
       "      <td>7.955</td>\n",
       "      <td>0.018</td>\n",
       "      <td>0.146</td>\n",
       "      <td>0.313</td>\n",
       "      <td>0.129</td>\n",
       "      <td>33.45</td>\n",
       "      <td>100.0</td>\n",
       "      <td>100.00</td>\n",
       "      <td>36.50</td>\n",
       "      <td>78763706.0</td>\n",
       "      <td>6.139981e+11</td>\n",
       "    </tr>\n",
       "    <tr>\n",
       "      <th>1</th>\n",
       "      <td>1901-01-01</td>\n",
       "      <td>723.182</td>\n",
       "      <td>59.059</td>\n",
       "      <td>35.83</td>\n",
       "      <td>681.541</td>\n",
       "      <td>1.656</td>\n",
       "      <td>12.861</td>\n",
       "      <td>27.125</td>\n",
       "      <td>9.002</td>\n",
       "      <td>8.484</td>\n",
       "      <td>0.021</td>\n",
       "      <td>0.160</td>\n",
       "      <td>0.338</td>\n",
       "      <td>0.129</td>\n",
       "      <td>35.33</td>\n",
       "      <td>100.0</td>\n",
       "      <td>100.00</td>\n",
       "      <td>36.17</td>\n",
       "      <td>80336086.0</td>\n",
       "      <td>6.831060e+11</td>\n",
       "    </tr>\n",
       "    <tr>\n",
       "      <th>2</th>\n",
       "      <td>1902-01-01</td>\n",
       "      <td>766.638</td>\n",
       "      <td>43.456</td>\n",
       "      <td>37.04</td>\n",
       "      <td>715.931</td>\n",
       "      <td>2.145</td>\n",
       "      <td>13.692</td>\n",
       "      <td>34.870</td>\n",
       "      <td>9.355</td>\n",
       "      <td>8.736</td>\n",
       "      <td>0.026</td>\n",
       "      <td>0.167</td>\n",
       "      <td>0.426</td>\n",
       "      <td>0.131</td>\n",
       "      <td>36.29</td>\n",
       "      <td>100.0</td>\n",
       "      <td>99.97</td>\n",
       "      <td>43.03</td>\n",
       "      <td>81949920.0</td>\n",
       "      <td>6.901269e+11</td>\n",
       "    </tr>\n",
       "    <tr>\n",
       "      <th>3</th>\n",
       "      <td>1903-01-01</td>\n",
       "      <td>896.937</td>\n",
       "      <td>130.299</td>\n",
       "      <td>39.71</td>\n",
       "      <td>840.042</td>\n",
       "      <td>2.533</td>\n",
       "      <td>14.524</td>\n",
       "      <td>39.839</td>\n",
       "      <td>10.728</td>\n",
       "      <td>10.048</td>\n",
       "      <td>0.030</td>\n",
       "      <td>0.174</td>\n",
       "      <td>0.476</td>\n",
       "      <td>0.141</td>\n",
       "      <td>38.97</td>\n",
       "      <td>100.0</td>\n",
       "      <td>99.97</td>\n",
       "      <td>46.44</td>\n",
       "      <td>83606240.0</td>\n",
       "      <td>7.237664e+11</td>\n",
       "    </tr>\n",
       "    <tr>\n",
       "      <th>4</th>\n",
       "      <td>1904-01-01</td>\n",
       "      <td>882.953</td>\n",
       "      <td>-13.984</td>\n",
       "      <td>38.68</td>\n",
       "      <td>818.270</td>\n",
       "      <td>2.732</td>\n",
       "      <td>15.162</td>\n",
       "      <td>46.789</td>\n",
       "      <td>10.352</td>\n",
       "      <td>9.593</td>\n",
       "      <td>0.032</td>\n",
       "      <td>0.178</td>\n",
       "      <td>0.548</td>\n",
       "      <td>0.142</td>\n",
       "      <td>37.73</td>\n",
       "      <td>100.0</td>\n",
       "      <td>99.98</td>\n",
       "      <td>48.58</td>\n",
       "      <td>85296008.0</td>\n",
       "      <td>7.146219e+11</td>\n",
       "    </tr>\n",
       "  </tbody>\n",
       "</table>\n",
       "</div>"
      ],
      "text/plain": [
       "        year      co2  co2_growth_abs  share_global_co2  coal_co2  cement_co2  \\\n",
       "0 1900-01-01  664.123          38.590             33.99   626.544       1.386   \n",
       "1 1901-01-01  723.182          59.059             35.83   681.541       1.656   \n",
       "2 1902-01-01  766.638          43.456             37.04   715.931       2.145   \n",
       "3 1903-01-01  896.937         130.299             39.71   840.042       2.533   \n",
       "4 1904-01-01  882.953         -13.984             38.68   818.270       2.732   \n",
       "\n",
       "   gas_co2  oil_co2  co2_per_capita  coal_co2_per_capita  \\\n",
       "0   11.542   24.651           8.432                7.955   \n",
       "1   12.861   27.125           9.002                8.484   \n",
       "2   13.692   34.870           9.355                8.736   \n",
       "3   14.524   39.839          10.728               10.048   \n",
       "4   15.162   46.789          10.352                9.593   \n",
       "\n",
       "   cement_co2_per_capita  gas_co2_per_capita  oil_co2_per_capita  \\\n",
       "0                  0.018               0.146               0.313   \n",
       "1                  0.021               0.160               0.338   \n",
       "2                  0.026               0.167               0.426   \n",
       "3                  0.030               0.174               0.476   \n",
       "4                  0.032               0.178               0.548   \n",
       "\n",
       "   flaring_co2_per_capita  share_global_coal_co2  share_global_cement_co2  \\\n",
       "0                   0.129                  33.45                    100.0   \n",
       "1                   0.129                  35.33                    100.0   \n",
       "2                   0.131                  36.29                    100.0   \n",
       "3                   0.141                  38.97                    100.0   \n",
       "4                   0.142                  37.73                    100.0   \n",
       "\n",
       "   share_global_gas_co2  share_global_oil_co2  population           gdp  \n",
       "0                100.00                 36.50  78763706.0  6.139981e+11  \n",
       "1                100.00                 36.17  80336086.0  6.831060e+11  \n",
       "2                 99.97                 43.03  81949920.0  6.901269e+11  \n",
       "3                 99.97                 46.44  83606240.0  7.237664e+11  \n",
       "4                 99.98                 48.58  85296008.0  7.146219e+11  "
      ]
     },
     "execution_count": 2003,
     "metadata": {},
     "output_type": "execute_result"
    }
   ],
   "source": [
    "# Checking final dataset\n",
    "print(CO_emissions.columns)\n",
    "CO_emissions.head()"
   ]
  },
  {
   "cell_type": "markdown",
   "id": "c4e904d3",
   "metadata": {},
   "source": [
    "## Dataset 2 - EDA"
   ]
  },
  {
   "cell_type": "code",
   "execution_count": 2004,
   "id": "8d939907",
   "metadata": {},
   "outputs": [
    {
     "data": {
      "text/plain": [
       "Text(0, 0.5, 'Carbon Emissions Per Capita (Tons Per Person)')"
      ]
     },
     "execution_count": 2004,
     "metadata": {},
     "output_type": "execute_result"
    },
    {
     "data": {
      "image/png": "[encoded data removed]",
      "text/plain": [
       "<Figure size 720x360 with 1 Axes>"
      ]
     },
     "metadata": {
      "needs_background": "light"
     },
     "output_type": "display_data"
    },
    {
     "data": {
      "image/png": "[encoded data removed]",
      "text/plain": [
       "<Figure size 720x360 with 1 Axes>"
      ]
     },
     "metadata": {
      "needs_background": "light"
     },
     "output_type": "display_data"
    }
   ],
   "source": [
    "# Plotting CO2 emissions by industry in million tons and per capita\n",
    "df_emissions = pd.DataFrame(df2, columns=[\"co2\", \"coal_co2\", \"cement_co2\", \"gas_co2\", \"oil_co2\"])\n",
    "df_per_capita = pd.DataFrame(df2, columns=[\"co2_per_capita\", \"coal_co2_per_capita\", \"cement_co2_per_capita\", \n",
    "                                                    \"gas_co2_per_capita\", \"oil_co2_per_capita\", \"flaring_co2_per_capita\"])\n",
    "\n",
    "# PLotting both DFs\n",
    "df_emissions.plot(figsize=(10, 5))\n",
    "plt.xlabel(\"Time (Yearly)\")\n",
    "plt.ylabel(\"Carbon Emissions By Industry (Million Tons)\")\n",
    "\n",
    "df_per_capita.plot(figsize=(10, 5))\n",
    "plt.xlabel(\"Time (Yearly)\")\n",
    "plt.ylabel(\"Carbon Emissions Per Capita (Tons Per Person)\")"
   ]
  },
  {
   "cell_type": "code",
   "execution_count": 2005,
   "id": "5de92d37",
   "metadata": {},
   "outputs": [
    {
     "data": {
      "application/vnd.plotly.v1+json": {
       "config": {
        "linkText": "Export to plot.ly",
        "plotlyServerURL": "https://plot.ly",
        "showLink": true
       },
       "data": [
        {
         "line": {
          "color": "rgba(255, 153, 51, 1.0)",
          "dash": "solid",
          "shape": "linear",
          "width": 1.3
         },
         "mode": "lines",
         "name": "coal_co2_per_capita",
         "text": "",
         "type": "scatter",
         "x": [
          "1900-01-01",
          "1901-01-01",
          "1902-01-01",
          "1903-01-01",
          "1904-01-01",
          "1905-01-01",
          "1906-01-01",
          "1907-01-01",
          "1908-01-01",
          "1909-01-01",
          "1910-01-01",
          "1911-01-01",
          "1912-01-01",
          "1913-01-01",
          "1914-01-01",
          "1915-01-01",
          "1916-01-01",
          "1917-01-01",
          "1918-01-01",
          "1919-01-01",
          "1920-01-01",
          "1921-01-01",
          "1922-01-01",
          "1923-01-01",
          "1924-01-01",
          "1925-01-01",
          "1926-01-01",
          "1927-01-01",
          "1928-01-01",
          "1929-01-01",
          "1930-01-01",
          "1931-01-01",
          "1932-01-01",
          "1933-01-01",
          "1934-01-01",
          "1935-01-01",
          "1936-01-01",
          "1937-01-01",
          "1938-01-01",
          "1939-01-01",
          "1940-01-01",
          "1941-01-01",
          "1942-01-01",
          "1943-01-01",
          "1944-01-01",
          "1945-01-01",
          "1946-01-01",
          "1947-01-01",
          "1948-01-01",
          "1949-01-01",
          "1950-01-01",
          "1951-01-01",
          "1952-01-01",
          "1953-01-01",
          "1954-01-01",
          "1955-01-01",
          "1956-01-01",
          "1957-01-01",
          "1958-01-01",
          "1959-01-01",
          "1960-01-01",
          "1961-01-01",
          "1962-01-01",
          "1963-01-01",
          "1964-01-01",
          "1965-01-01",
          "1966-01-01",
          "1967-01-01",
          "1968-01-01",
          "1969-01-01",
          "1970-01-01",
          "1971-01-01",
          "1972-01-01",
          "1973-01-01",
          "1974-01-01",
          "1975-01-01",
          "1976-01-01",
          "1977-01-01",
          "1978-01-01",
          "1979-01-01",
          "1980-01-01",
          "1981-01-01",
          "1982-01-01",
          "1983-01-01",
          "1984-01-01",
          "1985-01-01",
          "1986-01-01",
          "1987-01-01",
          "1988-01-01",
          "1989-01-01",
          "1990-01-01",
          "1991-01-01",
          "1992-01-01",
          "1993-01-01",
          "1994-01-01",
          "1995-01-01",
          "1996-01-01",
          "1997-01-01",
          "1998-01-01",
          "1999-01-01",
          "2000-01-01",
          "2001-01-01",
          "2002-01-01",
          "2003-01-01",
          "2004-01-01",
          "2005-01-01",
          "2006-01-01",
          "2007-01-01",
          "2008-01-01",
          "2009-01-01",
          "2010-01-01",
          "2011-01-01",
          "2012-01-01",
          "2013-01-01",
          "2014-01-01",
          "2015-01-01",
          "2016-01-01",
          "2017-01-01",
          "2018-01-01",
          "2019-01-01"
         ],
         "y": [
          7.955,
          8.484,
          8.736,
          10.048,
          9.593,
          10.497,
          10.859,
          12.313,
          10.387,
          11.327,
          12.105,
          11.726,
          12.363,
          12.98,
          11.491,
          11.724,
          12.807,
          13.897,
          14.344,
          11.499,
          13.171,
          10.122,
          9.716,
          12.988,
          11.136,
          11.202,
          12.172,
          11.174,
          10.64,
          11.09,
          9.664,
          7.894,
          6.392,
          6.771,
          7.283,
          7.369,
          8.522,
          8.471,
          6.662,
          7.468,
          8.433,
          9.238,
          10.278,
          10.222,
          10.596,
          9.61,
          8.66,
          9.531,
          9.296,
          6.797,
          7.917,
          7.531,
          6.579,
          6.425,
          5.414,
          5.977,
          6.115,
          5.761,
          4.914,
          4.957,
          4.916,
          4.681,
          4.788,
          5.063,
          5.315,
          5.46,
          5.61,
          5.704,
          5.537,
          5.576,
          5.575,
          5.239,
          5.274,
          5.626,
          5.51,
          5.255,
          5.764,
          5.778,
          6.071,
          6.223,
          6.362,
          6.426,
          6.147,
          6.426,
          6.657,
          6.764,
          6.543,
          6.859,
          7.11,
          7.195,
          7.296,
          7.17,
          7.19,
          7.343,
          7.316,
          7.318,
          7.536,
          7.6,
          7.606,
          7.535,
          7.739,
          7.424,
          7.371,
          7.442,
          7.494,
          7.504,
          7.325,
          7.335,
          7.154,
          6.21,
          6.506,
          6.101,
          5.358,
          5.498,
          5.436,
          4.685,
          4.266,
          4.114,
          3.92,
          3.327
         ]
        },
        {
         "line": {
          "color": "rgba(55, 128, 191, 1.0)",
          "dash": "solid",
          "shape": "linear",
          "width": 1.3
         },
         "mode": "lines",
         "name": "cement_co2_per_capita",
         "text": "",
         "type": "scatter",
         "x": [
          "1900-01-01",
          "1901-01-01",
          "1902-01-01",
          "1903-01-01",
          "1904-01-01",
          "1905-01-01",
          "1906-01-01",
          "1907-01-01",
          "1908-01-01",
          "1909-01-01",
          "1910-01-01",
          "1911-01-01",
          "1912-01-01",
          "1913-01-01",
          "1914-01-01",
          "1915-01-01",
          "1916-01-01",
          "1917-01-01",
          "1918-01-01",
          "1919-01-01",
          "1920-01-01",
          "1921-01-01",
          "1922-01-01",
          "1923-01-01",
          "1924-01-01",
          "1925-01-01",
          "1926-01-01",
          "1927-01-01",
          "1928-01-01",
          "1929-01-01",
          "1930-01-01",
          "1931-01-01",
          "1932-01-01",
          "1933-01-01",
          "1934-01-01",
          "1935-01-01",
          "1936-01-01",
          "1937-01-01",
          "1938-01-01",
          "1939-01-01",
          "1940-01-01",
          "1941-01-01",
          "1942-01-01",
          "1943-01-01",
          "1944-01-01",
          "1945-01-01",
          "1946-01-01",
          "1947-01-01",
          "1948-01-01",
          "1949-01-01",
          "1950-01-01",
          "1951-01-01",
          "1952-01-01",
          "1953-01-01",
          "1954-01-01",
          "1955-01-01",
          "1956-01-01",
          "1957-01-01",
          "1958-01-01",
          "1959-01-01",
          "1960-01-01",
          "1961-01-01",
          "1962-01-01",
          "1963-01-01",
          "1964-01-01",
          "1965-01-01",
          "1966-01-01",
          "1967-01-01",
          "1968-01-01",
          "1969-01-01",
          "1970-01-01",
          "1971-01-01",
          "1972-01-01",
          "1973-01-01",
          "1974-01-01",
          "1975-01-01",
          "1976-01-01",
          "1977-01-01",
          "1978-01-01",
          "1979-01-01",
          "1980-01-01",
          "1981-01-01",
          "1982-01-01",
          "1983-01-01",
          "1984-01-01",
          "1985-01-01",
          "1986-01-01",
          "1987-01-01",
          "1988-01-01",
          "1989-01-01",
          "1990-01-01",
          "1991-01-01",
          "1992-01-01",
          "1993-01-01",
          "1994-01-01",
          "1995-01-01",
          "1996-01-01",
          "1997-01-01",
          "1998-01-01",
          "1999-01-01",
          "2000-01-01",
          "2001-01-01",
          "2002-01-01",
          "2003-01-01",
          "2004-01-01",
          "2005-01-01",
          "2006-01-01",
          "2007-01-01",
          "2008-01-01",
          "2009-01-01",
          "2010-01-01",
          "2011-01-01",
          "2012-01-01",
          "2013-01-01",
          "2014-01-01",
          "2015-01-01",
          "2016-01-01",
          "2017-01-01",
          "2018-01-01",
          "2019-01-01"
         ],
         "y": [
          0.018,
          0.021,
          0.026,
          0.03,
          0.032,
          0.04,
          0.05,
          0.051,
          0.051,
          0.063,
          0.072,
          0.073,
          0.075,
          0.082,
          0.078,
          0.074,
          0.078,
          0.078,
          0.059,
          0.066,
          0.08,
          0.078,
          0.089,
          0.105,
          0.113,
          0.118,
          0.119,
          0.122,
          0.123,
          0.118,
          0.111,
          0.083,
          0.051,
          0.042,
          0.052,
          0.05,
          0.074,
          0.076,
          0.068,
          0.078,
          0.083,
          0.103,
          0.112,
          0.083,
          0.054,
          0.06,
          0.096,
          0.108,
          0.117,
          0.118,
          0.124,
          0.134,
          0.133,
          0.139,
          0.14,
          0.152,
          0.159,
          0.148,
          0.15,
          0.161,
          0.149,
          0.148,
          0.152,
          0.157,
          0.163,
          0.166,
          0.17,
          0.164,
          0.171,
          0.171,
          0.162,
          0.163,
          0.166,
          0.166,
          0.164,
          0.135,
          0.143,
          0.148,
          0.154,
          0.154,
          0.14,
          0.135,
          0.119,
          0.126,
          0.136,
          0.129,
          0.133,
          0.132,
          0.131,
          0.13,
          0.133,
          0.129,
          0.128,
          0.134,
          0.138,
          0.14,
          0.139,
          0.142,
          0.143,
          0.144,
          0.147,
          0.146,
          0.15,
          0.15,
          0.157,
          0.157,
          0.157,
          0.151,
          0.136,
          0.097,
          0.102,
          0.103,
          0.112,
          0.115,
          0.124,
          0.124,
          0.122,
          0.124,
          0.123,
          0.125
         ]
        },
        {
         "line": {
          "color": "rgba(50, 171, 96, 1.0)",
          "dash": "solid",
          "shape": "linear",
          "width": 1.3
         },
         "mode": "lines",
         "name": "gas_co2_per_capita",
         "text": "",
         "type": "scatter",
         "x": [
          "1900-01-01",
          "1901-01-01",
          "1902-01-01",
          "1903-01-01",
          "1904-01-01",
          "1905-01-01",
          "1906-01-01",
          "1907-01-01",
          "1908-01-01",
          "1909-01-01",
          "1910-01-01",
          "1911-01-01",
          "1912-01-01",
          "1913-01-01",
          "1914-01-01",
          "1915-01-01",
          "1916-01-01",
          "1917-01-01",
          "1918-01-01",
          "1919-01-01",
          "1920-01-01",
          "1921-01-01",
          "1922-01-01",
          "1923-01-01",
          "1924-01-01",
          "1925-01-01",
          "1926-01-01",
          "1927-01-01",
          "1928-01-01",
          "1929-01-01",
          "1930-01-01",
          "1931-01-01",
          "1932-01-01",
          "1933-01-01",
          "1934-01-01",
          "1935-01-01",
          "1936-01-01",
          "1937-01-01",
          "1938-01-01",
          "1939-01-01",
          "1940-01-01",
          "1941-01-01",
          "1942-01-01",
          "1943-01-01",
          "1944-01-01",
          "1945-01-01",
          "1946-01-01",
          "1947-01-01",
          "1948-01-01",
          "1949-01-01",
          "1950-01-01",
          "1951-01-01",
          "1952-01-01",
          "1953-01-01",
          "1954-01-01",
          "1955-01-01",
          "1956-01-01",
          "1957-01-01",
          "1958-01-01",
          "1959-01-01",
          "1960-01-01",
          "1961-01-01",
          "1962-01-01",
          "1963-01-01",
          "1964-01-01",
          "1965-01-01",
          "1966-01-01",
          "1967-01-01",
          "1968-01-01",
          "1969-01-01",
          "1970-01-01",
          "1971-01-01",
          "1972-01-01",
          "1973-01-01",
          "1974-01-01",
          "1975-01-01",
          "1976-01-01",
          "1977-01-01",
          "1978-01-01",
          "1979-01-01",
          "1980-01-01",
          "1981-01-01",
          "1982-01-01",
          "1983-01-01",
          "1984-01-01",
          "1985-01-01",
          "1986-01-01",
          "1987-01-01",
          "1988-01-01",
          "1989-01-01",
          "1990-01-01",
          "1991-01-01",
          "1992-01-01",
          "1993-01-01",
          "1994-01-01",
          "1995-01-01",
          "1996-01-01",
          "1997-01-01",
          "1998-01-01",
          "1999-01-01",
          "2000-01-01",
          "2001-01-01",
          "2002-01-01",
          "2003-01-01",
          "2004-01-01",
          "2005-01-01",
          "2006-01-01",
          "2007-01-01",
          "2008-01-01",
          "2009-01-01",
          "2010-01-01",
          "2011-01-01",
          "2012-01-01",
          "2013-01-01",
          "2014-01-01",
          "2015-01-01",
          "2016-01-01",
          "2017-01-01",
          "2018-01-01",
          "2019-01-01"
         ],
         "y": [
          0.146,
          0.16,
          0.167,
          0.174,
          0.178,
          0.197,
          0.214,
          0.219,
          0.213,
          0.25,
          0.26,
          0.257,
          0.278,
          0.283,
          0.284,
          0.297,
          0.351,
          0.365,
          0.326,
          0.333,
          0.357,
          0.292,
          0.331,
          0.431,
          0.482,
          0.494,
          0.538,
          0.584,
          0.624,
          0.754,
          0.755,
          0.651,
          0.597,
          0.594,
          0.671,
          0.722,
          0.811,
          0.895,
          0.847,
          0.904,
          0.965,
          1.01,
          1.084,
          1.195,
          1.279,
          1.336,
          1.354,
          1.474,
          1.633,
          1.695,
          2.01,
          2.339,
          2.467,
          2.552,
          2.631,
          2.791,
          2.896,
          3.042,
          3.157,
          3.228,
          3.374,
          3.357,
          3.517,
          3.686,
          3.845,
          3.918,
          4.172,
          4.322,
          4.55,
          4.903,
          5.056,
          5.189,
          5.231,
          5.128,
          4.846,
          4.465,
          4.498,
          4.315,
          4.352,
          4.465,
          4.363,
          4.187,
          3.861,
          3.633,
          3.72,
          3.576,
          3.364,
          3.53,
          3.665,
          3.758,
          4.096,
          4.149,
          4.243,
          4.308,
          4.366,
          4.502,
          4.525,
          4.499,
          4.362,
          4.321,
          4.463,
          4.231,
          4.331,
          4.177,
          4.163,
          4.064,
          3.971,
          4.184,
          4.177,
          4.073,
          4.235,
          4.26,
          4.42,
          4.512,
          4.567,
          4.668,
          4.672,
          4.589,
          5.054,
          5.187
         ]
        },
        {
         "line": {
          "color": "rgba(128, 0, 128, 1.0)",
          "dash": "solid",
          "shape": "linear",
          "width": 1.3
         },
         "mode": "lines",
         "name": "oil_co2_per_capita",
         "text": "",
         "type": "scatter",
         "x": [
          "1900-01-01",
          "1901-01-01",
          "1902-01-01",
          "1903-01-01",
          "1904-01-01",
          "1905-01-01",
          "1906-01-01",
          "1907-01-01",
          "1908-01-01",
          "1909-01-01",
          "1910-01-01",
          "1911-01-01",
          "1912-01-01",
          "1913-01-01",
          "1914-01-01",
          "1915-01-01",
          "1916-01-01",
          "1917-01-01",
          "1918-01-01",
          "1919-01-01",
          "1920-01-01",
          "1921-01-01",
          "1922-01-01",
          "1923-01-01",
          "1924-01-01",
          "1925-01-01",
          "1926-01-01",
          "1927-01-01",
          "1928-01-01",
          "1929-01-01",
          "1930-01-01",
          "1931-01-01",
          "1932-01-01",
          "1933-01-01",
          "1934-01-01",
          "1935-01-01",
          "1936-01-01",
          "1937-01-01",
          "1938-01-01",
          "1939-01-01",
          "1940-01-01",
          "1941-01-01",
          "1942-01-01",
          "1943-01-01",
          "1944-01-01",
          "1945-01-01",
          "1946-01-01",
          "1947-01-01",
          "1948-01-01",
          "1949-01-01",
          "1950-01-01",
          "1951-01-01",
          "1952-01-01",
          "1953-01-01",
          "1954-01-01",
          "1955-01-01",
          "1956-01-01",
          "1957-01-01",
          "1958-01-01",
          "1959-01-01",
          "1960-01-01",
          "1961-01-01",
          "1962-01-01",
          "1963-01-01",
          "1964-01-01",
          "1965-01-01",
          "1966-01-01",
          "1967-01-01",
          "1968-01-01",
          "1969-01-01",
          "1970-01-01",
          "1971-01-01",
          "1972-01-01",
          "1973-01-01",
          "1974-01-01",
          "1975-01-01",
          "1976-01-01",
          "1977-01-01",
          "1978-01-01",
          "1979-01-01",
          "1980-01-01",
          "1981-01-01",
          "1982-01-01",
          "1983-01-01",
          "1984-01-01",
          "1985-01-01",
          "1986-01-01",
          "1987-01-01",
          "1988-01-01",
          "1989-01-01",
          "1990-01-01",
          "1991-01-01",
          "1992-01-01",
          "1993-01-01",
          "1994-01-01",
          "1995-01-01",
          "1996-01-01",
          "1997-01-01",
          "1998-01-01",
          "1999-01-01",
          "2000-01-01",
          "2001-01-01",
          "2002-01-01",
          "2003-01-01",
          "2004-01-01",
          "2005-01-01",
          "2006-01-01",
          "2007-01-01",
          "2008-01-01",
          "2009-01-01",
          "2010-01-01",
          "2011-01-01",
          "2012-01-01",
          "2013-01-01",
          "2014-01-01",
          "2015-01-01",
          "2016-01-01",
          "2017-01-01",
          "2018-01-01",
          "2019-01-01"
         ],
         "y": [
          0.313,
          0.338,
          0.426,
          0.476,
          0.548,
          0.619,
          0.566,
          0.736,
          0.774,
          0.778,
          0.876,
          0.904,
          0.902,
          1.065,
          1.124,
          1.168,
          1.275,
          1.388,
          1.472,
          1.634,
          2.073,
          2.182,
          2.466,
          2.877,
          2.761,
          2.852,
          2.844,
          3.216,
          3.235,
          3.518,
          3.071,
          2.833,
          2.587,
          2.844,
          2.833,
          3.04,
          3.341,
          3.8,
          3.543,
          3.702,
          4.023,
          4.201,
          3.986,
          4.26,
          4.799,
          4.918,
          4.914,
          5.204,
          5.671,
          5.202,
          5.647,
          5.972,
          6.131,
          6.329,
          6.301,
          6.686,
          6.89,
          6.715,
          6.748,
          6.847,
          6.864,
          6.844,
          6.94,
          6.973,
          7.061,
          7.333,
          7.576,
          7.794,
          8.209,
          8.58,
          9.728,
          9.922,
          10.64,
          11.151,
          10.593,
          10.2,
          10.401,
          10.947,
          11.067,
          10.646,
          9.66,
          8.788,
          8.25,
          8.163,
          8.217,
          8.156,
          8.424,
          8.554,
          8.812,
          8.7,
          8.554,
          8.251,
          8.354,
          8.326,
          8.435,
          8.299,
          8.521,
          8.506,
          8.552,
          8.697,
          8.72,
          8.713,
          8.614,
          8.692,
          8.858,
          8.838,
          8.64,
          8.49,
          7.85,
          7.338,
          7.363,
          7.155,
          6.949,
          7.032,
          7.037,
          7.102,
          7.075,
          7.081,
          7.185,
          7.119
         ]
        },
        {
         "line": {
          "color": "rgba(219, 64, 82, 1.0)",
          "dash": "solid",
          "shape": "linear",
          "width": 1.3
         },
         "mode": "lines",
         "name": "flaring_co2_per_capita",
         "text": "",
         "type": "scatter",
         "x": [
          "1900-01-01",
          "1901-01-01",
          "1902-01-01",
          "1903-01-01",
          "1904-01-01",
          "1905-01-01",
          "1906-01-01",
          "1907-01-01",
          "1908-01-01",
          "1909-01-01",
          "1910-01-01",
          "1911-01-01",
          "1912-01-01",
          "1913-01-01",
          "1914-01-01",
          "1915-01-01",
          "1916-01-01",
          "1917-01-01",
          "1918-01-01",
          "1919-01-01",
          "1920-01-01",
          "1921-01-01",
          "1922-01-01",
          "1923-01-01",
          "1924-01-01",
          "1925-01-01",
          "1926-01-01",
          "1927-01-01",
          "1928-01-01",
          "1929-01-01",
          "1930-01-01",
          "1931-01-01",
          "1932-01-01",
          "1933-01-01",
          "1934-01-01",
          "1935-01-01",
          "1936-01-01",
          "1937-01-01",
          "1938-01-01",
          "1939-01-01",
          "1940-01-01",
          "1941-01-01",
          "1942-01-01",
          "1943-01-01",
          "1944-01-01",
          "1945-01-01",
          "1946-01-01",
          "1947-01-01",
          "1948-01-01",
          "1949-01-01",
          "1950-01-01",
          "1951-01-01",
          "1952-01-01",
          "1953-01-01",
          "1954-01-01",
          "1955-01-01",
          "1956-01-01",
          "1957-01-01",
          "1958-01-01",
          "1959-01-01",
          "1960-01-01",
          "1961-01-01",
          "1962-01-01",
          "1963-01-01",
          "1964-01-01",
          "1965-01-01",
          "1966-01-01",
          "1967-01-01",
          "1968-01-01",
          "1969-01-01",
          "1970-01-01",
          "1971-01-01",
          "1972-01-01",
          "1973-01-01",
          "1974-01-01",
          "1975-01-01",
          "1976-01-01",
          "1977-01-01",
          "1978-01-01",
          "1979-01-01",
          "1980-01-01",
          "1981-01-01",
          "1982-01-01",
          "1983-01-01",
          "1984-01-01",
          "1985-01-01",
          "1986-01-01",
          "1987-01-01",
          "1988-01-01",
          "1989-01-01",
          "1990-01-01",
          "1991-01-01",
          "1992-01-01",
          "1993-01-01",
          "1994-01-01",
          "1995-01-01",
          "1996-01-01",
          "1997-01-01",
          "1998-01-01",
          "1999-01-01",
          "2000-01-01",
          "2001-01-01",
          "2002-01-01",
          "2003-01-01",
          "2004-01-01",
          "2005-01-01",
          "2006-01-01",
          "2007-01-01",
          "2008-01-01",
          "2009-01-01",
          "2010-01-01",
          "2011-01-01",
          "2012-01-01",
          "2013-01-01",
          "2014-01-01",
          "2015-01-01",
          "2016-01-01",
          "2017-01-01",
          "2018-01-01",
          "2019-01-01"
         ],
         "y": [
          0.129,
          0.129,
          0.131,
          0.141,
          0.142,
          0.149,
          0.156,
          0.158,
          0.16,
          0.162,
          0.166,
          0.03,
          0.031,
          0.027,
          0.022,
          0.021,
          0.024,
          0.022,
          0.021,
          0.023,
          0.029,
          0.039,
          0.036,
          0.032,
          0.033,
          0.032,
          0.041,
          0.061,
          0.062,
          0.072,
          0.125,
          0.136,
          0.135,
          0.129,
          0.1,
          0.086,
          0.093,
          0.106,
          0.119,
          0.149,
          0.162,
          0.167,
          0.189,
          0.245,
          0.266,
          0.243,
          0.231,
          0.263,
          0.28,
          0.265,
          0.272,
          0.265,
          0.28,
          0.263,
          0.231,
          0.243,
          0.266,
          0.245,
          0.189,
          0.167,
          0.162,
          0.149,
          0.119,
          0.106,
          0.093,
          0.086,
          0.1,
          0.129,
          0.135,
          0.136,
          0.125,
          0.072,
          0.062,
          0.061,
          0.041,
          0.032,
          0.033,
          0.032,
          0.036,
          0.039,
          0.029,
          0.023,
          0.021,
          0.022,
          0.024,
          0.021,
          0.022,
          0.027,
          0.031,
          0.03,
          0.166,
          0.162,
          0.16,
          0.158,
          0.156,
          0.149,
          0.142,
          0.141,
          0.131,
          0.129,
          0.129,
          0.127,
          0.128,
          0.126,
          0.127,
          0.127,
          0.128,
          0.128,
          0.132,
          0.128,
          0.135,
          0.148,
          0.157,
          0.174,
          0.189,
          0.193,
          0.164,
          0.169,
          0.22,
          0.218
         ]
        }
       ],
       "layout": {
        "legend": {
         "bgcolor": "#F5F6F9",
         "font": {
          "color": "#4D5663"
         }
        },
        "paper_bgcolor": "#F5F6F9",
        "plot_bgcolor": "#F5F6F9",
        "template": {
         "data": {
          "bar": [
           {
            "error_x": {
             "color": "#2a3f5f"
            },
            "error_y": {
             "color": "#2a3f5f"
            },
            "marker": {
             "line": {
              "color": "#E5ECF6",
              "width": 0.5
             },
             "pattern": {
              "fillmode": "overlay",
              "size": 10,
              "solidity": 0.2
             }
            },
            "type": "bar"
           }
          ],
          "barpolar": [
           {
            "marker": {
             "line": {
              "color": "#E5ECF6",
              "width": 0.5
             },
             "pattern": {
              "fillmode": "overlay",
              "size": 10,
              "solidity": 0.2
             }
            },
            "type": "barpolar"
           }
          ],
          "carpet": [
           {
            "aaxis": {
             "endlinecolor": "#2a3f5f",
             "gridcolor": "white",
             "linecolor": "white",
             "minorgridcolor": "white",
             "startlinecolor": "#2a3f5f"
            },
            "baxis": {
             "endlinecolor": "#2a3f5f",
             "gridcolor": "white",
             "linecolor": "white",
             "minorgridcolor": "white",
             "startlinecolor": "#2a3f5f"
            },
            "type": "carpet"
           }
          ],
          "choropleth": [
           {
            "colorbar": {
             "outlinewidth": 0,
             "ticks": ""
            },
            "type": "choropleth"
           }
          ],
          "contour": [
           {
            "colorbar": {
             "outlinewidth": 0,
             "ticks": ""
            },
            "colorscale": [
             [
              0,
              "#0d0887"
             ],
             [
              0.1111111111111111,
              "#46039f"
             ],
             [
              0.2222222222222222,
              "#7201a8"
             ],
             [
              0.3333333333333333,
              "#9c179e"
             ],
             [
              0.4444444444444444,
              "#bd3786"
             ],
             [
              0.5555555555555556,
              "#d8576b"
             ],
             [
              0.6666666666666666,
              "#ed7953"
             ],
             [
              0.7777777777777778,
              "#fb9f3a"
             ],
             [
              0.8888888888888888,
              "#fdca26"
             ],
             [
              1,
              "#f0f921"
             ]
            ],
            "type": "contour"
           }
          ],
          "contourcarpet": [
           {
            "colorbar": {
             "outlinewidth": 0,
             "ticks": ""
            },
            "type": "contourcarpet"
           }
          ],
          "heatmap": [
           {
            "colorbar": {
             "outlinewidth": 0,
             "ticks": ""
            },
            "colorscale": [
             [
              0,
              "#0d0887"
             ],
             [
              0.1111111111111111,
              "#46039f"
             ],
             [
              0.2222222222222222,
              "#7201a8"
             ],
             [
              0.3333333333333333,
              "#9c179e"
             ],
             [
              0.4444444444444444,
              "#bd3786"
             ],
             [
              0.5555555555555556,
              "#d8576b"
             ],
             [
              0.6666666666666666,
              "#ed7953"
             ],
             [
              0.7777777777777778,
              "#fb9f3a"
             ],
             [
              0.8888888888888888,
              "#fdca26"
             ],
             [
              1,
              "#f0f921"
             ]
            ],
            "type": "heatmap"
           }
          ],
          "heatmapgl": [
           {
            "colorbar": {
             "outlinewidth": 0,
             "ticks": ""
            },
            "colorscale": [
             [
              0,
              "#0d0887"
             ],
             [
              0.1111111111111111,
              "#46039f"
             ],
             [
              0.2222222222222222,
              "#7201a8"
             ],
             [
              0.3333333333333333,
              "#9c179e"
             ],
             [
              0.4444444444444444,
              "#bd3786"
             ],
             [
              0.5555555555555556,
              "#d8576b"
             ],
             [
              0.6666666666666666,
              "#ed7953"
             ],
             [
              0.7777777777777778,
              "#fb9f3a"
             ],
             [
              0.8888888888888888,
              "#fdca26"
             ],
             [
              1,
              "#f0f921"
             ]
            ],
            "type": "heatmapgl"
           }
          ],
          "histogram": [
           {
            "marker": {
             "pattern": {
              "fillmode": "overlay",
              "size": 10,
              "solidity": 0.2
             }
            },
            "type": "histogram"
           }
          ],
          "histogram2d": [
           {
            "colorbar": {
             "outlinewidth": 0,
             "ticks": ""
            },
            "colorscale": [
             [
              0,
              "#0d0887"
             ],
             [
              0.1111111111111111,
              "#46039f"
             ],
             [
              0.2222222222222222,
              "#7201a8"
             ],
             [
              0.3333333333333333,
              "#9c179e"
             ],
             [
              0.4444444444444444,
              "#bd3786"
             ],
             [
              0.5555555555555556,
              "#d8576b"
             ],
             [
              0.6666666666666666,
              "#ed7953"
             ],
             [
              0.7777777777777778,
              "#fb9f3a"
             ],
             [
              0.8888888888888888,
              "#fdca26"
             ],
             [
              1,
              "#f0f921"
             ]
            ],
            "type": "histogram2d"
           }
          ],
          "histogram2dcontour": [
           {
            "colorbar": {
             "outlinewidth": 0,
             "ticks": ""
            },
            "colorscale": [
             [
              0,
              "#0d0887"
             ],
             [
              0.1111111111111111,
              "#46039f"
             ],
             [
              0.2222222222222222,
              "#7201a8"
             ],
             [
              0.3333333333333333,
              "#9c179e"
             ],
             [
              0.4444444444444444,
              "#bd3786"
             ],
             [
              0.5555555555555556,
              "#d8576b"
             ],
             [
              0.6666666666666666,
              "#ed7953"
             ],
             [
              0.7777777777777778,
              "#fb9f3a"
             ],
             [
              0.8888888888888888,
              "#fdca26"
             ],
             [
              1,
              "#f0f921"
             ]
            ],
            "type": "histogram2dcontour"
           }
          ],
          "mesh3d": [
           {
            "colorbar": {
             "outlinewidth": 0,
             "ticks": ""
            },
            "type": "mesh3d"
           }
          ],
          "parcoords": [
           {
            "line": {
             "colorbar": {
              "outlinewidth": 0,
              "ticks": ""
             }
            },
            "type": "parcoords"
           }
          ],
          "pie": [
           {
            "automargin": true,
            "type": "pie"
           }
          ],
          "scatter": [
           {
            "marker": {
             "colorbar": {
              "outlinewidth": 0,
              "ticks": ""
             }
            },
            "type": "scatter"
           }
          ],
          "scatter3d": [
           {
            "line": {
             "colorbar": {
              "outlinewidth": 0,
              "ticks": ""
             }
            },
            "marker": {
             "colorbar": {
              "outlinewidth": 0,
              "ticks": ""
             }
            },
            "type": "scatter3d"
           }
          ],
          "scattercarpet": [
           {
            "marker": {
             "colorbar": {
              "outlinewidth": 0,
              "ticks": ""
             }
            },
            "type": "scattercarpet"
           }
          ],
          "scattergeo": [
           {
            "marker": {
             "colorbar": {
              "outlinewidth": 0,
              "ticks": ""
             }
            },
            "type": "scattergeo"
           }
          ],
          "scattergl": [
           {
            "marker": {
             "colorbar": {
              "outlinewidth": 0,
              "ticks": ""
             }
            },
            "type": "scattergl"
           }
          ],
          "scattermapbox": [
           {
            "marker": {
             "colorbar": {
              "outlinewidth": 0,
              "ticks": ""
             }
            },
            "type": "scattermapbox"
           }
          ],
          "scatterpolar": [
           {
            "marker": {
             "colorbar": {
              "outlinewidth": 0,
              "ticks": ""
             }
            },
            "type": "scatterpolar"
           }
          ],
          "scatterpolargl": [
           {
            "marker": {
             "colorbar": {
              "outlinewidth": 0,
              "ticks": ""
             }
            },
            "type": "scatterpolargl"
           }
          ],
          "scatterternary": [
           {
            "marker": {
             "colorbar": {
              "outlinewidth": 0,
              "ticks": ""
             }
            },
            "type": "scatterternary"
           }
          ],
          "surface": [
           {
            "colorbar": {
             "outlinewidth": 0,
             "ticks": ""
            },
            "colorscale": [
             [
              0,
              "#0d0887"
             ],
             [
              0.1111111111111111,
              "#46039f"
             ],
             [
              0.2222222222222222,
              "#7201a8"
             ],
             [
              0.3333333333333333,
              "#9c179e"
             ],
             [
              0.4444444444444444,
              "#bd3786"
             ],
             [
              0.5555555555555556,
              "#d8576b"
             ],
             [
              0.6666666666666666,
              "#ed7953"
             ],
             [
              0.7777777777777778,
              "#fb9f3a"
             ],
             [
              0.8888888888888888,
              "#fdca26"
             ],
             [
              1,
              "#f0f921"
             ]
            ],
            "type": "surface"
           }
          ],
          "table": [
           {
            "cells": {
             "fill": {
              "color": "#EBF0F8"
             },
             "line": {
              "color": "white"
             }
            },
            "header": {
             "fill": {
              "color": "#C8D4E3"
             },
             "line": {
              "color": "white"
             }
            },
            "type": "table"
           }
          ]
         },
         "layout": {
          "annotationdefaults": {
           "arrowcolor": "#2a3f5f",
           "arrowhead": 0,
           "arrowwidth": 1
          },
          "autotypenumbers": "strict",
          "coloraxis": {
           "colorbar": {
            "outlinewidth": 0,
            "ticks": ""
           }
          },
          "colorscale": {
           "diverging": [
            [
             0,
             "#8e0152"
            ],
            [
             0.1,
             "#c51b7d"
            ],
            [
             0.2,
             "#de77ae"
            ],
            [
             0.3,
             "#f1b6da"
            ],
            [
             0.4,
             "#fde0ef"
            ],
            [
             0.5,
             "#f7f7f7"
            ],
            [
             0.6,
             "#e6f5d0"
            ],
            [
             0.7,
             "#b8e186"
            ],
            [
             0.8,
             "#7fbc41"
            ],
            [
             0.9,
             "#4d9221"
            ],
            [
             1,
             "#276419"
            ]
           ],
           "sequential": [
            [
             0,
             "#0d0887"
            ],
            [
             0.1111111111111111,
             "#46039f"
            ],
            [
             0.2222222222222222,
             "#7201a8"
            ],
            [
             0.3333333333333333,
             "#9c179e"
            ],
            [
             0.4444444444444444,
             "#bd3786"
            ],
            [
             0.5555555555555556,
             "#d8576b"
            ],
            [
             0.6666666666666666,
             "#ed7953"
            ],
            [
             0.7777777777777778,
             "#fb9f3a"
            ],
            [
             0.8888888888888888,
             "#fdca26"
            ],
            [
             1,
             "#f0f921"
            ]
           ],
           "sequentialminus": [
            [
             0,
             "#0d0887"
            ],
            [
             0.1111111111111111,
             "#46039f"
            ],
            [
             0.2222222222222222,
             "#7201a8"
            ],
            [
             0.3333333333333333,
             "#9c179e"
            ],
            [
             0.4444444444444444,
             "#bd3786"
            ],
            [
             0.5555555555555556,
             "#d8576b"
            ],
            [
             0.6666666666666666,
             "#ed7953"
            ],
            [
             0.7777777777777778,
             "#fb9f3a"
            ],
            [
             0.8888888888888888,
             "#fdca26"
            ],
            [
             1,
             "#f0f921"
            ]
           ]
          },
          "colorway": [
           "#636efa",
           "#EF553B",
           "#00cc96",
           "#ab63fa",
           "#FFA15A",
           "#19d3f3",
           "#FF6692",
           "#B6E880",
           "#FF97FF",
           "#FECB52"
          ],
          "font": {
           "color": "#2a3f5f"
          },
          "geo": {
           "bgcolor": "white",
           "lakecolor": "white",
           "landcolor": "#E5ECF6",
           "showlakes": true,
           "showland": true,
           "subunitcolor": "white"
          },
          "hoverlabel": {
           "align": "left"
          },
          "hovermode": "closest",
          "mapbox": {
           "style": "light"
          },
          "paper_bgcolor": "white",
          "plot_bgcolor": "#E5ECF6",
          "polar": {
           "angularaxis": {
            "gridcolor": "white",
            "linecolor": "white",
            "ticks": ""
           },
           "bgcolor": "#E5ECF6",
           "radialaxis": {
            "gridcolor": "white",
            "linecolor": "white",
            "ticks": ""
           }
          },
          "scene": {
           "xaxis": {
            "backgroundcolor": "#E5ECF6",
            "gridcolor": "white",
            "gridwidth": 2,
            "linecolor": "white",
            "showbackground": true,
            "ticks": "",
            "zerolinecolor": "white"
           },
           "yaxis": {
            "backgroundcolor": "#E5ECF6",
            "gridcolor": "white",
            "gridwidth": 2,
            "linecolor": "white",
            "showbackground": true,
            "ticks": "",
            "zerolinecolor": "white"
           },
           "zaxis": {
            "backgroundcolor": "#E5ECF6",
            "gridcolor": "white",
            "gridwidth": 2,
            "linecolor": "white",
            "showbackground": true,
            "ticks": "",
            "zerolinecolor": "white"
           }
          },
          "shapedefaults": {
           "line": {
            "color": "#2a3f5f"
           }
          },
          "ternary": {
           "aaxis": {
            "gridcolor": "white",
            "linecolor": "white",
            "ticks": ""
           },
           "baxis": {
            "gridcolor": "white",
            "linecolor": "white",
            "ticks": ""
           },
           "bgcolor": "#E5ECF6",
           "caxis": {
            "gridcolor": "white",
            "linecolor": "white",
            "ticks": ""
           }
          },
          "title": {
           "x": 0.05
          },
          "xaxis": {
           "automargin": true,
           "gridcolor": "white",
           "linecolor": "white",
           "ticks": "",
           "title": {
            "standoff": 15
           },
           "zerolinecolor": "white",
           "zerolinewidth": 2
          },
          "yaxis": {
           "automargin": true,
           "gridcolor": "white",
           "linecolor": "white",
           "ticks": "",
           "title": {
            "standoff": 15
           },
           "zerolinecolor": "white",
           "zerolinewidth": 2
          }
         }
        },
        "title": {
         "font": {
          "color": "#4D5663"
         },
         "text": "Global CO2 Emissions over Time"
        },
        "xaxis": {
         "gridcolor": "#E1E5ED",
         "showgrid": true,
         "tickfont": {
          "color": "#4D5663"
         },
         "title": {
          "font": {
           "color": "#4D5663"
          },
          "text": "Time (years)"
         },
         "zerolinecolor": "#E1E5ED"
        },
        "yaxis": {
         "gridcolor": "#E1E5ED",
         "showgrid": true,
         "tickfont": {
          "color": "#4D5663"
         },
         "title": {
          "font": {
           "color": "#4D5663"
          },
          "text": "Emissions (Metric Tons per Capita)"
         },
         "zerolinecolor": "#E1E5ED"
        }
       }
      },
      "text/html": [
       "<div>                            <div id=\"c2e9a78f-4f67-4e8a-87c1-e5441331b9cd\" class=\"plotly-graph-div\" style=\"height:525px; width:100%;\"></div>            <script type=\"text/javascript\">                require([\"plotly\"], function(Plotly) {                    window.PLOTLYENV=window.PLOTLYENV || {};\n",
       "                    window.PLOTLYENV.BASE_URL='https://plot.ly';                                    if (document.getElementById(\"c2e9a78f-4f67-4e8a-87c1-e5441331b9cd\")) {                    Plotly.newPlot(                        \"c2e9a78f-4f67-4e8a-87c1-e5441331b9cd\",                        [{\"line\":{\"color\":\"rgba(255, 153, 51, 1.0)\",\"dash\":\"solid\",\"shape\":\"linear\",\"width\":1.3},\"mode\":\"lines\",\"name\":\"coal_co2_per_capita\",\"text\":\"\",\"type\":\"scatter\",\"x\":[\"1900-01-01\",\"1901-01-01\",\"1902-01-01\",\"1903-01-01\",\"1904-01-01\",\"1905-01-01\",\"1906-01-01\",\"1907-01-01\",\"1908-01-01\",\"1909-01-01\",\"1910-01-01\",\"1911-01-01\",\"1912-01-01\",\"1913-01-01\",\"1914-01-01\",\"1915-01-01\",\"1916-01-01\",\"1917-01-01\",\"1918-01-01\",\"1919-01-01\",\"1920-01-01\",\"1921-01-01\",\"1922-01-01\",\"1923-01-01\",\"1924-01-01\",\"1925-01-01\",\"1926-01-01\",\"1927-01-01\",\"1928-01-01\",\"1929-01-01\",\"1930-01-01\",\"1931-01-01\",\"1932-01-01\",\"1933-01-01\",\"1934-01-01\",\"1935-01-01\",\"1936-01-01\",\"1937-01-01\",\"1938-01-01\",\"1939-01-01\",\"1940-01-01\",\"1941-01-01\",\"1942-01-01\",\"1943-01-01\",\"1944-01-01\",\"1945-01-01\",\"1946-01-01\",\"1947-01-01\",\"1948-01-01\",\"1949-01-01\",\"1950-01-01\",\"1951-01-01\",\"1952-01-01\",\"1953-01-01\",\"1954-01-01\",\"1955-01-01\",\"1956-01-01\",\"1957-01-01\",\"1958-01-01\",\"1959-01-01\",\"1960-01-01\",\"1961-01-01\",\"1962-01-01\",\"1963-01-01\",\"1964-01-01\",\"1965-01-01\",\"1966-01-01\",\"1967-01-01\",\"1968-01-01\",\"1969-01-01\",\"1970-01-01\",\"1971-01-01\",\"1972-01-01\",\"1973-01-01\",\"1974-01-01\",\"1975-01-01\",\"1976-01-01\",\"1977-01-01\",\"1978-01-01\",\"1979-01-01\",\"1980-01-01\",\"1981-01-01\",\"1982-01-01\",\"1983-01-01\",\"1984-01-01\",\"1985-01-01\",\"1986-01-01\",\"1987-01-01\",\"1988-01-01\",\"1989-01-01\",\"1990-01-01\",\"1991-01-01\",\"1992-01-01\",\"1993-01-01\",\"1994-01-01\",\"1995-01-01\",\"1996-01-01\",\"1997-01-01\",\"1998-01-01\",\"1999-01-01\",\"2000-01-01\",\"2001-01-01\",\"2002-01-01\",\"2003-01-01\",\"2004-01-01\",\"2005-01-01\",\"2006-01-01\",\"2007-01-01\",\"2008-01-01\",\"2009-01-01\",\"2010-01-01\",\"2011-01-01\",\"2012-01-01\",\"2013-01-01\",\"2014-01-01\",\"2015-01-01\",\"2016-01-01\",\"2017-01-01\",\"2018-01-01\",\"2019-01-01\"],\"y\":[7.955,8.484,8.736,10.048,9.593,10.497,10.859,12.313,10.387,11.327,12.105,11.726,12.363,12.98,11.491,11.724,12.807,13.897,14.344,11.499,13.171,10.122,9.716,12.988,11.136,11.202,12.172,11.174,10.64,11.09,9.664,7.894,6.392,6.771,7.283,7.369,8.522,8.471,6.662,7.468,8.433,9.238,10.278,10.222,10.596,9.61,8.66,9.531,9.296,6.797,7.917,7.531,6.579,6.425,5.414,5.977,6.115,5.761,4.914,4.957,4.916,4.681,4.788,5.063,5.315,5.46,5.61,5.704,5.537,5.576,5.575,5.239,5.274,5.626,5.51,5.255,5.764,5.778,6.071,6.223,6.362,6.426,6.147,6.426,6.657,6.764,6.543,6.859,7.11,7.195,7.296,7.17,7.19,7.343,7.316,7.318,7.536,7.6,7.606,7.535,7.739,7.424,7.371,7.442,7.494,7.504,7.325,7.335,7.154,6.21,6.506,6.101,5.358,5.498,5.436,4.685,4.266,4.114,3.92,3.327]},{\"line\":{\"color\":\"rgba(55, 128, 191, 1.0)\",\"dash\":\"solid\",\"shape\":\"linear\",\"width\":1.3},\"mode\":\"lines\",\"name\":\"cement_co2_per_capita\",\"text\":\"\",\"type\":\"scatter\",\"x\":[\"1900-01-01\",\"1901-01-01\",\"1902-01-01\",\"1903-01-01\",\"1904-01-01\",\"1905-01-01\",\"1906-01-01\",\"1907-01-01\",\"1908-01-01\",\"1909-01-01\",\"1910-01-01\",\"1911-01-01\",\"1912-01-01\",\"1913-01-01\",\"1914-01-01\",\"1915-01-01\",\"1916-01-01\",\"1917-01-01\",\"1918-01-01\",\"1919-01-01\",\"1920-01-01\",\"1921-01-01\",\"1922-01-01\",\"1923-01-01\",\"1924-01-01\",\"1925-01-01\",\"1926-01-01\",\"1927-01-01\",\"1928-01-01\",\"1929-01-01\",\"1930-01-01\",\"1931-01-01\",\"1932-01-01\",\"1933-01-01\",\"1934-01-01\",\"1935-01-01\",\"1936-01-01\",\"1937-01-01\",\"1938-01-01\",\"1939-01-01\",\"1940-01-01\",\"1941-01-01\",\"1942-01-01\",\"1943-01-01\",\"1944-01-01\",\"1945-01-01\",\"1946-01-01\",\"1947-01-01\",\"1948-01-01\",\"1949-01-01\",\"1950-01-01\",\"1951-01-01\",\"1952-01-01\",\"1953-01-01\",\"1954-01-01\",\"1955-01-01\",\"1956-01-01\",\"1957-01-01\",\"1958-01-01\",\"1959-01-01\",\"1960-01-01\",\"1961-01-01\",\"1962-01-01\",\"1963-01-01\",\"1964-01-01\",\"1965-01-01\",\"1966-01-01\",\"1967-01-01\",\"1968-01-01\",\"1969-01-01\",\"1970-01-01\",\"1971-01-01\",\"1972-01-01\",\"1973-01-01\",\"1974-01-01\",\"1975-01-01\",\"1976-01-01\",\"1977-01-01\",\"1978-01-01\",\"1979-01-01\",\"1980-01-01\",\"1981-01-01\",\"1982-01-01\",\"1983-01-01\",\"1984-01-01\",\"1985-01-01\",\"1986-01-01\",\"1987-01-01\",\"1988-01-01\",\"1989-01-01\",\"1990-01-01\",\"1991-01-01\",\"1992-01-01\",\"1993-01-01\",\"1994-01-01\",\"1995-01-01\",\"1996-01-01\",\"1997-01-01\",\"1998-01-01\",\"1999-01-01\",\"2000-01-01\",\"2001-01-01\",\"2002-01-01\",\"2003-01-01\",\"2004-01-01\",\"2005-01-01\",\"2006-01-01\",\"2007-01-01\",\"2008-01-01\",\"2009-01-01\",\"2010-01-01\",\"2011-01-01\",\"2012-01-01\",\"2013-01-01\",\"2014-01-01\",\"2015-01-01\",\"2016-01-01\",\"2017-01-01\",\"2018-01-01\",\"2019-01-01\"],\"y\":[0.018,0.021,0.026,0.03,0.032,0.04,0.05,0.051,0.051,0.063,0.072,0.073,0.075,0.082,0.078,0.074,0.078,0.078,0.059,0.066,0.08,0.078,0.089,0.105,0.113,0.118,0.119,0.122,0.123,0.118,0.111,0.083,0.051,0.042,0.052,0.05,0.074,0.076,0.068,0.078,0.083,0.103,0.112,0.083,0.054,0.06,0.096,0.108,0.117,0.118,0.124,0.134,0.133,0.139,0.14,0.152,0.159,0.148,0.15,0.161,0.149,0.148,0.152,0.157,0.163,0.166,0.17,0.164,0.171,0.171,0.162,0.163,0.166,0.166,0.164,0.135,0.143,0.148,0.154,0.154,0.14,0.135,0.119,0.126,0.136,0.129,0.133,0.132,0.131,0.13,0.133,0.129,0.128,0.134,0.138,0.14,0.139,0.142,0.143,0.144,0.147,0.146,0.15,0.15,0.157,0.157,0.157,0.151,0.136,0.097,0.102,0.103,0.112,0.115,0.124,0.124,0.122,0.124,0.123,0.125]},{\"line\":{\"color\":\"rgba(50, 171, 96, 1.0)\",\"dash\":\"solid\",\"shape\":\"linear\",\"width\":1.3},\"mode\":\"lines\",\"name\":\"gas_co2_per_capita\",\"text\":\"\",\"type\":\"scatter\",\"x\":[\"1900-01-01\",\"1901-01-01\",\"1902-01-01\",\"1903-01-01\",\"1904-01-01\",\"1905-01-01\",\"1906-01-01\",\"1907-01-01\",\"1908-01-01\",\"1909-01-01\",\"1910-01-01\",\"1911-01-01\",\"1912-01-01\",\"1913-01-01\",\"1914-01-01\",\"1915-01-01\",\"1916-01-01\",\"1917-01-01\",\"1918-01-01\",\"1919-01-01\",\"1920-01-01\",\"1921-01-01\",\"1922-01-01\",\"1923-01-01\",\"1924-01-01\",\"1925-01-01\",\"1926-01-01\",\"1927-01-01\",\"1928-01-01\",\"1929-01-01\",\"1930-01-01\",\"1931-01-01\",\"1932-01-01\",\"1933-01-01\",\"1934-01-01\",\"1935-01-01\",\"1936-01-01\",\"1937-01-01\",\"1938-01-01\",\"1939-01-01\",\"1940-01-01\",\"1941-01-01\",\"1942-01-01\",\"1943-01-01\",\"1944-01-01\",\"1945-01-01\",\"1946-01-01\",\"1947-01-01\",\"1948-01-01\",\"1949-01-01\",\"1950-01-01\",\"1951-01-01\",\"1952-01-01\",\"1953-01-01\",\"1954-01-01\",\"1955-01-01\",\"1956-01-01\",\"1957-01-01\",\"1958-01-01\",\"1959-01-01\",\"1960-01-01\",\"1961-01-01\",\"1962-01-01\",\"1963-01-01\",\"1964-01-01\",\"1965-01-01\",\"1966-01-01\",\"1967-01-01\",\"1968-01-01\",\"1969-01-01\",\"1970-01-01\",\"1971-01-01\",\"1972-01-01\",\"1973-01-01\",\"1974-01-01\",\"1975-01-01\",\"1976-01-01\",\"1977-01-01\",\"1978-01-01\",\"1979-01-01\",\"1980-01-01\",\"1981-01-01\",\"1982-01-01\",\"1983-01-01\",\"1984-01-01\",\"1985-01-01\",\"1986-01-01\",\"1987-01-01\",\"1988-01-01\",\"1989-01-01\",\"1990-01-01\",\"1991-01-01\",\"1992-01-01\",\"1993-01-01\",\"1994-01-01\",\"1995-01-01\",\"1996-01-01\",\"1997-01-01\",\"1998-01-01\",\"1999-01-01\",\"2000-01-01\",\"2001-01-01\",\"2002-01-01\",\"2003-01-01\",\"2004-01-01\",\"2005-01-01\",\"2006-01-01\",\"2007-01-01\",\"2008-01-01\",\"2009-01-01\",\"2010-01-01\",\"2011-01-01\",\"2012-01-01\",\"2013-01-01\",\"2014-01-01\",\"2015-01-01\",\"2016-01-01\",\"2017-01-01\",\"2018-01-01\",\"2019-01-01\"],\"y\":[0.146,0.16,0.167,0.174,0.178,0.197,0.214,0.219,0.213,0.25,0.26,0.257,0.278,0.283,0.284,0.297,0.351,0.365,0.326,0.333,0.357,0.292,0.331,0.431,0.482,0.494,0.538,0.584,0.624,0.754,0.755,0.651,0.597,0.594,0.671,0.722,0.811,0.895,0.847,0.904,0.965,1.01,1.084,1.195,1.279,1.336,1.354,1.474,1.633,1.695,2.01,2.339,2.467,2.552,2.631,2.791,2.896,3.042,3.157,3.228,3.374,3.357,3.517,3.686,3.845,3.918,4.172,4.322,4.55,4.903,5.056,5.189,5.231,5.128,4.846,4.465,4.498,4.315,4.352,4.465,4.363,4.187,3.861,3.633,3.72,3.576,3.364,3.53,3.665,3.758,4.096,4.149,4.243,4.308,4.366,4.502,4.525,4.499,4.362,4.321,4.463,4.231,4.331,4.177,4.163,4.064,3.971,4.184,4.177,4.073,4.235,4.26,4.42,4.512,4.567,4.668,4.672,4.589,5.054,5.187]},{\"line\":{\"color\":\"rgba(128, 0, 128, 1.0)\",\"dash\":\"solid\",\"shape\":\"linear\",\"width\":1.3},\"mode\":\"lines\",\"name\":\"oil_co2_per_capita\",\"text\":\"\",\"type\":\"scatter\",\"x\":[\"1900-01-01\",\"1901-01-01\",\"1902-01-01\",\"1903-01-01\",\"1904-01-01\",\"1905-01-01\",\"1906-01-01\",\"1907-01-01\",\"1908-01-01\",\"1909-01-01\",\"1910-01-01\",\"1911-01-01\",\"1912-01-01\",\"1913-01-01\",\"1914-01-01\",\"1915-01-01\",\"1916-01-01\",\"1917-01-01\",\"1918-01-01\",\"1919-01-01\",\"1920-01-01\",\"1921-01-01\",\"1922-01-01\",\"1923-01-01\",\"1924-01-01\",\"1925-01-01\",\"1926-01-01\",\"1927-01-01\",\"1928-01-01\",\"1929-01-01\",\"1930-01-01\",\"1931-01-01\",\"1932-01-01\",\"1933-01-01\",\"1934-01-01\",\"1935-01-01\",\"1936-01-01\",\"1937-01-01\",\"1938-01-01\",\"1939-01-01\",\"1940-01-01\",\"1941-01-01\",\"1942-01-01\",\"1943-01-01\",\"1944-01-01\",\"1945-01-01\",\"1946-01-01\",\"1947-01-01\",\"1948-01-01\",\"1949-01-01\",\"1950-01-01\",\"1951-01-01\",\"1952-01-01\",\"1953-01-01\",\"1954-01-01\",\"1955-01-01\",\"1956-01-01\",\"1957-01-01\",\"1958-01-01\",\"1959-01-01\",\"1960-01-01\",\"1961-01-01\",\"1962-01-01\",\"1963-01-01\",\"1964-01-01\",\"1965-01-01\",\"1966-01-01\",\"1967-01-01\",\"1968-01-01\",\"1969-01-01\",\"1970-01-01\",\"1971-01-01\",\"1972-01-01\",\"1973-01-01\",\"1974-01-01\",\"1975-01-01\",\"1976-01-01\",\"1977-01-01\",\"1978-01-01\",\"1979-01-01\",\"1980-01-01\",\"1981-01-01\",\"1982-01-01\",\"1983-01-01\",\"1984-01-01\",\"1985-01-01\",\"1986-01-01\",\"1987-01-01\",\"1988-01-01\",\"1989-01-01\",\"1990-01-01\",\"1991-01-01\",\"1992-01-01\",\"1993-01-01\",\"1994-01-01\",\"1995-01-01\",\"1996-01-01\",\"1997-01-01\",\"1998-01-01\",\"1999-01-01\",\"2000-01-01\",\"2001-01-01\",\"2002-01-01\",\"2003-01-01\",\"2004-01-01\",\"2005-01-01\",\"2006-01-01\",\"2007-01-01\",\"2008-01-01\",\"2009-01-01\",\"2010-01-01\",\"2011-01-01\",\"2012-01-01\",\"2013-01-01\",\"2014-01-01\",\"2015-01-01\",\"2016-01-01\",\"2017-01-01\",\"2018-01-01\",\"2019-01-01\"],\"y\":[0.313,0.338,0.426,0.476,0.548,0.619,0.566,0.736,0.774,0.778,0.876,0.904,0.902,1.065,1.124,1.168,1.275,1.388,1.472,1.634,2.073,2.182,2.466,2.877,2.761,2.852,2.844,3.216,3.235,3.518,3.071,2.833,2.587,2.844,2.833,3.04,3.341,3.8,3.543,3.702,4.023,4.201,3.986,4.26,4.799,4.918,4.914,5.204,5.671,5.202,5.647,5.972,6.131,6.329,6.301,6.686,6.89,6.715,6.748,6.847,6.864,6.844,6.94,6.973,7.061,7.333,7.576,7.794,8.209,8.58,9.728,9.922,10.64,11.151,10.593,10.2,10.401,10.947,11.067,10.646,9.66,8.788,8.25,8.163,8.217,8.156,8.424,8.554,8.812,8.7,8.554,8.251,8.354,8.326,8.435,8.299,8.521,8.506,8.552,8.697,8.72,8.713,8.614,8.692,8.858,8.838,8.64,8.49,7.85,7.338,7.363,7.155,6.949,7.032,7.037,7.102,7.075,7.081,7.185,7.119]},{\"line\":{\"color\":\"rgba(219, 64, 82, 1.0)\",\"dash\":\"solid\",\"shape\":\"linear\",\"width\":1.3},\"mode\":\"lines\",\"name\":\"flaring_co2_per_capita\",\"text\":\"\",\"type\":\"scatter\",\"x\":[\"1900-01-01\",\"1901-01-01\",\"1902-01-01\",\"1903-01-01\",\"1904-01-01\",\"1905-01-01\",\"1906-01-01\",\"1907-01-01\",\"1908-01-01\",\"1909-01-01\",\"1910-01-01\",\"1911-01-01\",\"1912-01-01\",\"1913-01-01\",\"1914-01-01\",\"1915-01-01\",\"1916-01-01\",\"1917-01-01\",\"1918-01-01\",\"1919-01-01\",\"1920-01-01\",\"1921-01-01\",\"1922-01-01\",\"1923-01-01\",\"1924-01-01\",\"1925-01-01\",\"1926-01-01\",\"1927-01-01\",\"1928-01-01\",\"1929-01-01\",\"1930-01-01\",\"1931-01-01\",\"1932-01-01\",\"1933-01-01\",\"1934-01-01\",\"1935-01-01\",\"1936-01-01\",\"1937-01-01\",\"1938-01-01\",\"1939-01-01\",\"1940-01-01\",\"1941-01-01\",\"1942-01-01\",\"1943-01-01\",\"1944-01-01\",\"1945-01-01\",\"1946-01-01\",\"1947-01-01\",\"1948-01-01\",\"1949-01-01\",\"1950-01-01\",\"1951-01-01\",\"1952-01-01\",\"1953-01-01\",\"1954-01-01\",\"1955-01-01\",\"1956-01-01\",\"1957-01-01\",\"1958-01-01\",\"1959-01-01\",\"1960-01-01\",\"1961-01-01\",\"1962-01-01\",\"1963-01-01\",\"1964-01-01\",\"1965-01-01\",\"1966-01-01\",\"1967-01-01\",\"1968-01-01\",\"1969-01-01\",\"1970-01-01\",\"1971-01-01\",\"1972-01-01\",\"1973-01-01\",\"1974-01-01\",\"1975-01-01\",\"1976-01-01\",\"1977-01-01\",\"1978-01-01\",\"1979-01-01\",\"1980-01-01\",\"1981-01-01\",\"1982-01-01\",\"1983-01-01\",\"1984-01-01\",\"1985-01-01\",\"1986-01-01\",\"1987-01-01\",\"1988-01-01\",\"1989-01-01\",\"1990-01-01\",\"1991-01-01\",\"1992-01-01\",\"1993-01-01\",\"1994-01-01\",\"1995-01-01\",\"1996-01-01\",\"1997-01-01\",\"1998-01-01\",\"1999-01-01\",\"2000-01-01\",\"2001-01-01\",\"2002-01-01\",\"2003-01-01\",\"2004-01-01\",\"2005-01-01\",\"2006-01-01\",\"2007-01-01\",\"2008-01-01\",\"2009-01-01\",\"2010-01-01\",\"2011-01-01\",\"2012-01-01\",\"2013-01-01\",\"2014-01-01\",\"2015-01-01\",\"2016-01-01\",\"2017-01-01\",\"2018-01-01\",\"2019-01-01\"],\"y\":[0.129,0.129,0.131,0.141,0.142,0.149,0.156,0.158,0.16,0.162,0.166,0.03,0.031,0.027,0.022,0.021,0.024,0.022,0.021,0.023,0.029,0.039,0.036,0.032,0.033,0.032,0.041,0.061,0.062,0.072,0.125,0.136,0.135,0.129,0.1,0.086,0.093,0.106,0.119,0.149,0.162,0.167,0.189,0.245,0.266,0.243,0.231,0.263,0.28,0.265,0.272,0.265,0.28,0.263,0.231,0.243,0.266,0.245,0.189,0.167,0.162,0.149,0.119,0.106,0.093,0.086,0.1,0.129,0.135,0.136,0.125,0.072,0.062,0.061,0.041,0.032,0.033,0.032,0.036,0.039,0.029,0.023,0.021,0.022,0.024,0.021,0.022,0.027,0.031,0.03,0.166,0.162,0.16,0.158,0.156,0.149,0.142,0.141,0.131,0.129,0.129,0.127,0.128,0.126,0.127,0.127,0.128,0.128,0.132,0.128,0.135,0.148,0.157,0.174,0.189,0.193,0.164,0.169,0.22,0.218]}],                        {\"legend\":{\"bgcolor\":\"#F5F6F9\",\"font\":{\"color\":\"#4D5663\"}},\"paper_bgcolor\":\"#F5F6F9\",\"plot_bgcolor\":\"#F5F6F9\",\"template\":{\"data\":{\"bar\":[{\"error_x\":{\"color\":\"#2a3f5f\"},\"error_y\":{\"color\":\"#2a3f5f\"},\"marker\":{\"line\":{\"color\":\"#E5ECF6\",\"width\":0.5},\"pattern\":{\"fillmode\":\"overlay\",\"size\":10,\"solidity\":0.2}},\"type\":\"bar\"}],\"barpolar\":[{\"marker\":{\"line\":{\"color\":\"#E5ECF6\",\"width\":0.5},\"pattern\":{\"fillmode\":\"overlay\",\"size\":10,\"solidity\":0.2}},\"type\":\"barpolar\"}],\"carpet\":[{\"aaxis\":{\"endlinecolor\":\"#2a3f5f\",\"gridcolor\":\"white\",\"linecolor\":\"white\",\"minorgridcolor\":\"white\",\"startlinecolor\":\"#2a3f5f\"},\"baxis\":{\"endlinecolor\":\"#2a3f5f\",\"gridcolor\":\"white\",\"linecolor\":\"white\",\"minorgridcolor\":\"white\",\"startlinecolor\":\"#2a3f5f\"},\"type\":\"carpet\"}],\"choropleth\":[{\"colorbar\":{\"outlinewidth\":0,\"ticks\":\"\"},\"type\":\"choropleth\"}],\"contour\":[{\"colorbar\":{\"outlinewidth\":0,\"ticks\":\"\"},\"colorscale\":[[0.0,\"#0d0887\"],[0.1111111111111111,\"#46039f\"],[0.2222222222222222,\"#7201a8\"],[0.3333333333333333,\"#9c179e\"],[0.4444444444444444,\"#bd3786\"],[0.5555555555555556,\"#d8576b\"],[0.6666666666666666,\"#ed7953\"],[0.7777777777777778,\"#fb9f3a\"],[0.8888888888888888,\"#fdca26\"],[1.0,\"#f0f921\"]],\"type\":\"contour\"}],\"contourcarpet\":[{\"colorbar\":{\"outlinewidth\":0,\"ticks\":\"\"},\"type\":\"contourcarpet\"}],\"heatmap\":[{\"colorbar\":{\"outlinewidth\":0,\"ticks\":\"\"},\"colorscale\":[[0.0,\"#0d0887\"],[0.1111111111111111,\"#46039f\"],[0.2222222222222222,\"#7201a8\"],[0.3333333333333333,\"#9c179e\"],[0.4444444444444444,\"#bd3786\"],[0.5555555555555556,\"#d8576b\"],[0.6666666666666666,\"#ed7953\"],[0.7777777777777778,\"#fb9f3a\"],[0.8888888888888888,\"#fdca26\"],[1.0,\"#f0f921\"]],\"type\":\"heatmap\"}],\"heatmapgl\":[{\"colorbar\":{\"outlinewidth\":0,\"ticks\":\"\"},\"colorscale\":[[0.0,\"#0d0887\"],[0.1111111111111111,\"#46039f\"],[0.2222222222222222,\"#7201a8\"],[0.3333333333333333,\"#9c179e\"],[0.4444444444444444,\"#bd3786\"],[0.5555555555555556,\"#d8576b\"],[0.6666666666666666,\"#ed7953\"],[0.7777777777777778,\"#fb9f3a\"],[0.8888888888888888,\"#fdca26\"],[1.0,\"#f0f921\"]],\"type\":\"heatmapgl\"}],\"histogram\":[{\"marker\":{\"pattern\":{\"fillmode\":\"overlay\",\"size\":10,\"solidity\":0.2}},\"type\":\"histogram\"}],\"histogram2d\":[{\"colorbar\":{\"outlinewidth\":0,\"ticks\":\"\"},\"colorscale\":[[0.0,\"#0d0887\"],[0.1111111111111111,\"#46039f\"],[0.2222222222222222,\"#7201a8\"],[0.3333333333333333,\"#9c179e\"],[0.4444444444444444,\"#bd3786\"],[0.5555555555555556,\"#d8576b\"],[0.6666666666666666,\"#ed7953\"],[0.7777777777777778,\"#fb9f3a\"],[0.8888888888888888,\"#fdca26\"],[1.0,\"#f0f921\"]],\"type\":\"histogram2d\"}],\"histogram2dcontour\":[{\"colorbar\":{\"outlinewidth\":0,\"ticks\":\"\"},\"colorscale\":[[0.0,\"#0d0887\"],[0.1111111111111111,\"#46039f\"],[0.2222222222222222,\"#7201a8\"],[0.3333333333333333,\"#9c179e\"],[0.4444444444444444,\"#bd3786\"],[0.5555555555555556,\"#d8576b\"],[0.6666666666666666,\"#ed7953\"],[0.7777777777777778,\"#fb9f3a\"],[0.8888888888888888,\"#fdca26\"],[1.0,\"#f0f921\"]],\"type\":\"histogram2dcontour\"}],\"mesh3d\":[{\"colorbar\":{\"outlinewidth\":0,\"ticks\":\"\"},\"type\":\"mesh3d\"}],\"parcoords\":[{\"line\":{\"colorbar\":{\"outlinewidth\":0,\"ticks\":\"\"}},\"type\":\"parcoords\"}],\"pie\":[{\"automargin\":true,\"type\":\"pie\"}],\"scatter\":[{\"marker\":{\"colorbar\":{\"outlinewidth\":0,\"ticks\":\"\"}},\"type\":\"scatter\"}],\"scatter3d\":[{\"line\":{\"colorbar\":{\"outlinewidth\":0,\"ticks\":\"\"}},\"marker\":{\"colorbar\":{\"outlinewidth\":0,\"ticks\":\"\"}},\"type\":\"scatter3d\"}],\"scattercarpet\":[{\"marker\":{\"colorbar\":{\"outlinewidth\":0,\"ticks\":\"\"}},\"type\":\"scattercarpet\"}],\"scattergeo\":[{\"marker\":{\"colorbar\":{\"outlinewidth\":0,\"ticks\":\"\"}},\"type\":\"scattergeo\"}],\"scattergl\":[{\"marker\":{\"colorbar\":{\"outlinewidth\":0,\"ticks\":\"\"}},\"type\":\"scattergl\"}],\"scattermapbox\":[{\"marker\":{\"colorbar\":{\"outlinewidth\":0,\"ticks\":\"\"}},\"type\":\"scattermapbox\"}],\"scatterpolar\":[{\"marker\":{\"colorbar\":{\"outlinewidth\":0,\"ticks\":\"\"}},\"type\":\"scatterpolar\"}],\"scatterpolargl\":[{\"marker\":{\"colorbar\":{\"outlinewidth\":0,\"ticks\":\"\"}},\"type\":\"scatterpolargl\"}],\"scatterternary\":[{\"marker\":{\"colorbar\":{\"outlinewidth\":0,\"ticks\":\"\"}},\"type\":\"scatterternary\"}],\"surface\":[{\"colorbar\":{\"outlinewidth\":0,\"ticks\":\"\"},\"colorscale\":[[0.0,\"#0d0887\"],[0.1111111111111111,\"#46039f\"],[0.2222222222222222,\"#7201a8\"],[0.3333333333333333,\"#9c179e\"],[0.4444444444444444,\"#bd3786\"],[0.5555555555555556,\"#d8576b\"],[0.6666666666666666,\"#ed7953\"],[0.7777777777777778,\"#fb9f3a\"],[0.8888888888888888,\"#fdca26\"],[1.0,\"#f0f921\"]],\"type\":\"surface\"}],\"table\":[{\"cells\":{\"fill\":{\"color\":\"#EBF0F8\"},\"line\":{\"color\":\"white\"}},\"header\":{\"fill\":{\"color\":\"#C8D4E3\"},\"line\":{\"color\":\"white\"}},\"type\":\"table\"}]},\"layout\":{\"annotationdefaults\":{\"arrowcolor\":\"#2a3f5f\",\"arrowhead\":0,\"arrowwidth\":1},\"autotypenumbers\":\"strict\",\"coloraxis\":{\"colorbar\":{\"outlinewidth\":0,\"ticks\":\"\"}},\"colorscale\":{\"diverging\":[[0,\"#8e0152\"],[0.1,\"#c51b7d\"],[0.2,\"#de77ae\"],[0.3,\"#f1b6da\"],[0.4,\"#fde0ef\"],[0.5,\"#f7f7f7\"],[0.6,\"#e6f5d0\"],[0.7,\"#b8e186\"],[0.8,\"#7fbc41\"],[0.9,\"#4d9221\"],[1,\"#276419\"]],\"sequential\":[[0.0,\"#0d0887\"],[0.1111111111111111,\"#46039f\"],[0.2222222222222222,\"#7201a8\"],[0.3333333333333333,\"#9c179e\"],[0.4444444444444444,\"#bd3786\"],[0.5555555555555556,\"#d8576b\"],[0.6666666666666666,\"#ed7953\"],[0.7777777777777778,\"#fb9f3a\"],[0.8888888888888888,\"#fdca26\"],[1.0,\"#f0f921\"]],\"sequentialminus\":[[0.0,\"#0d0887\"],[0.1111111111111111,\"#46039f\"],[0.2222222222222222,\"#7201a8\"],[0.3333333333333333,\"#9c179e\"],[0.4444444444444444,\"#bd3786\"],[0.5555555555555556,\"#d8576b\"],[0.6666666666666666,\"#ed7953\"],[0.7777777777777778,\"#fb9f3a\"],[0.8888888888888888,\"#fdca26\"],[1.0,\"#f0f921\"]]},\"colorway\":[\"#636efa\",\"#EF553B\",\"#00cc96\",\"#ab63fa\",\"#FFA15A\",\"#19d3f3\",\"#FF6692\",\"#B6E880\",\"#FF97FF\",\"#FECB52\"],\"font\":{\"color\":\"#2a3f5f\"},\"geo\":{\"bgcolor\":\"white\",\"lakecolor\":\"white\",\"landcolor\":\"#E5ECF6\",\"showlakes\":true,\"showland\":true,\"subunitcolor\":\"white\"},\"hoverlabel\":{\"align\":\"left\"},\"hovermode\":\"closest\",\"mapbox\":{\"style\":\"light\"},\"paper_bgcolor\":\"white\",\"plot_bgcolor\":\"#E5ECF6\",\"polar\":{\"angularaxis\":{\"gridcolor\":\"white\",\"linecolor\":\"white\",\"ticks\":\"\"},\"bgcolor\":\"#E5ECF6\",\"radialaxis\":{\"gridcolor\":\"white\",\"linecolor\":\"white\",\"ticks\":\"\"}},\"scene\":{\"xaxis\":{\"backgroundcolor\":\"#E5ECF6\",\"gridcolor\":\"white\",\"gridwidth\":2,\"linecolor\":\"white\",\"showbackground\":true,\"ticks\":\"\",\"zerolinecolor\":\"white\"},\"yaxis\":{\"backgroundcolor\":\"#E5ECF6\",\"gridcolor\":\"white\",\"gridwidth\":2,\"linecolor\":\"white\",\"showbackground\":true,\"ticks\":\"\",\"zerolinecolor\":\"white\"},\"zaxis\":{\"backgroundcolor\":\"#E5ECF6\",\"gridcolor\":\"white\",\"gridwidth\":2,\"linecolor\":\"white\",\"showbackground\":true,\"ticks\":\"\",\"zerolinecolor\":\"white\"}},\"shapedefaults\":{\"line\":{\"color\":\"#2a3f5f\"}},\"ternary\":{\"aaxis\":{\"gridcolor\":\"white\",\"linecolor\":\"white\",\"ticks\":\"\"},\"baxis\":{\"gridcolor\":\"white\",\"linecolor\":\"white\",\"ticks\":\"\"},\"bgcolor\":\"#E5ECF6\",\"caxis\":{\"gridcolor\":\"white\",\"linecolor\":\"white\",\"ticks\":\"\"}},\"title\":{\"x\":0.05},\"xaxis\":{\"automargin\":true,\"gridcolor\":\"white\",\"linecolor\":\"white\",\"ticks\":\"\",\"title\":{\"standoff\":15},\"zerolinecolor\":\"white\",\"zerolinewidth\":2},\"yaxis\":{\"automargin\":true,\"gridcolor\":\"white\",\"linecolor\":\"white\",\"ticks\":\"\",\"title\":{\"standoff\":15},\"zerolinecolor\":\"white\",\"zerolinewidth\":2}}},\"title\":{\"font\":{\"color\":\"#4D5663\"},\"text\":\"Global CO2 Emissions over Time\"},\"xaxis\":{\"gridcolor\":\"#E1E5ED\",\"showgrid\":true,\"tickfont\":{\"color\":\"#4D5663\"},\"title\":{\"font\":{\"color\":\"#4D5663\"},\"text\":\"Time (years)\"},\"zerolinecolor\":\"#E1E5ED\"},\"yaxis\":{\"gridcolor\":\"#E1E5ED\",\"showgrid\":true,\"tickfont\":{\"color\":\"#4D5663\"},\"title\":{\"font\":{\"color\":\"#4D5663\"},\"text\":\"Emissions (Metric Tons per Capita)\"},\"zerolinecolor\":\"#E1E5ED\"}},                        {\"showLink\": true, \"linkText\": \"Export to plot.ly\", \"plotlyServerURL\": \"https://plot.ly\", \"responsive\": true}                    ).then(function(){\n",
       "                            \n",
       "var gd = document.getElementById('c2e9a78f-4f67-4e8a-87c1-e5441331b9cd');\n",
       "var x = new MutationObserver(function (mutations, observer) {{\n",
       "        var display = window.getComputedStyle(gd).display;\n",
       "        if (!display || display === 'none') {{\n",
       "            console.log([gd, 'removed!']);\n",
       "            Plotly.purge(gd);\n",
       "            observer.disconnect();\n",
       "        }}\n",
       "}});\n",
       "\n",
       "// Listen for the removal of the full notebook cells\n",
       "var notebookContainer = gd.closest('#notebook-container');\n",
       "if (notebookContainer) {{\n",
       "    x.observe(notebookContainer, {childList: true});\n",
       "}}\n",
       "\n",
       "// Listen for the clearing of the current output cell\n",
       "var outputEl = gd.closest('.output');\n",
       "if (outputEl) {{\n",
       "    x.observe(outputEl, {childList: true});\n",
       "}}\n",
       "\n",
       "                        })                };                });            </script>        </div>"
      ]
     },
     "metadata": {},
     "output_type": "display_data"
    }
   ],
   "source": [
    "# Interactive plot using Plotly\n",
    "df_per_capita.drop(columns=[\"co2_per_capita\"]).iplot(kind='line', xTitle='Time (years)', \n",
    "                                                     yTitle='Emissions (Metric Tons per Capita)', \n",
    "                                                     title='Global CO2 Emissions over Time')"
   ]
  },
  {
   "cell_type": "code",
   "execution_count": 2006,
   "id": "e4a7d822",
   "metadata": {
    "scrolled": false
   },
   "outputs": [
    {
     "data": {
      "image/png": "[encoded data removed]",
      "text/plain": [
       "<Figure size 432x288 with 1 Axes>"
      ]
     },
     "metadata": {
      "needs_background": "light"
     },
     "output_type": "display_data"
    },
    {
     "data": {
      "image/png": "[encoded data removed]",
      "text/plain": [
       "<Figure size 432x288 with 1 Axes>"
      ]
     },
     "metadata": {
      "needs_background": "light"
     },
     "output_type": "display_data"
    },
    {
     "data": {
      "image/png": "[encoded data removed]",
      "text/plain": [
       "<Figure size 432x288 with 1 Axes>"
      ]
     },
     "metadata": {
      "needs_background": "light"
     },
     "output_type": "display_data"
    },
    {
     "data": {
      "image/png": "[encoded data removed]",
      "text/plain": [
       "<Figure size 432x288 with 1 Axes>"
      ]
     },
     "metadata": {
      "needs_background": "light"
     },
     "output_type": "display_data"
    },
    {
     "data": {
      "image/png": "[encoded data removed]",
      "text/plain": [
       "<Figure size 432x288 with 1 Axes>"
      ]
     },
     "metadata": {
      "needs_background": "light"
     },
     "output_type": "display_data"
    },
    {
     "data": {
      "image/png": "[encoded data removed]",
      "text/plain": [
       "<Figure size 432x288 with 1 Axes>"
      ]
     },
     "metadata": {
      "needs_background": "light"
     },
     "output_type": "display_data"
    },
    {
     "data": {
      "image/png": "[encoded data removed]",
      "text/plain": [
       "<Figure size 432x288 with 1 Axes>"
      ]
     },
     "metadata": {
      "needs_background": "light"
     },
     "output_type": "display_data"
    },
    {
     "data": {
      "image/png": "[encoded data removed]",
      "text/plain": [
       "<Figure size 432x288 with 1 Axes>"
      ]
     },
     "metadata": {
      "needs_background": "light"
     },
     "output_type": "display_data"
    },
    {
     "data": {
      "image/png": "[encoded data removed]",
      "text/plain": [
       "<Figure size 432x288 with 1 Axes>"
      ]
     },
     "metadata": {
      "needs_background": "light"
     },
     "output_type": "display_data"
    },
    {
     "data": {
      "image/png": "[encoded data removed]",
      "text/plain": [
       "<Figure size 432x288 with 1 Axes>"
      ]
     },
     "metadata": {
      "needs_background": "light"
     },
     "output_type": "display_data"
    },
    {
     "data": {
      "image/png": "[encoded data removed]",
      "text/plain": [
       "<Figure size 432x288 with 1 Axes>"
      ]
     },
     "metadata": {
      "needs_background": "light"
     },
     "output_type": "display_data"
    },
    {
     "data": {
      "image/png": "[encoded data removed]",
      "text/plain": [
       "<Figure size 432x288 with 1 Axes>"
      ]
     },
     "metadata": {
      "needs_background": "light"
     },
     "output_type": "display_data"
    },
    {
     "data": {
      "image/png": "[encoded data removed]",
      "text/plain": [
       "<Figure size 432x288 with 1 Axes>"
      ]
     },
     "metadata": {
      "needs_background": "light"
     },
     "output_type": "display_data"
    },
    {
     "data": {
      "image/png": "[encoded data removed]",
      "text/plain": [
       "<Figure size 432x288 with 1 Axes>"
      ]
     },
     "metadata": {
      "needs_background": "light"
     },
     "output_type": "display_data"
    },
    {
     "data": {
      "image/png": "[encoded data removed]",
      "text/plain": [
       "<Figure size 432x288 with 1 Axes>"
      ]
     },
     "metadata": {
      "needs_background": "light"
     },
     "output_type": "display_data"
    },
    {
     "data": {
      "image/png": "[encoded data removed]",
      "text/plain": [
       "<Figure size 432x288 with 1 Axes>"
      ]
     },
     "metadata": {
      "needs_background": "light"
     },
     "output_type": "display_data"
    },
    {
     "data": {
      "image/png": "[encoded data removed]",
      "text/plain": [
       "<Figure size 432x288 with 1 Axes>"
      ]
     },
     "metadata": {
      "needs_background": "light"
     },
     "output_type": "display_data"
    },
    {
     "data": {
      "image/png": "[encoded data removed]",
      "text/plain": [
       "<Figure size 432x288 with 1 Axes>"
      ]
     },
     "metadata": {
      "needs_background": "light"
     },
     "output_type": "display_data"
    },
    {
     "data": {
      "image/png": "[encoded data removed]",
      "text/plain": [
       "<Figure size 432x288 with 1 Axes>"
      ]
     },
     "metadata": {
      "needs_background": "light"
     },
     "output_type": "display_data"
    }
   ],
   "source": [
    "df_plot = df2\n",
    "df_plot\n",
    "\n",
    "for i, col in enumerate(df_plot.columns):\n",
    "    df_plot[col].plot(fig=plt.figure(i))\n",
    "    plt.title(col)\n",
    "    \n",
    "plt.show()"
   ]
  },
  {
   "cell_type": "code",
   "execution_count": 2007,
   "id": "ff7df2d6",
   "metadata": {},
   "outputs": [
    {
     "data": {
      "text/plain": [
       "<AxesSubplot:>"
      ]
     },
     "execution_count": 2007,
     "metadata": {},
     "output_type": "execute_result"
    },
    {
     "data": {
      "image/png": "[encoded data removed]",
      "text/plain": [
       "<Figure size 432x288 with 1 Axes>"
      ]
     },
     "metadata": {
      "needs_background": "light"
     },
     "output_type": "display_data"
    }
   ],
   "source": [
    "# Dropping total co2 emissions per capita and plotting industries on bar chart\n",
    "co2_by_industry = df_per_capita.drop(columns=[\"co2_per_capita\"]).sum().sort_values()\n",
    "fig = plt.figure()\n",
    "x_label = df_per_capita.columns\n",
    "x_tick = np.arange(len(cols))\n",
    "co2_by_industry.plot(kind=\"bar\")"
   ]
  },
  {
   "cell_type": "code",
   "execution_count": 2008,
   "id": "51bb4f89",
   "metadata": {},
   "outputs": [
    {
     "name": "stdout",
     "output_type": "stream",
     "text": [
      "(120, 19)\n"
     ]
    },
    {
     "data": {
      "text/html": [
       "<div>\n",
       "<style scoped>\n",
       "    .dataframe tbody tr th:only-of-type {\n",
       "        vertical-align: middle;\n",
       "    }\n",
       "\n",
       "    .dataframe tbody tr th {\n",
       "        vertical-align: top;\n",
       "    }\n",
       "\n",
       "    .dataframe thead th {\n",
       "        text-align: right;\n",
       "    }\n",
       "</style>\n",
       "<table border=\"1\" class=\"dataframe\">\n",
       "  <thead>\n",
       "    <tr style=\"text-align: right;\">\n",
       "      <th></th>\n",
       "      <th>co2</th>\n",
       "      <th>co2_growth_abs</th>\n",
       "      <th>share_global_co2</th>\n",
       "      <th>coal_co2</th>\n",
       "      <th>cement_co2</th>\n",
       "      <th>gas_co2</th>\n",
       "      <th>oil_co2</th>\n",
       "      <th>co2_per_capita</th>\n",
       "      <th>coal_co2_per_capita</th>\n",
       "      <th>cement_co2_per_capita</th>\n",
       "      <th>gas_co2_per_capita</th>\n",
       "      <th>oil_co2_per_capita</th>\n",
       "      <th>flaring_co2_per_capita</th>\n",
       "      <th>share_global_coal_co2</th>\n",
       "      <th>share_global_cement_co2</th>\n",
       "      <th>share_global_gas_co2</th>\n",
       "      <th>share_global_oil_co2</th>\n",
       "      <th>population</th>\n",
       "      <th>gdp</th>\n",
       "    </tr>\n",
       "    <tr>\n",
       "      <th>year</th>\n",
       "      <th></th>\n",
       "      <th></th>\n",
       "      <th></th>\n",
       "      <th></th>\n",
       "      <th></th>\n",
       "      <th></th>\n",
       "      <th></th>\n",
       "      <th></th>\n",
       "      <th></th>\n",
       "      <th></th>\n",
       "      <th></th>\n",
       "      <th></th>\n",
       "      <th></th>\n",
       "      <th></th>\n",
       "      <th></th>\n",
       "      <th></th>\n",
       "      <th></th>\n",
       "      <th></th>\n",
       "      <th></th>\n",
       "    </tr>\n",
       "  </thead>\n",
       "  <tbody>\n",
       "    <tr>\n",
       "      <th>2015-01-01</th>\n",
       "      <td>5412.432</td>\n",
       "      <td>-149.287</td>\n",
       "      <td>15.37</td>\n",
       "      <td>1503.253</td>\n",
       "      <td>39.907</td>\n",
       "      <td>1497.933</td>\n",
       "      <td>2278.794</td>\n",
       "      <td>16.868</td>\n",
       "      <td>4.685</td>\n",
       "      <td>0.124</td>\n",
       "      <td>4.668</td>\n",
       "      <td>7.102</td>\n",
       "      <td>0.193</td>\n",
       "      <td>10.28</td>\n",
       "      <td>2.79</td>\n",
       "      <td>22.15</td>\n",
       "      <td>19.13</td>\n",
       "      <td>320878312.0</td>\n",
       "      <td>1.690258e+13</td>\n",
       "    </tr>\n",
       "    <tr>\n",
       "      <th>2016-01-01</th>\n",
       "      <td>5292.268</td>\n",
       "      <td>-120.165</td>\n",
       "      <td>15.03</td>\n",
       "      <td>1378.160</td>\n",
       "      <td>39.439</td>\n",
       "      <td>1509.030</td>\n",
       "      <td>2285.330</td>\n",
       "      <td>16.384</td>\n",
       "      <td>4.266</td>\n",
       "      <td>0.122</td>\n",
       "      <td>4.672</td>\n",
       "      <td>7.075</td>\n",
       "      <td>0.164</td>\n",
       "      <td>9.59</td>\n",
       "      <td>2.69</td>\n",
       "      <td>21.74</td>\n",
       "      <td>19.09</td>\n",
       "      <td>323015992.0</td>\n",
       "      <td>1.716256e+13</td>\n",
       "    </tr>\n",
       "    <tr>\n",
       "      <th>2017-01-01</th>\n",
       "      <td>5253.606</td>\n",
       "      <td>-38.661</td>\n",
       "      <td>14.72</td>\n",
       "      <td>1337.536</td>\n",
       "      <td>40.324</td>\n",
       "      <td>1491.792</td>\n",
       "      <td>2301.967</td>\n",
       "      <td>16.161</td>\n",
       "      <td>4.114</td>\n",
       "      <td>0.124</td>\n",
       "      <td>4.589</td>\n",
       "      <td>7.081</td>\n",
       "      <td>0.169</td>\n",
       "      <td>9.28</td>\n",
       "      <td>2.73</td>\n",
       "      <td>20.97</td>\n",
       "      <td>18.91</td>\n",
       "      <td>325084758.0</td>\n",
       "      <td>1.759628e+13</td>\n",
       "    </tr>\n",
       "    <tr>\n",
       "      <th>2018-01-01</th>\n",
       "      <td>5424.882</td>\n",
       "      <td>171.275</td>\n",
       "      <td>14.90</td>\n",
       "      <td>1282.052</td>\n",
       "      <td>40.324</td>\n",
       "      <td>1653.038</td>\n",
       "      <td>2350.087</td>\n",
       "      <td>16.585</td>\n",
       "      <td>3.920</td>\n",
       "      <td>0.123</td>\n",
       "      <td>5.054</td>\n",
       "      <td>7.185</td>\n",
       "      <td>0.220</td>\n",
       "      <td>8.77</td>\n",
       "      <td>2.66</td>\n",
       "      <td>22.07</td>\n",
       "      <td>19.18</td>\n",
       "      <td>327096263.0</td>\n",
       "      <td>1.814065e+13</td>\n",
       "    </tr>\n",
       "    <tr>\n",
       "      <th>2019-01-01</th>\n",
       "      <td>5284.697</td>\n",
       "      <td>-140.185</td>\n",
       "      <td>14.50</td>\n",
       "      <td>1094.657</td>\n",
       "      <td>41.251</td>\n",
       "      <td>1706.873</td>\n",
       "      <td>2342.536</td>\n",
       "      <td>16.060</td>\n",
       "      <td>3.327</td>\n",
       "      <td>0.125</td>\n",
       "      <td>5.187</td>\n",
       "      <td>7.119</td>\n",
       "      <td>0.218</td>\n",
       "      <td>7.62</td>\n",
       "      <td>2.64</td>\n",
       "      <td>22.41</td>\n",
       "      <td>18.96</td>\n",
       "      <td>329064917.0</td>\n",
       "      <td>1.814065e+13</td>\n",
       "    </tr>\n",
       "  </tbody>\n",
       "</table>\n",
       "</div>"
      ],
      "text/plain": [
       "                 co2  co2_growth_abs  share_global_co2  coal_co2  cement_co2  \\\n",
       "year                                                                           \n",
       "2015-01-01  5412.432        -149.287             15.37  1503.253      39.907   \n",
       "2016-01-01  5292.268        -120.165             15.03  1378.160      39.439   \n",
       "2017-01-01  5253.606         -38.661             14.72  1337.536      40.324   \n",
       "2018-01-01  5424.882         171.275             14.90  1282.052      40.324   \n",
       "2019-01-01  5284.697        -140.185             14.50  1094.657      41.251   \n",
       "\n",
       "             gas_co2   oil_co2  co2_per_capita  coal_co2_per_capita  \\\n",
       "year                                                                  \n",
       "2015-01-01  1497.933  2278.794          16.868                4.685   \n",
       "2016-01-01  1509.030  2285.330          16.384                4.266   \n",
       "2017-01-01  1491.792  2301.967          16.161                4.114   \n",
       "2018-01-01  1653.038  2350.087          16.585                3.920   \n",
       "2019-01-01  1706.873  2342.536          16.060                3.327   \n",
       "\n",
       "            cement_co2_per_capita  gas_co2_per_capita  oil_co2_per_capita  \\\n",
       "year                                                                        \n",
       "2015-01-01                  0.124               4.668               7.102   \n",
       "2016-01-01                  0.122               4.672               7.075   \n",
       "2017-01-01                  0.124               4.589               7.081   \n",
       "2018-01-01                  0.123               5.054               7.185   \n",
       "2019-01-01                  0.125               5.187               7.119   \n",
       "\n",
       "            flaring_co2_per_capita  share_global_coal_co2  \\\n",
       "year                                                        \n",
       "2015-01-01                   0.193                  10.28   \n",
       "2016-01-01                   0.164                   9.59   \n",
       "2017-01-01                   0.169                   9.28   \n",
       "2018-01-01                   0.220                   8.77   \n",
       "2019-01-01                   0.218                   7.62   \n",
       "\n",
       "            share_global_cement_co2  share_global_gas_co2  \\\n",
       "year                                                        \n",
       "2015-01-01                     2.79                 22.15   \n",
       "2016-01-01                     2.69                 21.74   \n",
       "2017-01-01                     2.73                 20.97   \n",
       "2018-01-01                     2.66                 22.07   \n",
       "2019-01-01                     2.64                 22.41   \n",
       "\n",
       "            share_global_oil_co2   population           gdp  \n",
       "year                                                         \n",
       "2015-01-01                 19.13  320878312.0  1.690258e+13  \n",
       "2016-01-01                 19.09  323015992.0  1.716256e+13  \n",
       "2017-01-01                 18.91  325084758.0  1.759628e+13  \n",
       "2018-01-01                 19.18  327096263.0  1.814065e+13  \n",
       "2019-01-01                 18.96  329064917.0  1.814065e+13  "
      ]
     },
     "execution_count": 2008,
     "metadata": {},
     "output_type": "execute_result"
    }
   ],
   "source": [
    "print(df2.shape)\n",
    "df2.tail()"
   ]
  },
  {
   "cell_type": "code",
   "execution_count": 2009,
   "id": "05841dc0",
   "metadata": {},
   "outputs": [
    {
     "data": {
      "text/plain": [
       "[<matplotlib.lines.Line2D at 0x1181e6f9e80>]"
      ]
     },
     "execution_count": 2009,
     "metadata": {},
     "output_type": "execute_result"
    },
    {
     "data": {
      "image/png": "[encoded data removed]",
      "text/plain": [
       "<Figure size 432x288 with 1 Axes>"
      ]
     },
     "metadata": {
      "needs_background": "light"
     },
     "output_type": "display_data"
    }
   ],
   "source": [
    "# Creating series and plotting\n",
    "mte = df2[\"gas_co2_per_capita\"]\n",
    "plt.plot(mte)"
   ]
  },
  {
   "cell_type": "code",
   "execution_count": 2010,
   "id": "efd4adeb",
   "metadata": {},
   "outputs": [],
   "source": [
    "# Function to plot the moving average\n",
    "def TestStationaryPlot(ts):\n",
    "    # Calculating rolling mean and std\n",
    "    rol_mean = ts.rolling(window = 12, center = False).mean()\n",
    "    rol_std = ts.rolling(window = 12, center = False).std()\n",
    "    \n",
    "    # Plotting data and rolling mean/std\n",
    "    plt.plot(ts, color = 'blue',label = 'Original Data')\n",
    "    plt.plot(rol_mean, color = 'red', label = 'Rolling Mean')\n",
    "    plt.plot(rol_std, color ='black', label = 'Rolling Std')\n",
    "    plt.xticks()\n",
    "    plt.yticks()\n",
    "    \n",
    "    # Labeling plot\n",
    "    plt.xlabel('Time in Years')\n",
    "    plt.ylabel('Total Emissions')\n",
    "    plt.legend(loc='best')\n",
    "    plt.title('Rolling Mean & Standard Deviation')\n",
    "    plt.show(block= True)"
   ]
  },
  {
   "cell_type": "code",
   "execution_count": 2011,
   "id": "f2f992b3",
   "metadata": {},
   "outputs": [],
   "source": [
    "# Function to perform the Dickey-Fuller Test\n",
    "def TestStationaryAdfuller(ts, cutoff = 0.01):\n",
    "    # Call adfuller function, create output series from first 4 values\n",
    "    ts_test = adfuller(ts, autolag = 'AIC')\n",
    "    ts_test_output = pd.Series(ts_test[0:4], index=['Test Statistic','p-value','#Lags Used','Number of Observations Used'])\n",
    "    \n",
    "    # Printing critical values at 1%/5%/10% CI\n",
    "    for key,value in ts_test[4].items():\n",
    "        ts_test_output['Critical Value (%s)'%key] = value\n",
    "    print(ts_test_output)\n",
    "    \n",
    "    # If p-value is less than or equal to cutoff value (1%), stationary\n",
    "    if ts_test[1] <= cutoff:\n",
    "        print(\"Strong evidence against the null hypothesis, reject the null hypothesis. Data has no unit root, hence it is stationary\")\n",
    "    # Otherwise dataset is non-stationary\n",
    "    else:\n",
    "        print(\"Weak evidence against null hypothesis, time series has a unit root, indicating it is non-stationary \")"
   ]
  },
  {
   "cell_type": "code",
   "execution_count": 2012,
   "id": "664104c7",
   "metadata": {},
   "outputs": [
    {
     "data": {
      "image/png": "[encoded data removed]",
      "text/plain": [
       "<Figure size 432x288 with 1 Axes>"
      ]
     },
     "metadata": {
      "needs_background": "light"
     },
     "output_type": "display_data"
    }
   ],
   "source": [
    "# Plotting stationarity\n",
    "TestStationaryPlot(mte)"
   ]
  },
  {
   "cell_type": "code",
   "execution_count": 2013,
   "id": "1f5ae0bd",
   "metadata": {},
   "outputs": [
    {
     "name": "stdout",
     "output_type": "stream",
     "text": [
      "Test Statistic                  -0.612812\n",
      "p-value                          0.868061\n",
      "#Lags Used                       4.000000\n",
      "Number of Observations Used    115.000000\n",
      "Critical Value (1%)             -3.488535\n",
      "Critical Value (5%)             -2.887020\n",
      "Critical Value (10%)            -2.580360\n",
      "dtype: float64\n",
      "Weak evidence against null hypothesis, time series has a unit root, indicating it is non-stationary \n"
     ]
    }
   ],
   "source": [
    "# Performing Dickey-Fuller Test\n",
    "TestStationaryAdfuller(mte)"
   ]
  },
  {
   "cell_type": "code",
   "execution_count": 2014,
   "id": "e9b6bb7e",
   "metadata": {},
   "outputs": [
    {
     "data": {
      "image/png": "[encoded data removed]",
      "text/plain": [
       "<Figure size 432x288 with 1 Axes>"
      ]
     },
     "metadata": {
      "needs_background": "light"
     },
     "output_type": "display_data"
    }
   ],
   "source": [
    "# Taking first difference of data and plotting\n",
    "mte_first_difference = mte - mte.shift(1)  \n",
    "TestStationaryPlot(mte_first_difference.dropna(inplace=False))"
   ]
  },
  {
   "cell_type": "code",
   "execution_count": 2015,
   "id": "9645c587",
   "metadata": {},
   "outputs": [
    {
     "name": "stdout",
     "output_type": "stream",
     "text": [
      "Test Statistic                  -3.865274\n",
      "p-value                          0.002306\n",
      "#Lags Used                       3.000000\n",
      "Number of Observations Used    115.000000\n",
      "Critical Value (1%)             -3.488535\n",
      "Critical Value (5%)             -2.887020\n",
      "Critical Value (10%)            -2.580360\n",
      "dtype: float64\n",
      "Strong evidence against the null hypothesis, reject the null hypothesis. Data has no unit root, hence it is stationary\n"
     ]
    }
   ],
   "source": [
    "# Dickey-Fuller Test for stationarity\n",
    "TestStationaryAdfuller(mte_first_difference.dropna(inplace=False))"
   ]
  },
  {
   "cell_type": "code",
   "execution_count": 2017,
   "id": "8e42c96f",
   "metadata": {},
   "outputs": [],
   "source": [
    "CO_emissions.to_csv(r\"C:\\Users\\akama\\OneDrive\\Desktop\\Data Science Bootcamp\\IshMe\\Capstone 3 - Time Series Analysis\\raw_data\\CO_emissions.csv\", index= False)"
   ]
  }
 ],
 "metadata": {
  "kernelspec": {
   "display_name": "Python 3",
   "language": "python",
   "name": "python3"
  },
  "language_info": {
   "codemirror_mode": {
    "name": "ipython",
    "version": 3
   },
   "file_extension": ".py",
   "mimetype": "text/x-python",
   "name": "python",
   "nbconvert_exporter": "python",
   "pygments_lexer": "ipython3",
   "version": "3.8.8"
  }
 },
 "nbformat": 4,
 "nbformat_minor": 5
}
