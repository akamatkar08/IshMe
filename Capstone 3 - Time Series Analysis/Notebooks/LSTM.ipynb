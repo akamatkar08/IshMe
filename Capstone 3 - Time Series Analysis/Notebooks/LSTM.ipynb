{
 "cells": [
  {
   "cell_type": "code",
   "execution_count": 650,
   "id": "2c3ee7ab",
   "metadata": {},
   "outputs": [],
   "source": [
    "import numpy as np # linear algebra\n",
    "import pandas as pd # data processing, CSV file I/O (e.g. pd.read_csv)\n",
    "import matplotlib.pyplot as plt\n",
    "%matplotlib inline\n",
    "import math, time\n",
    "import itertools\n",
    "from sklearn import preprocessing\n",
    "import datetime\n",
    "from operator import itemgetter\n",
    "from sklearn.preprocessing import MinMaxScaler\n",
    "from sklearn.metrics import mean_squared_error\n",
    "from math import sqrt\n",
    "from keras.models import Sequential\n",
    "from keras.layers.core import Dense, Dropout, Activation\n",
    "from keras.layers.recurrent import LSTM\n",
    "from keras.models import load_model\n",
    "import keras\n",
    "import h5py\n",
    "import requests\n",
    "import os"
   ]
  },
  {
   "cell_type": "code",
   "execution_count": 651,
   "id": "ac504e63",
   "metadata": {},
   "outputs": [],
   "source": [
    "# Reading finalized datasets\n",
    "US_data = pd.read_csv(r\"C:\\Users\\akama\\OneDrive\\Desktop\\Data Science Bootcamp\\IshMe\\Capstone 3 - Time Series Analysis\\raw_data\\US_data.csv\")\n",
    "CO_emissions = pd.read_csv(r\"C:\\Users\\akama\\OneDrive\\Desktop\\Data Science Bootcamp\\IshMe\\Capstone 3 - Time Series Analysis\\raw_data\\CO_emissions.csv\")"
   ]
  },
  {
   "cell_type": "markdown",
   "id": "0298452f",
   "metadata": {},
   "source": [
    "## Dataset 2 - Preprocessing and Modeling"
   ]
  },
  {
   "cell_type": "code",
   "execution_count": 652,
   "id": "98a6206f",
   "metadata": {},
   "outputs": [],
   "source": [
    "df2 = CO_emissions.copy()"
   ]
  },
  {
   "cell_type": "code",
   "execution_count": 653,
   "id": "206c96c8",
   "metadata": {},
   "outputs": [
    {
     "data": {
      "text/html": [
       "<div>\n",
       "<style scoped>\n",
       "    .dataframe tbody tr th:only-of-type {\n",
       "        vertical-align: middle;\n",
       "    }\n",
       "\n",
       "    .dataframe tbody tr th {\n",
       "        vertical-align: top;\n",
       "    }\n",
       "\n",
       "    .dataframe thead th {\n",
       "        text-align: right;\n",
       "    }\n",
       "</style>\n",
       "<table border=\"1\" class=\"dataframe\">\n",
       "  <thead>\n",
       "    <tr style=\"text-align: right;\">\n",
       "      <th></th>\n",
       "      <th>year</th>\n",
       "      <th>co2</th>\n",
       "      <th>co2_growth_abs</th>\n",
       "      <th>share_global_co2</th>\n",
       "      <th>coal_co2</th>\n",
       "      <th>cement_co2</th>\n",
       "      <th>gas_co2</th>\n",
       "      <th>oil_co2</th>\n",
       "      <th>co2_per_capita</th>\n",
       "      <th>coal_co2_per_capita</th>\n",
       "      <th>cement_co2_per_capita</th>\n",
       "      <th>gas_co2_per_capita</th>\n",
       "      <th>oil_co2_per_capita</th>\n",
       "      <th>flaring_co2_per_capita</th>\n",
       "      <th>share_global_coal_co2</th>\n",
       "      <th>share_global_cement_co2</th>\n",
       "      <th>share_global_gas_co2</th>\n",
       "      <th>share_global_oil_co2</th>\n",
       "      <th>population</th>\n",
       "      <th>gdp</th>\n",
       "    </tr>\n",
       "  </thead>\n",
       "  <tbody>\n",
       "    <tr>\n",
       "      <th>0</th>\n",
       "      <td>1900-01-01</td>\n",
       "      <td>664.123</td>\n",
       "      <td>38.590</td>\n",
       "      <td>33.99</td>\n",
       "      <td>626.544</td>\n",
       "      <td>1.386</td>\n",
       "      <td>11.542</td>\n",
       "      <td>24.651</td>\n",
       "      <td>8.432</td>\n",
       "      <td>7.955</td>\n",
       "      <td>0.018</td>\n",
       "      <td>0.146</td>\n",
       "      <td>0.313</td>\n",
       "      <td>0.129</td>\n",
       "      <td>33.45</td>\n",
       "      <td>100.0</td>\n",
       "      <td>100.00</td>\n",
       "      <td>36.50</td>\n",
       "      <td>78763706.0</td>\n",
       "      <td>6.139981e+11</td>\n",
       "    </tr>\n",
       "    <tr>\n",
       "      <th>1</th>\n",
       "      <td>1901-01-01</td>\n",
       "      <td>723.182</td>\n",
       "      <td>59.059</td>\n",
       "      <td>35.83</td>\n",
       "      <td>681.541</td>\n",
       "      <td>1.656</td>\n",
       "      <td>12.861</td>\n",
       "      <td>27.125</td>\n",
       "      <td>9.002</td>\n",
       "      <td>8.484</td>\n",
       "      <td>0.021</td>\n",
       "      <td>0.160</td>\n",
       "      <td>0.338</td>\n",
       "      <td>0.129</td>\n",
       "      <td>35.33</td>\n",
       "      <td>100.0</td>\n",
       "      <td>100.00</td>\n",
       "      <td>36.17</td>\n",
       "      <td>80336086.0</td>\n",
       "      <td>6.831060e+11</td>\n",
       "    </tr>\n",
       "    <tr>\n",
       "      <th>2</th>\n",
       "      <td>1902-01-01</td>\n",
       "      <td>766.638</td>\n",
       "      <td>43.456</td>\n",
       "      <td>37.04</td>\n",
       "      <td>715.931</td>\n",
       "      <td>2.145</td>\n",
       "      <td>13.692</td>\n",
       "      <td>34.870</td>\n",
       "      <td>9.355</td>\n",
       "      <td>8.736</td>\n",
       "      <td>0.026</td>\n",
       "      <td>0.167</td>\n",
       "      <td>0.426</td>\n",
       "      <td>0.131</td>\n",
       "      <td>36.29</td>\n",
       "      <td>100.0</td>\n",
       "      <td>99.97</td>\n",
       "      <td>43.03</td>\n",
       "      <td>81949920.0</td>\n",
       "      <td>6.901269e+11</td>\n",
       "    </tr>\n",
       "    <tr>\n",
       "      <th>3</th>\n",
       "      <td>1903-01-01</td>\n",
       "      <td>896.937</td>\n",
       "      <td>130.299</td>\n",
       "      <td>39.71</td>\n",
       "      <td>840.042</td>\n",
       "      <td>2.533</td>\n",
       "      <td>14.524</td>\n",
       "      <td>39.839</td>\n",
       "      <td>10.728</td>\n",
       "      <td>10.048</td>\n",
       "      <td>0.030</td>\n",
       "      <td>0.174</td>\n",
       "      <td>0.476</td>\n",
       "      <td>0.141</td>\n",
       "      <td>38.97</td>\n",
       "      <td>100.0</td>\n",
       "      <td>99.97</td>\n",
       "      <td>46.44</td>\n",
       "      <td>83606240.0</td>\n",
       "      <td>7.237664e+11</td>\n",
       "    </tr>\n",
       "    <tr>\n",
       "      <th>4</th>\n",
       "      <td>1904-01-01</td>\n",
       "      <td>882.953</td>\n",
       "      <td>-13.984</td>\n",
       "      <td>38.68</td>\n",
       "      <td>818.270</td>\n",
       "      <td>2.732</td>\n",
       "      <td>15.162</td>\n",
       "      <td>46.789</td>\n",
       "      <td>10.352</td>\n",
       "      <td>9.593</td>\n",
       "      <td>0.032</td>\n",
       "      <td>0.178</td>\n",
       "      <td>0.548</td>\n",
       "      <td>0.142</td>\n",
       "      <td>37.73</td>\n",
       "      <td>100.0</td>\n",
       "      <td>99.98</td>\n",
       "      <td>48.58</td>\n",
       "      <td>85296008.0</td>\n",
       "      <td>7.146219e+11</td>\n",
       "    </tr>\n",
       "  </tbody>\n",
       "</table>\n",
       "</div>"
      ],
      "text/plain": [
       "         year      co2  co2_growth_abs  share_global_co2  coal_co2  \\\n",
       "0  1900-01-01  664.123          38.590             33.99   626.544   \n",
       "1  1901-01-01  723.182          59.059             35.83   681.541   \n",
       "2  1902-01-01  766.638          43.456             37.04   715.931   \n",
       "3  1903-01-01  896.937         130.299             39.71   840.042   \n",
       "4  1904-01-01  882.953         -13.984             38.68   818.270   \n",
       "\n",
       "   cement_co2  gas_co2  oil_co2  co2_per_capita  coal_co2_per_capita  \\\n",
       "0       1.386   11.542   24.651           8.432                7.955   \n",
       "1       1.656   12.861   27.125           9.002                8.484   \n",
       "2       2.145   13.692   34.870           9.355                8.736   \n",
       "3       2.533   14.524   39.839          10.728               10.048   \n",
       "4       2.732   15.162   46.789          10.352                9.593   \n",
       "\n",
       "   cement_co2_per_capita  gas_co2_per_capita  oil_co2_per_capita  \\\n",
       "0                  0.018               0.146               0.313   \n",
       "1                  0.021               0.160               0.338   \n",
       "2                  0.026               0.167               0.426   \n",
       "3                  0.030               0.174               0.476   \n",
       "4                  0.032               0.178               0.548   \n",
       "\n",
       "   flaring_co2_per_capita  share_global_coal_co2  share_global_cement_co2  \\\n",
       "0                   0.129                  33.45                    100.0   \n",
       "1                   0.129                  35.33                    100.0   \n",
       "2                   0.131                  36.29                    100.0   \n",
       "3                   0.141                  38.97                    100.0   \n",
       "4                   0.142                  37.73                    100.0   \n",
       "\n",
       "   share_global_gas_co2  share_global_oil_co2  population           gdp  \n",
       "0                100.00                 36.50  78763706.0  6.139981e+11  \n",
       "1                100.00                 36.17  80336086.0  6.831060e+11  \n",
       "2                 99.97                 43.03  81949920.0  6.901269e+11  \n",
       "3                 99.97                 46.44  83606240.0  7.237664e+11  \n",
       "4                 99.98                 48.58  85296008.0  7.146219e+11  "
      ]
     },
     "execution_count": 653,
     "metadata": {},
     "output_type": "execute_result"
    }
   ],
   "source": [
    "df2.head()"
   ]
  },
  {
   "cell_type": "code",
   "execution_count": 654,
   "id": "05f67590",
   "metadata": {},
   "outputs": [
    {
     "data": {
      "text/plain": [
       "(120, 20)"
      ]
     },
     "execution_count": 654,
     "metadata": {},
     "output_type": "execute_result"
    }
   ],
   "source": [
    "df2.shape"
   ]
  },
  {
   "cell_type": "code",
   "execution_count": 655,
   "id": "74f63ce4",
   "metadata": {},
   "outputs": [],
   "source": [
    "df2[\"year\"] = pd.to_datetime(df2[\"year\"])"
   ]
  },
  {
   "cell_type": "code",
   "execution_count": 656,
   "id": "569c89cf",
   "metadata": {},
   "outputs": [
    {
     "data": {
      "text/plain": [
       "[<matplotlib.lines.Line2D at 0x2a9cadde6d0>]"
      ]
     },
     "execution_count": 656,
     "metadata": {},
     "output_type": "execute_result"
    },
    {
     "data": {
      "image/png": "[encoded data removed]",
      "text/plain": [
       "<Figure size 432x288 with 1 Axes>"
      ]
     },
     "metadata": {
      "needs_background": "light"
     },
     "output_type": "display_data"
    }
   ],
   "source": [
    "plt.plot(df2[\"gas_co2_per_capita\"])"
   ]
  },
  {
   "cell_type": "code",
   "execution_count": 657,
   "id": "c0086ccc",
   "metadata": {},
   "outputs": [
    {
     "data": {
      "text/html": [
       "<div>\n",
       "<style scoped>\n",
       "    .dataframe tbody tr th:only-of-type {\n",
       "        vertical-align: middle;\n",
       "    }\n",
       "\n",
       "    .dataframe tbody tr th {\n",
       "        vertical-align: top;\n",
       "    }\n",
       "\n",
       "    .dataframe thead th {\n",
       "        text-align: right;\n",
       "    }\n",
       "</style>\n",
       "<table border=\"1\" class=\"dataframe\">\n",
       "  <thead>\n",
       "    <tr style=\"text-align: right;\">\n",
       "      <th></th>\n",
       "      <th>year</th>\n",
       "      <th>co2</th>\n",
       "      <th>co2_growth_abs</th>\n",
       "      <th>share_global_co2</th>\n",
       "      <th>coal_co2</th>\n",
       "      <th>cement_co2</th>\n",
       "      <th>gas_co2</th>\n",
       "      <th>oil_co2</th>\n",
       "      <th>co2_per_capita</th>\n",
       "      <th>coal_co2_per_capita</th>\n",
       "      <th>cement_co2_per_capita</th>\n",
       "      <th>gas_co2_per_capita</th>\n",
       "      <th>oil_co2_per_capita</th>\n",
       "      <th>flaring_co2_per_capita</th>\n",
       "      <th>share_global_coal_co2</th>\n",
       "      <th>share_global_cement_co2</th>\n",
       "      <th>share_global_gas_co2</th>\n",
       "      <th>share_global_oil_co2</th>\n",
       "      <th>population</th>\n",
       "      <th>gdp</th>\n",
       "    </tr>\n",
       "  </thead>\n",
       "  <tbody>\n",
       "    <tr>\n",
       "      <th>0</th>\n",
       "      <td>1900-01-01</td>\n",
       "      <td>664.123</td>\n",
       "      <td>38.590</td>\n",
       "      <td>33.99</td>\n",
       "      <td>626.544</td>\n",
       "      <td>1.386</td>\n",
       "      <td>11.542</td>\n",
       "      <td>24.651</td>\n",
       "      <td>8.432</td>\n",
       "      <td>7.955</td>\n",
       "      <td>0.018</td>\n",
       "      <td>0.146</td>\n",
       "      <td>0.313</td>\n",
       "      <td>0.129</td>\n",
       "      <td>33.45</td>\n",
       "      <td>100.0</td>\n",
       "      <td>100.00</td>\n",
       "      <td>36.50</td>\n",
       "      <td>78763706.0</td>\n",
       "      <td>6.139981e+11</td>\n",
       "    </tr>\n",
       "    <tr>\n",
       "      <th>1</th>\n",
       "      <td>1901-01-01</td>\n",
       "      <td>723.182</td>\n",
       "      <td>59.059</td>\n",
       "      <td>35.83</td>\n",
       "      <td>681.541</td>\n",
       "      <td>1.656</td>\n",
       "      <td>12.861</td>\n",
       "      <td>27.125</td>\n",
       "      <td>9.002</td>\n",
       "      <td>8.484</td>\n",
       "      <td>0.021</td>\n",
       "      <td>0.160</td>\n",
       "      <td>0.338</td>\n",
       "      <td>0.129</td>\n",
       "      <td>35.33</td>\n",
       "      <td>100.0</td>\n",
       "      <td>100.00</td>\n",
       "      <td>36.17</td>\n",
       "      <td>80336086.0</td>\n",
       "      <td>6.831060e+11</td>\n",
       "    </tr>\n",
       "    <tr>\n",
       "      <th>2</th>\n",
       "      <td>1902-01-01</td>\n",
       "      <td>766.638</td>\n",
       "      <td>43.456</td>\n",
       "      <td>37.04</td>\n",
       "      <td>715.931</td>\n",
       "      <td>2.145</td>\n",
       "      <td>13.692</td>\n",
       "      <td>34.870</td>\n",
       "      <td>9.355</td>\n",
       "      <td>8.736</td>\n",
       "      <td>0.026</td>\n",
       "      <td>0.167</td>\n",
       "      <td>0.426</td>\n",
       "      <td>0.131</td>\n",
       "      <td>36.29</td>\n",
       "      <td>100.0</td>\n",
       "      <td>99.97</td>\n",
       "      <td>43.03</td>\n",
       "      <td>81949920.0</td>\n",
       "      <td>6.901269e+11</td>\n",
       "    </tr>\n",
       "    <tr>\n",
       "      <th>3</th>\n",
       "      <td>1903-01-01</td>\n",
       "      <td>896.937</td>\n",
       "      <td>130.299</td>\n",
       "      <td>39.71</td>\n",
       "      <td>840.042</td>\n",
       "      <td>2.533</td>\n",
       "      <td>14.524</td>\n",
       "      <td>39.839</td>\n",
       "      <td>10.728</td>\n",
       "      <td>10.048</td>\n",
       "      <td>0.030</td>\n",
       "      <td>0.174</td>\n",
       "      <td>0.476</td>\n",
       "      <td>0.141</td>\n",
       "      <td>38.97</td>\n",
       "      <td>100.0</td>\n",
       "      <td>99.97</td>\n",
       "      <td>46.44</td>\n",
       "      <td>83606240.0</td>\n",
       "      <td>7.237664e+11</td>\n",
       "    </tr>\n",
       "    <tr>\n",
       "      <th>4</th>\n",
       "      <td>1904-01-01</td>\n",
       "      <td>882.953</td>\n",
       "      <td>-13.984</td>\n",
       "      <td>38.68</td>\n",
       "      <td>818.270</td>\n",
       "      <td>2.732</td>\n",
       "      <td>15.162</td>\n",
       "      <td>46.789</td>\n",
       "      <td>10.352</td>\n",
       "      <td>9.593</td>\n",
       "      <td>0.032</td>\n",
       "      <td>0.178</td>\n",
       "      <td>0.548</td>\n",
       "      <td>0.142</td>\n",
       "      <td>37.73</td>\n",
       "      <td>100.0</td>\n",
       "      <td>99.98</td>\n",
       "      <td>48.58</td>\n",
       "      <td>85296008.0</td>\n",
       "      <td>7.146219e+11</td>\n",
       "    </tr>\n",
       "  </tbody>\n",
       "</table>\n",
       "</div>"
      ],
      "text/plain": [
       "        year      co2  co2_growth_abs  share_global_co2  coal_co2  cement_co2  \\\n",
       "0 1900-01-01  664.123          38.590             33.99   626.544       1.386   \n",
       "1 1901-01-01  723.182          59.059             35.83   681.541       1.656   \n",
       "2 1902-01-01  766.638          43.456             37.04   715.931       2.145   \n",
       "3 1903-01-01  896.937         130.299             39.71   840.042       2.533   \n",
       "4 1904-01-01  882.953         -13.984             38.68   818.270       2.732   \n",
       "\n",
       "   gas_co2  oil_co2  co2_per_capita  coal_co2_per_capita  \\\n",
       "0   11.542   24.651           8.432                7.955   \n",
       "1   12.861   27.125           9.002                8.484   \n",
       "2   13.692   34.870           9.355                8.736   \n",
       "3   14.524   39.839          10.728               10.048   \n",
       "4   15.162   46.789          10.352                9.593   \n",
       "\n",
       "   cement_co2_per_capita  gas_co2_per_capita  oil_co2_per_capita  \\\n",
       "0                  0.018               0.146               0.313   \n",
       "1                  0.021               0.160               0.338   \n",
       "2                  0.026               0.167               0.426   \n",
       "3                  0.030               0.174               0.476   \n",
       "4                  0.032               0.178               0.548   \n",
       "\n",
       "   flaring_co2_per_capita  share_global_coal_co2  share_global_cement_co2  \\\n",
       "0                   0.129                  33.45                    100.0   \n",
       "1                   0.129                  35.33                    100.0   \n",
       "2                   0.131                  36.29                    100.0   \n",
       "3                   0.141                  38.97                    100.0   \n",
       "4                   0.142                  37.73                    100.0   \n",
       "\n",
       "   share_global_gas_co2  share_global_oil_co2  population           gdp  \n",
       "0                100.00                 36.50  78763706.0  6.139981e+11  \n",
       "1                100.00                 36.17  80336086.0  6.831060e+11  \n",
       "2                 99.97                 43.03  81949920.0  6.901269e+11  \n",
       "3                 99.97                 46.44  83606240.0  7.237664e+11  \n",
       "4                 99.98                 48.58  85296008.0  7.146219e+11  "
      ]
     },
     "execution_count": 657,
     "metadata": {},
     "output_type": "execute_result"
    }
   ],
   "source": [
    "df2.head()"
   ]
  },
  {
   "cell_type": "code",
   "execution_count": 658,
   "id": "5254a567",
   "metadata": {},
   "outputs": [],
   "source": [
    "min_max_scaler = preprocessing.MinMaxScaler(feature_range=(0, 1))\n",
    "dataset = min_max_scaler.fit_transform(df2['gas_co2_per_capita'].values.reshape(-1, 1))"
   ]
  },
  {
   "cell_type": "code",
   "execution_count": 659,
   "id": "64e62d99",
   "metadata": {},
   "outputs": [
    {
     "data": {
      "text/plain": [
       "array([[0.        ],\n",
       "       [0.0027532 ],\n",
       "       [0.00412979],\n",
       "       [0.00550639],\n",
       "       [0.00629302],\n",
       "       [0.0100295 ],\n",
       "       [0.01337266],\n",
       "       [0.01435595],\n",
       "       [0.01317601],\n",
       "       [0.02045231]])"
      ]
     },
     "execution_count": 659,
     "metadata": {},
     "output_type": "execute_result"
    }
   ],
   "source": [
    "dataset[0:10]"
   ]
  },
  {
   "cell_type": "code",
   "execution_count": 660,
   "id": "289cca96",
   "metadata": {},
   "outputs": [
    {
     "name": "stdout",
     "output_type": "stream",
     "text": [
      "84 36\n"
     ]
    }
   ],
   "source": [
    "train_size = int(len(dataset) * 0.7)\n",
    "test_size = len(dataset) - train_size\n",
    "train, test = dataset[0:train_size,:], dataset[train_size:len(dataset),:]\n",
    "print(len(train), len(test))"
   ]
  },
  {
   "cell_type": "code",
   "execution_count": 661,
   "id": "44cc52fd",
   "metadata": {},
   "outputs": [
    {
     "name": "stdout",
     "output_type": "stream",
     "text": [
      "120\n",
      "120\n"
     ]
    }
   ],
   "source": [
    "print(len(df2))\n",
    "print(84 + 36)"
   ]
  },
  {
   "cell_type": "code",
   "execution_count": 662,
   "id": "400d043c",
   "metadata": {},
   "outputs": [],
   "source": [
    "# convert an array of values into a dataset matrix\n",
    "def create_dataset(dataset, look_back=15):\n",
    "    dataX, dataY = [], []\n",
    "    for i in range(len(dataset)-look_back-1):\n",
    "        a = dataset[i:(i+look_back), 0]\n",
    "        dataX.append(a)\n",
    "        dataY.append(dataset[i + look_back, 0])\n",
    "    return np.array(dataX), np.array(dataY)"
   ]
  },
  {
   "cell_type": "code",
   "execution_count": 663,
   "id": "155229e7",
   "metadata": {},
   "outputs": [],
   "source": [
    "x_train, y_train = create_dataset(train, look_back=15)\n",
    "x_test, y_test = create_dataset(test, look_back=15)"
   ]
  },
  {
   "cell_type": "code",
   "execution_count": 664,
   "id": "8f93235d",
   "metadata": {},
   "outputs": [
    {
     "name": "stdout",
     "output_type": "stream",
     "text": [
      "(68, 15)\n",
      "(68,)\n",
      "(20, 15)\n",
      "(20,)\n"
     ]
    }
   ],
   "source": [
    "print(x_train.shape)\n",
    "print(y_train.shape)\n",
    "print(x_test.shape)\n",
    "print(y_test.shape)"
   ]
  },
  {
   "cell_type": "code",
   "execution_count": 665,
   "id": "49474e0c",
   "metadata": {},
   "outputs": [],
   "source": [
    "x_train = np.reshape(x_train, (x_train.shape[0], 1, x_train.shape[1]))\n",
    "x_test = np.reshape(x_test, (x_test.shape[0], 1, x_test.shape[1]))"
   ]
  },
  {
   "cell_type": "code",
   "execution_count": 666,
   "id": "0c4356c4",
   "metadata": {},
   "outputs": [
    {
     "name": "stdout",
     "output_type": "stream",
     "text": [
      "(68, 1, 15)\n",
      "(68,)\n",
      "(20, 1, 15)\n",
      "(20,)\n"
     ]
    }
   ],
   "source": [
    "print(x_train.shape)\n",
    "print(y_train.shape)\n",
    "print(x_test.shape)\n",
    "print(y_test.shape)"
   ]
  },
  {
   "cell_type": "code",
   "execution_count": 667,
   "id": "205ce6f5",
   "metadata": {},
   "outputs": [
    {
     "name": "stdout",
     "output_type": "stream",
     "text": [
      "Epoch 1/20\n",
      "68/68 - 0s - loss: 0.1686\n",
      "Epoch 2/20\n",
      "68/68 - 0s - loss: 0.0120\n",
      "Epoch 3/20\n",
      "68/68 - 0s - loss: 0.0077\n",
      "Epoch 4/20\n",
      "68/68 - 0s - loss: 0.0072\n",
      "Epoch 5/20\n",
      "68/68 - 0s - loss: 0.0064\n",
      "Epoch 6/20\n",
      "68/68 - 0s - loss: 0.0053\n",
      "Epoch 7/20\n",
      "68/68 - 0s - loss: 0.0056\n",
      "Epoch 8/20\n",
      "68/68 - 0s - loss: 0.0043\n",
      "Epoch 9/20\n",
      "68/68 - 0s - loss: 0.0040\n",
      "Epoch 10/20\n",
      "68/68 - 0s - loss: 0.0035\n",
      "Epoch 11/20\n",
      "68/68 - 0s - loss: 0.0030\n",
      "Epoch 12/20\n",
      "68/68 - 0s - loss: 0.0027\n",
      "Epoch 13/20\n",
      "68/68 - 0s - loss: 0.0021\n",
      "Epoch 14/20\n",
      "68/68 - 0s - loss: 0.0025\n",
      "Epoch 15/20\n",
      "68/68 - 0s - loss: 0.0018\n",
      "Epoch 16/20\n",
      "68/68 - 0s - loss: 0.0020\n",
      "Epoch 17/20\n",
      "68/68 - 0s - loss: 0.0018\n",
      "Epoch 18/20\n",
      "68/68 - 0s - loss: 0.0018\n",
      "Epoch 19/20\n",
      "68/68 - 0s - loss: 0.0017\n",
      "Epoch 20/20\n",
      "68/68 - 0s - loss: 0.0014\n"
     ]
    },
    {
     "data": {
      "text/plain": [
       "<tensorflow.python.keras.callbacks.History at 0x2a9cc0d7f40>"
      ]
     },
     "execution_count": 667,
     "metadata": {},
     "output_type": "execute_result"
    }
   ],
   "source": [
    "# create and fit the LSTM network\n",
    "look_back = 15\n",
    "model = Sequential()\n",
    "model.add(LSTM(20, input_shape=(1, look_back)))\n",
    "model.add(Dense(1))\n",
    "model.compile(loss='mean_squared_error', optimizer='adam')\n",
    "model.fit(x_train, y_train, epochs=20, batch_size=1, verbose=2)"
   ]
  },
  {
   "cell_type": "code",
   "execution_count": 668,
   "id": "398885dc",
   "metadata": {},
   "outputs": [
    {
     "name": "stdout",
     "output_type": "stream",
     "text": [
      "Model: \"sequential_27\"\n",
      "_________________________________________________________________\n",
      "Layer (type)                 Output Shape              Param #   \n",
      "=================================================================\n",
      "lstm_27 (LSTM)               (None, 20)                2880      \n",
      "_________________________________________________________________\n",
      "dense_27 (Dense)             (None, 1)                 21        \n",
      "=================================================================\n",
      "Total params: 2,901\n",
      "Trainable params: 2,901\n",
      "Non-trainable params: 0\n",
      "_________________________________________________________________\n"
     ]
    }
   ],
   "source": [
    "model.summary()"
   ]
  },
  {
   "cell_type": "code",
   "execution_count": 669,
   "id": "fb3f8bad",
   "metadata": {},
   "outputs": [
    {
     "name": "stdout",
     "output_type": "stream",
     "text": [
      "Train Score: 0.18 RMSE\n",
      "Test Score: 0.20 RMSE\n"
     ]
    }
   ],
   "source": [
    "trainPredict = model.predict(x_train)\n",
    "testPredict = model.predict(x_test)\n",
    "# invert predictions\n",
    "trainPredict = min_max_scaler.inverse_transform(trainPredict)\n",
    "trainY = min_max_scaler.inverse_transform([y_train])\n",
    "testPredict = min_max_scaler.inverse_transform(testPredict)\n",
    "testY = min_max_scaler.inverse_transform([y_test])\n",
    "# calculate root mean squared error\n",
    "trainScore = math.sqrt(mean_squared_error(trainY[0], trainPredict[:,0]))\n",
    "print('Train Score: %.2f RMSE' % (trainScore))\n",
    "testScore = math.sqrt(mean_squared_error(testY[0], testPredict[:,0]))\n",
    "print('Test Score: %.2f RMSE' % (testScore))"
   ]
  },
  {
   "cell_type": "code",
   "execution_count": 670,
   "id": "2d4afc3e",
   "metadata": {},
   "outputs": [
    {
     "data": {
      "image/png": "[encoded data removed]",
      "text/plain": [
       "<Figure size 432x288 with 1 Axes>"
      ]
     },
     "metadata": {
      "needs_background": "light"
     },
     "output_type": "display_data"
    }
   ],
   "source": [
    "# shift train predictions for plotting\n",
    "trainPredictPlot = np.empty_like(dataset)\n",
    "trainPredictPlot[:, :] = np.nan\n",
    "trainPredictPlot[look_back:len(trainPredict)+look_back, :] = trainPredict\n",
    "# shift test predictions for plotting\n",
    "testPredictPlot = np.empty_like(dataset)\n",
    "testPredictPlot[:, :] = np.nan\n",
    "testPredictPlot[len(trainPredict)+(look_back*2)+1:len(dataset)-1, :] = testPredict\n",
    "# plot baseline and predictions\n",
    "plt.plot(min_max_scaler.inverse_transform(dataset))\n",
    "plt.plot(trainPredictPlot)\n",
    "plt.plot(testPredictPlot)\n",
    "plt.show()"
   ]
  }
 ],
 "metadata": {
  "kernelspec": {
   "display_name": "Python 3",
   "language": "python",
   "name": "python3"
  },
  "language_info": {
   "codemirror_mode": {
    "name": "ipython",
    "version": 3
   },
   "file_extension": ".py",
   "mimetype": "text/x-python",
   "name": "python",
   "nbconvert_exporter": "python",
   "pygments_lexer": "ipython3",
   "version": "3.8.8"
  }
 },
 "nbformat": 4,
 "nbformat_minor": 5
}
