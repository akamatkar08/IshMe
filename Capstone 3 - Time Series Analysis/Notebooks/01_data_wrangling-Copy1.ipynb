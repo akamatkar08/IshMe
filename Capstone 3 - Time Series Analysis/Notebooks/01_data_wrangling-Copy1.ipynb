{
 "cells": [
  {
   "cell_type": "markdown",
   "id": "c2183b2e",
   "metadata": {},
   "source": [
    "# Capstone 3 - Time Series Analysis"
   ]
  },
  {
   "cell_type": "markdown",
   "id": "52713096",
   "metadata": {},
   "source": [
    "**asda** Lorem ipsum dolor sit amet, consectetur adipiscing elit, sed do eiusmod tempor incididunt ut labore et dolore magna aliqua. Ut enim ad minim veniam, quis nostrud exercitation ullamco laboris nisi ut aliquip ex ea commodo consequat. Duis aute irure dolor in reprehenderit in voluptate velit esse cillum dolore eu fugiat nulla pariatur. Excepteur sint occaecat cupidatat non proident, sunt in culpa qui officia deserunt mollit anim id est laborum."
   ]
  },
  {
   "cell_type": "markdown",
   "id": "7400d557",
   "metadata": {},
   "source": [
    "## Importing Packages"
   ]
  },
  {
   "cell_type": "code",
   "execution_count": 1,
   "id": "bd5804a5",
   "metadata": {},
   "outputs": [
    {
     "data": {
      "text/html": [
       "        <script type=\"text/javascript\">\n",
       "        window.PlotlyConfig = {MathJaxConfig: 'local'};\n",
       "        if (window.MathJax) {MathJax.Hub.Config({SVG: {font: \"STIX-Web\"}});}\n",
       "        if (typeof require !== 'undefined') {\n",
       "        require.undef(\"plotly\");\n",
       "        requirejs.config({\n",
       "            paths: {\n",
       "                'plotly': ['https://cdn.plot.ly/plotly-2.4.2.min']\n",
       "            }\n",
       "        });\n",
       "        require(['plotly'], function(Plotly) {\n",
       "            window._Plotly = Plotly;\n",
       "        });\n",
       "        }\n",
       "        </script>\n",
       "        "
      ]
     },
     "metadata": {},
     "output_type": "display_data"
    },
    {
     "data": {
      "text/html": [
       "        <script type=\"text/javascript\">\n",
       "        window.PlotlyConfig = {MathJaxConfig: 'local'};\n",
       "        if (window.MathJax) {MathJax.Hub.Config({SVG: {font: \"STIX-Web\"}});}\n",
       "        if (typeof require !== 'undefined') {\n",
       "        require.undef(\"plotly\");\n",
       "        requirejs.config({\n",
       "            paths: {\n",
       "                'plotly': ['https://cdn.plot.ly/plotly-2.4.2.min']\n",
       "            }\n",
       "        });\n",
       "        require(['plotly'], function(Plotly) {\n",
       "            window._Plotly = Plotly;\n",
       "        });\n",
       "        }\n",
       "        </script>\n",
       "        "
      ]
     },
     "metadata": {},
     "output_type": "display_data"
    }
   ],
   "source": [
    "# Standard packages\n",
    "import pandas as pd\n",
    "import numpy as np\n",
    "import calendar\n",
    "from datetime import datetime\n",
    "import matplotlib.pyplot as plt\n",
    "%matplotlib inline\n",
    "\n",
    "# Facebook's Prophet forecasting library\n",
    "from fbprophet import Prophet\n",
    "\n",
    "# Standard plotly imports\n",
    "from chart_studio import plotly as py\n",
    "import plotly.graph_objs as go\n",
    "from plotly.offline import iplot, init_notebook_mode\n",
    "\n",
    "# Using plotly + cufflinks in offline mode\n",
    "import cufflinks\n",
    "cufflinks.go_offline(connected=True)\n",
    "init_notebook_mode(connected=True)\n",
    "\n",
    "import statsmodels\n",
    "import statsmodels.api as sm\n",
    "from statsmodels.tsa.stattools import coint, adfuller"
   ]
  },
  {
   "cell_type": "markdown",
   "id": "07fabe7b",
   "metadata": {},
   "source": [
    "## Dataset 1 - Wrangling and Cleaning"
   ]
  },
  {
   "cell_type": "code",
   "execution_count": 2,
   "id": "95bf4750",
   "metadata": {},
   "outputs": [],
   "source": [
    "# Reading CSV data from COLevelsByAtmosphere, GloballandTemperaturesByCountry\n",
    "country_data = pd.read_csv(r\"C:\\Users\\akama\\OneDrive\\Desktop\\Data Science Bootcamp\\IshMe\\Capstone 3 - Time Series Analysis\\raw_data\\GlobalLandTemperaturesByCountry.csv\")\n",
    "CO_emissions = pd.read_excel(r\"C:\\Users\\akama\\OneDrive\\Desktop\\Data Science Bootcamp\\IshMe\\Capstone 3 - Time Series Analysis\\raw_data\\CO2Data_Emissions.xlsx\")"
   ]
  },
  {
   "cell_type": "code",
   "execution_count": 3,
   "id": "7eb75f3a",
   "metadata": {},
   "outputs": [
    {
     "data": {
      "text/html": [
       "<div>\n",
       "<style scoped>\n",
       "    .dataframe tbody tr th:only-of-type {\n",
       "        vertical-align: middle;\n",
       "    }\n",
       "\n",
       "    .dataframe tbody tr th {\n",
       "        vertical-align: top;\n",
       "    }\n",
       "\n",
       "    .dataframe thead th {\n",
       "        text-align: right;\n",
       "    }\n",
       "</style>\n",
       "<table border=\"1\" class=\"dataframe\">\n",
       "  <thead>\n",
       "    <tr style=\"text-align: right;\">\n",
       "      <th></th>\n",
       "      <th>Date</th>\n",
       "      <th>AverageTemperature</th>\n",
       "      <th>AverageTemperatureUncertainty</th>\n",
       "    </tr>\n",
       "  </thead>\n",
       "  <tbody>\n",
       "    <tr>\n",
       "      <th>0</th>\n",
       "      <td>1821-01-01</td>\n",
       "      <td>-4.464</td>\n",
       "      <td>3.658</td>\n",
       "    </tr>\n",
       "    <tr>\n",
       "      <th>1</th>\n",
       "      <td>1821-02-01</td>\n",
       "      <td>-1.684</td>\n",
       "      <td>3.891</td>\n",
       "    </tr>\n",
       "    <tr>\n",
       "      <th>2</th>\n",
       "      <td>1821-03-01</td>\n",
       "      <td>1.953</td>\n",
       "      <td>2.700</td>\n",
       "    </tr>\n",
       "    <tr>\n",
       "      <th>3</th>\n",
       "      <td>1821-04-01</td>\n",
       "      <td>6.281</td>\n",
       "      <td>1.991</td>\n",
       "    </tr>\n",
       "    <tr>\n",
       "      <th>4</th>\n",
       "      <td>1821-05-01</td>\n",
       "      <td>13.429</td>\n",
       "      <td>2.212</td>\n",
       "    </tr>\n",
       "    <tr>\n",
       "      <th>...</th>\n",
       "      <td>...</td>\n",
       "      <td>...</td>\n",
       "      <td>...</td>\n",
       "    </tr>\n",
       "    <tr>\n",
       "      <th>2308</th>\n",
       "      <td>2013-05-01</td>\n",
       "      <td>14.073</td>\n",
       "      <td>0.178</td>\n",
       "    </tr>\n",
       "    <tr>\n",
       "      <th>2309</th>\n",
       "      <td>2013-06-01</td>\n",
       "      <td>20.198</td>\n",
       "      <td>0.236</td>\n",
       "    </tr>\n",
       "    <tr>\n",
       "      <th>2310</th>\n",
       "      <td>2013-07-01</td>\n",
       "      <td>22.074</td>\n",
       "      <td>0.152</td>\n",
       "    </tr>\n",
       "    <tr>\n",
       "      <th>2311</th>\n",
       "      <td>2013-08-01</td>\n",
       "      <td>21.168</td>\n",
       "      <td>0.249</td>\n",
       "    </tr>\n",
       "    <tr>\n",
       "      <th>2312</th>\n",
       "      <td>2013-09-01</td>\n",
       "      <td>18.273</td>\n",
       "      <td>1.210</td>\n",
       "    </tr>\n",
       "  </tbody>\n",
       "</table>\n",
       "<p>2313 rows × 3 columns</p>\n",
       "</div>"
      ],
      "text/plain": [
       "           Date  AverageTemperature  AverageTemperatureUncertainty\n",
       "0    1821-01-01              -4.464                          3.658\n",
       "1    1821-02-01              -1.684                          3.891\n",
       "2    1821-03-01               1.953                          2.700\n",
       "3    1821-04-01               6.281                          1.991\n",
       "4    1821-05-01              13.429                          2.212\n",
       "...         ...                 ...                            ...\n",
       "2308 2013-05-01              14.073                          0.178\n",
       "2309 2013-06-01              20.198                          0.236\n",
       "2310 2013-07-01              22.074                          0.152\n",
       "2311 2013-08-01              21.168                          0.249\n",
       "2312 2013-09-01              18.273                          1.210\n",
       "\n",
       "[2313 rows x 3 columns]"
      ]
     },
     "execution_count": 3,
     "metadata": {},
     "output_type": "execute_result"
    }
   ],
   "source": [
    "# Deriving data only pertaining to the US\n",
    "US_data = country_data[country_data[\"Country\"] == \"United States\"].copy()\n",
    "\n",
    "# Convering \"dt\" column to datetime object\n",
    "US_data[\"dt\"] = pd.to_datetime(US_data[\"dt\"])\n",
    "US_data[\"Date\"] = pd.to_datetime(US_data.dt, format=\"%Y\")\n",
    "US_data = US_data[(US_data[\"Date\"].dt.year > 1820) & (US_data[\"Date\"].dt.year < 2014)]\n",
    "US_data = US_data.reset_index(drop=True)\n",
    "US_data = US_data[[\"Date\", \"AverageTemperature\", \"AverageTemperatureUncertainty\"]]\n",
    "US_data"
   ]
  },
  {
   "cell_type": "markdown",
   "id": "0c147b74",
   "metadata": {},
   "source": [
    "## Dataset 1 - EDA"
   ]
  },
  {
   "cell_type": "code",
   "execution_count": 4,
   "id": "3a4c7d65",
   "metadata": {},
   "outputs": [],
   "source": [
    "df_anomaly = US_data[(US_data[\"Date\"].dt.year > 1920) & (US_data[\"Date\"].dt.year < 1951)]\n",
    "\n",
    "jan = df_anomaly[df_anomaly[\"Date\"].dt.month == 1]\n",
    "feb = df_anomaly[df_anomaly[\"Date\"].dt.month == 2]\n",
    "mar = df_anomaly[df_anomaly[\"Date\"].dt.month == 3]\n",
    "apr = df_anomaly[df_anomaly[\"Date\"].dt.month == 4]\n",
    "may = df_anomaly[df_anomaly[\"Date\"].dt.month == 5]\n",
    "june  = df_anomaly[df_anomaly[\"Date\"].dt.month == 6]\n",
    "july = df_anomaly[df_anomaly[\"Date\"].dt.month == 7]\n",
    "aug = df_anomaly[df_anomaly[\"Date\"].dt.month == 8]\n",
    "sept = df_anomaly[df_anomaly[\"Date\"].dt.month == 9]\n",
    "october = df_anomaly[df_anomaly[\"Date\"].dt.month == 10]\n",
    "nov = df_anomaly[df_anomaly[\"Date\"].dt.month == 11]\n",
    "dec = df_anomaly[df_anomaly[\"Date\"].dt.month == 12]"
   ]
  },
  {
   "cell_type": "code",
   "execution_count": 5,
   "id": "26e503b5",
   "metadata": {},
   "outputs": [
    {
     "data": {
      "text/html": [
       "<div>\n",
       "<style scoped>\n",
       "    .dataframe tbody tr th:only-of-type {\n",
       "        vertical-align: middle;\n",
       "    }\n",
       "\n",
       "    .dataframe tbody tr th {\n",
       "        vertical-align: top;\n",
       "    }\n",
       "\n",
       "    .dataframe thead th {\n",
       "        text-align: right;\n",
       "    }\n",
       "</style>\n",
       "<table border=\"1\" class=\"dataframe\">\n",
       "  <thead>\n",
       "    <tr style=\"text-align: right;\">\n",
       "      <th></th>\n",
       "      <th>Date</th>\n",
       "      <th>AverageTemperature</th>\n",
       "      <th>AverageTemperatureUncertainty</th>\n",
       "      <th>AverageAnomaly</th>\n",
       "    </tr>\n",
       "  </thead>\n",
       "  <tbody>\n",
       "    <tr>\n",
       "      <th>0</th>\n",
       "      <td>1821-01-01</td>\n",
       "      <td>-4.464</td>\n",
       "      <td>3.658</td>\n",
       "      <td>None</td>\n",
       "    </tr>\n",
       "    <tr>\n",
       "      <th>1</th>\n",
       "      <td>1821-02-01</td>\n",
       "      <td>-1.684</td>\n",
       "      <td>3.891</td>\n",
       "      <td>None</td>\n",
       "    </tr>\n",
       "    <tr>\n",
       "      <th>2</th>\n",
       "      <td>1821-03-01</td>\n",
       "      <td>1.953</td>\n",
       "      <td>2.700</td>\n",
       "      <td>None</td>\n",
       "    </tr>\n",
       "    <tr>\n",
       "      <th>3</th>\n",
       "      <td>1821-04-01</td>\n",
       "      <td>6.281</td>\n",
       "      <td>1.991</td>\n",
       "      <td>None</td>\n",
       "    </tr>\n",
       "    <tr>\n",
       "      <th>4</th>\n",
       "      <td>1821-05-01</td>\n",
       "      <td>13.429</td>\n",
       "      <td>2.212</td>\n",
       "      <td>None</td>\n",
       "    </tr>\n",
       "  </tbody>\n",
       "</table>\n",
       "</div>"
      ],
      "text/plain": [
       "        Date  AverageTemperature  AverageTemperatureUncertainty AverageAnomaly\n",
       "0 1821-01-01              -4.464                          3.658           None\n",
       "1 1821-02-01              -1.684                          3.891           None\n",
       "2 1821-03-01               1.953                          2.700           None\n",
       "3 1821-04-01               6.281                          1.991           None\n",
       "4 1821-05-01              13.429                          2.212           None"
      ]
     },
     "execution_count": 5,
     "metadata": {},
     "output_type": "execute_result"
    }
   ],
   "source": [
    "US_data[\"AverageAnomaly\"] = None\n",
    "US_data.head()"
   ]
  },
  {
   "cell_type": "code",
   "execution_count": 6,
   "id": "3012653a",
   "metadata": {},
   "outputs": [
    {
     "name": "stdout",
     "output_type": "stream",
     "text": [
      "-3.5266666666666664\n",
      "-1.5618666666666667\n",
      "2.5324666666666666\n",
      "8.203933333333335\n",
      "13.81143333333333\n",
      "18.746233333333336\n",
      "21.477199999999993\n",
      "20.50343333333333\n",
      "16.355566666666665\n",
      "10.023133333333332\n",
      "2.811233333333334\n",
      "-2.1219999999999994\n"
     ]
    }
   ],
   "source": [
    "print(jan[\"AverageTemperature\"].mean())\n",
    "print(feb[\"AverageTemperature\"].mean())\n",
    "print(mar[\"AverageTemperature\"].mean())\n",
    "print(apr[\"AverageTemperature\"].mean())\n",
    "print(may[\"AverageTemperature\"].mean())\n",
    "print(june[\"AverageTemperature\"].mean())\n",
    "print(july[\"AverageTemperature\"].mean())\n",
    "print(aug[\"AverageTemperature\"].mean())\n",
    "print(sept[\"AverageTemperature\"].mean())\n",
    "print(october[\"AverageTemperature\"].mean())\n",
    "print(nov[\"AverageTemperature\"].mean())\n",
    "print(dec[\"AverageTemperature\"].mean())"
   ]
  },
  {
   "cell_type": "code",
   "execution_count": 7,
   "id": "d5c0f3e7",
   "metadata": {},
   "outputs": [
    {
     "name": "stdout",
     "output_type": "stream",
     "text": [
      "[-3.5266666666666664, -1.5618666666666667, 2.5324666666666666, 8.203933333333335, 13.81143333333333, 18.746233333333336, 21.477199999999993, 20.50343333333333, 16.355566666666665, 10.023133333333332, 2.811233333333334, -2.1219999999999994]\n"
     ]
    }
   ],
   "source": [
    "months = [jan, feb, mar, apr, may, june, july, aug, sept, october, nov, dec]\n",
    "\n",
    "monthly_anomalies = []\n",
    "\n",
    "for month in months:\n",
    "    anomaly = month[\"AverageTemperature\"].mean()\n",
    "    monthly_anomalies.append(anomaly)\n",
    "\n",
    "print(monthly_anomalies)"
   ]
  },
  {
   "cell_type": "code",
   "execution_count": 8,
   "id": "e5f88e3b",
   "metadata": {},
   "outputs": [],
   "source": [
    "jan = US_data[US_data[\"Date\"].dt.month == 1]\n",
    "feb = US_data[US_data[\"Date\"].dt.month == 2]\n",
    "mar = US_data[US_data[\"Date\"].dt.month == 3]\n",
    "apr = US_data[US_data[\"Date\"].dt.month == 4]\n",
    "may = US_data[US_data[\"Date\"].dt.month == 5]\n",
    "june  = US_data[US_data[\"Date\"].dt.month == 6]\n",
    "july = US_data[US_data[\"Date\"].dt.month == 7]\n",
    "aug = US_data[US_data[\"Date\"].dt.month == 8]\n",
    "sept = US_data[US_data[\"Date\"].dt.month == 9]\n",
    "october = US_data[US_data[\"Date\"].dt.month == 10]\n",
    "nov = US_data[US_data[\"Date\"].dt.month == 11]\n",
    "dec = US_data[US_data[\"Date\"].dt.month == 12]"
   ]
  },
  {
   "cell_type": "code",
   "execution_count": 9,
   "id": "d1a9c1e9",
   "metadata": {},
   "outputs": [],
   "source": [
    "s1 = (jan[\"AverageTemperature\"]) - (monthly_anomalies[0])\n",
    "s2 = (feb[\"AverageTemperature\"]) - (monthly_anomalies[1])\n",
    "s3 = (mar[\"AverageTemperature\"]) - (monthly_anomalies[2])\n",
    "s4 = (apr[\"AverageTemperature\"]) - (monthly_anomalies[3])\n",
    "s5 = (may[\"AverageTemperature\"]) - (monthly_anomalies[4])\n",
    "s6 = (june[\"AverageTemperature\"]) - (monthly_anomalies[5])\n",
    "s7 = (july[\"AverageTemperature\"]) - (monthly_anomalies[6])\n",
    "s8 = (aug[\"AverageTemperature\"]) - (monthly_anomalies[7])\n",
    "s9 = (sept[\"AverageTemperature\"]) - (monthly_anomalies[8])\n",
    "s10 = (october[\"AverageTemperature\"]) - (monthly_anomalies[9])\n",
    "s11 = (nov[\"AverageTemperature\"]) - (monthly_anomalies[10])\n",
    "s12 = (dec[\"AverageTemperature\"]) - (monthly_anomalies[11])\n",
    "df_temp = pd.concat([s1, s2, s3, s4, s5, s6, s7, s8, s9, s10, s11, s12], axis=1)"
   ]
  },
  {
   "cell_type": "code",
   "execution_count": 10,
   "id": "a0c10e4d",
   "metadata": {},
   "outputs": [
    {
     "data": {
      "text/plain": [
       "0      -0.937333\n",
       "1      -0.122133\n",
       "2      -0.579467\n",
       "3      -1.922933\n",
       "4      -0.382433\n",
       "          ...   \n",
       "2308    0.261567\n",
       "2309    1.451767\n",
       "2310    0.596800\n",
       "2311    0.664567\n",
       "2312    1.917433\n",
       "Name: AverageTemperature, Length: 2313, dtype: float64"
      ]
     },
     "execution_count": 10,
     "metadata": {},
     "output_type": "execute_result"
    }
   ],
   "source": [
    "df_temp.bfill(axis=1).iloc[:, 0]"
   ]
  },
  {
   "cell_type": "code",
   "execution_count": 11,
   "id": "93ba4788",
   "metadata": {},
   "outputs": [],
   "source": [
    "US_data[\"AverageAnomaly\"] = df_temp.bfill(axis=1).iloc[:, 0]"
   ]
  },
  {
   "cell_type": "code",
   "execution_count": 12,
   "id": "a4071eb6",
   "metadata": {},
   "outputs": [],
   "source": [
    "US_data.set_index(\"Date\", inplace=True)"
   ]
  },
  {
   "cell_type": "code",
   "execution_count": 13,
   "id": "da682144",
   "metadata": {},
   "outputs": [
    {
     "data": {
      "text/html": [
       "<div>\n",
       "<style scoped>\n",
       "    .dataframe tbody tr th:only-of-type {\n",
       "        vertical-align: middle;\n",
       "    }\n",
       "\n",
       "    .dataframe tbody tr th {\n",
       "        vertical-align: top;\n",
       "    }\n",
       "\n",
       "    .dataframe thead th {\n",
       "        text-align: right;\n",
       "    }\n",
       "</style>\n",
       "<table border=\"1\" class=\"dataframe\">\n",
       "  <thead>\n",
       "    <tr style=\"text-align: right;\">\n",
       "      <th></th>\n",
       "      <th>AverageTemperature</th>\n",
       "      <th>AverageTemperatureUncertainty</th>\n",
       "      <th>AverageAnomaly</th>\n",
       "    </tr>\n",
       "    <tr>\n",
       "      <th>Date</th>\n",
       "      <th></th>\n",
       "      <th></th>\n",
       "      <th></th>\n",
       "    </tr>\n",
       "  </thead>\n",
       "  <tbody>\n",
       "    <tr>\n",
       "      <th>1821-01-01</th>\n",
       "      <td>-4.464</td>\n",
       "      <td>3.658</td>\n",
       "      <td>-0.937333</td>\n",
       "    </tr>\n",
       "    <tr>\n",
       "      <th>1821-02-01</th>\n",
       "      <td>-1.684</td>\n",
       "      <td>3.891</td>\n",
       "      <td>-0.122133</td>\n",
       "    </tr>\n",
       "    <tr>\n",
       "      <th>1821-03-01</th>\n",
       "      <td>1.953</td>\n",
       "      <td>2.700</td>\n",
       "      <td>-0.579467</td>\n",
       "    </tr>\n",
       "    <tr>\n",
       "      <th>1821-04-01</th>\n",
       "      <td>6.281</td>\n",
       "      <td>1.991</td>\n",
       "      <td>-1.922933</td>\n",
       "    </tr>\n",
       "    <tr>\n",
       "      <th>1821-05-01</th>\n",
       "      <td>13.429</td>\n",
       "      <td>2.212</td>\n",
       "      <td>-0.382433</td>\n",
       "    </tr>\n",
       "    <tr>\n",
       "      <th>...</th>\n",
       "      <td>...</td>\n",
       "      <td>...</td>\n",
       "      <td>...</td>\n",
       "    </tr>\n",
       "    <tr>\n",
       "      <th>2013-05-01</th>\n",
       "      <td>14.073</td>\n",
       "      <td>0.178</td>\n",
       "      <td>0.261567</td>\n",
       "    </tr>\n",
       "    <tr>\n",
       "      <th>2013-06-01</th>\n",
       "      <td>20.198</td>\n",
       "      <td>0.236</td>\n",
       "      <td>1.451767</td>\n",
       "    </tr>\n",
       "    <tr>\n",
       "      <th>2013-07-01</th>\n",
       "      <td>22.074</td>\n",
       "      <td>0.152</td>\n",
       "      <td>0.596800</td>\n",
       "    </tr>\n",
       "    <tr>\n",
       "      <th>2013-08-01</th>\n",
       "      <td>21.168</td>\n",
       "      <td>0.249</td>\n",
       "      <td>0.664567</td>\n",
       "    </tr>\n",
       "    <tr>\n",
       "      <th>2013-09-01</th>\n",
       "      <td>18.273</td>\n",
       "      <td>1.210</td>\n",
       "      <td>1.917433</td>\n",
       "    </tr>\n",
       "  </tbody>\n",
       "</table>\n",
       "<p>2313 rows × 3 columns</p>\n",
       "</div>"
      ],
      "text/plain": [
       "            AverageTemperature  AverageTemperatureUncertainty  AverageAnomaly\n",
       "Date                                                                         \n",
       "1821-01-01              -4.464                          3.658       -0.937333\n",
       "1821-02-01              -1.684                          3.891       -0.122133\n",
       "1821-03-01               1.953                          2.700       -0.579467\n",
       "1821-04-01               6.281                          1.991       -1.922933\n",
       "1821-05-01              13.429                          2.212       -0.382433\n",
       "...                        ...                            ...             ...\n",
       "2013-05-01              14.073                          0.178        0.261567\n",
       "2013-06-01              20.198                          0.236        1.451767\n",
       "2013-07-01              22.074                          0.152        0.596800\n",
       "2013-08-01              21.168                          0.249        0.664567\n",
       "2013-09-01              18.273                          1.210        1.917433\n",
       "\n",
       "[2313 rows x 3 columns]"
      ]
     },
     "execution_count": 13,
     "metadata": {},
     "output_type": "execute_result"
    }
   ],
   "source": [
    "US_data"
   ]
  },
  {
   "cell_type": "code",
   "execution_count": 14,
   "id": "bf800db4",
   "metadata": {},
   "outputs": [
    {
     "data": {
      "text/html": [
       "<div>\n",
       "<style scoped>\n",
       "    .dataframe tbody tr th:only-of-type {\n",
       "        vertical-align: middle;\n",
       "    }\n",
       "\n",
       "    .dataframe tbody tr th {\n",
       "        vertical-align: top;\n",
       "    }\n",
       "\n",
       "    .dataframe thead th {\n",
       "        text-align: right;\n",
       "    }\n",
       "</style>\n",
       "<table border=\"1\" class=\"dataframe\">\n",
       "  <thead>\n",
       "    <tr style=\"text-align: right;\">\n",
       "      <th></th>\n",
       "      <th>AverageAnomaly</th>\n",
       "    </tr>\n",
       "    <tr>\n",
       "      <th>Date</th>\n",
       "      <th></th>\n",
       "    </tr>\n",
       "  </thead>\n",
       "  <tbody>\n",
       "    <tr>\n",
       "      <th>1821-01-01</th>\n",
       "      <td>-0.937333</td>\n",
       "    </tr>\n",
       "    <tr>\n",
       "      <th>1821-02-01</th>\n",
       "      <td>-0.122133</td>\n",
       "    </tr>\n",
       "    <tr>\n",
       "      <th>1821-03-01</th>\n",
       "      <td>-0.579467</td>\n",
       "    </tr>\n",
       "    <tr>\n",
       "      <th>1821-04-01</th>\n",
       "      <td>-1.922933</td>\n",
       "    </tr>\n",
       "    <tr>\n",
       "      <th>1821-05-01</th>\n",
       "      <td>-0.382433</td>\n",
       "    </tr>\n",
       "    <tr>\n",
       "      <th>...</th>\n",
       "      <td>...</td>\n",
       "    </tr>\n",
       "    <tr>\n",
       "      <th>2013-05-01</th>\n",
       "      <td>0.261567</td>\n",
       "    </tr>\n",
       "    <tr>\n",
       "      <th>2013-06-01</th>\n",
       "      <td>1.451767</td>\n",
       "    </tr>\n",
       "    <tr>\n",
       "      <th>2013-07-01</th>\n",
       "      <td>0.596800</td>\n",
       "    </tr>\n",
       "    <tr>\n",
       "      <th>2013-08-01</th>\n",
       "      <td>0.664567</td>\n",
       "    </tr>\n",
       "    <tr>\n",
       "      <th>2013-09-01</th>\n",
       "      <td>1.917433</td>\n",
       "    </tr>\n",
       "  </tbody>\n",
       "</table>\n",
       "<p>2313 rows × 1 columns</p>\n",
       "</div>"
      ],
      "text/plain": [
       "            AverageAnomaly\n",
       "Date                      \n",
       "1821-01-01       -0.937333\n",
       "1821-02-01       -0.122133\n",
       "1821-03-01       -0.579467\n",
       "1821-04-01       -1.922933\n",
       "1821-05-01       -0.382433\n",
       "...                    ...\n",
       "2013-05-01        0.261567\n",
       "2013-06-01        1.451767\n",
       "2013-07-01        0.596800\n",
       "2013-08-01        0.664567\n",
       "2013-09-01        1.917433\n",
       "\n",
       "[2313 rows x 1 columns]"
      ]
     },
     "execution_count": 14,
     "metadata": {},
     "output_type": "execute_result"
    }
   ],
   "source": [
    "df_temp = US_data.copy()\n",
    "df_temp.drop(columns=[\"AverageTemperature\", \"AverageTemperatureUncertainty\"], inplace=True)\n",
    "df_temp"
   ]
  },
  {
   "cell_type": "code",
   "execution_count": 15,
   "id": "841a9b78",
   "metadata": {},
   "outputs": [
    {
     "data": {
      "text/plain": [
       "[<matplotlib.lines.Line2D at 0x220d8c36700>]"
      ]
     },
     "execution_count": 15,
     "metadata": {},
     "output_type": "execute_result"
    },
    {
     "data": {
      "image/png": "[encoded data removed]",
      "text/plain": [
       "<Figure size 720x576 with 1 Axes>"
      ]
     },
     "metadata": {
      "needs_background": "light"
     },
     "output_type": "display_data"
    }
   ],
   "source": [
    "import matplotlib.pyplot as plt\n",
    "\n",
    "%matplotlib inline\n",
    "plt.figure(figsize=(10, 8))\n",
    "plt.xlabel(\"Time\")\n",
    "plt.ylabel(\"Temperature Anomaly (°Celsius)\")\n",
    "plt.plot(df_temp, linewidth=1.0)"
   ]
  },
  {
   "cell_type": "code",
   "execution_count": 16,
   "id": "e104fe12",
   "metadata": {},
   "outputs": [
    {
     "data": {
      "text/html": [
       "<div>\n",
       "<style scoped>\n",
       "    .dataframe tbody tr th:only-of-type {\n",
       "        vertical-align: middle;\n",
       "    }\n",
       "\n",
       "    .dataframe tbody tr th {\n",
       "        vertical-align: top;\n",
       "    }\n",
       "\n",
       "    .dataframe thead th {\n",
       "        text-align: right;\n",
       "    }\n",
       "</style>\n",
       "<table border=\"1\" class=\"dataframe\">\n",
       "  <thead>\n",
       "    <tr style=\"text-align: right;\">\n",
       "      <th></th>\n",
       "      <th>AverageAnomaly</th>\n",
       "    </tr>\n",
       "    <tr>\n",
       "      <th>Date</th>\n",
       "      <th></th>\n",
       "    </tr>\n",
       "  </thead>\n",
       "  <tbody>\n",
       "    <tr>\n",
       "      <th>1821-12-31</th>\n",
       "      <td>-0.933758</td>\n",
       "    </tr>\n",
       "    <tr>\n",
       "      <th>1822-12-31</th>\n",
       "      <td>-0.551008</td>\n",
       "    </tr>\n",
       "    <tr>\n",
       "      <th>1823-12-31</th>\n",
       "      <td>-1.026842</td>\n",
       "    </tr>\n",
       "    <tr>\n",
       "      <th>1824-12-31</th>\n",
       "      <td>-0.435592</td>\n",
       "    </tr>\n",
       "    <tr>\n",
       "      <th>1825-12-31</th>\n",
       "      <td>0.028658</td>\n",
       "    </tr>\n",
       "  </tbody>\n",
       "</table>\n",
       "</div>"
      ],
      "text/plain": [
       "            AverageAnomaly\n",
       "Date                      \n",
       "1821-12-31       -0.933758\n",
       "1822-12-31       -0.551008\n",
       "1823-12-31       -1.026842\n",
       "1824-12-31       -0.435592\n",
       "1825-12-31        0.028658"
      ]
     },
     "execution_count": 16,
     "metadata": {},
     "output_type": "execute_result"
    }
   ],
   "source": [
    "df_temp.resample(\"A\").mean().head()"
   ]
  },
  {
   "cell_type": "code",
   "execution_count": 17,
   "id": "14ec7af5",
   "metadata": {},
   "outputs": [
    {
     "data": {
      "image/png": "[encoded data removed]",
      "text/plain": [
       "<Figure size 720x576 with 1 Axes>"
      ]
     },
     "metadata": {
      "needs_background": "light"
     },
     "output_type": "display_data"
    }
   ],
   "source": [
    "import matplotlib.pyplot as plt\n",
    "%matplotlib inline\n",
    "\n",
    "df_temp_resampled = df_temp.resample('A').mean()\n",
    "\n",
    "fig, ax = plt.subplots(figsize=(10, 8))\n",
    "\n",
    "ax.plot(df_temp_resampled)\n",
    "ax.set(xlabel=\"Time (years)\", ylabel=\"Temperature Anomaly (°Celsius)\", title=\"United States Temperature Anomalies\")\n",
    "\n",
    "ax.grid()"
   ]
  },
  {
   "cell_type": "code",
   "execution_count": 18,
   "id": "8d2a89e3",
   "metadata": {},
   "outputs": [
    {
     "data": {
      "text/html": [
       "        <script type=\"text/javascript\">\n",
       "        window.PlotlyConfig = {MathJaxConfig: 'local'};\n",
       "        if (window.MathJax) {MathJax.Hub.Config({SVG: {font: \"STIX-Web\"}});}\n",
       "        if (typeof require !== 'undefined') {\n",
       "        require.undef(\"plotly\");\n",
       "        requirejs.config({\n",
       "            paths: {\n",
       "                'plotly': ['https://cdn.plot.ly/plotly-2.4.2.min']\n",
       "            }\n",
       "        });\n",
       "        require(['plotly'], function(Plotly) {\n",
       "            window._Plotly = Plotly;\n",
       "        });\n",
       "        }\n",
       "        </script>\n",
       "        "
      ]
     },
     "metadata": {},
     "output_type": "display_data"
    },
    {
     "data": {
      "text/html": [
       "        <script type=\"text/javascript\">\n",
       "        window.PlotlyConfig = {MathJaxConfig: 'local'};\n",
       "        if (window.MathJax) {MathJax.Hub.Config({SVG: {font: \"STIX-Web\"}});}\n",
       "        if (typeof require !== 'undefined') {\n",
       "        require.undef(\"plotly\");\n",
       "        requirejs.config({\n",
       "            paths: {\n",
       "                'plotly': ['https://cdn.plot.ly/plotly-2.4.2.min']\n",
       "            }\n",
       "        });\n",
       "        require(['plotly'], function(Plotly) {\n",
       "            window._Plotly = Plotly;\n",
       "        });\n",
       "        }\n",
       "        </script>\n",
       "        "
      ]
     },
     "metadata": {},
     "output_type": "display_data"
    }
   ],
   "source": [
    "from chart_studio import plotly as py\n",
    "import plotly.graph_objs as go\n",
    "from plotly.offline import iplot, init_notebook_mode\n",
    "\n",
    "import cufflinks\n",
    "cufflinks.go_offline(connected=True)\n",
    "init_notebook_mode(connected=True)"
   ]
  },
  {
   "cell_type": "code",
   "execution_count": 19,
   "id": "b09f6957",
   "metadata": {},
   "outputs": [
    {
     "data": {
      "application/vnd.plotly.v1+json": {
       "config": {
        "linkText": "Export to plot.ly",
        "plotlyServerURL": "https://plot.ly",
        "showLink": true
       },
       "data": [
        {
         "line": {
          "color": "rgba(255, 153, 51, 1.0)",
          "dash": "solid",
          "shape": "linear",
          "width": 1.3
         },
         "mode": "lines",
         "name": "AverageAnomaly",
         "text": "",
         "type": "scatter",
         "x": [
          "1821-12-31",
          "1822-12-31",
          "1823-12-31",
          "1824-12-31",
          "1825-12-31",
          "1826-12-31",
          "1827-12-31",
          "1828-12-31",
          "1829-12-31",
          "1830-12-31",
          "1831-12-31",
          "1832-12-31",
          "1833-12-31",
          "1834-12-31",
          "1835-12-31",
          "1836-12-31",
          "1837-12-31",
          "1838-12-31",
          "1839-12-31",
          "1840-12-31",
          "1841-12-31",
          "1842-12-31",
          "1843-12-31",
          "1844-12-31",
          "1845-12-31",
          "1846-12-31",
          "1847-12-31",
          "1848-12-31",
          "1849-12-31",
          "1850-12-31",
          "1851-12-31",
          "1852-12-31",
          "1853-12-31",
          "1854-12-31",
          "1855-12-31",
          "1856-12-31",
          "1857-12-31",
          "1858-12-31",
          "1859-12-31",
          "1860-12-31",
          "1861-12-31",
          "1862-12-31",
          "1863-12-31",
          "1864-12-31",
          "1865-12-31",
          "1866-12-31",
          "1867-12-31",
          "1868-12-31",
          "1869-12-31",
          "1870-12-31",
          "1871-12-31",
          "1872-12-31",
          "1873-12-31",
          "1874-12-31",
          "1875-12-31",
          "1876-12-31",
          "1877-12-31",
          "1878-12-31",
          "1879-12-31",
          "1880-12-31",
          "1881-12-31",
          "1882-12-31",
          "1883-12-31",
          "1884-12-31",
          "1885-12-31",
          "1886-12-31",
          "1887-12-31",
          "1888-12-31",
          "1889-12-31",
          "1890-12-31",
          "1891-12-31",
          "1892-12-31",
          "1893-12-31",
          "1894-12-31",
          "1895-12-31",
          "1896-12-31",
          "1897-12-31",
          "1898-12-31",
          "1899-12-31",
          "1900-12-31",
          "1901-12-31",
          "1902-12-31",
          "1903-12-31",
          "1904-12-31",
          "1905-12-31",
          "1906-12-31",
          "1907-12-31",
          "1908-12-31",
          "1909-12-31",
          "1910-12-31",
          "1911-12-31",
          "1912-12-31",
          "1913-12-31",
          "1914-12-31",
          "1915-12-31",
          "1916-12-31",
          "1917-12-31",
          "1918-12-31",
          "1919-12-31",
          "1920-12-31",
          "1921-12-31",
          "1922-12-31",
          "1923-12-31",
          "1924-12-31",
          "1925-12-31",
          "1926-12-31",
          "1927-12-31",
          "1928-12-31",
          "1929-12-31",
          "1930-12-31",
          "1931-12-31",
          "1932-12-31",
          "1933-12-31",
          "1934-12-31",
          "1935-12-31",
          "1936-12-31",
          "1937-12-31",
          "1938-12-31",
          "1939-12-31",
          "1940-12-31",
          "1941-12-31",
          "1942-12-31",
          "1943-12-31",
          "1944-12-31",
          "1945-12-31",
          "1946-12-31",
          "1947-12-31",
          "1948-12-31",
          "1949-12-31",
          "1950-12-31",
          "1951-12-31",
          "1952-12-31",
          "1953-12-31",
          "1954-12-31",
          "1955-12-31",
          "1956-12-31",
          "1957-12-31",
          "1958-12-31",
          "1959-12-31",
          "1960-12-31",
          "1961-12-31",
          "1962-12-31",
          "1963-12-31",
          "1964-12-31",
          "1965-12-31",
          "1966-12-31",
          "1967-12-31",
          "1968-12-31",
          "1969-12-31",
          "1970-12-31",
          "1971-12-31",
          "1972-12-31",
          "1973-12-31",
          "1974-12-31",
          "1975-12-31",
          "1976-12-31",
          "1977-12-31",
          "1978-12-31",
          "1979-12-31",
          "1980-12-31",
          "1981-12-31",
          "1982-12-31",
          "1983-12-31",
          "1984-12-31",
          "1985-12-31",
          "1986-12-31",
          "1987-12-31",
          "1988-12-31",
          "1989-12-31",
          "1990-12-31",
          "1991-12-31",
          "1992-12-31",
          "1993-12-31",
          "1994-12-31",
          "1995-12-31",
          "1996-12-31",
          "1997-12-31",
          "1998-12-31",
          "1999-12-31",
          "2000-12-31",
          "2001-12-31",
          "2002-12-31",
          "2003-12-31",
          "2004-12-31",
          "2005-12-31",
          "2006-12-31",
          "2007-12-31",
          "2008-12-31",
          "2009-12-31",
          "2010-12-31",
          "2011-12-31",
          "2012-12-31",
          "2013-12-31"
         ],
         "y": [
          -0.9337583333333322,
          -0.5510083333333323,
          -1.0268416666666658,
          -0.43559166666666577,
          0.02865833333333412,
          -0.35884166666666584,
          0.1641583333333343,
          -0.0893416666666657,
          -0.5485916666666656,
          0.27724166666666794,
          -1.2170916666666656,
          -0.6904249999999986,
          -0.12592499999999904,
          -0.10825833333333235,
          -1.3985916666666658,
          -1.373924999999999,
          -0.9534249999999993,
          -1.3891749999999996,
          -0.4156749999999993,
          -0.6863416666666655,
          -0.7885916666666657,
          -0.5795083333333318,
          -1.1541749999999984,
          -0.8550083333333328,
          -0.5289249999999992,
          0.19849166666666776,
          -1.0307583333333328,
          -0.9210083333333324,
          -0.8086749999999995,
          -0.6895083333333321,
          -0.2803416666666656,
          -0.7547583333333322,
          -0.4779249999999993,
          -0.11659166666666576,
          -0.47842499999999905,
          -0.994591666666666,
          -0.7975083333333323,
          -0.5250083333333325,
          -0.9210083333333324,
          -0.35692499999999905,
          -0.2873416666666659,
          -0.7238416666666659,
          -0.49159166666666576,
          -0.5567583333333322,
          -0.44217499999999893,
          -0.6035083333333325,
          -0.4288416666666657,
          -0.7304249999999985,
          -0.6265916666666659,
          -0.10834166666666578,
          -0.23109166666666558,
          -0.9370916666666654,
          -0.8747583333333327,
          -0.16984166666666575,
          -1.088174999999999,
          -0.8388416666666655,
          -0.24125833333333213,
          0.07932500000000076,
          -0.2545916666666655,
          -0.8275083333333324,
          -0.29434166666666567,
          -0.5679249999999993,
          -0.9955916666666657,
          -0.9798416666666658,
          -0.7794249999999989,
          -0.7560083333333324,
          -0.7942583333333325,
          -0.7650083333333321,
          -0.13975833333333257,
          -0.378674999999999,
          -0.6210916666666659,
          -0.7598416666666656,
          -0.7668416666666661,
          -0.47109166666666624,
          -1.0905083333333323,
          -0.4542583333333325,
          -0.4646749999999991,
          -0.509924999999999,
          -0.7710083333333323,
          0.08374166666666795,
          -0.44292499999999907,
          -0.48384166666666567,
          -0.9605916666666658,
          -0.7371749999999996,
          -0.5355083333333327,
          -0.3777583333333319,
          -0.5438416666666658,
          -0.18225833333333186,
          -0.7160083333333321,
          -0.17992499999999925,
          -0.19992499999999905,
          -0.7969249999999989,
          -0.38567499999999894,
          -0.06134166666666613,
          -0.28959166666666625,
          -0.7577583333333323,
          -1.268341666666666,
          -0.43659166666666577,
          -0.399841666666666,
          -0.7533416666666657,
          0.657825000000001,
          -0.169674999999999,
          -0.1775083333333319,
          -0.8855083333333327,
          0.07857500000000073,
          0.20240833333333455,
          -0.2185083333333323,
          -0.06184166666666572,
          -0.49834166666666563,
          -0.2001749999999989,
          0.6229083333333346,
          -0.39834166666666565,
          0.09274166666666805,
          0.8887416666666677,
          -0.19534166666666594,
          -0.015591666666665763,
          -0.207091666666666,
          0.5339916666666678,
          0.36965833333333437,
          0.15932500000000127,
          0.32824166666666743,
          -0.018508333333332367,
          0.06565833333333382,
          -0.03967499999999927,
          -0.26659166666666567,
          0.24174166666666785,
          -0.10175833333333197,
          -0.45617499999999894,
          -0.04975833333333209,
          -0.28142499999999887,
          -0.5212583333333322,
          0.04157500000000075,
          0.5925750000000009,
          0.4727416666666679,
          -0.4206749999999991,
          -0.23792499999999875,
          0.1884916666666675,
          0.03232500000000151,
          -0.11250833333333245,
          -0.2455916666666658,
          -0.2958416666666656,
          0.01865833333333446,
          0.14215833333333436,
          -0.4461749999999991,
          -0.29017499999999896,
          -0.45484166666666564,
          -0.03584166666666581,
          -0.38459166666666555,
          -0.16700833333333276,
          -0.2648416666666657,
          -0.49534166666666596,
          -0.5097583333333322,
          -0.0031749999999988545,
          -0.12192499999999896,
          -0.5068416666666656,
          -0.28659166666666575,
          0.33199166666666713,
          -0.18642499999999915,
          -0.36625833333333285,
          0.1976583333333344,
          0.7836583333333342,
          -0.3983416666666655,
          -0.025508333333332578,
          -0.12667499999999907,
          -0.35084166666666544,
          0.6216583333333343,
          0.6903250000000005,
          0.33749166666666747,
          -0.06475833333333224,
          0.5837416666666678,
          0.5558250000000009,
          0.11849166666666777,
          -0.0705916666666655,
          0.3324916666666676,
          0.39315833333333433,
          -0.18350833333333225,
          0.23507500000000112,
          1.203325000000001,
          0.6291583333333344,
          0.7119083333333345,
          0.8477416666666676,
          0.878325000000001,
          0.8172416666666669,
          0.7296583333333344,
          0.9548250000000013,
          1.0366583333333346,
          0.8996583333333339,
          0.0135750000000013,
          0.19924166666666746,
          0.5677416666666684,
          0.6120750000000009,
          1.3232416666666678,
          0.5702518518518538
         ]
        }
       ],
       "layout": {
        "legend": {
         "bgcolor": "#F5F6F9",
         "font": {
          "color": "#4D5663"
         }
        },
        "paper_bgcolor": "#F5F6F9",
        "plot_bgcolor": "#F5F6F9",
        "template": {
         "data": {
          "bar": [
           {
            "error_x": {
             "color": "#2a3f5f"
            },
            "error_y": {
             "color": "#2a3f5f"
            },
            "marker": {
             "line": {
              "color": "#E5ECF6",
              "width": 0.5
             },
             "pattern": {
              "fillmode": "overlay",
              "size": 10,
              "solidity": 0.2
             }
            },
            "type": "bar"
           }
          ],
          "barpolar": [
           {
            "marker": {
             "line": {
              "color": "#E5ECF6",
              "width": 0.5
             },
             "pattern": {
              "fillmode": "overlay",
              "size": 10,
              "solidity": 0.2
             }
            },
            "type": "barpolar"
           }
          ],
          "carpet": [
           {
            "aaxis": {
             "endlinecolor": "#2a3f5f",
             "gridcolor": "white",
             "linecolor": "white",
             "minorgridcolor": "white",
             "startlinecolor": "#2a3f5f"
            },
            "baxis": {
             "endlinecolor": "#2a3f5f",
             "gridcolor": "white",
             "linecolor": "white",
             "minorgridcolor": "white",
             "startlinecolor": "#2a3f5f"
            },
            "type": "carpet"
           }
          ],
          "choropleth": [
           {
            "colorbar": {
             "outlinewidth": 0,
             "ticks": ""
            },
            "type": "choropleth"
           }
          ],
          "contour": [
           {
            "colorbar": {
             "outlinewidth": 0,
             "ticks": ""
            },
            "colorscale": [
             [
              0,
              "#0d0887"
             ],
             [
              0.1111111111111111,
              "#46039f"
             ],
             [
              0.2222222222222222,
              "#7201a8"
             ],
             [
              0.3333333333333333,
              "#9c179e"
             ],
             [
              0.4444444444444444,
              "#bd3786"
             ],
             [
              0.5555555555555556,
              "#d8576b"
             ],
             [
              0.6666666666666666,
              "#ed7953"
             ],
             [
              0.7777777777777778,
              "#fb9f3a"
             ],
             [
              0.8888888888888888,
              "#fdca26"
             ],
             [
              1,
              "#f0f921"
             ]
            ],
            "type": "contour"
           }
          ],
          "contourcarpet": [
           {
            "colorbar": {
             "outlinewidth": 0,
             "ticks": ""
            },
            "type": "contourcarpet"
           }
          ],
          "heatmap": [
           {
            "colorbar": {
             "outlinewidth": 0,
             "ticks": ""
            },
            "colorscale": [
             [
              0,
              "#0d0887"
             ],
             [
              0.1111111111111111,
              "#46039f"
             ],
             [
              0.2222222222222222,
              "#7201a8"
             ],
             [
              0.3333333333333333,
              "#9c179e"
             ],
             [
              0.4444444444444444,
              "#bd3786"
             ],
             [
              0.5555555555555556,
              "#d8576b"
             ],
             [
              0.6666666666666666,
              "#ed7953"
             ],
             [
              0.7777777777777778,
              "#fb9f3a"
             ],
             [
              0.8888888888888888,
              "#fdca26"
             ],
             [
              1,
              "#f0f921"
             ]
            ],
            "type": "heatmap"
           }
          ],
          "heatmapgl": [
           {
            "colorbar": {
             "outlinewidth": 0,
             "ticks": ""
            },
            "colorscale": [
             [
              0,
              "#0d0887"
             ],
             [
              0.1111111111111111,
              "#46039f"
             ],
             [
              0.2222222222222222,
              "#7201a8"
             ],
             [
              0.3333333333333333,
              "#9c179e"
             ],
             [
              0.4444444444444444,
              "#bd3786"
             ],
             [
              0.5555555555555556,
              "#d8576b"
             ],
             [
              0.6666666666666666,
              "#ed7953"
             ],
             [
              0.7777777777777778,
              "#fb9f3a"
             ],
             [
              0.8888888888888888,
              "#fdca26"
             ],
             [
              1,
              "#f0f921"
             ]
            ],
            "type": "heatmapgl"
           }
          ],
          "histogram": [
           {
            "marker": {
             "pattern": {
              "fillmode": "overlay",
              "size": 10,
              "solidity": 0.2
             }
            },
            "type": "histogram"
           }
          ],
          "histogram2d": [
           {
            "colorbar": {
             "outlinewidth": 0,
             "ticks": ""
            },
            "colorscale": [
             [
              0,
              "#0d0887"
             ],
             [
              0.1111111111111111,
              "#46039f"
             ],
             [
              0.2222222222222222,
              "#7201a8"
             ],
             [
              0.3333333333333333,
              "#9c179e"
             ],
             [
              0.4444444444444444,
              "#bd3786"
             ],
             [
              0.5555555555555556,
              "#d8576b"
             ],
             [
              0.6666666666666666,
              "#ed7953"
             ],
             [
              0.7777777777777778,
              "#fb9f3a"
             ],
             [
              0.8888888888888888,
              "#fdca26"
             ],
             [
              1,
              "#f0f921"
             ]
            ],
            "type": "histogram2d"
           }
          ],
          "histogram2dcontour": [
           {
            "colorbar": {
             "outlinewidth": 0,
             "ticks": ""
            },
            "colorscale": [
             [
              0,
              "#0d0887"
             ],
             [
              0.1111111111111111,
              "#46039f"
             ],
             [
              0.2222222222222222,
              "#7201a8"
             ],
             [
              0.3333333333333333,
              "#9c179e"
             ],
             [
              0.4444444444444444,
              "#bd3786"
             ],
             [
              0.5555555555555556,
              "#d8576b"
             ],
             [
              0.6666666666666666,
              "#ed7953"
             ],
             [
              0.7777777777777778,
              "#fb9f3a"
             ],
             [
              0.8888888888888888,
              "#fdca26"
             ],
             [
              1,
              "#f0f921"
             ]
            ],
            "type": "histogram2dcontour"
           }
          ],
          "mesh3d": [
           {
            "colorbar": {
             "outlinewidth": 0,
             "ticks": ""
            },
            "type": "mesh3d"
           }
          ],
          "parcoords": [
           {
            "line": {
             "colorbar": {
              "outlinewidth": 0,
              "ticks": ""
             }
            },
            "type": "parcoords"
           }
          ],
          "pie": [
           {
            "automargin": true,
            "type": "pie"
           }
          ],
          "scatter": [
           {
            "marker": {
             "colorbar": {
              "outlinewidth": 0,
              "ticks": ""
             }
            },
            "type": "scatter"
           }
          ],
          "scatter3d": [
           {
            "line": {
             "colorbar": {
              "outlinewidth": 0,
              "ticks": ""
             }
            },
            "marker": {
             "colorbar": {
              "outlinewidth": 0,
              "ticks": ""
             }
            },
            "type": "scatter3d"
           }
          ],
          "scattercarpet": [
           {
            "marker": {
             "colorbar": {
              "outlinewidth": 0,
              "ticks": ""
             }
            },
            "type": "scattercarpet"
           }
          ],
          "scattergeo": [
           {
            "marker": {
             "colorbar": {
              "outlinewidth": 0,
              "ticks": ""
             }
            },
            "type": "scattergeo"
           }
          ],
          "scattergl": [
           {
            "marker": {
             "colorbar": {
              "outlinewidth": 0,
              "ticks": ""
             }
            },
            "type": "scattergl"
           }
          ],
          "scattermapbox": [
           {
            "marker": {
             "colorbar": {
              "outlinewidth": 0,
              "ticks": ""
             }
            },
            "type": "scattermapbox"
           }
          ],
          "scatterpolar": [
           {
            "marker": {
             "colorbar": {
              "outlinewidth": 0,
              "ticks": ""
             }
            },
            "type": "scatterpolar"
           }
          ],
          "scatterpolargl": [
           {
            "marker": {
             "colorbar": {
              "outlinewidth": 0,
              "ticks": ""
             }
            },
            "type": "scatterpolargl"
           }
          ],
          "scatterternary": [
           {
            "marker": {
             "colorbar": {
              "outlinewidth": 0,
              "ticks": ""
             }
            },
            "type": "scatterternary"
           }
          ],
          "surface": [
           {
            "colorbar": {
             "outlinewidth": 0,
             "ticks": ""
            },
            "colorscale": [
             [
              0,
              "#0d0887"
             ],
             [
              0.1111111111111111,
              "#46039f"
             ],
             [
              0.2222222222222222,
              "#7201a8"
             ],
             [
              0.3333333333333333,
              "#9c179e"
             ],
             [
              0.4444444444444444,
              "#bd3786"
             ],
             [
              0.5555555555555556,
              "#d8576b"
             ],
             [
              0.6666666666666666,
              "#ed7953"
             ],
             [
              0.7777777777777778,
              "#fb9f3a"
             ],
             [
              0.8888888888888888,
              "#fdca26"
             ],
             [
              1,
              "#f0f921"
             ]
            ],
            "type": "surface"
           }
          ],
          "table": [
           {
            "cells": {
             "fill": {
              "color": "#EBF0F8"
             },
             "line": {
              "color": "white"
             }
            },
            "header": {
             "fill": {
              "color": "#C8D4E3"
             },
             "line": {
              "color": "white"
             }
            },
            "type": "table"
           }
          ]
         },
         "layout": {
          "annotationdefaults": {
           "arrowcolor": "#2a3f5f",
           "arrowhead": 0,
           "arrowwidth": 1
          },
          "autotypenumbers": "strict",
          "coloraxis": {
           "colorbar": {
            "outlinewidth": 0,
            "ticks": ""
           }
          },
          "colorscale": {
           "diverging": [
            [
             0,
             "#8e0152"
            ],
            [
             0.1,
             "#c51b7d"
            ],
            [
             0.2,
             "#de77ae"
            ],
            [
             0.3,
             "#f1b6da"
            ],
            [
             0.4,
             "#fde0ef"
            ],
            [
             0.5,
             "#f7f7f7"
            ],
            [
             0.6,
             "#e6f5d0"
            ],
            [
             0.7,
             "#b8e186"
            ],
            [
             0.8,
             "#7fbc41"
            ],
            [
             0.9,
             "#4d9221"
            ],
            [
             1,
             "#276419"
            ]
           ],
           "sequential": [
            [
             0,
             "#0d0887"
            ],
            [
             0.1111111111111111,
             "#46039f"
            ],
            [
             0.2222222222222222,
             "#7201a8"
            ],
            [
             0.3333333333333333,
             "#9c179e"
            ],
            [
             0.4444444444444444,
             "#bd3786"
            ],
            [
             0.5555555555555556,
             "#d8576b"
            ],
            [
             0.6666666666666666,
             "#ed7953"
            ],
            [
             0.7777777777777778,
             "#fb9f3a"
            ],
            [
             0.8888888888888888,
             "#fdca26"
            ],
            [
             1,
             "#f0f921"
            ]
           ],
           "sequentialminus": [
            [
             0,
             "#0d0887"
            ],
            [
             0.1111111111111111,
             "#46039f"
            ],
            [
             0.2222222222222222,
             "#7201a8"
            ],
            [
             0.3333333333333333,
             "#9c179e"
            ],
            [
             0.4444444444444444,
             "#bd3786"
            ],
            [
             0.5555555555555556,
             "#d8576b"
            ],
            [
             0.6666666666666666,
             "#ed7953"
            ],
            [
             0.7777777777777778,
             "#fb9f3a"
            ],
            [
             0.8888888888888888,
             "#fdca26"
            ],
            [
             1,
             "#f0f921"
            ]
           ]
          },
          "colorway": [
           "#636efa",
           "#EF553B",
           "#00cc96",
           "#ab63fa",
           "#FFA15A",
           "#19d3f3",
           "#FF6692",
           "#B6E880",
           "#FF97FF",
           "#FECB52"
          ],
          "font": {
           "color": "#2a3f5f"
          },
          "geo": {
           "bgcolor": "white",
           "lakecolor": "white",
           "landcolor": "#E5ECF6",
           "showlakes": true,
           "showland": true,
           "subunitcolor": "white"
          },
          "hoverlabel": {
           "align": "left"
          },
          "hovermode": "closest",
          "mapbox": {
           "style": "light"
          },
          "paper_bgcolor": "white",
          "plot_bgcolor": "#E5ECF6",
          "polar": {
           "angularaxis": {
            "gridcolor": "white",
            "linecolor": "white",
            "ticks": ""
           },
           "bgcolor": "#E5ECF6",
           "radialaxis": {
            "gridcolor": "white",
            "linecolor": "white",
            "ticks": ""
           }
          },
          "scene": {
           "xaxis": {
            "backgroundcolor": "#E5ECF6",
            "gridcolor": "white",
            "gridwidth": 2,
            "linecolor": "white",
            "showbackground": true,
            "ticks": "",
            "zerolinecolor": "white"
           },
           "yaxis": {
            "backgroundcolor": "#E5ECF6",
            "gridcolor": "white",
            "gridwidth": 2,
            "linecolor": "white",
            "showbackground": true,
            "ticks": "",
            "zerolinecolor": "white"
           },
           "zaxis": {
            "backgroundcolor": "#E5ECF6",
            "gridcolor": "white",
            "gridwidth": 2,
            "linecolor": "white",
            "showbackground": true,
            "ticks": "",
            "zerolinecolor": "white"
           }
          },
          "shapedefaults": {
           "line": {
            "color": "#2a3f5f"
           }
          },
          "ternary": {
           "aaxis": {
            "gridcolor": "white",
            "linecolor": "white",
            "ticks": ""
           },
           "baxis": {
            "gridcolor": "white",
            "linecolor": "white",
            "ticks": ""
           },
           "bgcolor": "#E5ECF6",
           "caxis": {
            "gridcolor": "white",
            "linecolor": "white",
            "ticks": ""
           }
          },
          "title": {
           "x": 0.05
          },
          "xaxis": {
           "automargin": true,
           "gridcolor": "white",
           "linecolor": "white",
           "ticks": "",
           "title": {
            "standoff": 15
           },
           "zerolinecolor": "white",
           "zerolinewidth": 2
          },
          "yaxis": {
           "automargin": true,
           "gridcolor": "white",
           "linecolor": "white",
           "ticks": "",
           "title": {
            "standoff": 15
           },
           "zerolinecolor": "white",
           "zerolinewidth": 2
          }
         }
        },
        "title": {
         "font": {
          "color": "#4D5663"
         },
         "text": "United States Temperature Anomalies"
        },
        "xaxis": {
         "gridcolor": "#E1E5ED",
         "showgrid": true,
         "tickfont": {
          "color": "#4D5663"
         },
         "title": {
          "font": {
           "color": "#4D5663"
          },
          "text": "Time (years)"
         },
         "zerolinecolor": "#E1E5ED"
        },
        "yaxis": {
         "gridcolor": "#E1E5ED",
         "showgrid": true,
         "tickfont": {
          "color": "#4D5663"
         },
         "title": {
          "font": {
           "color": "#4D5663"
          },
          "text": "Temperature Anomaly (°Celsius)"
         },
         "zerolinecolor": "#E1E5ED"
        }
       }
      },
      "text/html": [
       "<div>                            <div id=\"b5253b57-08fd-439d-91f0-9dffc1fbf2c8\" class=\"plotly-graph-div\" style=\"height:525px; width:100%;\"></div>            <script type=\"text/javascript\">                require([\"plotly\"], function(Plotly) {                    window.PLOTLYENV=window.PLOTLYENV || {};\n",
       "                    window.PLOTLYENV.BASE_URL='https://plot.ly';                                    if (document.getElementById(\"b5253b57-08fd-439d-91f0-9dffc1fbf2c8\")) {                    Plotly.newPlot(                        \"b5253b57-08fd-439d-91f0-9dffc1fbf2c8\",                        [{\"line\":{\"color\":\"rgba(255, 153, 51, 1.0)\",\"dash\":\"solid\",\"shape\":\"linear\",\"width\":1.3},\"mode\":\"lines\",\"name\":\"AverageAnomaly\",\"text\":\"\",\"type\":\"scatter\",\"x\":[\"1821-12-31\",\"1822-12-31\",\"1823-12-31\",\"1824-12-31\",\"1825-12-31\",\"1826-12-31\",\"1827-12-31\",\"1828-12-31\",\"1829-12-31\",\"1830-12-31\",\"1831-12-31\",\"1832-12-31\",\"1833-12-31\",\"1834-12-31\",\"1835-12-31\",\"1836-12-31\",\"1837-12-31\",\"1838-12-31\",\"1839-12-31\",\"1840-12-31\",\"1841-12-31\",\"1842-12-31\",\"1843-12-31\",\"1844-12-31\",\"1845-12-31\",\"1846-12-31\",\"1847-12-31\",\"1848-12-31\",\"1849-12-31\",\"1850-12-31\",\"1851-12-31\",\"1852-12-31\",\"1853-12-31\",\"1854-12-31\",\"1855-12-31\",\"1856-12-31\",\"1857-12-31\",\"1858-12-31\",\"1859-12-31\",\"1860-12-31\",\"1861-12-31\",\"1862-12-31\",\"1863-12-31\",\"1864-12-31\",\"1865-12-31\",\"1866-12-31\",\"1867-12-31\",\"1868-12-31\",\"1869-12-31\",\"1870-12-31\",\"1871-12-31\",\"1872-12-31\",\"1873-12-31\",\"1874-12-31\",\"1875-12-31\",\"1876-12-31\",\"1877-12-31\",\"1878-12-31\",\"1879-12-31\",\"1880-12-31\",\"1881-12-31\",\"1882-12-31\",\"1883-12-31\",\"1884-12-31\",\"1885-12-31\",\"1886-12-31\",\"1887-12-31\",\"1888-12-31\",\"1889-12-31\",\"1890-12-31\",\"1891-12-31\",\"1892-12-31\",\"1893-12-31\",\"1894-12-31\",\"1895-12-31\",\"1896-12-31\",\"1897-12-31\",\"1898-12-31\",\"1899-12-31\",\"1900-12-31\",\"1901-12-31\",\"1902-12-31\",\"1903-12-31\",\"1904-12-31\",\"1905-12-31\",\"1906-12-31\",\"1907-12-31\",\"1908-12-31\",\"1909-12-31\",\"1910-12-31\",\"1911-12-31\",\"1912-12-31\",\"1913-12-31\",\"1914-12-31\",\"1915-12-31\",\"1916-12-31\",\"1917-12-31\",\"1918-12-31\",\"1919-12-31\",\"1920-12-31\",\"1921-12-31\",\"1922-12-31\",\"1923-12-31\",\"1924-12-31\",\"1925-12-31\",\"1926-12-31\",\"1927-12-31\",\"1928-12-31\",\"1929-12-31\",\"1930-12-31\",\"1931-12-31\",\"1932-12-31\",\"1933-12-31\",\"1934-12-31\",\"1935-12-31\",\"1936-12-31\",\"1937-12-31\",\"1938-12-31\",\"1939-12-31\",\"1940-12-31\",\"1941-12-31\",\"1942-12-31\",\"1943-12-31\",\"1944-12-31\",\"1945-12-31\",\"1946-12-31\",\"1947-12-31\",\"1948-12-31\",\"1949-12-31\",\"1950-12-31\",\"1951-12-31\",\"1952-12-31\",\"1953-12-31\",\"1954-12-31\",\"1955-12-31\",\"1956-12-31\",\"1957-12-31\",\"1958-12-31\",\"1959-12-31\",\"1960-12-31\",\"1961-12-31\",\"1962-12-31\",\"1963-12-31\",\"1964-12-31\",\"1965-12-31\",\"1966-12-31\",\"1967-12-31\",\"1968-12-31\",\"1969-12-31\",\"1970-12-31\",\"1971-12-31\",\"1972-12-31\",\"1973-12-31\",\"1974-12-31\",\"1975-12-31\",\"1976-12-31\",\"1977-12-31\",\"1978-12-31\",\"1979-12-31\",\"1980-12-31\",\"1981-12-31\",\"1982-12-31\",\"1983-12-31\",\"1984-12-31\",\"1985-12-31\",\"1986-12-31\",\"1987-12-31\",\"1988-12-31\",\"1989-12-31\",\"1990-12-31\",\"1991-12-31\",\"1992-12-31\",\"1993-12-31\",\"1994-12-31\",\"1995-12-31\",\"1996-12-31\",\"1997-12-31\",\"1998-12-31\",\"1999-12-31\",\"2000-12-31\",\"2001-12-31\",\"2002-12-31\",\"2003-12-31\",\"2004-12-31\",\"2005-12-31\",\"2006-12-31\",\"2007-12-31\",\"2008-12-31\",\"2009-12-31\",\"2010-12-31\",\"2011-12-31\",\"2012-12-31\",\"2013-12-31\"],\"y\":[-0.9337583333333322,-0.5510083333333323,-1.0268416666666658,-0.43559166666666577,0.02865833333333412,-0.35884166666666584,0.1641583333333343,-0.0893416666666657,-0.5485916666666656,0.27724166666666794,-1.2170916666666656,-0.6904249999999986,-0.12592499999999904,-0.10825833333333235,-1.3985916666666658,-1.373924999999999,-0.9534249999999993,-1.3891749999999996,-0.4156749999999993,-0.6863416666666655,-0.7885916666666657,-0.5795083333333318,-1.1541749999999984,-0.8550083333333328,-0.5289249999999992,0.19849166666666776,-1.0307583333333328,-0.9210083333333324,-0.8086749999999995,-0.6895083333333321,-0.2803416666666656,-0.7547583333333322,-0.4779249999999993,-0.11659166666666576,-0.47842499999999905,-0.994591666666666,-0.7975083333333323,-0.5250083333333325,-0.9210083333333324,-0.35692499999999905,-0.2873416666666659,-0.7238416666666659,-0.49159166666666576,-0.5567583333333322,-0.44217499999999893,-0.6035083333333325,-0.4288416666666657,-0.7304249999999985,-0.6265916666666659,-0.10834166666666578,-0.23109166666666558,-0.9370916666666654,-0.8747583333333327,-0.16984166666666575,-1.088174999999999,-0.8388416666666655,-0.24125833333333213,0.07932500000000076,-0.2545916666666655,-0.8275083333333324,-0.29434166666666567,-0.5679249999999993,-0.9955916666666657,-0.9798416666666658,-0.7794249999999989,-0.7560083333333324,-0.7942583333333325,-0.7650083333333321,-0.13975833333333257,-0.378674999999999,-0.6210916666666659,-0.7598416666666656,-0.7668416666666661,-0.47109166666666624,-1.0905083333333323,-0.4542583333333325,-0.4646749999999991,-0.509924999999999,-0.7710083333333323,0.08374166666666795,-0.44292499999999907,-0.48384166666666567,-0.9605916666666658,-0.7371749999999996,-0.5355083333333327,-0.3777583333333319,-0.5438416666666658,-0.18225833333333186,-0.7160083333333321,-0.17992499999999925,-0.19992499999999905,-0.7969249999999989,-0.38567499999999894,-0.06134166666666613,-0.28959166666666625,-0.7577583333333323,-1.268341666666666,-0.43659166666666577,-0.399841666666666,-0.7533416666666657,0.657825000000001,-0.169674999999999,-0.1775083333333319,-0.8855083333333327,0.07857500000000073,0.20240833333333455,-0.2185083333333323,-0.06184166666666572,-0.49834166666666563,-0.2001749999999989,0.6229083333333346,-0.39834166666666565,0.09274166666666805,0.8887416666666677,-0.19534166666666594,-0.015591666666665763,-0.207091666666666,0.5339916666666678,0.36965833333333437,0.15932500000000127,0.32824166666666743,-0.018508333333332367,0.06565833333333382,-0.03967499999999927,-0.26659166666666567,0.24174166666666785,-0.10175833333333197,-0.45617499999999894,-0.04975833333333209,-0.28142499999999887,-0.5212583333333322,0.04157500000000075,0.5925750000000009,0.4727416666666679,-0.4206749999999991,-0.23792499999999875,0.1884916666666675,0.03232500000000151,-0.11250833333333245,-0.2455916666666658,-0.2958416666666656,0.01865833333333446,0.14215833333333436,-0.4461749999999991,-0.29017499999999896,-0.45484166666666564,-0.03584166666666581,-0.38459166666666555,-0.16700833333333276,-0.2648416666666657,-0.49534166666666596,-0.5097583333333322,-0.0031749999999988545,-0.12192499999999896,-0.5068416666666656,-0.28659166666666575,0.33199166666666713,-0.18642499999999915,-0.36625833333333285,0.1976583333333344,0.7836583333333342,-0.3983416666666655,-0.025508333333332578,-0.12667499999999907,-0.35084166666666544,0.6216583333333343,0.6903250000000005,0.33749166666666747,-0.06475833333333224,0.5837416666666678,0.5558250000000009,0.11849166666666777,-0.0705916666666655,0.3324916666666676,0.39315833333333433,-0.18350833333333225,0.23507500000000112,1.203325000000001,0.6291583333333344,0.7119083333333345,0.8477416666666676,0.878325000000001,0.8172416666666669,0.7296583333333344,0.9548250000000013,1.0366583333333346,0.8996583333333339,0.0135750000000013,0.19924166666666746,0.5677416666666684,0.6120750000000009,1.3232416666666678,0.5702518518518538]}],                        {\"legend\":{\"bgcolor\":\"#F5F6F9\",\"font\":{\"color\":\"#4D5663\"}},\"paper_bgcolor\":\"#F5F6F9\",\"plot_bgcolor\":\"#F5F6F9\",\"template\":{\"data\":{\"bar\":[{\"error_x\":{\"color\":\"#2a3f5f\"},\"error_y\":{\"color\":\"#2a3f5f\"},\"marker\":{\"line\":{\"color\":\"#E5ECF6\",\"width\":0.5},\"pattern\":{\"fillmode\":\"overlay\",\"size\":10,\"solidity\":0.2}},\"type\":\"bar\"}],\"barpolar\":[{\"marker\":{\"line\":{\"color\":\"#E5ECF6\",\"width\":0.5},\"pattern\":{\"fillmode\":\"overlay\",\"size\":10,\"solidity\":0.2}},\"type\":\"barpolar\"}],\"carpet\":[{\"aaxis\":{\"endlinecolor\":\"#2a3f5f\",\"gridcolor\":\"white\",\"linecolor\":\"white\",\"minorgridcolor\":\"white\",\"startlinecolor\":\"#2a3f5f\"},\"baxis\":{\"endlinecolor\":\"#2a3f5f\",\"gridcolor\":\"white\",\"linecolor\":\"white\",\"minorgridcolor\":\"white\",\"startlinecolor\":\"#2a3f5f\"},\"type\":\"carpet\"}],\"choropleth\":[{\"colorbar\":{\"outlinewidth\":0,\"ticks\":\"\"},\"type\":\"choropleth\"}],\"contour\":[{\"colorbar\":{\"outlinewidth\":0,\"ticks\":\"\"},\"colorscale\":[[0.0,\"#0d0887\"],[0.1111111111111111,\"#46039f\"],[0.2222222222222222,\"#7201a8\"],[0.3333333333333333,\"#9c179e\"],[0.4444444444444444,\"#bd3786\"],[0.5555555555555556,\"#d8576b\"],[0.6666666666666666,\"#ed7953\"],[0.7777777777777778,\"#fb9f3a\"],[0.8888888888888888,\"#fdca26\"],[1.0,\"#f0f921\"]],\"type\":\"contour\"}],\"contourcarpet\":[{\"colorbar\":{\"outlinewidth\":0,\"ticks\":\"\"},\"type\":\"contourcarpet\"}],\"heatmap\":[{\"colorbar\":{\"outlinewidth\":0,\"ticks\":\"\"},\"colorscale\":[[0.0,\"#0d0887\"],[0.1111111111111111,\"#46039f\"],[0.2222222222222222,\"#7201a8\"],[0.3333333333333333,\"#9c179e\"],[0.4444444444444444,\"#bd3786\"],[0.5555555555555556,\"#d8576b\"],[0.6666666666666666,\"#ed7953\"],[0.7777777777777778,\"#fb9f3a\"],[0.8888888888888888,\"#fdca26\"],[1.0,\"#f0f921\"]],\"type\":\"heatmap\"}],\"heatmapgl\":[{\"colorbar\":{\"outlinewidth\":0,\"ticks\":\"\"},\"colorscale\":[[0.0,\"#0d0887\"],[0.1111111111111111,\"#46039f\"],[0.2222222222222222,\"#7201a8\"],[0.3333333333333333,\"#9c179e\"],[0.4444444444444444,\"#bd3786\"],[0.5555555555555556,\"#d8576b\"],[0.6666666666666666,\"#ed7953\"],[0.7777777777777778,\"#fb9f3a\"],[0.8888888888888888,\"#fdca26\"],[1.0,\"#f0f921\"]],\"type\":\"heatmapgl\"}],\"histogram\":[{\"marker\":{\"pattern\":{\"fillmode\":\"overlay\",\"size\":10,\"solidity\":0.2}},\"type\":\"histogram\"}],\"histogram2d\":[{\"colorbar\":{\"outlinewidth\":0,\"ticks\":\"\"},\"colorscale\":[[0.0,\"#0d0887\"],[0.1111111111111111,\"#46039f\"],[0.2222222222222222,\"#7201a8\"],[0.3333333333333333,\"#9c179e\"],[0.4444444444444444,\"#bd3786\"],[0.5555555555555556,\"#d8576b\"],[0.6666666666666666,\"#ed7953\"],[0.7777777777777778,\"#fb9f3a\"],[0.8888888888888888,\"#fdca26\"],[1.0,\"#f0f921\"]],\"type\":\"histogram2d\"}],\"histogram2dcontour\":[{\"colorbar\":{\"outlinewidth\":0,\"ticks\":\"\"},\"colorscale\":[[0.0,\"#0d0887\"],[0.1111111111111111,\"#46039f\"],[0.2222222222222222,\"#7201a8\"],[0.3333333333333333,\"#9c179e\"],[0.4444444444444444,\"#bd3786\"],[0.5555555555555556,\"#d8576b\"],[0.6666666666666666,\"#ed7953\"],[0.7777777777777778,\"#fb9f3a\"],[0.8888888888888888,\"#fdca26\"],[1.0,\"#f0f921\"]],\"type\":\"histogram2dcontour\"}],\"mesh3d\":[{\"colorbar\":{\"outlinewidth\":0,\"ticks\":\"\"},\"type\":\"mesh3d\"}],\"parcoords\":[{\"line\":{\"colorbar\":{\"outlinewidth\":0,\"ticks\":\"\"}},\"type\":\"parcoords\"}],\"pie\":[{\"automargin\":true,\"type\":\"pie\"}],\"scatter\":[{\"marker\":{\"colorbar\":{\"outlinewidth\":0,\"ticks\":\"\"}},\"type\":\"scatter\"}],\"scatter3d\":[{\"line\":{\"colorbar\":{\"outlinewidth\":0,\"ticks\":\"\"}},\"marker\":{\"colorbar\":{\"outlinewidth\":0,\"ticks\":\"\"}},\"type\":\"scatter3d\"}],\"scattercarpet\":[{\"marker\":{\"colorbar\":{\"outlinewidth\":0,\"ticks\":\"\"}},\"type\":\"scattercarpet\"}],\"scattergeo\":[{\"marker\":{\"colorbar\":{\"outlinewidth\":0,\"ticks\":\"\"}},\"type\":\"scattergeo\"}],\"scattergl\":[{\"marker\":{\"colorbar\":{\"outlinewidth\":0,\"ticks\":\"\"}},\"type\":\"scattergl\"}],\"scattermapbox\":[{\"marker\":{\"colorbar\":{\"outlinewidth\":0,\"ticks\":\"\"}},\"type\":\"scattermapbox\"}],\"scatterpolar\":[{\"marker\":{\"colorbar\":{\"outlinewidth\":0,\"ticks\":\"\"}},\"type\":\"scatterpolar\"}],\"scatterpolargl\":[{\"marker\":{\"colorbar\":{\"outlinewidth\":0,\"ticks\":\"\"}},\"type\":\"scatterpolargl\"}],\"scatterternary\":[{\"marker\":{\"colorbar\":{\"outlinewidth\":0,\"ticks\":\"\"}},\"type\":\"scatterternary\"}],\"surface\":[{\"colorbar\":{\"outlinewidth\":0,\"ticks\":\"\"},\"colorscale\":[[0.0,\"#0d0887\"],[0.1111111111111111,\"#46039f\"],[0.2222222222222222,\"#7201a8\"],[0.3333333333333333,\"#9c179e\"],[0.4444444444444444,\"#bd3786\"],[0.5555555555555556,\"#d8576b\"],[0.6666666666666666,\"#ed7953\"],[0.7777777777777778,\"#fb9f3a\"],[0.8888888888888888,\"#fdca26\"],[1.0,\"#f0f921\"]],\"type\":\"surface\"}],\"table\":[{\"cells\":{\"fill\":{\"color\":\"#EBF0F8\"},\"line\":{\"color\":\"white\"}},\"header\":{\"fill\":{\"color\":\"#C8D4E3\"},\"line\":{\"color\":\"white\"}},\"type\":\"table\"}]},\"layout\":{\"annotationdefaults\":{\"arrowcolor\":\"#2a3f5f\",\"arrowhead\":0,\"arrowwidth\":1},\"autotypenumbers\":\"strict\",\"coloraxis\":{\"colorbar\":{\"outlinewidth\":0,\"ticks\":\"\"}},\"colorscale\":{\"diverging\":[[0,\"#8e0152\"],[0.1,\"#c51b7d\"],[0.2,\"#de77ae\"],[0.3,\"#f1b6da\"],[0.4,\"#fde0ef\"],[0.5,\"#f7f7f7\"],[0.6,\"#e6f5d0\"],[0.7,\"#b8e186\"],[0.8,\"#7fbc41\"],[0.9,\"#4d9221\"],[1,\"#276419\"]],\"sequential\":[[0.0,\"#0d0887\"],[0.1111111111111111,\"#46039f\"],[0.2222222222222222,\"#7201a8\"],[0.3333333333333333,\"#9c179e\"],[0.4444444444444444,\"#bd3786\"],[0.5555555555555556,\"#d8576b\"],[0.6666666666666666,\"#ed7953\"],[0.7777777777777778,\"#fb9f3a\"],[0.8888888888888888,\"#fdca26\"],[1.0,\"#f0f921\"]],\"sequentialminus\":[[0.0,\"#0d0887\"],[0.1111111111111111,\"#46039f\"],[0.2222222222222222,\"#7201a8\"],[0.3333333333333333,\"#9c179e\"],[0.4444444444444444,\"#bd3786\"],[0.5555555555555556,\"#d8576b\"],[0.6666666666666666,\"#ed7953\"],[0.7777777777777778,\"#fb9f3a\"],[0.8888888888888888,\"#fdca26\"],[1.0,\"#f0f921\"]]},\"colorway\":[\"#636efa\",\"#EF553B\",\"#00cc96\",\"#ab63fa\",\"#FFA15A\",\"#19d3f3\",\"#FF6692\",\"#B6E880\",\"#FF97FF\",\"#FECB52\"],\"font\":{\"color\":\"#2a3f5f\"},\"geo\":{\"bgcolor\":\"white\",\"lakecolor\":\"white\",\"landcolor\":\"#E5ECF6\",\"showlakes\":true,\"showland\":true,\"subunitcolor\":\"white\"},\"hoverlabel\":{\"align\":\"left\"},\"hovermode\":\"closest\",\"mapbox\":{\"style\":\"light\"},\"paper_bgcolor\":\"white\",\"plot_bgcolor\":\"#E5ECF6\",\"polar\":{\"angularaxis\":{\"gridcolor\":\"white\",\"linecolor\":\"white\",\"ticks\":\"\"},\"bgcolor\":\"#E5ECF6\",\"radialaxis\":{\"gridcolor\":\"white\",\"linecolor\":\"white\",\"ticks\":\"\"}},\"scene\":{\"xaxis\":{\"backgroundcolor\":\"#E5ECF6\",\"gridcolor\":\"white\",\"gridwidth\":2,\"linecolor\":\"white\",\"showbackground\":true,\"ticks\":\"\",\"zerolinecolor\":\"white\"},\"yaxis\":{\"backgroundcolor\":\"#E5ECF6\",\"gridcolor\":\"white\",\"gridwidth\":2,\"linecolor\":\"white\",\"showbackground\":true,\"ticks\":\"\",\"zerolinecolor\":\"white\"},\"zaxis\":{\"backgroundcolor\":\"#E5ECF6\",\"gridcolor\":\"white\",\"gridwidth\":2,\"linecolor\":\"white\",\"showbackground\":true,\"ticks\":\"\",\"zerolinecolor\":\"white\"}},\"shapedefaults\":{\"line\":{\"color\":\"#2a3f5f\"}},\"ternary\":{\"aaxis\":{\"gridcolor\":\"white\",\"linecolor\":\"white\",\"ticks\":\"\"},\"baxis\":{\"gridcolor\":\"white\",\"linecolor\":\"white\",\"ticks\":\"\"},\"bgcolor\":\"#E5ECF6\",\"caxis\":{\"gridcolor\":\"white\",\"linecolor\":\"white\",\"ticks\":\"\"}},\"title\":{\"x\":0.05},\"xaxis\":{\"automargin\":true,\"gridcolor\":\"white\",\"linecolor\":\"white\",\"ticks\":\"\",\"title\":{\"standoff\":15},\"zerolinecolor\":\"white\",\"zerolinewidth\":2},\"yaxis\":{\"automargin\":true,\"gridcolor\":\"white\",\"linecolor\":\"white\",\"ticks\":\"\",\"title\":{\"standoff\":15},\"zerolinecolor\":\"white\",\"zerolinewidth\":2}}},\"title\":{\"font\":{\"color\":\"#4D5663\"},\"text\":\"United States Temperature Anomalies\"},\"xaxis\":{\"gridcolor\":\"#E1E5ED\",\"showgrid\":true,\"tickfont\":{\"color\":\"#4D5663\"},\"title\":{\"font\":{\"color\":\"#4D5663\"},\"text\":\"Time (years)\"},\"zerolinecolor\":\"#E1E5ED\"},\"yaxis\":{\"gridcolor\":\"#E1E5ED\",\"showgrid\":true,\"tickfont\":{\"color\":\"#4D5663\"},\"title\":{\"font\":{\"color\":\"#4D5663\"},\"text\":\"Temperature Anomaly (\\u00b0Celsius)\"},\"zerolinecolor\":\"#E1E5ED\"}},                        {\"showLink\": true, \"linkText\": \"Export to plot.ly\", \"plotlyServerURL\": \"https://plot.ly\", \"responsive\": true}                    ).then(function(){\n",
       "                            \n",
       "var gd = document.getElementById('b5253b57-08fd-439d-91f0-9dffc1fbf2c8');\n",
       "var x = new MutationObserver(function (mutations, observer) {{\n",
       "        var display = window.getComputedStyle(gd).display;\n",
       "        if (!display || display === 'none') {{\n",
       "            console.log([gd, 'removed!']);\n",
       "            Plotly.purge(gd);\n",
       "            observer.disconnect();\n",
       "        }}\n",
       "}});\n",
       "\n",
       "// Listen for the removal of the full notebook cells\n",
       "var notebookContainer = gd.closest('#notebook-container');\n",
       "if (notebookContainer) {{\n",
       "    x.observe(notebookContainer, {childList: true});\n",
       "}}\n",
       "\n",
       "// Listen for the clearing of the current output cell\n",
       "var outputEl = gd.closest('.output');\n",
       "if (outputEl) {{\n",
       "    x.observe(outputEl, {childList: true});\n",
       "}}\n",
       "\n",
       "                        })                };                });            </script>        </div>"
      ]
     },
     "metadata": {},
     "output_type": "display_data"
    }
   ],
   "source": [
    "df_temp_resampled.iplot(kind=\"line\", xTitle=\"Time (years)\", yTitle=\"Temperature Anomaly (°Celsius)\", title=\"United States Temperature Anomalies\")"
   ]
  },
  {
   "cell_type": "code",
   "execution_count": 20,
   "id": "33e31d70",
   "metadata": {},
   "outputs": [],
   "source": [
    "US_data.to_csv(r\"C:\\Users\\akama\\OneDrive\\Desktop\\Data Science Bootcamp\\IshMe\\Capstone 3 - Time Series Analysis\\raw_data\\US_data.csv\", index= False)"
   ]
  },
  {
   "cell_type": "markdown",
   "id": "ed9cd163",
   "metadata": {},
   "source": [
    "## Dataset 2 - Data Wrangling"
   ]
  },
  {
   "cell_type": "code",
   "execution_count": 21,
   "id": "a6837db8",
   "metadata": {},
   "outputs": [],
   "source": [
    "# Filtering for \n",
    "CO_emissions = CO_emissions[(CO_emissions[\"country\"] == \"United States\") & ((CO_emissions[\"year\"] > 1957) & (CO_emissions[\"year\"] < 2014))]\n",
    "CO_emissions = CO_emissions.reset_index()\n",
    "CO_emissions.drop(columns=\"index\", inplace=True)"
   ]
  },
  {
   "cell_type": "code",
   "execution_count": 22,
   "id": "ceaff058",
   "metadata": {},
   "outputs": [
    {
     "data": {
      "text/html": [
       "<div>\n",
       "<style scoped>\n",
       "    .dataframe tbody tr th:only-of-type {\n",
       "        vertical-align: middle;\n",
       "    }\n",
       "\n",
       "    .dataframe tbody tr th {\n",
       "        vertical-align: top;\n",
       "    }\n",
       "\n",
       "    .dataframe thead th {\n",
       "        text-align: right;\n",
       "    }\n",
       "</style>\n",
       "<table border=\"1\" class=\"dataframe\">\n",
       "  <thead>\n",
       "    <tr style=\"text-align: right;\">\n",
       "      <th></th>\n",
       "      <th>iso_code</th>\n",
       "      <th>country</th>\n",
       "      <th>year</th>\n",
       "      <th>co2</th>\n",
       "      <th>consumption_co2</th>\n",
       "      <th>co2_growth_prct</th>\n",
       "      <th>co2_growth_abs</th>\n",
       "      <th>trade_co2</th>\n",
       "      <th>co2_per_capita</th>\n",
       "      <th>consumption_co2_per_capita</th>\n",
       "      <th>...</th>\n",
       "      <th>ghg_per_capita</th>\n",
       "      <th>methane</th>\n",
       "      <th>methane_per_capita</th>\n",
       "      <th>nitrous_oxide</th>\n",
       "      <th>nitrous_oxide_per_capita</th>\n",
       "      <th>population</th>\n",
       "      <th>gdp</th>\n",
       "      <th>primary_energy_consumption</th>\n",
       "      <th>energy_per_capita</th>\n",
       "      <th>energy_per_gdp</th>\n",
       "    </tr>\n",
       "  </thead>\n",
       "  <tbody>\n",
       "    <tr>\n",
       "      <th>0</th>\n",
       "      <td>USA</td>\n",
       "      <td>United States</td>\n",
       "      <td>1958</td>\n",
       "      <td>2740.357</td>\n",
       "      <td>NaN</td>\n",
       "      <td>-3.11</td>\n",
       "      <td>-87.954</td>\n",
       "      <td>NaN</td>\n",
       "      <td>15.158</td>\n",
       "      <td>NaN</td>\n",
       "      <td>...</td>\n",
       "      <td>NaN</td>\n",
       "      <td>NaN</td>\n",
       "      <td>NaN</td>\n",
       "      <td>NaN</td>\n",
       "      <td>NaN</td>\n",
       "      <td>180788387.0</td>\n",
       "      <td>2.963550e+12</td>\n",
       "      <td>NaN</td>\n",
       "      <td>NaN</td>\n",
       "      <td>NaN</td>\n",
       "    </tr>\n",
       "    <tr>\n",
       "      <th>1</th>\n",
       "      <td>USA</td>\n",
       "      <td>United States</td>\n",
       "      <td>1959</td>\n",
       "      <td>2823.005</td>\n",
       "      <td>NaN</td>\n",
       "      <td>3.02</td>\n",
       "      <td>82.647</td>\n",
       "      <td>NaN</td>\n",
       "      <td>15.360</td>\n",
       "      <td>NaN</td>\n",
       "      <td>...</td>\n",
       "      <td>NaN</td>\n",
       "      <td>NaN</td>\n",
       "      <td>NaN</td>\n",
       "      <td>NaN</td>\n",
       "      <td>NaN</td>\n",
       "      <td>183786249.0</td>\n",
       "      <td>3.183157e+12</td>\n",
       "      <td>NaN</td>\n",
       "      <td>NaN</td>\n",
       "      <td>NaN</td>\n",
       "    </tr>\n",
       "    <tr>\n",
       "      <th>2</th>\n",
       "      <td>USA</td>\n",
       "      <td>United States</td>\n",
       "      <td>1960</td>\n",
       "      <td>2887.820</td>\n",
       "      <td>NaN</td>\n",
       "      <td>2.30</td>\n",
       "      <td>64.816</td>\n",
       "      <td>NaN</td>\n",
       "      <td>15.466</td>\n",
       "      <td>NaN</td>\n",
       "      <td>...</td>\n",
       "      <td>NaN</td>\n",
       "      <td>NaN</td>\n",
       "      <td>NaN</td>\n",
       "      <td>NaN</td>\n",
       "      <td>NaN</td>\n",
       "      <td>186720570.0</td>\n",
       "      <td>3.262376e+12</td>\n",
       "      <td>NaN</td>\n",
       "      <td>NaN</td>\n",
       "      <td>NaN</td>\n",
       "    </tr>\n",
       "    <tr>\n",
       "      <th>3</th>\n",
       "      <td>USA</td>\n",
       "      <td>United States</td>\n",
       "      <td>1961</td>\n",
       "      <td>2877.370</td>\n",
       "      <td>NaN</td>\n",
       "      <td>-0.36</td>\n",
       "      <td>-10.451</td>\n",
       "      <td>NaN</td>\n",
       "      <td>15.178</td>\n",
       "      <td>NaN</td>\n",
       "      <td>...</td>\n",
       "      <td>NaN</td>\n",
       "      <td>NaN</td>\n",
       "      <td>NaN</td>\n",
       "      <td>NaN</td>\n",
       "      <td>NaN</td>\n",
       "      <td>189569850.0</td>\n",
       "      <td>3.338584e+12</td>\n",
       "      <td>NaN</td>\n",
       "      <td>NaN</td>\n",
       "      <td>NaN</td>\n",
       "    </tr>\n",
       "    <tr>\n",
       "      <th>4</th>\n",
       "      <td>USA</td>\n",
       "      <td>United States</td>\n",
       "      <td>1962</td>\n",
       "      <td>2984.002</td>\n",
       "      <td>NaN</td>\n",
       "      <td>3.71</td>\n",
       "      <td>106.632</td>\n",
       "      <td>NaN</td>\n",
       "      <td>15.516</td>\n",
       "      <td>NaN</td>\n",
       "      <td>...</td>\n",
       "      <td>NaN</td>\n",
       "      <td>NaN</td>\n",
       "      <td>NaN</td>\n",
       "      <td>NaN</td>\n",
       "      <td>NaN</td>\n",
       "      <td>192313747.0</td>\n",
       "      <td>3.539745e+12</td>\n",
       "      <td>NaN</td>\n",
       "      <td>NaN</td>\n",
       "      <td>NaN</td>\n",
       "    </tr>\n",
       "  </tbody>\n",
       "</table>\n",
       "<p>5 rows × 58 columns</p>\n",
       "</div>"
      ],
      "text/plain": [
       "  iso_code        country  year       co2  consumption_co2  co2_growth_prct  \\\n",
       "0      USA  United States  1958  2740.357              NaN            -3.11   \n",
       "1      USA  United States  1959  2823.005              NaN             3.02   \n",
       "2      USA  United States  1960  2887.820              NaN             2.30   \n",
       "3      USA  United States  1961  2877.370              NaN            -0.36   \n",
       "4      USA  United States  1962  2984.002              NaN             3.71   \n",
       "\n",
       "   co2_growth_abs  trade_co2  co2_per_capita  consumption_co2_per_capita  ...  \\\n",
       "0         -87.954        NaN          15.158                         NaN  ...   \n",
       "1          82.647        NaN          15.360                         NaN  ...   \n",
       "2          64.816        NaN          15.466                         NaN  ...   \n",
       "3         -10.451        NaN          15.178                         NaN  ...   \n",
       "4         106.632        NaN          15.516                         NaN  ...   \n",
       "\n",
       "   ghg_per_capita  methane  methane_per_capita  nitrous_oxide  \\\n",
       "0             NaN      NaN                 NaN            NaN   \n",
       "1             NaN      NaN                 NaN            NaN   \n",
       "2             NaN      NaN                 NaN            NaN   \n",
       "3             NaN      NaN                 NaN            NaN   \n",
       "4             NaN      NaN                 NaN            NaN   \n",
       "\n",
       "   nitrous_oxide_per_capita   population           gdp  \\\n",
       "0                       NaN  180788387.0  2.963550e+12   \n",
       "1                       NaN  183786249.0  3.183157e+12   \n",
       "2                       NaN  186720570.0  3.262376e+12   \n",
       "3                       NaN  189569850.0  3.338584e+12   \n",
       "4                       NaN  192313747.0  3.539745e+12   \n",
       "\n",
       "   primary_energy_consumption  energy_per_capita  energy_per_gdp  \n",
       "0                         NaN                NaN             NaN  \n",
       "1                         NaN                NaN             NaN  \n",
       "2                         NaN                NaN             NaN  \n",
       "3                         NaN                NaN             NaN  \n",
       "4                         NaN                NaN             NaN  \n",
       "\n",
       "[5 rows x 58 columns]"
      ]
     },
     "execution_count": 22,
     "metadata": {},
     "output_type": "execute_result"
    }
   ],
   "source": [
    "CO_emissions.head()"
   ]
  },
  {
   "cell_type": "code",
   "execution_count": 23,
   "id": "c6694ea3",
   "metadata": {},
   "outputs": [],
   "source": [
    "# Checking percentage of NaN values per column\n",
    "CO_emissions.isna().sum() * 100 / len(CO_emissions)\n",
    "\n",
    "# Copying columns with less than 50% NaN values\n",
    "add_columns = CO_emissions[[\"primary_energy_consumption\", \"energy_per_capita\", \"energy_per_gdp\"]]\n",
    "\n",
    "# Dropping and rejoining DFs\n",
    "CO_emissionsDropNA = CO_emissions.dropna(axis=1)\n",
    "CO_emissionsDropNA = CO_emissionsDropNA.join(add_columns)\n",
    "CO_emissions = CO_emissionsDropNA"
   ]
  },
  {
   "cell_type": "code",
   "execution_count": 24,
   "id": "22446fa5",
   "metadata": {},
   "outputs": [],
   "source": [
    "# Checking percentage of NaN values per column\n",
    "CO_emissions.isna().sum() * 100 / len(CO_emissions)\n",
    "\n",
    "# Copying columns with less than 50% NaN values\n",
    "add_columns = CO_emissions[[\"primary_energy_consumption\", \"energy_per_capita\", \"energy_per_gdp\"]]\n",
    "\n",
    "# Dropping and rejoining DFs\n",
    "CO_emissionsDropNA = CO_emissions.dropna(axis=1)\n",
    "CO_emissionsDropNA = CO_emissionsDropNA.join(add_columns)\n",
    "CO_emissions = CO_emissionsDropNA"
   ]
  },
  {
   "cell_type": "code",
   "execution_count": 25,
   "id": "bf69827f",
   "metadata": {},
   "outputs": [],
   "source": [
    "CO_emissions = CO_emissions[(CO_emissions[\"country\"] == \"United States\") & ((CO_emissions[\"year\"] > 1957) & (CO_emissions[\"year\"] < 2014))]\n",
    "CO_emissions = CO_emissions.reset_index()\n",
    "CO_emissions.drop(columns=\"index\", inplace=True)"
   ]
  },
  {
   "cell_type": "code",
   "execution_count": 26,
   "id": "61618cd9",
   "metadata": {},
   "outputs": [
    {
     "data": {
      "text/html": [
       "<div>\n",
       "<style scoped>\n",
       "    .dataframe tbody tr th:only-of-type {\n",
       "        vertical-align: middle;\n",
       "    }\n",
       "\n",
       "    .dataframe tbody tr th {\n",
       "        vertical-align: top;\n",
       "    }\n",
       "\n",
       "    .dataframe thead th {\n",
       "        text-align: right;\n",
       "    }\n",
       "</style>\n",
       "<table border=\"1\" class=\"dataframe\">\n",
       "  <thead>\n",
       "    <tr style=\"text-align: right;\">\n",
       "      <th></th>\n",
       "      <th>iso_code</th>\n",
       "      <th>country</th>\n",
       "      <th>year</th>\n",
       "      <th>co2</th>\n",
       "      <th>co2_growth_prct</th>\n",
       "      <th>co2_growth_abs</th>\n",
       "      <th>co2_per_capita</th>\n",
       "      <th>share_global_co2</th>\n",
       "      <th>cumulative_co2</th>\n",
       "      <th>share_global_cumulative_co2</th>\n",
       "      <th>...</th>\n",
       "      <th>share_global_cumulative_cement_co2</th>\n",
       "      <th>share_global_cumulative_coal_co2</th>\n",
       "      <th>share_global_cumulative_flaring_co2</th>\n",
       "      <th>share_global_cumulative_gas_co2</th>\n",
       "      <th>share_global_cumulative_oil_co2</th>\n",
       "      <th>population</th>\n",
       "      <th>gdp</th>\n",
       "      <th>primary_energy_consumption</th>\n",
       "      <th>energy_per_capita</th>\n",
       "      <th>energy_per_gdp</th>\n",
       "    </tr>\n",
       "  </thead>\n",
       "  <tbody>\n",
       "    <tr>\n",
       "      <th>0</th>\n",
       "      <td>USA</td>\n",
       "      <td>United States</td>\n",
       "      <td>1958</td>\n",
       "      <td>2740.357</td>\n",
       "      <td>-3.11</td>\n",
       "      <td>-87.954</td>\n",
       "      <td>15.158</td>\n",
       "      <td>32.58</td>\n",
       "      <td>113406.447</td>\n",
       "      <td>39.30</td>\n",
       "      <td>...</td>\n",
       "      <td>36.13</td>\n",
       "      <td>33.62</td>\n",
       "      <td>47.23</td>\n",
       "      <td>89.10</td>\n",
       "      <td>58.23</td>\n",
       "      <td>180788387.0</td>\n",
       "      <td>2.963550e+12</td>\n",
       "      <td>NaN</td>\n",
       "      <td>NaN</td>\n",
       "      <td>NaN</td>\n",
       "    </tr>\n",
       "    <tr>\n",
       "      <th>1</th>\n",
       "      <td>USA</td>\n",
       "      <td>United States</td>\n",
       "      <td>1959</td>\n",
       "      <td>2823.005</td>\n",
       "      <td>3.02</td>\n",
       "      <td>82.647</td>\n",
       "      <td>15.360</td>\n",
       "      <td>31.90</td>\n",
       "      <td>116229.452</td>\n",
       "      <td>39.08</td>\n",
       "      <td>...</td>\n",
       "      <td>35.00</td>\n",
       "      <td>33.30</td>\n",
       "      <td>45.83</td>\n",
       "      <td>88.26</td>\n",
       "      <td>57.33</td>\n",
       "      <td>183786249.0</td>\n",
       "      <td>3.183157e+12</td>\n",
       "      <td>NaN</td>\n",
       "      <td>NaN</td>\n",
       "      <td>NaN</td>\n",
       "    </tr>\n",
       "    <tr>\n",
       "      <th>2</th>\n",
       "      <td>USA</td>\n",
       "      <td>United States</td>\n",
       "      <td>1960</td>\n",
       "      <td>2887.820</td>\n",
       "      <td>2.30</td>\n",
       "      <td>64.816</td>\n",
       "      <td>15.466</td>\n",
       "      <td>30.94</td>\n",
       "      <td>119117.272</td>\n",
       "      <td>38.83</td>\n",
       "      <td>...</td>\n",
       "      <td>33.76</td>\n",
       "      <td>32.98</td>\n",
       "      <td>44.76</td>\n",
       "      <td>87.27</td>\n",
       "      <td>56.34</td>\n",
       "      <td>186720570.0</td>\n",
       "      <td>3.262376e+12</td>\n",
       "      <td>NaN</td>\n",
       "      <td>NaN</td>\n",
       "      <td>NaN</td>\n",
       "    </tr>\n",
       "    <tr>\n",
       "      <th>3</th>\n",
       "      <td>USA</td>\n",
       "      <td>United States</td>\n",
       "      <td>1961</td>\n",
       "      <td>2877.370</td>\n",
       "      <td>-0.36</td>\n",
       "      <td>-10.451</td>\n",
       "      <td>15.178</td>\n",
       "      <td>30.75</td>\n",
       "      <td>121994.642</td>\n",
       "      <td>38.59</td>\n",
       "      <td>...</td>\n",
       "      <td>32.58</td>\n",
       "      <td>32.68</td>\n",
       "      <td>43.79</td>\n",
       "      <td>86.12</td>\n",
       "      <td>55.30</td>\n",
       "      <td>189569850.0</td>\n",
       "      <td>3.338584e+12</td>\n",
       "      <td>NaN</td>\n",
       "      <td>NaN</td>\n",
       "      <td>NaN</td>\n",
       "    </tr>\n",
       "    <tr>\n",
       "      <th>4</th>\n",
       "      <td>USA</td>\n",
       "      <td>United States</td>\n",
       "      <td>1962</td>\n",
       "      <td>2984.002</td>\n",
       "      <td>3.71</td>\n",
       "      <td>106.632</td>\n",
       "      <td>15.516</td>\n",
       "      <td>30.80</td>\n",
       "      <td>124978.644</td>\n",
       "      <td>38.36</td>\n",
       "      <td>...</td>\n",
       "      <td>31.44</td>\n",
       "      <td>32.41</td>\n",
       "      <td>42.52</td>\n",
       "      <td>84.87</td>\n",
       "      <td>54.22</td>\n",
       "      <td>192313747.0</td>\n",
       "      <td>3.539745e+12</td>\n",
       "      <td>NaN</td>\n",
       "      <td>NaN</td>\n",
       "      <td>NaN</td>\n",
       "    </tr>\n",
       "  </tbody>\n",
       "</table>\n",
       "<p>5 rows × 41 columns</p>\n",
       "</div>"
      ],
      "text/plain": [
       "  iso_code        country  year       co2  co2_growth_prct  co2_growth_abs  \\\n",
       "0      USA  United States  1958  2740.357            -3.11         -87.954   \n",
       "1      USA  United States  1959  2823.005             3.02          82.647   \n",
       "2      USA  United States  1960  2887.820             2.30          64.816   \n",
       "3      USA  United States  1961  2877.370            -0.36         -10.451   \n",
       "4      USA  United States  1962  2984.002             3.71         106.632   \n",
       "\n",
       "   co2_per_capita  share_global_co2  cumulative_co2  \\\n",
       "0          15.158             32.58      113406.447   \n",
       "1          15.360             31.90      116229.452   \n",
       "2          15.466             30.94      119117.272   \n",
       "3          15.178             30.75      121994.642   \n",
       "4          15.516             30.80      124978.644   \n",
       "\n",
       "   share_global_cumulative_co2  ...  share_global_cumulative_cement_co2  \\\n",
       "0                        39.30  ...                               36.13   \n",
       "1                        39.08  ...                               35.00   \n",
       "2                        38.83  ...                               33.76   \n",
       "3                        38.59  ...                               32.58   \n",
       "4                        38.36  ...                               31.44   \n",
       "\n",
       "   share_global_cumulative_coal_co2  share_global_cumulative_flaring_co2  \\\n",
       "0                             33.62                                47.23   \n",
       "1                             33.30                                45.83   \n",
       "2                             32.98                                44.76   \n",
       "3                             32.68                                43.79   \n",
       "4                             32.41                                42.52   \n",
       "\n",
       "   share_global_cumulative_gas_co2  share_global_cumulative_oil_co2  \\\n",
       "0                            89.10                            58.23   \n",
       "1                            88.26                            57.33   \n",
       "2                            87.27                            56.34   \n",
       "3                            86.12                            55.30   \n",
       "4                            84.87                            54.22   \n",
       "\n",
       "    population           gdp  primary_energy_consumption  energy_per_capita  \\\n",
       "0  180788387.0  2.963550e+12                         NaN                NaN   \n",
       "1  183786249.0  3.183157e+12                         NaN                NaN   \n",
       "2  186720570.0  3.262376e+12                         NaN                NaN   \n",
       "3  189569850.0  3.338584e+12                         NaN                NaN   \n",
       "4  192313747.0  3.539745e+12                         NaN                NaN   \n",
       "\n",
       "   energy_per_gdp  \n",
       "0             NaN  \n",
       "1             NaN  \n",
       "2             NaN  \n",
       "3             NaN  \n",
       "4             NaN  \n",
       "\n",
       "[5 rows x 41 columns]"
      ]
     },
     "execution_count": 26,
     "metadata": {},
     "output_type": "execute_result"
    }
   ],
   "source": [
    "CO_emissions.head()"
   ]
  },
  {
   "cell_type": "code",
   "execution_count": 27,
   "id": "72ac7099",
   "metadata": {},
   "outputs": [
    {
     "name": "stdout",
     "output_type": "stream",
     "text": [
      "iso_code                               0\n",
      "country                                0\n",
      "year                                   0\n",
      "co2                                    0\n",
      "co2_growth_prct                        0\n",
      "co2_growth_abs                         0\n",
      "co2_per_capita                         0\n",
      "share_global_co2                       0\n",
      "cumulative_co2                         0\n",
      "share_global_cumulative_co2            0\n",
      "co2_per_gdp                            0\n",
      "coal_co2                               0\n",
      "cement_co2                             0\n",
      "flaring_co2                            0\n",
      "gas_co2                                0\n",
      "oil_co2                                0\n",
      "cement_co2_per_capita                  0\n",
      "coal_co2_per_capita                    0\n",
      "flaring_co2_per_capita                 0\n",
      "gas_co2_per_capita                     0\n",
      "oil_co2_per_capita                     0\n",
      "share_global_cement_co2                0\n",
      "share_global_coal_co2                  0\n",
      "share_global_flaring_co2               0\n",
      "share_global_gas_co2                   0\n",
      "share_global_oil_co2                   0\n",
      "cumulative_cement_co2                  0\n",
      "cumulative_coal_co2                    0\n",
      "cumulative_flaring_co2                 0\n",
      "cumulative_gas_co2                     0\n",
      "cumulative_oil_co2                     0\n",
      "share_global_cumulative_cement_co2     0\n",
      "share_global_cumulative_coal_co2       0\n",
      "share_global_cumulative_flaring_co2    0\n",
      "share_global_cumulative_gas_co2        0\n",
      "share_global_cumulative_oil_co2        0\n",
      "population                             0\n",
      "gdp                                    0\n",
      "primary_energy_consumption             7\n",
      "energy_per_capita                      7\n",
      "energy_per_gdp                         7\n",
      "dtype: int64\n"
     ]
    }
   ],
   "source": [
    "print(CO_emissions.isna().sum())"
   ]
  },
  {
   "cell_type": "code",
   "execution_count": 28,
   "id": "d067f57d",
   "metadata": {},
   "outputs": [],
   "source": [
    "columns=['iso_code', 'co2_growth_prct', 'co2_growth_abs', 'cumulative_co2', 'cumulative_cement_co2', 'cumulative_coal_co2', \n",
    "         'cumulative_flaring_co2', 'cumulative_gas_co2', 'cumulative_oil_co2', 'share_global_cumulative_co2', \n",
    "         'share_global_cumulative_cement_co2', 'share_global_cumulative_coal_co2', 'share_global_cumulative_flaring_co2', \n",
    "         'share_global_cumulative_gas_co2', 'share_global_cumulative_oil_co2', 'primary_energy_consumption', 'energy_per_capita', \n",
    "         'energy_per_gdp']"
   ]
  },
  {
   "cell_type": "code",
   "execution_count": 29,
   "id": "d3d6001e",
   "metadata": {},
   "outputs": [],
   "source": [
    "CO_emissions.drop(columns=columns, inplace=True)"
   ]
  },
  {
   "cell_type": "code",
   "execution_count": 30,
   "id": "2ac9c9b9",
   "metadata": {},
   "outputs": [
    {
     "name": "stdout",
     "output_type": "stream",
     "text": [
      "country                     0\n",
      "year                        0\n",
      "co2                         0\n",
      "co2_per_capita              0\n",
      "share_global_co2            0\n",
      "co2_per_gdp                 0\n",
      "coal_co2                    0\n",
      "cement_co2                  0\n",
      "flaring_co2                 0\n",
      "gas_co2                     0\n",
      "oil_co2                     0\n",
      "cement_co2_per_capita       0\n",
      "coal_co2_per_capita         0\n",
      "flaring_co2_per_capita      0\n",
      "gas_co2_per_capita          0\n",
      "oil_co2_per_capita          0\n",
      "share_global_cement_co2     0\n",
      "share_global_coal_co2       0\n",
      "share_global_flaring_co2    0\n",
      "share_global_gas_co2        0\n",
      "share_global_oil_co2        0\n",
      "population                  0\n",
      "gdp                         0\n",
      "dtype: int64\n"
     ]
    }
   ],
   "source": [
    "print(CO_emissions.isna().sum())"
   ]
  },
  {
   "cell_type": "code",
   "execution_count": 31,
   "id": "02999b22",
   "metadata": {},
   "outputs": [],
   "source": [
    "CO_emissions.fillna(method=\"bfill\", inplace=True)"
   ]
  },
  {
   "cell_type": "code",
   "execution_count": 32,
   "id": "b13cf571",
   "metadata": {},
   "outputs": [],
   "source": [
    "CO_emissions['year'] = pd.to_datetime(CO_emissions.year, format='%Y')\n",
    "CO_emissions.drop(columns='country', inplace=True)\n",
    "CO_emissions.set_index('year', inplace=True)"
   ]
  },
  {
   "cell_type": "code",
   "execution_count": 33,
   "id": "3d495cc1",
   "metadata": {},
   "outputs": [
    {
     "data": {
      "text/html": [
       "<div>\n",
       "<style scoped>\n",
       "    .dataframe tbody tr th:only-of-type {\n",
       "        vertical-align: middle;\n",
       "    }\n",
       "\n",
       "    .dataframe tbody tr th {\n",
       "        vertical-align: top;\n",
       "    }\n",
       "\n",
       "    .dataframe thead th {\n",
       "        text-align: right;\n",
       "    }\n",
       "</style>\n",
       "<table border=\"1\" class=\"dataframe\">\n",
       "  <thead>\n",
       "    <tr style=\"text-align: right;\">\n",
       "      <th></th>\n",
       "      <th>co2</th>\n",
       "      <th>co2_per_capita</th>\n",
       "      <th>share_global_co2</th>\n",
       "      <th>co2_per_gdp</th>\n",
       "      <th>coal_co2</th>\n",
       "      <th>cement_co2</th>\n",
       "      <th>flaring_co2</th>\n",
       "      <th>gas_co2</th>\n",
       "      <th>oil_co2</th>\n",
       "      <th>cement_co2_per_capita</th>\n",
       "      <th>...</th>\n",
       "      <th>flaring_co2_per_capita</th>\n",
       "      <th>gas_co2_per_capita</th>\n",
       "      <th>oil_co2_per_capita</th>\n",
       "      <th>share_global_cement_co2</th>\n",
       "      <th>share_global_coal_co2</th>\n",
       "      <th>share_global_flaring_co2</th>\n",
       "      <th>share_global_gas_co2</th>\n",
       "      <th>share_global_oil_co2</th>\n",
       "      <th>population</th>\n",
       "      <th>gdp</th>\n",
       "    </tr>\n",
       "    <tr>\n",
       "      <th>year</th>\n",
       "      <th></th>\n",
       "      <th></th>\n",
       "      <th></th>\n",
       "      <th></th>\n",
       "      <th></th>\n",
       "      <th></th>\n",
       "      <th></th>\n",
       "      <th></th>\n",
       "      <th></th>\n",
       "      <th></th>\n",
       "      <th></th>\n",
       "      <th></th>\n",
       "      <th></th>\n",
       "      <th></th>\n",
       "      <th></th>\n",
       "      <th></th>\n",
       "      <th></th>\n",
       "      <th></th>\n",
       "      <th></th>\n",
       "      <th></th>\n",
       "      <th></th>\n",
       "    </tr>\n",
       "  </thead>\n",
       "  <tbody>\n",
       "    <tr>\n",
       "      <th>1958-01-01</th>\n",
       "      <td>2740.357</td>\n",
       "      <td>15.158</td>\n",
       "      <td>32.58</td>\n",
       "      <td>0.925</td>\n",
       "      <td>888.344</td>\n",
       "      <td>27.169</td>\n",
       "      <td>34.097</td>\n",
       "      <td>570.701</td>\n",
       "      <td>1220.046</td>\n",
       "      <td>0.150</td>\n",
       "      <td>...</td>\n",
       "      <td>0.189</td>\n",
       "      <td>3.157</td>\n",
       "      <td>6.748</td>\n",
       "      <td>20.84</td>\n",
       "      <td>18.70</td>\n",
       "      <td>35.85</td>\n",
       "      <td>80.76</td>\n",
       "      <td>44.70</td>\n",
       "      <td>180788387.0</td>\n",
       "      <td>2.963550e+12</td>\n",
       "    </tr>\n",
       "    <tr>\n",
       "      <th>1959-01-01</th>\n",
       "      <td>2823.005</td>\n",
       "      <td>15.360</td>\n",
       "      <td>31.90</td>\n",
       "      <td>0.887</td>\n",
       "      <td>910.978</td>\n",
       "      <td>29.604</td>\n",
       "      <td>30.756</td>\n",
       "      <td>593.210</td>\n",
       "      <td>1258.457</td>\n",
       "      <td>0.161</td>\n",
       "      <td>...</td>\n",
       "      <td>0.167</td>\n",
       "      <td>3.228</td>\n",
       "      <td>6.847</td>\n",
       "      <td>20.28</td>\n",
       "      <td>18.43</td>\n",
       "      <td>33.54</td>\n",
       "      <td>78.13</td>\n",
       "      <td>43.28</td>\n",
       "      <td>183786249.0</td>\n",
       "      <td>3.183157e+12</td>\n",
       "    </tr>\n",
       "    <tr>\n",
       "      <th>1960-01-01</th>\n",
       "      <td>2887.820</td>\n",
       "      <td>15.466</td>\n",
       "      <td>30.94</td>\n",
       "      <td>0.885</td>\n",
       "      <td>917.964</td>\n",
       "      <td>27.885</td>\n",
       "      <td>30.316</td>\n",
       "      <td>630.025</td>\n",
       "      <td>1281.631</td>\n",
       "      <td>0.149</td>\n",
       "      <td>...</td>\n",
       "      <td>0.162</td>\n",
       "      <td>3.374</td>\n",
       "      <td>6.864</td>\n",
       "      <td>17.77</td>\n",
       "      <td>17.89</td>\n",
       "      <td>34.01</td>\n",
       "      <td>75.42</td>\n",
       "      <td>41.04</td>\n",
       "      <td>186720570.0</td>\n",
       "      <td>3.262376e+12</td>\n",
       "    </tr>\n",
       "    <tr>\n",
       "      <th>1961-01-01</th>\n",
       "      <td>2877.370</td>\n",
       "      <td>15.178</td>\n",
       "      <td>30.75</td>\n",
       "      <td>0.862</td>\n",
       "      <td>887.443</td>\n",
       "      <td>27.998</td>\n",
       "      <td>28.198</td>\n",
       "      <td>636.415</td>\n",
       "      <td>1297.316</td>\n",
       "      <td>0.148</td>\n",
       "      <td>...</td>\n",
       "      <td>0.149</td>\n",
       "      <td>3.357</td>\n",
       "      <td>6.844</td>\n",
       "      <td>16.92</td>\n",
       "      <td>18.05</td>\n",
       "      <td>32.71</td>\n",
       "      <td>72.09</td>\n",
       "      <td>39.24</td>\n",
       "      <td>189569850.0</td>\n",
       "      <td>3.338584e+12</td>\n",
       "    </tr>\n",
       "    <tr>\n",
       "      <th>1962-01-01</th>\n",
       "      <td>2984.002</td>\n",
       "      <td>15.516</td>\n",
       "      <td>30.80</td>\n",
       "      <td>0.843</td>\n",
       "      <td>920.818</td>\n",
       "      <td>29.147</td>\n",
       "      <td>22.922</td>\n",
       "      <td>676.367</td>\n",
       "      <td>1334.748</td>\n",
       "      <td>0.152</td>\n",
       "      <td>...</td>\n",
       "      <td>0.119</td>\n",
       "      <td>3.517</td>\n",
       "      <td>6.940</td>\n",
       "      <td>16.40</td>\n",
       "      <td>18.79</td>\n",
       "      <td>26.67</td>\n",
       "      <td>69.82</td>\n",
       "      <td>37.56</td>\n",
       "      <td>192313747.0</td>\n",
       "      <td>3.539745e+12</td>\n",
       "    </tr>\n",
       "  </tbody>\n",
       "</table>\n",
       "<p>5 rows × 21 columns</p>\n",
       "</div>"
      ],
      "text/plain": [
       "                 co2  co2_per_capita  share_global_co2  co2_per_gdp  coal_co2  \\\n",
       "year                                                                            \n",
       "1958-01-01  2740.357          15.158             32.58        0.925   888.344   \n",
       "1959-01-01  2823.005          15.360             31.90        0.887   910.978   \n",
       "1960-01-01  2887.820          15.466             30.94        0.885   917.964   \n",
       "1961-01-01  2877.370          15.178             30.75        0.862   887.443   \n",
       "1962-01-01  2984.002          15.516             30.80        0.843   920.818   \n",
       "\n",
       "            cement_co2  flaring_co2  gas_co2   oil_co2  cement_co2_per_capita  \\\n",
       "year                                                                            \n",
       "1958-01-01      27.169       34.097  570.701  1220.046                  0.150   \n",
       "1959-01-01      29.604       30.756  593.210  1258.457                  0.161   \n",
       "1960-01-01      27.885       30.316  630.025  1281.631                  0.149   \n",
       "1961-01-01      27.998       28.198  636.415  1297.316                  0.148   \n",
       "1962-01-01      29.147       22.922  676.367  1334.748                  0.152   \n",
       "\n",
       "            ...  flaring_co2_per_capita  gas_co2_per_capita  \\\n",
       "year        ...                                               \n",
       "1958-01-01  ...                   0.189               3.157   \n",
       "1959-01-01  ...                   0.167               3.228   \n",
       "1960-01-01  ...                   0.162               3.374   \n",
       "1961-01-01  ...                   0.149               3.357   \n",
       "1962-01-01  ...                   0.119               3.517   \n",
       "\n",
       "            oil_co2_per_capita  share_global_cement_co2  \\\n",
       "year                                                      \n",
       "1958-01-01               6.748                    20.84   \n",
       "1959-01-01               6.847                    20.28   \n",
       "1960-01-01               6.864                    17.77   \n",
       "1961-01-01               6.844                    16.92   \n",
       "1962-01-01               6.940                    16.40   \n",
       "\n",
       "            share_global_coal_co2  share_global_flaring_co2  \\\n",
       "year                                                          \n",
       "1958-01-01                  18.70                     35.85   \n",
       "1959-01-01                  18.43                     33.54   \n",
       "1960-01-01                  17.89                     34.01   \n",
       "1961-01-01                  18.05                     32.71   \n",
       "1962-01-01                  18.79                     26.67   \n",
       "\n",
       "            share_global_gas_co2  share_global_oil_co2   population  \\\n",
       "year                                                                  \n",
       "1958-01-01                 80.76                 44.70  180788387.0   \n",
       "1959-01-01                 78.13                 43.28  183786249.0   \n",
       "1960-01-01                 75.42                 41.04  186720570.0   \n",
       "1961-01-01                 72.09                 39.24  189569850.0   \n",
       "1962-01-01                 69.82                 37.56  192313747.0   \n",
       "\n",
       "                     gdp  \n",
       "year                      \n",
       "1958-01-01  2.963550e+12  \n",
       "1959-01-01  3.183157e+12  \n",
       "1960-01-01  3.262376e+12  \n",
       "1961-01-01  3.338584e+12  \n",
       "1962-01-01  3.539745e+12  \n",
       "\n",
       "[5 rows x 21 columns]"
      ]
     },
     "execution_count": 33,
     "metadata": {},
     "output_type": "execute_result"
    }
   ],
   "source": [
    "CO_emissions.head()"
   ]
  },
  {
   "cell_type": "code",
   "execution_count": 34,
   "id": "8d939907",
   "metadata": {},
   "outputs": [
    {
     "data": {
      "text/plain": [
       "Text(0, 0.5, 'Carbon Emissions Per Capita')"
      ]
     },
     "execution_count": 34,
     "metadata": {},
     "output_type": "execute_result"
    },
    {
     "data": {
      "image/png": "[encoded data removed]",
      "text/plain": [
       "<Figure size 1080x720 with 1 Axes>"
      ]
     },
     "metadata": {
      "needs_background": "light"
     },
     "output_type": "display_data"
    }
   ],
   "source": [
    "df_emissions = pd.DataFrame(CO_emissions, columns=[\"coal_co2_per_capita\", \"cement_co2_per_capita\", \n",
    "                                                  \"flaring_co2_per_capita\", \"gas_co2_per_capita\",\n",
    "                                                  \"oil_co2_per_capita\"])\n",
    "df_emissions.plot(figsize=(15, 10))\n",
    "plt.xlabel(\"Time (Yearly)\")\n",
    "plt.ylabel(\"Carbon Emissions Per Capita\")"
   ]
  },
  {
   "cell_type": "code",
   "execution_count": 35,
   "id": "5de92d37",
   "metadata": {},
   "outputs": [
    {
     "data": {
      "application/vnd.plotly.v1+json": {
       "config": {
        "linkText": "Export to plot.ly",
        "plotlyServerURL": "https://plot.ly",
        "showLink": true
       },
       "data": [
        {
         "line": {
          "color": "rgba(255, 153, 51, 1.0)",
          "dash": "solid",
          "shape": "linear",
          "width": 1.3
         },
         "mode": "lines",
         "name": "coal_co2_per_capita",
         "text": "",
         "type": "scatter",
         "x": [
          "1958-01-01",
          "1959-01-01",
          "1960-01-01",
          "1961-01-01",
          "1962-01-01",
          "1963-01-01",
          "1964-01-01",
          "1965-01-01",
          "1966-01-01",
          "1967-01-01",
          "1968-01-01",
          "1969-01-01",
          "1970-01-01",
          "1971-01-01",
          "1972-01-01",
          "1973-01-01",
          "1974-01-01",
          "1975-01-01",
          "1976-01-01",
          "1977-01-01",
          "1978-01-01",
          "1979-01-01",
          "1980-01-01",
          "1981-01-01",
          "1982-01-01",
          "1983-01-01",
          "1984-01-01",
          "1985-01-01",
          "1986-01-01",
          "1987-01-01",
          "1988-01-01",
          "1989-01-01",
          "1990-01-01",
          "1991-01-01",
          "1992-01-01",
          "1993-01-01",
          "1994-01-01",
          "1995-01-01",
          "1996-01-01",
          "1997-01-01",
          "1998-01-01",
          "1999-01-01",
          "2000-01-01",
          "2001-01-01",
          "2002-01-01",
          "2003-01-01",
          "2004-01-01",
          "2005-01-01",
          "2006-01-01",
          "2007-01-01",
          "2008-01-01",
          "2009-01-01",
          "2010-01-01",
          "2011-01-01",
          "2012-01-01",
          "2013-01-01"
         ],
         "y": [
          4.914,
          4.957,
          4.916,
          4.681,
          4.788,
          5.063,
          5.315,
          5.46,
          5.61,
          5.704,
          5.537,
          5.576,
          5.575,
          5.239,
          5.274,
          5.626,
          5.51,
          5.255,
          5.764,
          5.778,
          6.071,
          6.223,
          6.362,
          6.426,
          6.147,
          6.426,
          6.657,
          6.764,
          6.543,
          6.859,
          7.11,
          7.195,
          7.296,
          7.17,
          7.19,
          7.343,
          7.316,
          7.318,
          7.536,
          7.6,
          7.606,
          7.535,
          7.739,
          7.424,
          7.371,
          7.442,
          7.494,
          7.504,
          7.325,
          7.335,
          7.154,
          6.21,
          6.506,
          6.101,
          5.358,
          5.498
         ]
        },
        {
         "line": {
          "color": "rgba(55, 128, 191, 1.0)",
          "dash": "solid",
          "shape": "linear",
          "width": 1.3
         },
         "mode": "lines",
         "name": "cement_co2_per_capita",
         "text": "",
         "type": "scatter",
         "x": [
          "1958-01-01",
          "1959-01-01",
          "1960-01-01",
          "1961-01-01",
          "1962-01-01",
          "1963-01-01",
          "1964-01-01",
          "1965-01-01",
          "1966-01-01",
          "1967-01-01",
          "1968-01-01",
          "1969-01-01",
          "1970-01-01",
          "1971-01-01",
          "1972-01-01",
          "1973-01-01",
          "1974-01-01",
          "1975-01-01",
          "1976-01-01",
          "1977-01-01",
          "1978-01-01",
          "1979-01-01",
          "1980-01-01",
          "1981-01-01",
          "1982-01-01",
          "1983-01-01",
          "1984-01-01",
          "1985-01-01",
          "1986-01-01",
          "1987-01-01",
          "1988-01-01",
          "1989-01-01",
          "1990-01-01",
          "1991-01-01",
          "1992-01-01",
          "1993-01-01",
          "1994-01-01",
          "1995-01-01",
          "1996-01-01",
          "1997-01-01",
          "1998-01-01",
          "1999-01-01",
          "2000-01-01",
          "2001-01-01",
          "2002-01-01",
          "2003-01-01",
          "2004-01-01",
          "2005-01-01",
          "2006-01-01",
          "2007-01-01",
          "2008-01-01",
          "2009-01-01",
          "2010-01-01",
          "2011-01-01",
          "2012-01-01",
          "2013-01-01"
         ],
         "y": [
          0.15,
          0.161,
          0.149,
          0.148,
          0.152,
          0.157,
          0.163,
          0.166,
          0.17,
          0.164,
          0.171,
          0.171,
          0.162,
          0.163,
          0.166,
          0.166,
          0.164,
          0.135,
          0.143,
          0.148,
          0.154,
          0.154,
          0.14,
          0.135,
          0.119,
          0.126,
          0.136,
          0.129,
          0.133,
          0.132,
          0.131,
          0.13,
          0.133,
          0.129,
          0.128,
          0.134,
          0.138,
          0.14,
          0.139,
          0.142,
          0.143,
          0.144,
          0.147,
          0.146,
          0.15,
          0.15,
          0.157,
          0.157,
          0.157,
          0.151,
          0.136,
          0.097,
          0.102,
          0.103,
          0.112,
          0.115
         ]
        },
        {
         "line": {
          "color": "rgba(50, 171, 96, 1.0)",
          "dash": "solid",
          "shape": "linear",
          "width": 1.3
         },
         "mode": "lines",
         "name": "flaring_co2_per_capita",
         "text": "",
         "type": "scatter",
         "x": [
          "1958-01-01",
          "1959-01-01",
          "1960-01-01",
          "1961-01-01",
          "1962-01-01",
          "1963-01-01",
          "1964-01-01",
          "1965-01-01",
          "1966-01-01",
          "1967-01-01",
          "1968-01-01",
          "1969-01-01",
          "1970-01-01",
          "1971-01-01",
          "1972-01-01",
          "1973-01-01",
          "1974-01-01",
          "1975-01-01",
          "1976-01-01",
          "1977-01-01",
          "1978-01-01",
          "1979-01-01",
          "1980-01-01",
          "1981-01-01",
          "1982-01-01",
          "1983-01-01",
          "1984-01-01",
          "1985-01-01",
          "1986-01-01",
          "1987-01-01",
          "1988-01-01",
          "1989-01-01",
          "1990-01-01",
          "1991-01-01",
          "1992-01-01",
          "1993-01-01",
          "1994-01-01",
          "1995-01-01",
          "1996-01-01",
          "1997-01-01",
          "1998-01-01",
          "1999-01-01",
          "2000-01-01",
          "2001-01-01",
          "2002-01-01",
          "2003-01-01",
          "2004-01-01",
          "2005-01-01",
          "2006-01-01",
          "2007-01-01",
          "2008-01-01",
          "2009-01-01",
          "2010-01-01",
          "2011-01-01",
          "2012-01-01",
          "2013-01-01"
         ],
         "y": [
          0.189,
          0.167,
          0.162,
          0.149,
          0.119,
          0.106,
          0.093,
          0.086,
          0.1,
          0.129,
          0.135,
          0.136,
          0.125,
          0.072,
          0.062,
          0.061,
          0.041,
          0.032,
          0.033,
          0.032,
          0.036,
          0.039,
          0.029,
          0.023,
          0.021,
          0.022,
          0.024,
          0.021,
          0.022,
          0.027,
          0.031,
          0.03,
          0.166,
          0.162,
          0.16,
          0.158,
          0.156,
          0.149,
          0.142,
          0.141,
          0.131,
          0.129,
          0.129,
          0.127,
          0.128,
          0.126,
          0.127,
          0.127,
          0.128,
          0.128,
          0.132,
          0.128,
          0.135,
          0.148,
          0.157,
          0.174
         ]
        },
        {
         "line": {
          "color": "rgba(128, 0, 128, 1.0)",
          "dash": "solid",
          "shape": "linear",
          "width": 1.3
         },
         "mode": "lines",
         "name": "gas_co2_per_capita",
         "text": "",
         "type": "scatter",
         "x": [
          "1958-01-01",
          "1959-01-01",
          "1960-01-01",
          "1961-01-01",
          "1962-01-01",
          "1963-01-01",
          "1964-01-01",
          "1965-01-01",
          "1966-01-01",
          "1967-01-01",
          "1968-01-01",
          "1969-01-01",
          "1970-01-01",
          "1971-01-01",
          "1972-01-01",
          "1973-01-01",
          "1974-01-01",
          "1975-01-01",
          "1976-01-01",
          "1977-01-01",
          "1978-01-01",
          "1979-01-01",
          "1980-01-01",
          "1981-01-01",
          "1982-01-01",
          "1983-01-01",
          "1984-01-01",
          "1985-01-01",
          "1986-01-01",
          "1987-01-01",
          "1988-01-01",
          "1989-01-01",
          "1990-01-01",
          "1991-01-01",
          "1992-01-01",
          "1993-01-01",
          "1994-01-01",
          "1995-01-01",
          "1996-01-01",
          "1997-01-01",
          "1998-01-01",
          "1999-01-01",
          "2000-01-01",
          "2001-01-01",
          "2002-01-01",
          "2003-01-01",
          "2004-01-01",
          "2005-01-01",
          "2006-01-01",
          "2007-01-01",
          "2008-01-01",
          "2009-01-01",
          "2010-01-01",
          "2011-01-01",
          "2012-01-01",
          "2013-01-01"
         ],
         "y": [
          3.157,
          3.228,
          3.374,
          3.357,
          3.517,
          3.686,
          3.845,
          3.918,
          4.172,
          4.322,
          4.55,
          4.903,
          5.056,
          5.189,
          5.231,
          5.128,
          4.846,
          4.465,
          4.498,
          4.315,
          4.352,
          4.465,
          4.363,
          4.187,
          3.861,
          3.633,
          3.72,
          3.576,
          3.364,
          3.53,
          3.665,
          3.758,
          4.096,
          4.149,
          4.243,
          4.308,
          4.366,
          4.502,
          4.525,
          4.499,
          4.362,
          4.321,
          4.463,
          4.231,
          4.331,
          4.177,
          4.163,
          4.064,
          3.971,
          4.184,
          4.177,
          4.073,
          4.235,
          4.26,
          4.42,
          4.512
         ]
        },
        {
         "line": {
          "color": "rgba(219, 64, 82, 1.0)",
          "dash": "solid",
          "shape": "linear",
          "width": 1.3
         },
         "mode": "lines",
         "name": "oil_co2_per_capita",
         "text": "",
         "type": "scatter",
         "x": [
          "1958-01-01",
          "1959-01-01",
          "1960-01-01",
          "1961-01-01",
          "1962-01-01",
          "1963-01-01",
          "1964-01-01",
          "1965-01-01",
          "1966-01-01",
          "1967-01-01",
          "1968-01-01",
          "1969-01-01",
          "1970-01-01",
          "1971-01-01",
          "1972-01-01",
          "1973-01-01",
          "1974-01-01",
          "1975-01-01",
          "1976-01-01",
          "1977-01-01",
          "1978-01-01",
          "1979-01-01",
          "1980-01-01",
          "1981-01-01",
          "1982-01-01",
          "1983-01-01",
          "1984-01-01",
          "1985-01-01",
          "1986-01-01",
          "1987-01-01",
          "1988-01-01",
          "1989-01-01",
          "1990-01-01",
          "1991-01-01",
          "1992-01-01",
          "1993-01-01",
          "1994-01-01",
          "1995-01-01",
          "1996-01-01",
          "1997-01-01",
          "1998-01-01",
          "1999-01-01",
          "2000-01-01",
          "2001-01-01",
          "2002-01-01",
          "2003-01-01",
          "2004-01-01",
          "2005-01-01",
          "2006-01-01",
          "2007-01-01",
          "2008-01-01",
          "2009-01-01",
          "2010-01-01",
          "2011-01-01",
          "2012-01-01",
          "2013-01-01"
         ],
         "y": [
          6.748,
          6.847,
          6.864,
          6.844,
          6.94,
          6.973,
          7.061,
          7.333,
          7.576,
          7.794,
          8.209,
          8.58,
          9.728,
          9.922,
          10.64,
          11.151,
          10.593,
          10.2,
          10.401,
          10.947,
          11.067,
          10.646,
          9.66,
          8.788,
          8.25,
          8.163,
          8.217,
          8.156,
          8.424,
          8.554,
          8.812,
          8.7,
          8.554,
          8.251,
          8.354,
          8.326,
          8.435,
          8.299,
          8.521,
          8.506,
          8.552,
          8.697,
          8.72,
          8.713,
          8.614,
          8.692,
          8.858,
          8.838,
          8.64,
          8.49,
          7.85,
          7.338,
          7.363,
          7.155,
          6.949,
          7.032
         ]
        }
       ],
       "layout": {
        "legend": {
         "bgcolor": "#F5F6F9",
         "font": {
          "color": "#4D5663"
         }
        },
        "paper_bgcolor": "#F5F6F9",
        "plot_bgcolor": "#F5F6F9",
        "template": {
         "data": {
          "bar": [
           {
            "error_x": {
             "color": "#2a3f5f"
            },
            "error_y": {
             "color": "#2a3f5f"
            },
            "marker": {
             "line": {
              "color": "#E5ECF6",
              "width": 0.5
             },
             "pattern": {
              "fillmode": "overlay",
              "size": 10,
              "solidity": 0.2
             }
            },
            "type": "bar"
           }
          ],
          "barpolar": [
           {
            "marker": {
             "line": {
              "color": "#E5ECF6",
              "width": 0.5
             },
             "pattern": {
              "fillmode": "overlay",
              "size": 10,
              "solidity": 0.2
             }
            },
            "type": "barpolar"
           }
          ],
          "carpet": [
           {
            "aaxis": {
             "endlinecolor": "#2a3f5f",
             "gridcolor": "white",
             "linecolor": "white",
             "minorgridcolor": "white",
             "startlinecolor": "#2a3f5f"
            },
            "baxis": {
             "endlinecolor": "#2a3f5f",
             "gridcolor": "white",
             "linecolor": "white",
             "minorgridcolor": "white",
             "startlinecolor": "#2a3f5f"
            },
            "type": "carpet"
           }
          ],
          "choropleth": [
           {
            "colorbar": {
             "outlinewidth": 0,
             "ticks": ""
            },
            "type": "choropleth"
           }
          ],
          "contour": [
           {
            "colorbar": {
             "outlinewidth": 0,
             "ticks": ""
            },
            "colorscale": [
             [
              0,
              "#0d0887"
             ],
             [
              0.1111111111111111,
              "#46039f"
             ],
             [
              0.2222222222222222,
              "#7201a8"
             ],
             [
              0.3333333333333333,
              "#9c179e"
             ],
             [
              0.4444444444444444,
              "#bd3786"
             ],
             [
              0.5555555555555556,
              "#d8576b"
             ],
             [
              0.6666666666666666,
              "#ed7953"
             ],
             [
              0.7777777777777778,
              "#fb9f3a"
             ],
             [
              0.8888888888888888,
              "#fdca26"
             ],
             [
              1,
              "#f0f921"
             ]
            ],
            "type": "contour"
           }
          ],
          "contourcarpet": [
           {
            "colorbar": {
             "outlinewidth": 0,
             "ticks": ""
            },
            "type": "contourcarpet"
           }
          ],
          "heatmap": [
           {
            "colorbar": {
             "outlinewidth": 0,
             "ticks": ""
            },
            "colorscale": [
             [
              0,
              "#0d0887"
             ],
             [
              0.1111111111111111,
              "#46039f"
             ],
             [
              0.2222222222222222,
              "#7201a8"
             ],
             [
              0.3333333333333333,
              "#9c179e"
             ],
             [
              0.4444444444444444,
              "#bd3786"
             ],
             [
              0.5555555555555556,
              "#d8576b"
             ],
             [
              0.6666666666666666,
              "#ed7953"
             ],
             [
              0.7777777777777778,
              "#fb9f3a"
             ],
             [
              0.8888888888888888,
              "#fdca26"
             ],
             [
              1,
              "#f0f921"
             ]
            ],
            "type": "heatmap"
           }
          ],
          "heatmapgl": [
           {
            "colorbar": {
             "outlinewidth": 0,
             "ticks": ""
            },
            "colorscale": [
             [
              0,
              "#0d0887"
             ],
             [
              0.1111111111111111,
              "#46039f"
             ],
             [
              0.2222222222222222,
              "#7201a8"
             ],
             [
              0.3333333333333333,
              "#9c179e"
             ],
             [
              0.4444444444444444,
              "#bd3786"
             ],
             [
              0.5555555555555556,
              "#d8576b"
             ],
             [
              0.6666666666666666,
              "#ed7953"
             ],
             [
              0.7777777777777778,
              "#fb9f3a"
             ],
             [
              0.8888888888888888,
              "#fdca26"
             ],
             [
              1,
              "#f0f921"
             ]
            ],
            "type": "heatmapgl"
           }
          ],
          "histogram": [
           {
            "marker": {
             "pattern": {
              "fillmode": "overlay",
              "size": 10,
              "solidity": 0.2
             }
            },
            "type": "histogram"
           }
          ],
          "histogram2d": [
           {
            "colorbar": {
             "outlinewidth": 0,
             "ticks": ""
            },
            "colorscale": [
             [
              0,
              "#0d0887"
             ],
             [
              0.1111111111111111,
              "#46039f"
             ],
             [
              0.2222222222222222,
              "#7201a8"
             ],
             [
              0.3333333333333333,
              "#9c179e"
             ],
             [
              0.4444444444444444,
              "#bd3786"
             ],
             [
              0.5555555555555556,
              "#d8576b"
             ],
             [
              0.6666666666666666,
              "#ed7953"
             ],
             [
              0.7777777777777778,
              "#fb9f3a"
             ],
             [
              0.8888888888888888,
              "#fdca26"
             ],
             [
              1,
              "#f0f921"
             ]
            ],
            "type": "histogram2d"
           }
          ],
          "histogram2dcontour": [
           {
            "colorbar": {
             "outlinewidth": 0,
             "ticks": ""
            },
            "colorscale": [
             [
              0,
              "#0d0887"
             ],
             [
              0.1111111111111111,
              "#46039f"
             ],
             [
              0.2222222222222222,
              "#7201a8"
             ],
             [
              0.3333333333333333,
              "#9c179e"
             ],
             [
              0.4444444444444444,
              "#bd3786"
             ],
             [
              0.5555555555555556,
              "#d8576b"
             ],
             [
              0.6666666666666666,
              "#ed7953"
             ],
             [
              0.7777777777777778,
              "#fb9f3a"
             ],
             [
              0.8888888888888888,
              "#fdca26"
             ],
             [
              1,
              "#f0f921"
             ]
            ],
            "type": "histogram2dcontour"
           }
          ],
          "mesh3d": [
           {
            "colorbar": {
             "outlinewidth": 0,
             "ticks": ""
            },
            "type": "mesh3d"
           }
          ],
          "parcoords": [
           {
            "line": {
             "colorbar": {
              "outlinewidth": 0,
              "ticks": ""
             }
            },
            "type": "parcoords"
           }
          ],
          "pie": [
           {
            "automargin": true,
            "type": "pie"
           }
          ],
          "scatter": [
           {
            "marker": {
             "colorbar": {
              "outlinewidth": 0,
              "ticks": ""
             }
            },
            "type": "scatter"
           }
          ],
          "scatter3d": [
           {
            "line": {
             "colorbar": {
              "outlinewidth": 0,
              "ticks": ""
             }
            },
            "marker": {
             "colorbar": {
              "outlinewidth": 0,
              "ticks": ""
             }
            },
            "type": "scatter3d"
           }
          ],
          "scattercarpet": [
           {
            "marker": {
             "colorbar": {
              "outlinewidth": 0,
              "ticks": ""
             }
            },
            "type": "scattercarpet"
           }
          ],
          "scattergeo": [
           {
            "marker": {
             "colorbar": {
              "outlinewidth": 0,
              "ticks": ""
             }
            },
            "type": "scattergeo"
           }
          ],
          "scattergl": [
           {
            "marker": {
             "colorbar": {
              "outlinewidth": 0,
              "ticks": ""
             }
            },
            "type": "scattergl"
           }
          ],
          "scattermapbox": [
           {
            "marker": {
             "colorbar": {
              "outlinewidth": 0,
              "ticks": ""
             }
            },
            "type": "scattermapbox"
           }
          ],
          "scatterpolar": [
           {
            "marker": {
             "colorbar": {
              "outlinewidth": 0,
              "ticks": ""
             }
            },
            "type": "scatterpolar"
           }
          ],
          "scatterpolargl": [
           {
            "marker": {
             "colorbar": {
              "outlinewidth": 0,
              "ticks": ""
             }
            },
            "type": "scatterpolargl"
           }
          ],
          "scatterternary": [
           {
            "marker": {
             "colorbar": {
              "outlinewidth": 0,
              "ticks": ""
             }
            },
            "type": "scatterternary"
           }
          ],
          "surface": [
           {
            "colorbar": {
             "outlinewidth": 0,
             "ticks": ""
            },
            "colorscale": [
             [
              0,
              "#0d0887"
             ],
             [
              0.1111111111111111,
              "#46039f"
             ],
             [
              0.2222222222222222,
              "#7201a8"
             ],
             [
              0.3333333333333333,
              "#9c179e"
             ],
             [
              0.4444444444444444,
              "#bd3786"
             ],
             [
              0.5555555555555556,
              "#d8576b"
             ],
             [
              0.6666666666666666,
              "#ed7953"
             ],
             [
              0.7777777777777778,
              "#fb9f3a"
             ],
             [
              0.8888888888888888,
              "#fdca26"
             ],
             [
              1,
              "#f0f921"
             ]
            ],
            "type": "surface"
           }
          ],
          "table": [
           {
            "cells": {
             "fill": {
              "color": "#EBF0F8"
             },
             "line": {
              "color": "white"
             }
            },
            "header": {
             "fill": {
              "color": "#C8D4E3"
             },
             "line": {
              "color": "white"
             }
            },
            "type": "table"
           }
          ]
         },
         "layout": {
          "annotationdefaults": {
           "arrowcolor": "#2a3f5f",
           "arrowhead": 0,
           "arrowwidth": 1
          },
          "autotypenumbers": "strict",
          "coloraxis": {
           "colorbar": {
            "outlinewidth": 0,
            "ticks": ""
           }
          },
          "colorscale": {
           "diverging": [
            [
             0,
             "#8e0152"
            ],
            [
             0.1,
             "#c51b7d"
            ],
            [
             0.2,
             "#de77ae"
            ],
            [
             0.3,
             "#f1b6da"
            ],
            [
             0.4,
             "#fde0ef"
            ],
            [
             0.5,
             "#f7f7f7"
            ],
            [
             0.6,
             "#e6f5d0"
            ],
            [
             0.7,
             "#b8e186"
            ],
            [
             0.8,
             "#7fbc41"
            ],
            [
             0.9,
             "#4d9221"
            ],
            [
             1,
             "#276419"
            ]
           ],
           "sequential": [
            [
             0,
             "#0d0887"
            ],
            [
             0.1111111111111111,
             "#46039f"
            ],
            [
             0.2222222222222222,
             "#7201a8"
            ],
            [
             0.3333333333333333,
             "#9c179e"
            ],
            [
             0.4444444444444444,
             "#bd3786"
            ],
            [
             0.5555555555555556,
             "#d8576b"
            ],
            [
             0.6666666666666666,
             "#ed7953"
            ],
            [
             0.7777777777777778,
             "#fb9f3a"
            ],
            [
             0.8888888888888888,
             "#fdca26"
            ],
            [
             1,
             "#f0f921"
            ]
           ],
           "sequentialminus": [
            [
             0,
             "#0d0887"
            ],
            [
             0.1111111111111111,
             "#46039f"
            ],
            [
             0.2222222222222222,
             "#7201a8"
            ],
            [
             0.3333333333333333,
             "#9c179e"
            ],
            [
             0.4444444444444444,
             "#bd3786"
            ],
            [
             0.5555555555555556,
             "#d8576b"
            ],
            [
             0.6666666666666666,
             "#ed7953"
            ],
            [
             0.7777777777777778,
             "#fb9f3a"
            ],
            [
             0.8888888888888888,
             "#fdca26"
            ],
            [
             1,
             "#f0f921"
            ]
           ]
          },
          "colorway": [
           "#636efa",
           "#EF553B",
           "#00cc96",
           "#ab63fa",
           "#FFA15A",
           "#19d3f3",
           "#FF6692",
           "#B6E880",
           "#FF97FF",
           "#FECB52"
          ],
          "font": {
           "color": "#2a3f5f"
          },
          "geo": {
           "bgcolor": "white",
           "lakecolor": "white",
           "landcolor": "#E5ECF6",
           "showlakes": true,
           "showland": true,
           "subunitcolor": "white"
          },
          "hoverlabel": {
           "align": "left"
          },
          "hovermode": "closest",
          "mapbox": {
           "style": "light"
          },
          "paper_bgcolor": "white",
          "plot_bgcolor": "#E5ECF6",
          "polar": {
           "angularaxis": {
            "gridcolor": "white",
            "linecolor": "white",
            "ticks": ""
           },
           "bgcolor": "#E5ECF6",
           "radialaxis": {
            "gridcolor": "white",
            "linecolor": "white",
            "ticks": ""
           }
          },
          "scene": {
           "xaxis": {
            "backgroundcolor": "#E5ECF6",
            "gridcolor": "white",
            "gridwidth": 2,
            "linecolor": "white",
            "showbackground": true,
            "ticks": "",
            "zerolinecolor": "white"
           },
           "yaxis": {
            "backgroundcolor": "#E5ECF6",
            "gridcolor": "white",
            "gridwidth": 2,
            "linecolor": "white",
            "showbackground": true,
            "ticks": "",
            "zerolinecolor": "white"
           },
           "zaxis": {
            "backgroundcolor": "#E5ECF6",
            "gridcolor": "white",
            "gridwidth": 2,
            "linecolor": "white",
            "showbackground": true,
            "ticks": "",
            "zerolinecolor": "white"
           }
          },
          "shapedefaults": {
           "line": {
            "color": "#2a3f5f"
           }
          },
          "ternary": {
           "aaxis": {
            "gridcolor": "white",
            "linecolor": "white",
            "ticks": ""
           },
           "baxis": {
            "gridcolor": "white",
            "linecolor": "white",
            "ticks": ""
           },
           "bgcolor": "#E5ECF6",
           "caxis": {
            "gridcolor": "white",
            "linecolor": "white",
            "ticks": ""
           }
          },
          "title": {
           "x": 0.05
          },
          "xaxis": {
           "automargin": true,
           "gridcolor": "white",
           "linecolor": "white",
           "ticks": "",
           "title": {
            "standoff": 15
           },
           "zerolinecolor": "white",
           "zerolinewidth": 2
          },
          "yaxis": {
           "automargin": true,
           "gridcolor": "white",
           "linecolor": "white",
           "ticks": "",
           "title": {
            "standoff": 15
           },
           "zerolinecolor": "white",
           "zerolinewidth": 2
          }
         }
        },
        "title": {
         "font": {
          "color": "#4D5663"
         },
         "text": "Global CO2 Emissions over Time"
        },
        "xaxis": {
         "gridcolor": "#E1E5ED",
         "showgrid": true,
         "tickfont": {
          "color": "#4D5663"
         },
         "title": {
          "font": {
           "color": "#4D5663"
          },
          "text": "Time (years)"
         },
         "zerolinecolor": "#E1E5ED"
        },
        "yaxis": {
         "gridcolor": "#E1E5ED",
         "showgrid": true,
         "tickfont": {
          "color": "#4D5663"
         },
         "title": {
          "font": {
           "color": "#4D5663"
          },
          "text": "Emissions (Metric Tons per Capita)"
         },
         "zerolinecolor": "#E1E5ED"
        }
       }
      },
      "text/html": [
       "<div>                            <div id=\"67937988-120c-43f6-b0d7-b31b9e4b38dd\" class=\"plotly-graph-div\" style=\"height:525px; width:100%;\"></div>            <script type=\"text/javascript\">                require([\"plotly\"], function(Plotly) {                    window.PLOTLYENV=window.PLOTLYENV || {};\n",
       "                    window.PLOTLYENV.BASE_URL='https://plot.ly';                                    if (document.getElementById(\"67937988-120c-43f6-b0d7-b31b9e4b38dd\")) {                    Plotly.newPlot(                        \"67937988-120c-43f6-b0d7-b31b9e4b38dd\",                        [{\"line\":{\"color\":\"rgba(255, 153, 51, 1.0)\",\"dash\":\"solid\",\"shape\":\"linear\",\"width\":1.3},\"mode\":\"lines\",\"name\":\"coal_co2_per_capita\",\"text\":\"\",\"type\":\"scatter\",\"x\":[\"1958-01-01\",\"1959-01-01\",\"1960-01-01\",\"1961-01-01\",\"1962-01-01\",\"1963-01-01\",\"1964-01-01\",\"1965-01-01\",\"1966-01-01\",\"1967-01-01\",\"1968-01-01\",\"1969-01-01\",\"1970-01-01\",\"1971-01-01\",\"1972-01-01\",\"1973-01-01\",\"1974-01-01\",\"1975-01-01\",\"1976-01-01\",\"1977-01-01\",\"1978-01-01\",\"1979-01-01\",\"1980-01-01\",\"1981-01-01\",\"1982-01-01\",\"1983-01-01\",\"1984-01-01\",\"1985-01-01\",\"1986-01-01\",\"1987-01-01\",\"1988-01-01\",\"1989-01-01\",\"1990-01-01\",\"1991-01-01\",\"1992-01-01\",\"1993-01-01\",\"1994-01-01\",\"1995-01-01\",\"1996-01-01\",\"1997-01-01\",\"1998-01-01\",\"1999-01-01\",\"2000-01-01\",\"2001-01-01\",\"2002-01-01\",\"2003-01-01\",\"2004-01-01\",\"2005-01-01\",\"2006-01-01\",\"2007-01-01\",\"2008-01-01\",\"2009-01-01\",\"2010-01-01\",\"2011-01-01\",\"2012-01-01\",\"2013-01-01\"],\"y\":[4.914,4.957,4.916,4.681,4.788,5.063,5.315,5.46,5.61,5.704,5.537,5.576,5.575,5.239,5.274,5.626,5.51,5.255,5.764,5.778,6.071,6.223,6.362,6.426,6.147,6.426,6.657,6.764,6.543,6.859,7.11,7.195,7.296,7.17,7.19,7.343,7.316,7.318,7.536,7.6,7.606,7.535,7.739,7.424,7.371,7.442,7.494,7.504,7.325,7.335,7.154,6.21,6.506,6.101,5.358,5.498]},{\"line\":{\"color\":\"rgba(55, 128, 191, 1.0)\",\"dash\":\"solid\",\"shape\":\"linear\",\"width\":1.3},\"mode\":\"lines\",\"name\":\"cement_co2_per_capita\",\"text\":\"\",\"type\":\"scatter\",\"x\":[\"1958-01-01\",\"1959-01-01\",\"1960-01-01\",\"1961-01-01\",\"1962-01-01\",\"1963-01-01\",\"1964-01-01\",\"1965-01-01\",\"1966-01-01\",\"1967-01-01\",\"1968-01-01\",\"1969-01-01\",\"1970-01-01\",\"1971-01-01\",\"1972-01-01\",\"1973-01-01\",\"1974-01-01\",\"1975-01-01\",\"1976-01-01\",\"1977-01-01\",\"1978-01-01\",\"1979-01-01\",\"1980-01-01\",\"1981-01-01\",\"1982-01-01\",\"1983-01-01\",\"1984-01-01\",\"1985-01-01\",\"1986-01-01\",\"1987-01-01\",\"1988-01-01\",\"1989-01-01\",\"1990-01-01\",\"1991-01-01\",\"1992-01-01\",\"1993-01-01\",\"1994-01-01\",\"1995-01-01\",\"1996-01-01\",\"1997-01-01\",\"1998-01-01\",\"1999-01-01\",\"2000-01-01\",\"2001-01-01\",\"2002-01-01\",\"2003-01-01\",\"2004-01-01\",\"2005-01-01\",\"2006-01-01\",\"2007-01-01\",\"2008-01-01\",\"2009-01-01\",\"2010-01-01\",\"2011-01-01\",\"2012-01-01\",\"2013-01-01\"],\"y\":[0.15,0.161,0.149,0.148,0.152,0.157,0.163,0.166,0.17,0.164,0.171,0.171,0.162,0.163,0.166,0.166,0.164,0.135,0.143,0.148,0.154,0.154,0.14,0.135,0.119,0.126,0.136,0.129,0.133,0.132,0.131,0.13,0.133,0.129,0.128,0.134,0.138,0.14,0.139,0.142,0.143,0.144,0.147,0.146,0.15,0.15,0.157,0.157,0.157,0.151,0.136,0.097,0.102,0.103,0.112,0.115]},{\"line\":{\"color\":\"rgba(50, 171, 96, 1.0)\",\"dash\":\"solid\",\"shape\":\"linear\",\"width\":1.3},\"mode\":\"lines\",\"name\":\"flaring_co2_per_capita\",\"text\":\"\",\"type\":\"scatter\",\"x\":[\"1958-01-01\",\"1959-01-01\",\"1960-01-01\",\"1961-01-01\",\"1962-01-01\",\"1963-01-01\",\"1964-01-01\",\"1965-01-01\",\"1966-01-01\",\"1967-01-01\",\"1968-01-01\",\"1969-01-01\",\"1970-01-01\",\"1971-01-01\",\"1972-01-01\",\"1973-01-01\",\"1974-01-01\",\"1975-01-01\",\"1976-01-01\",\"1977-01-01\",\"1978-01-01\",\"1979-01-01\",\"1980-01-01\",\"1981-01-01\",\"1982-01-01\",\"1983-01-01\",\"1984-01-01\",\"1985-01-01\",\"1986-01-01\",\"1987-01-01\",\"1988-01-01\",\"1989-01-01\",\"1990-01-01\",\"1991-01-01\",\"1992-01-01\",\"1993-01-01\",\"1994-01-01\",\"1995-01-01\",\"1996-01-01\",\"1997-01-01\",\"1998-01-01\",\"1999-01-01\",\"2000-01-01\",\"2001-01-01\",\"2002-01-01\",\"2003-01-01\",\"2004-01-01\",\"2005-01-01\",\"2006-01-01\",\"2007-01-01\",\"2008-01-01\",\"2009-01-01\",\"2010-01-01\",\"2011-01-01\",\"2012-01-01\",\"2013-01-01\"],\"y\":[0.189,0.167,0.162,0.149,0.119,0.106,0.093,0.086,0.1,0.129,0.135,0.136,0.125,0.072,0.062,0.061,0.041,0.032,0.033,0.032,0.036,0.039,0.029,0.023,0.021,0.022,0.024,0.021,0.022,0.027,0.031,0.03,0.166,0.162,0.16,0.158,0.156,0.149,0.142,0.141,0.131,0.129,0.129,0.127,0.128,0.126,0.127,0.127,0.128,0.128,0.132,0.128,0.135,0.148,0.157,0.174]},{\"line\":{\"color\":\"rgba(128, 0, 128, 1.0)\",\"dash\":\"solid\",\"shape\":\"linear\",\"width\":1.3},\"mode\":\"lines\",\"name\":\"gas_co2_per_capita\",\"text\":\"\",\"type\":\"scatter\",\"x\":[\"1958-01-01\",\"1959-01-01\",\"1960-01-01\",\"1961-01-01\",\"1962-01-01\",\"1963-01-01\",\"1964-01-01\",\"1965-01-01\",\"1966-01-01\",\"1967-01-01\",\"1968-01-01\",\"1969-01-01\",\"1970-01-01\",\"1971-01-01\",\"1972-01-01\",\"1973-01-01\",\"1974-01-01\",\"1975-01-01\",\"1976-01-01\",\"1977-01-01\",\"1978-01-01\",\"1979-01-01\",\"1980-01-01\",\"1981-01-01\",\"1982-01-01\",\"1983-01-01\",\"1984-01-01\",\"1985-01-01\",\"1986-01-01\",\"1987-01-01\",\"1988-01-01\",\"1989-01-01\",\"1990-01-01\",\"1991-01-01\",\"1992-01-01\",\"1993-01-01\",\"1994-01-01\",\"1995-01-01\",\"1996-01-01\",\"1997-01-01\",\"1998-01-01\",\"1999-01-01\",\"2000-01-01\",\"2001-01-01\",\"2002-01-01\",\"2003-01-01\",\"2004-01-01\",\"2005-01-01\",\"2006-01-01\",\"2007-01-01\",\"2008-01-01\",\"2009-01-01\",\"2010-01-01\",\"2011-01-01\",\"2012-01-01\",\"2013-01-01\"],\"y\":[3.157,3.228,3.374,3.357,3.517,3.686,3.845,3.918,4.172,4.322,4.55,4.903,5.056,5.189,5.231,5.128,4.846,4.465,4.498,4.315,4.352,4.465,4.363,4.187,3.861,3.633,3.72,3.576,3.364,3.53,3.665,3.758,4.096,4.149,4.243,4.308,4.366,4.502,4.525,4.499,4.362,4.321,4.463,4.231,4.331,4.177,4.163,4.064,3.971,4.184,4.177,4.073,4.235,4.26,4.42,4.512]},{\"line\":{\"color\":\"rgba(219, 64, 82, 1.0)\",\"dash\":\"solid\",\"shape\":\"linear\",\"width\":1.3},\"mode\":\"lines\",\"name\":\"oil_co2_per_capita\",\"text\":\"\",\"type\":\"scatter\",\"x\":[\"1958-01-01\",\"1959-01-01\",\"1960-01-01\",\"1961-01-01\",\"1962-01-01\",\"1963-01-01\",\"1964-01-01\",\"1965-01-01\",\"1966-01-01\",\"1967-01-01\",\"1968-01-01\",\"1969-01-01\",\"1970-01-01\",\"1971-01-01\",\"1972-01-01\",\"1973-01-01\",\"1974-01-01\",\"1975-01-01\",\"1976-01-01\",\"1977-01-01\",\"1978-01-01\",\"1979-01-01\",\"1980-01-01\",\"1981-01-01\",\"1982-01-01\",\"1983-01-01\",\"1984-01-01\",\"1985-01-01\",\"1986-01-01\",\"1987-01-01\",\"1988-01-01\",\"1989-01-01\",\"1990-01-01\",\"1991-01-01\",\"1992-01-01\",\"1993-01-01\",\"1994-01-01\",\"1995-01-01\",\"1996-01-01\",\"1997-01-01\",\"1998-01-01\",\"1999-01-01\",\"2000-01-01\",\"2001-01-01\",\"2002-01-01\",\"2003-01-01\",\"2004-01-01\",\"2005-01-01\",\"2006-01-01\",\"2007-01-01\",\"2008-01-01\",\"2009-01-01\",\"2010-01-01\",\"2011-01-01\",\"2012-01-01\",\"2013-01-01\"],\"y\":[6.748,6.847,6.864,6.844,6.94,6.973,7.061,7.333,7.576,7.794,8.209,8.58,9.728,9.922,10.64,11.151,10.593,10.2,10.401,10.947,11.067,10.646,9.66,8.788,8.25,8.163,8.217,8.156,8.424,8.554,8.812,8.7,8.554,8.251,8.354,8.326,8.435,8.299,8.521,8.506,8.552,8.697,8.72,8.713,8.614,8.692,8.858,8.838,8.64,8.49,7.85,7.338,7.363,7.155,6.949,7.032]}],                        {\"legend\":{\"bgcolor\":\"#F5F6F9\",\"font\":{\"color\":\"#4D5663\"}},\"paper_bgcolor\":\"#F5F6F9\",\"plot_bgcolor\":\"#F5F6F9\",\"template\":{\"data\":{\"bar\":[{\"error_x\":{\"color\":\"#2a3f5f\"},\"error_y\":{\"color\":\"#2a3f5f\"},\"marker\":{\"line\":{\"color\":\"#E5ECF6\",\"width\":0.5},\"pattern\":{\"fillmode\":\"overlay\",\"size\":10,\"solidity\":0.2}},\"type\":\"bar\"}],\"barpolar\":[{\"marker\":{\"line\":{\"color\":\"#E5ECF6\",\"width\":0.5},\"pattern\":{\"fillmode\":\"overlay\",\"size\":10,\"solidity\":0.2}},\"type\":\"barpolar\"}],\"carpet\":[{\"aaxis\":{\"endlinecolor\":\"#2a3f5f\",\"gridcolor\":\"white\",\"linecolor\":\"white\",\"minorgridcolor\":\"white\",\"startlinecolor\":\"#2a3f5f\"},\"baxis\":{\"endlinecolor\":\"#2a3f5f\",\"gridcolor\":\"white\",\"linecolor\":\"white\",\"minorgridcolor\":\"white\",\"startlinecolor\":\"#2a3f5f\"},\"type\":\"carpet\"}],\"choropleth\":[{\"colorbar\":{\"outlinewidth\":0,\"ticks\":\"\"},\"type\":\"choropleth\"}],\"contour\":[{\"colorbar\":{\"outlinewidth\":0,\"ticks\":\"\"},\"colorscale\":[[0.0,\"#0d0887\"],[0.1111111111111111,\"#46039f\"],[0.2222222222222222,\"#7201a8\"],[0.3333333333333333,\"#9c179e\"],[0.4444444444444444,\"#bd3786\"],[0.5555555555555556,\"#d8576b\"],[0.6666666666666666,\"#ed7953\"],[0.7777777777777778,\"#fb9f3a\"],[0.8888888888888888,\"#fdca26\"],[1.0,\"#f0f921\"]],\"type\":\"contour\"}],\"contourcarpet\":[{\"colorbar\":{\"outlinewidth\":0,\"ticks\":\"\"},\"type\":\"contourcarpet\"}],\"heatmap\":[{\"colorbar\":{\"outlinewidth\":0,\"ticks\":\"\"},\"colorscale\":[[0.0,\"#0d0887\"],[0.1111111111111111,\"#46039f\"],[0.2222222222222222,\"#7201a8\"],[0.3333333333333333,\"#9c179e\"],[0.4444444444444444,\"#bd3786\"],[0.5555555555555556,\"#d8576b\"],[0.6666666666666666,\"#ed7953\"],[0.7777777777777778,\"#fb9f3a\"],[0.8888888888888888,\"#fdca26\"],[1.0,\"#f0f921\"]],\"type\":\"heatmap\"}],\"heatmapgl\":[{\"colorbar\":{\"outlinewidth\":0,\"ticks\":\"\"},\"colorscale\":[[0.0,\"#0d0887\"],[0.1111111111111111,\"#46039f\"],[0.2222222222222222,\"#7201a8\"],[0.3333333333333333,\"#9c179e\"],[0.4444444444444444,\"#bd3786\"],[0.5555555555555556,\"#d8576b\"],[0.6666666666666666,\"#ed7953\"],[0.7777777777777778,\"#fb9f3a\"],[0.8888888888888888,\"#fdca26\"],[1.0,\"#f0f921\"]],\"type\":\"heatmapgl\"}],\"histogram\":[{\"marker\":{\"pattern\":{\"fillmode\":\"overlay\",\"size\":10,\"solidity\":0.2}},\"type\":\"histogram\"}],\"histogram2d\":[{\"colorbar\":{\"outlinewidth\":0,\"ticks\":\"\"},\"colorscale\":[[0.0,\"#0d0887\"],[0.1111111111111111,\"#46039f\"],[0.2222222222222222,\"#7201a8\"],[0.3333333333333333,\"#9c179e\"],[0.4444444444444444,\"#bd3786\"],[0.5555555555555556,\"#d8576b\"],[0.6666666666666666,\"#ed7953\"],[0.7777777777777778,\"#fb9f3a\"],[0.8888888888888888,\"#fdca26\"],[1.0,\"#f0f921\"]],\"type\":\"histogram2d\"}],\"histogram2dcontour\":[{\"colorbar\":{\"outlinewidth\":0,\"ticks\":\"\"},\"colorscale\":[[0.0,\"#0d0887\"],[0.1111111111111111,\"#46039f\"],[0.2222222222222222,\"#7201a8\"],[0.3333333333333333,\"#9c179e\"],[0.4444444444444444,\"#bd3786\"],[0.5555555555555556,\"#d8576b\"],[0.6666666666666666,\"#ed7953\"],[0.7777777777777778,\"#fb9f3a\"],[0.8888888888888888,\"#fdca26\"],[1.0,\"#f0f921\"]],\"type\":\"histogram2dcontour\"}],\"mesh3d\":[{\"colorbar\":{\"outlinewidth\":0,\"ticks\":\"\"},\"type\":\"mesh3d\"}],\"parcoords\":[{\"line\":{\"colorbar\":{\"outlinewidth\":0,\"ticks\":\"\"}},\"type\":\"parcoords\"}],\"pie\":[{\"automargin\":true,\"type\":\"pie\"}],\"scatter\":[{\"marker\":{\"colorbar\":{\"outlinewidth\":0,\"ticks\":\"\"}},\"type\":\"scatter\"}],\"scatter3d\":[{\"line\":{\"colorbar\":{\"outlinewidth\":0,\"ticks\":\"\"}},\"marker\":{\"colorbar\":{\"outlinewidth\":0,\"ticks\":\"\"}},\"type\":\"scatter3d\"}],\"scattercarpet\":[{\"marker\":{\"colorbar\":{\"outlinewidth\":0,\"ticks\":\"\"}},\"type\":\"scattercarpet\"}],\"scattergeo\":[{\"marker\":{\"colorbar\":{\"outlinewidth\":0,\"ticks\":\"\"}},\"type\":\"scattergeo\"}],\"scattergl\":[{\"marker\":{\"colorbar\":{\"outlinewidth\":0,\"ticks\":\"\"}},\"type\":\"scattergl\"}],\"scattermapbox\":[{\"marker\":{\"colorbar\":{\"outlinewidth\":0,\"ticks\":\"\"}},\"type\":\"scattermapbox\"}],\"scatterpolar\":[{\"marker\":{\"colorbar\":{\"outlinewidth\":0,\"ticks\":\"\"}},\"type\":\"scatterpolar\"}],\"scatterpolargl\":[{\"marker\":{\"colorbar\":{\"outlinewidth\":0,\"ticks\":\"\"}},\"type\":\"scatterpolargl\"}],\"scatterternary\":[{\"marker\":{\"colorbar\":{\"outlinewidth\":0,\"ticks\":\"\"}},\"type\":\"scatterternary\"}],\"surface\":[{\"colorbar\":{\"outlinewidth\":0,\"ticks\":\"\"},\"colorscale\":[[0.0,\"#0d0887\"],[0.1111111111111111,\"#46039f\"],[0.2222222222222222,\"#7201a8\"],[0.3333333333333333,\"#9c179e\"],[0.4444444444444444,\"#bd3786\"],[0.5555555555555556,\"#d8576b\"],[0.6666666666666666,\"#ed7953\"],[0.7777777777777778,\"#fb9f3a\"],[0.8888888888888888,\"#fdca26\"],[1.0,\"#f0f921\"]],\"type\":\"surface\"}],\"table\":[{\"cells\":{\"fill\":{\"color\":\"#EBF0F8\"},\"line\":{\"color\":\"white\"}},\"header\":{\"fill\":{\"color\":\"#C8D4E3\"},\"line\":{\"color\":\"white\"}},\"type\":\"table\"}]},\"layout\":{\"annotationdefaults\":{\"arrowcolor\":\"#2a3f5f\",\"arrowhead\":0,\"arrowwidth\":1},\"autotypenumbers\":\"strict\",\"coloraxis\":{\"colorbar\":{\"outlinewidth\":0,\"ticks\":\"\"}},\"colorscale\":{\"diverging\":[[0,\"#8e0152\"],[0.1,\"#c51b7d\"],[0.2,\"#de77ae\"],[0.3,\"#f1b6da\"],[0.4,\"#fde0ef\"],[0.5,\"#f7f7f7\"],[0.6,\"#e6f5d0\"],[0.7,\"#b8e186\"],[0.8,\"#7fbc41\"],[0.9,\"#4d9221\"],[1,\"#276419\"]],\"sequential\":[[0.0,\"#0d0887\"],[0.1111111111111111,\"#46039f\"],[0.2222222222222222,\"#7201a8\"],[0.3333333333333333,\"#9c179e\"],[0.4444444444444444,\"#bd3786\"],[0.5555555555555556,\"#d8576b\"],[0.6666666666666666,\"#ed7953\"],[0.7777777777777778,\"#fb9f3a\"],[0.8888888888888888,\"#fdca26\"],[1.0,\"#f0f921\"]],\"sequentialminus\":[[0.0,\"#0d0887\"],[0.1111111111111111,\"#46039f\"],[0.2222222222222222,\"#7201a8\"],[0.3333333333333333,\"#9c179e\"],[0.4444444444444444,\"#bd3786\"],[0.5555555555555556,\"#d8576b\"],[0.6666666666666666,\"#ed7953\"],[0.7777777777777778,\"#fb9f3a\"],[0.8888888888888888,\"#fdca26\"],[1.0,\"#f0f921\"]]},\"colorway\":[\"#636efa\",\"#EF553B\",\"#00cc96\",\"#ab63fa\",\"#FFA15A\",\"#19d3f3\",\"#FF6692\",\"#B6E880\",\"#FF97FF\",\"#FECB52\"],\"font\":{\"color\":\"#2a3f5f\"},\"geo\":{\"bgcolor\":\"white\",\"lakecolor\":\"white\",\"landcolor\":\"#E5ECF6\",\"showlakes\":true,\"showland\":true,\"subunitcolor\":\"white\"},\"hoverlabel\":{\"align\":\"left\"},\"hovermode\":\"closest\",\"mapbox\":{\"style\":\"light\"},\"paper_bgcolor\":\"white\",\"plot_bgcolor\":\"#E5ECF6\",\"polar\":{\"angularaxis\":{\"gridcolor\":\"white\",\"linecolor\":\"white\",\"ticks\":\"\"},\"bgcolor\":\"#E5ECF6\",\"radialaxis\":{\"gridcolor\":\"white\",\"linecolor\":\"white\",\"ticks\":\"\"}},\"scene\":{\"xaxis\":{\"backgroundcolor\":\"#E5ECF6\",\"gridcolor\":\"white\",\"gridwidth\":2,\"linecolor\":\"white\",\"showbackground\":true,\"ticks\":\"\",\"zerolinecolor\":\"white\"},\"yaxis\":{\"backgroundcolor\":\"#E5ECF6\",\"gridcolor\":\"white\",\"gridwidth\":2,\"linecolor\":\"white\",\"showbackground\":true,\"ticks\":\"\",\"zerolinecolor\":\"white\"},\"zaxis\":{\"backgroundcolor\":\"#E5ECF6\",\"gridcolor\":\"white\",\"gridwidth\":2,\"linecolor\":\"white\",\"showbackground\":true,\"ticks\":\"\",\"zerolinecolor\":\"white\"}},\"shapedefaults\":{\"line\":{\"color\":\"#2a3f5f\"}},\"ternary\":{\"aaxis\":{\"gridcolor\":\"white\",\"linecolor\":\"white\",\"ticks\":\"\"},\"baxis\":{\"gridcolor\":\"white\",\"linecolor\":\"white\",\"ticks\":\"\"},\"bgcolor\":\"#E5ECF6\",\"caxis\":{\"gridcolor\":\"white\",\"linecolor\":\"white\",\"ticks\":\"\"}},\"title\":{\"x\":0.05},\"xaxis\":{\"automargin\":true,\"gridcolor\":\"white\",\"linecolor\":\"white\",\"ticks\":\"\",\"title\":{\"standoff\":15},\"zerolinecolor\":\"white\",\"zerolinewidth\":2},\"yaxis\":{\"automargin\":true,\"gridcolor\":\"white\",\"linecolor\":\"white\",\"ticks\":\"\",\"title\":{\"standoff\":15},\"zerolinecolor\":\"white\",\"zerolinewidth\":2}}},\"title\":{\"font\":{\"color\":\"#4D5663\"},\"text\":\"Global CO2 Emissions over Time\"},\"xaxis\":{\"gridcolor\":\"#E1E5ED\",\"showgrid\":true,\"tickfont\":{\"color\":\"#4D5663\"},\"title\":{\"font\":{\"color\":\"#4D5663\"},\"text\":\"Time (years)\"},\"zerolinecolor\":\"#E1E5ED\"},\"yaxis\":{\"gridcolor\":\"#E1E5ED\",\"showgrid\":true,\"tickfont\":{\"color\":\"#4D5663\"},\"title\":{\"font\":{\"color\":\"#4D5663\"},\"text\":\"Emissions (Metric Tons per Capita)\"},\"zerolinecolor\":\"#E1E5ED\"}},                        {\"showLink\": true, \"linkText\": \"Export to plot.ly\", \"plotlyServerURL\": \"https://plot.ly\", \"responsive\": true}                    ).then(function(){\n",
       "                            \n",
       "var gd = document.getElementById('67937988-120c-43f6-b0d7-b31b9e4b38dd');\n",
       "var x = new MutationObserver(function (mutations, observer) {{\n",
       "        var display = window.getComputedStyle(gd).display;\n",
       "        if (!display || display === 'none') {{\n",
       "            console.log([gd, 'removed!']);\n",
       "            Plotly.purge(gd);\n",
       "            observer.disconnect();\n",
       "        }}\n",
       "}});\n",
       "\n",
       "// Listen for the removal of the full notebook cells\n",
       "var notebookContainer = gd.closest('#notebook-container');\n",
       "if (notebookContainer) {{\n",
       "    x.observe(notebookContainer, {childList: true});\n",
       "}}\n",
       "\n",
       "// Listen for the clearing of the current output cell\n",
       "var outputEl = gd.closest('.output');\n",
       "if (outputEl) {{\n",
       "    x.observe(outputEl, {childList: true});\n",
       "}}\n",
       "\n",
       "                        })                };                });            </script>        </div>"
      ]
     },
     "metadata": {},
     "output_type": "display_data"
    }
   ],
   "source": [
    "df_emissions.iplot(kind='line', xTitle='Time (years)', yTitle='Emissions (Metric Tons per Capita)', \n",
    "                  title='Global CO2 Emissions over Time')"
   ]
  },
  {
   "cell_type": "code",
   "execution_count": 36,
   "id": "e4a7d822",
   "metadata": {},
   "outputs": [
    {
     "name": "stderr",
     "output_type": "stream",
     "text": [
      "<ipython-input-36-41208d35858f>:5: RuntimeWarning:\n",
      "\n",
      "More than 20 figures have been opened. Figures created through the pyplot interface (`matplotlib.pyplot.figure`) are retained until explicitly closed and may consume too much memory. (To control this warning, see the rcParam `figure.max_open_warning`).\n",
      "\n"
     ]
    },
    {
     "data": {
      "image/png": "[encoded data removed]",
      "text/plain": [
       "<Figure size 432x288 with 1 Axes>"
      ]
     },
     "metadata": {
      "needs_background": "light"
     },
     "output_type": "display_data"
    },
    {
     "data": {
      "image/png": "[encoded data removed]",
      "text/plain": [
       "<Figure size 432x288 with 1 Axes>"
      ]
     },
     "metadata": {
      "needs_background": "light"
     },
     "output_type": "display_data"
    },
    {
     "data": {
      "image/png": "[encoded data removed]",
      "text/plain": [
       "<Figure size 432x288 with 1 Axes>"
      ]
     },
     "metadata": {
      "needs_background": "light"
     },
     "output_type": "display_data"
    },
    {
     "data": {
      "image/png": "[encoded data removed]",
      "text/plain": [
       "<Figure size 432x288 with 1 Axes>"
      ]
     },
     "metadata": {
      "needs_background": "light"
     },
     "output_type": "display_data"
    },
    {
     "data": {
      "image/png": "[encoded data removed]",
      "text/plain": [
       "<Figure size 432x288 with 1 Axes>"
      ]
     },
     "metadata": {
      "needs_background": "light"
     },
     "output_type": "display_data"
    },
    {
     "data": {
      "image/png": "[encoded data removed]",
      "text/plain": [
       "<Figure size 432x288 with 1 Axes>"
      ]
     },
     "metadata": {
      "needs_background": "light"
     },
     "output_type": "display_data"
    },
    {
     "data": {
      "image/png": "[encoded data removed]",
      "text/plain": [
       "<Figure size 432x288 with 1 Axes>"
      ]
     },
     "metadata": {
      "needs_background": "light"
     },
     "output_type": "display_data"
    },
    {
     "data": {
      "image/png": "[encoded data removed]",
      "text/plain": [
       "<Figure size 432x288 with 1 Axes>"
      ]
     },
     "metadata": {
      "needs_background": "light"
     },
     "output_type": "display_data"
    },
    {
     "data": {
      "image/png": "[encoded data removed]",
      "text/plain": [
       "<Figure size 432x288 with 1 Axes>"
      ]
     },
     "metadata": {
      "needs_background": "light"
     },
     "output_type": "display_data"
    },
    {
     "data": {
      "image/png": "[encoded data removed]",
      "text/plain": [
       "<Figure size 432x288 with 1 Axes>"
      ]
     },
     "metadata": {
      "needs_background": "light"
     },
     "output_type": "display_data"
    },
    {
     "data": {
      "image/png": "[encoded data removed]",
      "text/plain": [
       "<Figure size 432x288 with 1 Axes>"
      ]
     },
     "metadata": {
      "needs_background": "light"
     },
     "output_type": "display_data"
    },
    {
     "data": {
      "image/png": "[encoded data removed]",
      "text/plain": [
       "<Figure size 432x288 with 1 Axes>"
      ]
     },
     "metadata": {
      "needs_background": "light"
     },
     "output_type": "display_data"
    },
    {
     "data": {
      "image/png": "[encoded data removed]",
      "text/plain": [
       "<Figure size 432x288 with 1 Axes>"
      ]
     },
     "metadata": {
      "needs_background": "light"
     },
     "output_type": "display_data"
    },
    {
     "data": {
      "image/png": "[encoded data removed]",
      "text/plain": [
       "<Figure size 432x288 with 1 Axes>"
      ]
     },
     "metadata": {
      "needs_background": "light"
     },
     "output_type": "display_data"
    },
    {
     "data": {
      "image/png": "[encoded data removed]",
      "text/plain": [
       "<Figure size 432x288 with 1 Axes>"
      ]
     },
     "metadata": {
      "needs_background": "light"
     },
     "output_type": "display_data"
    },
    {
     "data": {
      "image/png": "[encoded data removed]",
      "text/plain": [
       "<Figure size 432x288 with 1 Axes>"
      ]
     },
     "metadata": {
      "needs_background": "light"
     },
     "output_type": "display_data"
    },
    {
     "data": {
      "image/png": "[encoded data removed]",
      "text/plain": [
       "<Figure size 432x288 with 1 Axes>"
      ]
     },
     "metadata": {
      "needs_background": "light"
     },
     "output_type": "display_data"
    },
    {
     "data": {
      "image/png": "[encoded data removed]",
      "text/plain": [
       "<Figure size 432x288 with 1 Axes>"
      ]
     },
     "metadata": {
      "needs_background": "light"
     },
     "output_type": "display_data"
    },
    {
     "data": {
      "image/png": "[encoded data removed]",
      "text/plain": [
       "<Figure size 432x288 with 1 Axes>"
      ]
     },
     "metadata": {
      "needs_background": "light"
     },
     "output_type": "display_data"
    },
    {
     "data": {
      "image/png": "[encoded data removed]",
      "text/plain": [
       "<Figure size 432x288 with 1 Axes>"
      ]
     },
     "metadata": {
      "needs_background": "light"
     },
     "output_type": "display_data"
    },
    {
     "data": {
      "image/png": "[encoded data removed]",
      "text/plain": [
       "<Figure size 432x288 with 1 Axes>"
      ]
     },
     "metadata": {
      "needs_background": "light"
     },
     "output_type": "display_data"
    }
   ],
   "source": [
    "df_plot = CO_emissions\n",
    "df_plot\n",
    "\n",
    "for i, col in enumerate(df_plot.columns):\n",
    "    df_plot[col].plot(fig=plt.figure(i))\n",
    "    plt.title(col)\n",
    "    \n",
    "plt.show()"
   ]
  },
  {
   "cell_type": "code",
   "execution_count": 37,
   "id": "ff7df2d6",
   "metadata": {},
   "outputs": [
    {
     "data": {
      "text/plain": [
       "<AxesSubplot:>"
      ]
     },
     "execution_count": 37,
     "metadata": {},
     "output_type": "execute_result"
    },
    {
     "data": {
      "image/png": "[encoded data removed]",
      "text/plain": [
       "<Figure size 432x288 with 1 Axes>"
      ]
     },
     "metadata": {
      "needs_background": "light"
     },
     "output_type": "display_data"
    }
   ],
   "source": [
    "cols = [\"coal_co2_per_capita\", \"cement_co2_per_capita\", \"flaring_co2_per_capita\", \"gas_co2_per_capita\", \"oil_co2_per_capita\"]\n",
    "\n",
    "CO2_per_source = df_emissions.sum().sort_values()\n",
    "fig = plt.figure()\n",
    "x_label = cols\n",
    "x_tick = np.arange(len(cols))\n",
    "CO2_per_source.plot(kind=\"bar\")"
   ]
  },
  {
   "cell_type": "code",
   "execution_count": 38,
   "id": "51bb4f89",
   "metadata": {},
   "outputs": [
    {
     "data": {
      "text/html": [
       "<div>\n",
       "<style scoped>\n",
       "    .dataframe tbody tr th:only-of-type {\n",
       "        vertical-align: middle;\n",
       "    }\n",
       "\n",
       "    .dataframe tbody tr th {\n",
       "        vertical-align: top;\n",
       "    }\n",
       "\n",
       "    .dataframe thead th {\n",
       "        text-align: right;\n",
       "    }\n",
       "</style>\n",
       "<table border=\"1\" class=\"dataframe\">\n",
       "  <thead>\n",
       "    <tr style=\"text-align: right;\">\n",
       "      <th></th>\n",
       "      <th>co2</th>\n",
       "      <th>co2_per_capita</th>\n",
       "      <th>share_global_co2</th>\n",
       "      <th>co2_per_gdp</th>\n",
       "      <th>coal_co2</th>\n",
       "      <th>cement_co2</th>\n",
       "      <th>flaring_co2</th>\n",
       "      <th>gas_co2</th>\n",
       "      <th>oil_co2</th>\n",
       "      <th>cement_co2_per_capita</th>\n",
       "      <th>...</th>\n",
       "      <th>flaring_co2_per_capita</th>\n",
       "      <th>gas_co2_per_capita</th>\n",
       "      <th>oil_co2_per_capita</th>\n",
       "      <th>share_global_cement_co2</th>\n",
       "      <th>share_global_coal_co2</th>\n",
       "      <th>share_global_flaring_co2</th>\n",
       "      <th>share_global_gas_co2</th>\n",
       "      <th>share_global_oil_co2</th>\n",
       "      <th>population</th>\n",
       "      <th>gdp</th>\n",
       "    </tr>\n",
       "    <tr>\n",
       "      <th>year</th>\n",
       "      <th></th>\n",
       "      <th></th>\n",
       "      <th></th>\n",
       "      <th></th>\n",
       "      <th></th>\n",
       "      <th></th>\n",
       "      <th></th>\n",
       "      <th></th>\n",
       "      <th></th>\n",
       "      <th></th>\n",
       "      <th></th>\n",
       "      <th></th>\n",
       "      <th></th>\n",
       "      <th></th>\n",
       "      <th></th>\n",
       "      <th></th>\n",
       "      <th></th>\n",
       "      <th></th>\n",
       "      <th></th>\n",
       "      <th></th>\n",
       "      <th></th>\n",
       "    </tr>\n",
       "  </thead>\n",
       "  <tbody>\n",
       "    <tr>\n",
       "      <th>1958-01-01</th>\n",
       "      <td>2740.357</td>\n",
       "      <td>15.158</td>\n",
       "      <td>32.58</td>\n",
       "      <td>0.925</td>\n",
       "      <td>888.344</td>\n",
       "      <td>27.169</td>\n",
       "      <td>34.097</td>\n",
       "      <td>570.701</td>\n",
       "      <td>1220.046</td>\n",
       "      <td>0.150</td>\n",
       "      <td>...</td>\n",
       "      <td>0.189</td>\n",
       "      <td>3.157</td>\n",
       "      <td>6.748</td>\n",
       "      <td>20.84</td>\n",
       "      <td>18.70</td>\n",
       "      <td>35.85</td>\n",
       "      <td>80.76</td>\n",
       "      <td>44.70</td>\n",
       "      <td>180788387.0</td>\n",
       "      <td>2.963550e+12</td>\n",
       "    </tr>\n",
       "    <tr>\n",
       "      <th>1959-01-01</th>\n",
       "      <td>2823.005</td>\n",
       "      <td>15.360</td>\n",
       "      <td>31.90</td>\n",
       "      <td>0.887</td>\n",
       "      <td>910.978</td>\n",
       "      <td>29.604</td>\n",
       "      <td>30.756</td>\n",
       "      <td>593.210</td>\n",
       "      <td>1258.457</td>\n",
       "      <td>0.161</td>\n",
       "      <td>...</td>\n",
       "      <td>0.167</td>\n",
       "      <td>3.228</td>\n",
       "      <td>6.847</td>\n",
       "      <td>20.28</td>\n",
       "      <td>18.43</td>\n",
       "      <td>33.54</td>\n",
       "      <td>78.13</td>\n",
       "      <td>43.28</td>\n",
       "      <td>183786249.0</td>\n",
       "      <td>3.183157e+12</td>\n",
       "    </tr>\n",
       "    <tr>\n",
       "      <th>1960-01-01</th>\n",
       "      <td>2887.820</td>\n",
       "      <td>15.466</td>\n",
       "      <td>30.94</td>\n",
       "      <td>0.885</td>\n",
       "      <td>917.964</td>\n",
       "      <td>27.885</td>\n",
       "      <td>30.316</td>\n",
       "      <td>630.025</td>\n",
       "      <td>1281.631</td>\n",
       "      <td>0.149</td>\n",
       "      <td>...</td>\n",
       "      <td>0.162</td>\n",
       "      <td>3.374</td>\n",
       "      <td>6.864</td>\n",
       "      <td>17.77</td>\n",
       "      <td>17.89</td>\n",
       "      <td>34.01</td>\n",
       "      <td>75.42</td>\n",
       "      <td>41.04</td>\n",
       "      <td>186720570.0</td>\n",
       "      <td>3.262376e+12</td>\n",
       "    </tr>\n",
       "    <tr>\n",
       "      <th>1961-01-01</th>\n",
       "      <td>2877.370</td>\n",
       "      <td>15.178</td>\n",
       "      <td>30.75</td>\n",
       "      <td>0.862</td>\n",
       "      <td>887.443</td>\n",
       "      <td>27.998</td>\n",
       "      <td>28.198</td>\n",
       "      <td>636.415</td>\n",
       "      <td>1297.316</td>\n",
       "      <td>0.148</td>\n",
       "      <td>...</td>\n",
       "      <td>0.149</td>\n",
       "      <td>3.357</td>\n",
       "      <td>6.844</td>\n",
       "      <td>16.92</td>\n",
       "      <td>18.05</td>\n",
       "      <td>32.71</td>\n",
       "      <td>72.09</td>\n",
       "      <td>39.24</td>\n",
       "      <td>189569850.0</td>\n",
       "      <td>3.338584e+12</td>\n",
       "    </tr>\n",
       "    <tr>\n",
       "      <th>1962-01-01</th>\n",
       "      <td>2984.002</td>\n",
       "      <td>15.516</td>\n",
       "      <td>30.80</td>\n",
       "      <td>0.843</td>\n",
       "      <td>920.818</td>\n",
       "      <td>29.147</td>\n",
       "      <td>22.922</td>\n",
       "      <td>676.367</td>\n",
       "      <td>1334.748</td>\n",
       "      <td>0.152</td>\n",
       "      <td>...</td>\n",
       "      <td>0.119</td>\n",
       "      <td>3.517</td>\n",
       "      <td>6.940</td>\n",
       "      <td>16.40</td>\n",
       "      <td>18.79</td>\n",
       "      <td>26.67</td>\n",
       "      <td>69.82</td>\n",
       "      <td>37.56</td>\n",
       "      <td>192313747.0</td>\n",
       "      <td>3.539745e+12</td>\n",
       "    </tr>\n",
       "  </tbody>\n",
       "</table>\n",
       "<p>5 rows × 21 columns</p>\n",
       "</div>"
      ],
      "text/plain": [
       "                 co2  co2_per_capita  share_global_co2  co2_per_gdp  coal_co2  \\\n",
       "year                                                                            \n",
       "1958-01-01  2740.357          15.158             32.58        0.925   888.344   \n",
       "1959-01-01  2823.005          15.360             31.90        0.887   910.978   \n",
       "1960-01-01  2887.820          15.466             30.94        0.885   917.964   \n",
       "1961-01-01  2877.370          15.178             30.75        0.862   887.443   \n",
       "1962-01-01  2984.002          15.516             30.80        0.843   920.818   \n",
       "\n",
       "            cement_co2  flaring_co2  gas_co2   oil_co2  cement_co2_per_capita  \\\n",
       "year                                                                            \n",
       "1958-01-01      27.169       34.097  570.701  1220.046                  0.150   \n",
       "1959-01-01      29.604       30.756  593.210  1258.457                  0.161   \n",
       "1960-01-01      27.885       30.316  630.025  1281.631                  0.149   \n",
       "1961-01-01      27.998       28.198  636.415  1297.316                  0.148   \n",
       "1962-01-01      29.147       22.922  676.367  1334.748                  0.152   \n",
       "\n",
       "            ...  flaring_co2_per_capita  gas_co2_per_capita  \\\n",
       "year        ...                                               \n",
       "1958-01-01  ...                   0.189               3.157   \n",
       "1959-01-01  ...                   0.167               3.228   \n",
       "1960-01-01  ...                   0.162               3.374   \n",
       "1961-01-01  ...                   0.149               3.357   \n",
       "1962-01-01  ...                   0.119               3.517   \n",
       "\n",
       "            oil_co2_per_capita  share_global_cement_co2  \\\n",
       "year                                                      \n",
       "1958-01-01               6.748                    20.84   \n",
       "1959-01-01               6.847                    20.28   \n",
       "1960-01-01               6.864                    17.77   \n",
       "1961-01-01               6.844                    16.92   \n",
       "1962-01-01               6.940                    16.40   \n",
       "\n",
       "            share_global_coal_co2  share_global_flaring_co2  \\\n",
       "year                                                          \n",
       "1958-01-01                  18.70                     35.85   \n",
       "1959-01-01                  18.43                     33.54   \n",
       "1960-01-01                  17.89                     34.01   \n",
       "1961-01-01                  18.05                     32.71   \n",
       "1962-01-01                  18.79                     26.67   \n",
       "\n",
       "            share_global_gas_co2  share_global_oil_co2   population  \\\n",
       "year                                                                  \n",
       "1958-01-01                 80.76                 44.70  180788387.0   \n",
       "1959-01-01                 78.13                 43.28  183786249.0   \n",
       "1960-01-01                 75.42                 41.04  186720570.0   \n",
       "1961-01-01                 72.09                 39.24  189569850.0   \n",
       "1962-01-01                 69.82                 37.56  192313747.0   \n",
       "\n",
       "                     gdp  \n",
       "year                      \n",
       "1958-01-01  2.963550e+12  \n",
       "1959-01-01  3.183157e+12  \n",
       "1960-01-01  3.262376e+12  \n",
       "1961-01-01  3.338584e+12  \n",
       "1962-01-01  3.539745e+12  \n",
       "\n",
       "[5 rows x 21 columns]"
      ]
     },
     "execution_count": 38,
     "metadata": {},
     "output_type": "execute_result"
    }
   ],
   "source": [
    "CO_emissions.head()"
   ]
  },
  {
   "cell_type": "code",
   "execution_count": 39,
   "id": "05841dc0",
   "metadata": {},
   "outputs": [],
   "source": [
    "mte = CO_emissions[\"gas_co2_per_capita\"]"
   ]
  },
  {
   "cell_type": "code",
   "execution_count": 40,
   "id": "1338e6b5",
   "metadata": {},
   "outputs": [],
   "source": [
    "import statsmodels\n",
    "import statsmodels.api as sm\n",
    "from statsmodels.tsa.stattools import coint, adfuller"
   ]
  },
  {
   "cell_type": "code",
   "execution_count": 41,
   "id": "505153b8",
   "metadata": {},
   "outputs": [
    {
     "data": {
      "text/plain": [
       "[<matplotlib.lines.Line2D at 0x220d74d9700>]"
      ]
     },
     "execution_count": 41,
     "metadata": {},
     "output_type": "execute_result"
    },
    {
     "data": {
      "image/png": "[encoded data removed]",
      "text/plain": [
       "<Figure size 432x288 with 1 Axes>"
      ]
     },
     "metadata": {
      "needs_background": "light"
     },
     "output_type": "display_data"
    }
   ],
   "source": [
    "plt.plot(mte)"
   ]
  },
  {
   "cell_type": "code",
   "execution_count": 42,
   "id": "efd4adeb",
   "metadata": {},
   "outputs": [],
   "source": [
    "def TestStationaryPlot(ts):\n",
    "    rol_mean = ts.rolling(window = 12, center = False).mean()\n",
    "    rol_std = ts.rolling(window = 12, center = False).std()\n",
    "    \n",
    "    plt.plot(ts, color = 'blue',label = 'Original Data')\n",
    "    plt.plot(rol_mean, color = 'red', label = 'Rolling Mean')\n",
    "    plt.plot(rol_std, color ='black', label = 'Rolling Std')\n",
    "    plt.xticks()\n",
    "    plt.yticks()\n",
    "    \n",
    "    plt.xlabel('Time in Years')\n",
    "    plt.ylabel('Total Emissions')\n",
    "    plt.legend(loc='best')\n",
    "    plt.title('Rolling Mean & Standard Deviation')\n",
    "    plt.show(block= True)"
   ]
  },
  {
   "cell_type": "code",
   "execution_count": 43,
   "id": "f2f992b3",
   "metadata": {},
   "outputs": [],
   "source": [
    "def TestStationaryAdfuller(ts, cutoff = 0.01):\n",
    "    ts_test = adfuller(ts, autolag = 'AIC')\n",
    "    ts_test_output = pd.Series(ts_test[0:4], index=['Test Statistic','p-value','#Lags Used','Number of Observations Used'])\n",
    "    \n",
    "    for key,value in ts_test[4].items():\n",
    "        ts_test_output['Critical Value (%s)'%key] = value\n",
    "    print(ts_test_output)\n",
    "    \n",
    "    if ts_test[1] <= cutoff:\n",
    "        print(\"Strong evidence against the null hypothesis, reject the null hypothesis. Data has no unit root, hence it is stationary\")\n",
    "    else:\n",
    "        print(\"Weak evidence against null hypothesis, time series has a unit root, indicating it is non-stationary \")"
   ]
  },
  {
   "cell_type": "code",
   "execution_count": 44,
   "id": "664104c7",
   "metadata": {},
   "outputs": [
    {
     "data": {
      "image/png": "[encoded data removed]",
      "text/plain": [
       "<Figure size 432x288 with 1 Axes>"
      ]
     },
     "metadata": {
      "needs_background": "light"
     },
     "output_type": "display_data"
    }
   ],
   "source": [
    "TestStationaryPlot(mte)"
   ]
  },
  {
   "cell_type": "code",
   "execution_count": 45,
   "id": "1f5ae0bd",
   "metadata": {},
   "outputs": [
    {
     "name": "stdout",
     "output_type": "stream",
     "text": [
      "Test Statistic                 -3.614471\n",
      "p-value                         0.005490\n",
      "#Lags Used                      3.000000\n",
      "Number of Observations Used    52.000000\n",
      "Critical Value (1%)            -3.562879\n",
      "Critical Value (5%)            -2.918973\n",
      "Critical Value (10%)           -2.597393\n",
      "dtype: float64\n",
      "Strong evidence against the null hypothesis, reject the null hypothesis. Data has no unit root, hence it is stationary\n"
     ]
    }
   ],
   "source": [
    "TestStationaryAdfuller(mte)"
   ]
  },
  {
   "cell_type": "code",
   "execution_count": 46,
   "id": "8e42c96f",
   "metadata": {},
   "outputs": [],
   "source": [
    "CO_emissions.to_csv(r\"C:\\Users\\akama\\OneDrive\\Desktop\\Data Science Bootcamp\\IshMe\\Capstone 3 - Time Series Analysis\\raw_data\\CO_emissions.csv\", index= False)"
   ]
  }
 ],
 "metadata": {
  "kernelspec": {
   "display_name": "Python 3",
   "language": "python",
   "name": "python3"
  },
  "language_info": {
   "codemirror_mode": {
    "name": "ipython",
    "version": 3
   },
   "file_extension": ".py",
   "mimetype": "text/x-python",
   "name": "python",
   "nbconvert_exporter": "python",
   "pygments_lexer": "ipython3",
   "version": "3.8.8"
  }
 },
 "nbformat": 4,
 "nbformat_minor": 5
}
