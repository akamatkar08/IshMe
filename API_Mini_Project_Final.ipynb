{
 "cells": [
  {
   "cell_type": "markdown",
   "metadata": {},
   "source": [
    "This exercise will require you to pull some data from the Qunadl API. Qaundl is currently the most widely used aggregator of financial market data."
   ]
  },
  {
   "cell_type": "markdown",
   "metadata": {},
   "source": [
    "As a first step, you will need to register a free account on the http://www.quandl.com website."
   ]
  },
  {
   "cell_type": "markdown",
   "metadata": {},
   "source": [
    "After you register, you will be provided with a unique API key, that you should store:"
   ]
  },
  {
   "cell_type": "code",
   "execution_count": 1,
   "metadata": {},
   "outputs": [],
   "source": [
    "# Store the API key as a string - according to PEP8, constants are always named in all upper case\n",
    "API_KEY = \"...\""
   ]
  },
  {
   "cell_type": "markdown",
   "metadata": {},
   "source": [
    "Qaundl has a large number of data sources, but, unfortunately, most of them require a Premium subscription. Still, there are also a good number of free datasets."
   ]
  },
  {
   "cell_type": "markdown",
   "metadata": {},
   "source": [
    "For this mini project, we will focus on equities data from the Frankfurt Stock Exhange (FSE), which is available for free. We'll try and analyze the stock prices of a company called Carl Zeiss Meditec, which manufactures tools for eye examinations, as well as medical lasers for laser eye surgery: https://www.zeiss.com/meditec/int/home.html. The company is listed under the stock ticker AFX_X."
   ]
  },
  {
   "cell_type": "markdown",
   "metadata": {},
   "source": [
    "You can find the detailed Quandl API instructions here: https://docs.quandl.com/docs/time-series"
   ]
  },
  {
   "cell_type": "markdown",
   "metadata": {},
   "source": [
    "While there is a dedicated Python package for connecting to the Quandl API, we would prefer that you use the *requests* package, which can be easily downloaded using *pip* or *conda*. You can find the documentation for the package here: http://docs.python-requests.org/en/master/ "
   ]
  },
  {
   "cell_type": "markdown",
   "metadata": {},
   "source": [
    "Finally, apart from the *requests* package, you are encouraged to not use any third party Python packages, such as *pandas*, and instead focus on what's available in the Python Standard Library (the *collections* module might come in handy: https://pymotw.com/3/collections/ ).\n",
    "Also, since you won't have access to DataFrames, you are encouraged to us Python's native data structures - preferably dictionaries, though some questions can also be answered using lists.\n",
    "You can read more on these data structures here: https://docs.python.org/3/tutorial/datastructures.html"
   ]
  },
  {
   "cell_type": "markdown",
   "metadata": {},
   "source": [
    "Keep in mind that the JSON responses you will be getting from the API map almost one-to-one to Python's dictionaries. Unfortunately, they can be very nested, so make sure you read up on indexing dictionaries in the documentation provided above."
   ]
  },
  {
   "cell_type": "code",
   "execution_count": 2,
   "metadata": {},
   "outputs": [],
   "source": [
    "# First, import the relevant modules\n",
    "import requests"
   ]
  },
  {
   "cell_type": "code",
   "execution_count": 3,
   "metadata": {},
   "outputs": [],
   "source": [
    "# Now, call the Quandl API and pull out a small sample of the data (only one day) to get a glimpse\n",
    "# into the JSON structure that will be returned\n",
    "\n",
    "# Collection of data from Frankfurt Stock Exchange\n",
    "url = \"...quandl.com\"\n",
    "\n",
    "# Defining parameters to subset for one day and passing it to .get() method\n",
    "params = dict(key=API_KEY, start_date='2017-04-03', end_date='2017-04-04')\n",
    "sample = requests.get(url, params=params)"
   ]
  },
  {
   "cell_type": "code",
   "execution_count": 4,
   "metadata": {},
   "outputs": [
    {
     "name": "stdout",
     "output_type": "stream",
     "text": [
      "The lowest opening price in 2017 was $34 and the highest was $53.11\n",
      "\n",
      "The largest change in price was $2.81 on 2017-05-11\n",
      "\n",
      "Between 2017-05-10 and 2017-05-11, the stock price increased $2.78\n",
      "\n",
      "The average volume in 2017 was 89124.33725490196\n"
     ]
    }
   ],
   "source": [
    "# Inspect the JSON structure of the object you created, and take note of how nested it is,\n",
    "# as well as the overall structure\n",
    "\n",
    "# Converting API -> JSON object and JSON object -> dictionary\n",
    "res = requests.get(url)\n",
    "json_obj = dict(res.json()['dataset_data'])\n",
    "\n",
    "# Finding all opening prices of stock and ordering them from least to greatest for the year\n",
    "opening_prices = [i[1] for i in json_obj['data'] if i[1]!=None]\n",
    "sorted(opening_prices)\n",
    "print('The lowest opening price in 2017 was $34 and the highest was $53.11')\n",
    "# List to store change in stock price over one day\n",
    "one_day_change = []\n",
    "\n",
    "def high_and_low():\n",
    "    \n",
    "    for i, j in enumerate(json_obj['data']):\n",
    "        # Rounded for readability\n",
    "        one_day_change.append(round(j[2]-j[3], 2))\n",
    "\n",
    "# Call function and sort new list\n",
    "high_and_low()\n",
    "sorted(one_day_change)\n",
    "\n",
    "# Use element value to find out the index of the change and date\n",
    "one_day_change.index(2.81)\n",
    "date_of_index = json_obj['data'][161][0]\n",
    "print('\\nThe largest change in price was $2.81 on {0}'.format(date_of_index))\n",
    "\n",
    "two_day_change = []\n",
    "\n",
    "for i, j in enumerate(json_obj['data']):\n",
    "    # Rounded for readability\n",
    "    two_day_change.append(j[2])\n",
    "    \n",
    "for i, j in enumerate(json_obj['data'][1:]):\n",
    "    two_day_change[i] = round(two_day_change[i]-j[4],2)\n",
    "\n",
    "# two_day_change = [round(highs-j[4], 2) for highs in two_day_change]\n",
    "\n",
    "two_day_change.index(2.78)\n",
    "two_day_index_1 = json_obj['data'][162][0]\n",
    "two_day_index_2 = json_obj['data'][161][0]\n",
    "print('\\nBetween {0} and {1}, the stock price increased $2.78'.format(two_day_index_1, two_day_index_2))\n",
    "\n",
    "def avg_volume():\n",
    "    \n",
    "    total = 0\n",
    "    \n",
    "    for i in json_obj['data']:\n",
    "        total = total+i[6]\n",
    "        \n",
    "    avg_vol = (total / len(json_obj['data']))\n",
    "    \n",
    "    return avg_vol\n",
    "    \n",
    "#print(len(json_obj['data']))\n",
    "print('\\nThe average volume in 2017 was {0}'.format(avg_volume()))"
   ]
  },
  {
   "cell_type": "markdown",
   "metadata": {},
   "source": [
    "These are your tasks for this mini project:\n",
    "\n",
    "1. Collect data from the Franfurt Stock Exchange, for the ticker AFX_X, for the whole year 2017 (keep in mind that the date format is YYYY-MM-DD).\n",
    "2. Convert the returned JSON object into a Python dictionary.\n",
    "3. Calculate what the highest and lowest opening prices were for the stock in this period.\n",
    "4. What was the largest change in any one day (based on High and Low price)?\n",
    "5. What was the largest change between any two days (based on Closing Price)?\n",
    "6. What was the average daily trading volume during this year?\n",
    "7. (Optional) What was the median trading volume during this year. (Note: you may need to implement your own function for calculating the median.)"
   ]
  },
  {
   "cell_type": "code",
   "execution_count": null,
   "metadata": {},
   "outputs": [],
   "source": []
  }
 ],
 "metadata": {
  "kernelspec": {
   "display_name": "Python 3",
   "language": "python",
   "name": "python3"
  },
  "language_info": {
   "codemirror_mode": {
    "name": "ipython",
    "version": 3
   },
   "file_extension": ".py",
   "mimetype": "text/x-python",
   "name": "python",
   "nbconvert_exporter": "python",
   "pygments_lexer": "ipython3",
   "version": "3.8.8"
  }
 },
 "nbformat": 4,
 "nbformat_minor": 2
}
